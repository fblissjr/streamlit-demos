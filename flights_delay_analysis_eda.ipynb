{
  "cells": [
    {
      "cell_type": "markdown",
      "metadata": {
        "id": "view-in-github",
        "colab_type": "text"
      },
      "source": [
        "<a href=\"https://colab.research.google.com/github/fblissjr/streamlit-demos/blob/main/flights_delay_analysis_eda.ipynb\" target=\"_parent\"><img src=\"https://colab.research.google.com/assets/colab-badge.svg\" alt=\"Open In Colab\"/></a>"
      ]
    },
    {
      "cell_type": "markdown",
      "id": "a006ff59",
      "metadata": {
        "_cell_guid": "b1076dfc-b9ad-4769-8c92-a6c4dae69d19",
        "_uuid": "8f2839f25d086af736a60e9eeb907d3b93b6e0e5",
        "papermill": {
          "duration": 0.016049,
          "end_time": "2022-11-11T16:27:28.801923",
          "exception": false,
          "start_time": "2022-11-11T16:27:28.785874",
          "status": "completed"
        },
        "tags": [],
        "id": "a006ff59"
      },
      "source": [
        "**Exploratory Data Analysis based on the YouTube stream**\n",
        "by Medallion Data Science, by Rob Mulla https://www.kaggle.com/robikscube\n",
        "\n",
        "[https://www.youtube.com/watch?v=xs_L6z9QNYY](http://)\n",
        "\n",
        "https://www.transtats.bts.gov/DL_SelectFields.aspx?gnoyr_VQ=FGK&QO_fu146_anzr=b0-gvzr\n",
        "\n",
        "LIVE CODING: Flight Data Exploration with Pandas & Python\n",
        "\n",
        "This one is very interesting exersize and is related to my line of work.\n",
        "\n",
        "The datasets are very large in the csv format and RAM intensive. Not sure if can be be handled in parquet format."
      ]
    },
    {
      "cell_type": "markdown",
      "id": "20a6a3e3",
      "metadata": {
        "papermill": {
          "duration": 0.016011,
          "end_time": "2022-11-11T16:27:28.832757",
          "exception": false,
          "start_time": "2022-11-11T16:27:28.816746",
          "status": "completed"
        },
        "tags": [],
        "id": "20a6a3e3"
      },
      "source": [
        "![week-3-airline-delays-880-by-440.png](attachment:a31cac82-893f-49ba-86b0-69bb47c8cb54.png)"
      ]
    },
    {
      "cell_type": "markdown",
      "id": "e7307048",
      "metadata": {
        "papermill": {
          "duration": 0.014829,
          "end_time": "2022-11-11T16:27:28.862813",
          "exception": false,
          "start_time": "2022-11-11T16:27:28.847984",
          "status": "completed"
        },
        "tags": [],
        "id": "e7307048"
      },
      "source": [
        "### 1. Install packages\n",
        "\n",
        "pip install package Calmap for plotting of calender plot."
      ]
    },
    {
      "cell_type": "code",
      "execution_count": 1,
      "id": "b3ec0146",
      "metadata": {
        "execution": {
          "iopub.execute_input": "2022-11-11T16:27:28.895286Z",
          "iopub.status.busy": "2022-11-11T16:27:28.894668Z",
          "iopub.status.idle": "2022-11-11T16:27:39.040214Z",
          "shell.execute_reply": "2022-11-11T16:27:39.039161Z"
        },
        "papermill": {
          "duration": 10.164298,
          "end_time": "2022-11-11T16:27:39.042606",
          "exception": false,
          "start_time": "2022-11-11T16:27:28.878308",
          "status": "completed"
        },
        "tags": [],
        "id": "b3ec0146"
      },
      "outputs": [],
      "source": [
        "!pip install calmap --upgrade --quiet #> /dev/null# if not installed."
      ]
    },
    {
      "cell_type": "code",
      "source": [
        "!pip install -q kaggle"
      ],
      "metadata": {
        "colab": {
          "base_uri": "https://localhost:8080/"
        },
        "id": "ZpEjM1W1iA7D",
        "outputId": "86dc1480-9d8e-45fe-fc13-1af273cb00c5"
      },
      "id": "ZpEjM1W1iA7D",
      "execution_count": 2,
      "outputs": [
        {
          "output_type": "stream",
          "name": "stdout",
          "text": [
            "Looking in indexes: https://pypi.org/simple, https://us-python.pkg.dev/colab-wheels/public/simple/\n",
            "Requirement already satisfied: kaggle in /usr/local/lib/python3.7/dist-packages (1.5.12)\n",
            "Requirement already satisfied: certifi in /usr/local/lib/python3.7/dist-packages (from kaggle) (2022.9.24)\n",
            "Requirement already satisfied: python-dateutil in /usr/local/lib/python3.7/dist-packages (from kaggle) (2.8.2)\n",
            "Requirement already satisfied: requests in /usr/local/lib/python3.7/dist-packages (from kaggle) (2.23.0)\n",
            "Requirement already satisfied: python-slugify in /usr/local/lib/python3.7/dist-packages (from kaggle) (6.1.2)\n",
            "Requirement already satisfied: urllib3 in /usr/local/lib/python3.7/dist-packages (from kaggle) (1.24.3)\n",
            "Requirement already satisfied: tqdm in /usr/local/lib/python3.7/dist-packages (from kaggle) (4.64.1)\n",
            "Requirement already satisfied: six>=1.10 in /usr/local/lib/python3.7/dist-packages (from kaggle) (1.15.0)\n",
            "Requirement already satisfied: text-unidecode>=1.3 in /usr/local/lib/python3.7/dist-packages (from python-slugify->kaggle) (1.3)\n",
            "Requirement already satisfied: chardet<4,>=3.0.2 in /usr/local/lib/python3.7/dist-packages (from requests->kaggle) (3.0.4)\n",
            "Requirement already satisfied: idna<3,>=2.5 in /usr/local/lib/python3.7/dist-packages (from requests->kaggle) (2.10)\n"
          ]
        }
      ]
    },
    {
      "cell_type": "code",
      "source": [
        "from google.colab import files\n",
        "files.upload()         # expire any previous token(s) and upload recreated token"
      ],
      "metadata": {
        "colab": {
          "base_uri": "https://localhost:8080/",
          "height": 90
        },
        "id": "gV01UjRLixsg",
        "outputId": "aee392a7-fbf3-4a25-e01d-2be9f73bc0d4"
      },
      "id": "gV01UjRLixsg",
      "execution_count": 4,
      "outputs": [
        {
          "output_type": "display_data",
          "data": {
            "text/plain": [
              "<IPython.core.display.HTML object>"
            ],
            "text/html": [
              "\n",
              "     <input type=\"file\" id=\"files-af18fa1e-601c-496d-8232-5d3ba1ac085f\" name=\"files[]\" multiple disabled\n",
              "        style=\"border:none\" />\n",
              "     <output id=\"result-af18fa1e-601c-496d-8232-5d3ba1ac085f\">\n",
              "      Upload widget is only available when the cell has been executed in the\n",
              "      current browser session. Please rerun this cell to enable.\n",
              "      </output>\n",
              "      <script>// Copyright 2017 Google LLC\n",
              "//\n",
              "// Licensed under the Apache License, Version 2.0 (the \"License\");\n",
              "// you may not use this file except in compliance with the License.\n",
              "// You may obtain a copy of the License at\n",
              "//\n",
              "//      http://www.apache.org/licenses/LICENSE-2.0\n",
              "//\n",
              "// Unless required by applicable law or agreed to in writing, software\n",
              "// distributed under the License is distributed on an \"AS IS\" BASIS,\n",
              "// WITHOUT WARRANTIES OR CONDITIONS OF ANY KIND, either express or implied.\n",
              "// See the License for the specific language governing permissions and\n",
              "// limitations under the License.\n",
              "\n",
              "/**\n",
              " * @fileoverview Helpers for google.colab Python module.\n",
              " */\n",
              "(function(scope) {\n",
              "function span(text, styleAttributes = {}) {\n",
              "  const element = document.createElement('span');\n",
              "  element.textContent = text;\n",
              "  for (const key of Object.keys(styleAttributes)) {\n",
              "    element.style[key] = styleAttributes[key];\n",
              "  }\n",
              "  return element;\n",
              "}\n",
              "\n",
              "// Max number of bytes which will be uploaded at a time.\n",
              "const MAX_PAYLOAD_SIZE = 100 * 1024;\n",
              "\n",
              "function _uploadFiles(inputId, outputId) {\n",
              "  const steps = uploadFilesStep(inputId, outputId);\n",
              "  const outputElement = document.getElementById(outputId);\n",
              "  // Cache steps on the outputElement to make it available for the next call\n",
              "  // to uploadFilesContinue from Python.\n",
              "  outputElement.steps = steps;\n",
              "\n",
              "  return _uploadFilesContinue(outputId);\n",
              "}\n",
              "\n",
              "// This is roughly an async generator (not supported in the browser yet),\n",
              "// where there are multiple asynchronous steps and the Python side is going\n",
              "// to poll for completion of each step.\n",
              "// This uses a Promise to block the python side on completion of each step,\n",
              "// then passes the result of the previous step as the input to the next step.\n",
              "function _uploadFilesContinue(outputId) {\n",
              "  const outputElement = document.getElementById(outputId);\n",
              "  const steps = outputElement.steps;\n",
              "\n",
              "  const next = steps.next(outputElement.lastPromiseValue);\n",
              "  return Promise.resolve(next.value.promise).then((value) => {\n",
              "    // Cache the last promise value to make it available to the next\n",
              "    // step of the generator.\n",
              "    outputElement.lastPromiseValue = value;\n",
              "    return next.value.response;\n",
              "  });\n",
              "}\n",
              "\n",
              "/**\n",
              " * Generator function which is called between each async step of the upload\n",
              " * process.\n",
              " * @param {string} inputId Element ID of the input file picker element.\n",
              " * @param {string} outputId Element ID of the output display.\n",
              " * @return {!Iterable<!Object>} Iterable of next steps.\n",
              " */\n",
              "function* uploadFilesStep(inputId, outputId) {\n",
              "  const inputElement = document.getElementById(inputId);\n",
              "  inputElement.disabled = false;\n",
              "\n",
              "  const outputElement = document.getElementById(outputId);\n",
              "  outputElement.innerHTML = '';\n",
              "\n",
              "  const pickedPromise = new Promise((resolve) => {\n",
              "    inputElement.addEventListener('change', (e) => {\n",
              "      resolve(e.target.files);\n",
              "    });\n",
              "  });\n",
              "\n",
              "  const cancel = document.createElement('button');\n",
              "  inputElement.parentElement.appendChild(cancel);\n",
              "  cancel.textContent = 'Cancel upload';\n",
              "  const cancelPromise = new Promise((resolve) => {\n",
              "    cancel.onclick = () => {\n",
              "      resolve(null);\n",
              "    };\n",
              "  });\n",
              "\n",
              "  // Wait for the user to pick the files.\n",
              "  const files = yield {\n",
              "    promise: Promise.race([pickedPromise, cancelPromise]),\n",
              "    response: {\n",
              "      action: 'starting',\n",
              "    }\n",
              "  };\n",
              "\n",
              "  cancel.remove();\n",
              "\n",
              "  // Disable the input element since further picks are not allowed.\n",
              "  inputElement.disabled = true;\n",
              "\n",
              "  if (!files) {\n",
              "    return {\n",
              "      response: {\n",
              "        action: 'complete',\n",
              "      }\n",
              "    };\n",
              "  }\n",
              "\n",
              "  for (const file of files) {\n",
              "    const li = document.createElement('li');\n",
              "    li.append(span(file.name, {fontWeight: 'bold'}));\n",
              "    li.append(span(\n",
              "        `(${file.type || 'n/a'}) - ${file.size} bytes, ` +\n",
              "        `last modified: ${\n",
              "            file.lastModifiedDate ? file.lastModifiedDate.toLocaleDateString() :\n",
              "                                    'n/a'} - `));\n",
              "    const percent = span('0% done');\n",
              "    li.appendChild(percent);\n",
              "\n",
              "    outputElement.appendChild(li);\n",
              "\n",
              "    const fileDataPromise = new Promise((resolve) => {\n",
              "      const reader = new FileReader();\n",
              "      reader.onload = (e) => {\n",
              "        resolve(e.target.result);\n",
              "      };\n",
              "      reader.readAsArrayBuffer(file);\n",
              "    });\n",
              "    // Wait for the data to be ready.\n",
              "    let fileData = yield {\n",
              "      promise: fileDataPromise,\n",
              "      response: {\n",
              "        action: 'continue',\n",
              "      }\n",
              "    };\n",
              "\n",
              "    // Use a chunked sending to avoid message size limits. See b/62115660.\n",
              "    let position = 0;\n",
              "    do {\n",
              "      const length = Math.min(fileData.byteLength - position, MAX_PAYLOAD_SIZE);\n",
              "      const chunk = new Uint8Array(fileData, position, length);\n",
              "      position += length;\n",
              "\n",
              "      const base64 = btoa(String.fromCharCode.apply(null, chunk));\n",
              "      yield {\n",
              "        response: {\n",
              "          action: 'append',\n",
              "          file: file.name,\n",
              "          data: base64,\n",
              "        },\n",
              "      };\n",
              "\n",
              "      let percentDone = fileData.byteLength === 0 ?\n",
              "          100 :\n",
              "          Math.round((position / fileData.byteLength) * 100);\n",
              "      percent.textContent = `${percentDone}% done`;\n",
              "\n",
              "    } while (position < fileData.byteLength);\n",
              "  }\n",
              "\n",
              "  // All done.\n",
              "  yield {\n",
              "    response: {\n",
              "      action: 'complete',\n",
              "    }\n",
              "  };\n",
              "}\n",
              "\n",
              "scope.google = scope.google || {};\n",
              "scope.google.colab = scope.google.colab || {};\n",
              "scope.google.colab._files = {\n",
              "  _uploadFiles,\n",
              "  _uploadFilesContinue,\n",
              "};\n",
              "})(self);\n",
              "</script> "
            ]
          },
          "metadata": {}
        },
        {
          "output_type": "stream",
          "name": "stdout",
          "text": [
            "Saving kaggle.json to kaggle.json\n"
          ]
        },
        {
          "output_type": "execute_result",
          "data": {
            "text/plain": [
              "{'kaggle.json': b'{\"username\":\"fredbliss\",\"key\":\"3db2a54e60e4c1ae5f5eaf05d4c86518\"}'}"
            ]
          },
          "metadata": {},
          "execution_count": 4
        }
      ]
    },
    {
      "cell_type": "code",
      "source": [
        "!rm -r ~/.kaggle\n",
        "!mkdir ~/.kaggle\n",
        "!mv ./kaggle.json ~/.kaggle/\n",
        "!chmod 600 ~/.kaggle/kaggle.json\n",
        "!kaggle datasets list"
      ],
      "metadata": {
        "id": "90Ja27oyi5cN"
      },
      "id": "90Ja27oyi5cN",
      "execution_count": null,
      "outputs": []
    },
    {
      "cell_type": "code",
      "source": [
        "! kaggle datasets download -d robikscube/flight-delay-dataset-20182022"
      ],
      "metadata": {
        "colab": {
          "base_uri": "https://localhost:8080/"
        },
        "id": "gw7G01qpjKZk",
        "outputId": "45e5e72d-012e-439d-fede-e6f25330ffe9"
      },
      "id": "gw7G01qpjKZk",
      "execution_count": 6,
      "outputs": [
        {
          "output_type": "stream",
          "name": "stdout",
          "text": [
            "Downloading flight-delay-dataset-20182022.zip to /content\n",
            "100% 3.72G/3.73G [00:34<00:00, 137MB/s]\n",
            "100% 3.73G/3.73G [00:34<00:00, 115MB/s]\n"
          ]
        }
      ]
    },
    {
      "cell_type": "code",
      "source": [
        "! mkdir ../input\n",
        "! mkdir ../input/flight-delay-dataset-20182022"
      ],
      "metadata": {
        "colab": {
          "base_uri": "https://localhost:8080/"
        },
        "id": "C2hHMFX_jdXV",
        "outputId": "2fa87aaa-cee7-4b38-8908-e545e45603a4"
      },
      "id": "C2hHMFX_jdXV",
      "execution_count": 11,
      "outputs": [
        {
          "output_type": "stream",
          "name": "stdout",
          "text": [
            "mkdir: cannot create directory ‘../input’: File exists\n"
          ]
        }
      ]
    },
    {
      "cell_type": "code",
      "source": [
        "! unzip /content/flight-delay-dataset-20182022.zip -d ../input/flight-delay-dataset-20182022"
      ],
      "metadata": {
        "colab": {
          "base_uri": "https://localhost:8080/"
        },
        "id": "98ZTBCmWj2oj",
        "outputId": "84d4f810-cb7e-4e13-ce83-eeef061d6798"
      },
      "id": "98ZTBCmWj2oj",
      "execution_count": 13,
      "outputs": [
        {
          "output_type": "stream",
          "name": "stdout",
          "text": [
            "Archive:  /content/flight-delay-dataset-20182022.zip\n",
            "  inflating: ../input/flight-delay-dataset-20182022/Airlines.csv  \n",
            "  inflating: ../input/flight-delay-dataset-20182022/Combined_Flights_2018.csv  \n",
            "  inflating: ../input/flight-delay-dataset-20182022/Combined_Flights_2018.parquet  \n",
            "  inflating: ../input/flight-delay-dataset-20182022/Combined_Flights_2019.csv  \n",
            "  inflating: ../input/flight-delay-dataset-20182022/Combined_Flights_2019.parquet  \n",
            "  inflating: ../input/flight-delay-dataset-20182022/Combined_Flights_2020.csv  \n",
            "  inflating: ../input/flight-delay-dataset-20182022/Combined_Flights_2020.parquet  \n",
            "  inflating: ../input/flight-delay-dataset-20182022/Combined_Flights_2021.csv  \n",
            "  inflating: ../input/flight-delay-dataset-20182022/Combined_Flights_2021.parquet  \n",
            "  inflating: ../input/flight-delay-dataset-20182022/Combined_Flights_2022.csv  \n",
            "  inflating: ../input/flight-delay-dataset-20182022/Combined_Flights_2022.parquet  \n",
            "  inflating: ../input/flight-delay-dataset-20182022/raw/Flights_2018_1.csv  \n",
            "  inflating: ../input/flight-delay-dataset-20182022/raw/Flights_2018_10.csv  \n",
            "  inflating: ../input/flight-delay-dataset-20182022/raw/Flights_2018_11.csv  \n",
            "  inflating: ../input/flight-delay-dataset-20182022/raw/Flights_2018_12.csv  \n",
            "  inflating: ../input/flight-delay-dataset-20182022/raw/Flights_2018_2.csv  \n",
            "  inflating: ../input/flight-delay-dataset-20182022/raw/Flights_2018_3.csv  \n",
            "  inflating: ../input/flight-delay-dataset-20182022/raw/Flights_2018_4.csv  \n",
            "  inflating: ../input/flight-delay-dataset-20182022/raw/Flights_2018_5.csv  \n",
            "  inflating: ../input/flight-delay-dataset-20182022/raw/Flights_2018_6.csv  \n",
            "  inflating: ../input/flight-delay-dataset-20182022/raw/Flights_2018_7.csv  \n",
            "  inflating: ../input/flight-delay-dataset-20182022/raw/Flights_2018_8.csv  \n",
            "  inflating: ../input/flight-delay-dataset-20182022/raw/Flights_2018_9.csv  \n",
            "  inflating: ../input/flight-delay-dataset-20182022/raw/Flights_2019_1.csv  \n",
            "  inflating: ../input/flight-delay-dataset-20182022/raw/Flights_2019_10.csv  \n",
            "  inflating: ../input/flight-delay-dataset-20182022/raw/Flights_2019_11.csv  \n",
            "  inflating: ../input/flight-delay-dataset-20182022/raw/Flights_2019_12.csv  \n",
            "  inflating: ../input/flight-delay-dataset-20182022/raw/Flights_2019_2.csv  \n",
            "  inflating: ../input/flight-delay-dataset-20182022/raw/Flights_2019_3.csv  \n",
            "  inflating: ../input/flight-delay-dataset-20182022/raw/Flights_2019_4.csv  \n",
            "  inflating: ../input/flight-delay-dataset-20182022/raw/Flights_2019_5.csv  \n",
            "  inflating: ../input/flight-delay-dataset-20182022/raw/Flights_2019_6.csv  \n",
            "  inflating: ../input/flight-delay-dataset-20182022/raw/Flights_2019_7.csv  \n",
            "  inflating: ../input/flight-delay-dataset-20182022/raw/Flights_2019_8.csv  \n",
            "  inflating: ../input/flight-delay-dataset-20182022/raw/Flights_2019_9.csv  \n",
            "  inflating: ../input/flight-delay-dataset-20182022/raw/Flights_2020_1.csv  \n",
            "  inflating: ../input/flight-delay-dataset-20182022/raw/Flights_2020_10.csv  \n",
            "  inflating: ../input/flight-delay-dataset-20182022/raw/Flights_2020_11.csv  \n",
            "  inflating: ../input/flight-delay-dataset-20182022/raw/Flights_2020_12.csv  \n",
            "  inflating: ../input/flight-delay-dataset-20182022/raw/Flights_2020_2.csv  \n",
            "  inflating: ../input/flight-delay-dataset-20182022/raw/Flights_2020_3.csv  \n",
            "  inflating: ../input/flight-delay-dataset-20182022/raw/Flights_2020_4.csv  \n",
            "  inflating: ../input/flight-delay-dataset-20182022/raw/Flights_2020_5.csv  \n",
            "  inflating: ../input/flight-delay-dataset-20182022/raw/Flights_2020_6.csv  \n",
            "  inflating: ../input/flight-delay-dataset-20182022/raw/Flights_2020_7.csv  \n",
            "  inflating: ../input/flight-delay-dataset-20182022/raw/Flights_2020_8.csv  \n",
            "  inflating: ../input/flight-delay-dataset-20182022/raw/Flights_2020_9.csv  \n",
            "  inflating: ../input/flight-delay-dataset-20182022/raw/Flights_2021_1.csv  \n",
            "  inflating: ../input/flight-delay-dataset-20182022/raw/Flights_2021_10.csv  \n",
            "  inflating: ../input/flight-delay-dataset-20182022/raw/Flights_2021_11.csv  \n",
            "  inflating: ../input/flight-delay-dataset-20182022/raw/Flights_2021_12.csv  \n",
            "  inflating: ../input/flight-delay-dataset-20182022/raw/Flights_2021_2.csv  \n",
            "  inflating: ../input/flight-delay-dataset-20182022/raw/Flights_2021_3.csv  \n",
            "  inflating: ../input/flight-delay-dataset-20182022/raw/Flights_2021_4.csv  \n",
            "  inflating: ../input/flight-delay-dataset-20182022/raw/Flights_2021_5.csv  \n",
            "  inflating: ../input/flight-delay-dataset-20182022/raw/Flights_2021_6.csv  \n",
            "  inflating: ../input/flight-delay-dataset-20182022/raw/Flights_2021_7.csv  \n",
            "  inflating: ../input/flight-delay-dataset-20182022/raw/Flights_2021_8.csv  \n",
            "  inflating: ../input/flight-delay-dataset-20182022/raw/Flights_2021_9.csv  \n",
            "  inflating: ../input/flight-delay-dataset-20182022/raw/Flights_2022_1.csv  \n",
            "  inflating: ../input/flight-delay-dataset-20182022/raw/Flights_2022_2.csv  \n",
            "  inflating: ../input/flight-delay-dataset-20182022/raw/Flights_2022_3.csv  \n",
            "  inflating: ../input/flight-delay-dataset-20182022/raw/Flights_2022_4.csv  \n",
            "  inflating: ../input/flight-delay-dataset-20182022/raw/Flights_2022_5.csv  \n",
            "  inflating: ../input/flight-delay-dataset-20182022/raw/Flights_2022_6.csv  \n",
            "  inflating: ../input/flight-delay-dataset-20182022/raw/Flights_2022_7.csv  \n",
            "  inflating: ../input/flight-delay-dataset-20182022/readme.html  \n",
            "  inflating: ../input/flight-delay-dataset-20182022/readme.md  \n"
          ]
        }
      ]
    },
    {
      "cell_type": "code",
      "execution_count": 3,
      "id": "7a2da8a8",
      "metadata": {
        "execution": {
          "iopub.execute_input": "2022-11-11T16:27:39.075016Z",
          "iopub.status.busy": "2022-11-11T16:27:39.074650Z",
          "iopub.status.idle": "2022-11-11T16:27:47.861057Z",
          "shell.execute_reply": "2022-11-11T16:27:47.859721Z"
        },
        "papermill": {
          "duration": 8.805379,
          "end_time": "2022-11-11T16:27:47.863521",
          "exception": false,
          "start_time": "2022-11-11T16:27:39.058142",
          "status": "completed"
        },
        "tags": [],
        "id": "7a2da8a8"
      },
      "outputs": [],
      "source": [
        "!pip install plotly-calplot --upgrade --quiet #> /dev/null# if not installed."
      ]
    },
    {
      "cell_type": "code",
      "execution_count": 6,
      "id": "ed26e3c3",
      "metadata": {
        "execution": {
          "iopub.execute_input": "2022-11-11T16:27:47.897990Z",
          "iopub.status.busy": "2022-11-11T16:27:47.897377Z",
          "iopub.status.idle": "2022-11-11T16:27:48.820488Z",
          "shell.execute_reply": "2022-11-11T16:27:48.819801Z"
        },
        "papermill": {
          "duration": 0.94301,
          "end_time": "2022-11-11T16:27:48.822696",
          "exception": false,
          "start_time": "2022-11-11T16:27:47.879686",
          "status": "completed"
        },
        "tags": [],
        "id": "ed26e3c3"
      },
      "outputs": [],
      "source": [
        "import pandas as pd\n",
        "import numpy as np\n",
        "import matplotlib.pyplot as plt\n",
        "import seaborn as sns\n",
        "import glob\n",
        "import calmap\n",
        "from plotly_calplot import calplot\n",
        "pd.set_option('display.max_columns', 500)\n",
        "plt.style.use('seaborn-dark-palette')\n",
        "#%load_ext lab_black"
      ]
    },
    {
      "cell_type": "code",
      "execution_count": null,
      "id": "afd5de7f",
      "metadata": {
        "execution": {
          "iopub.execute_input": "2022-11-11T16:27:48.856105Z",
          "iopub.status.busy": "2022-11-11T16:27:48.855358Z",
          "iopub.status.idle": "2022-11-11T16:27:48.859324Z",
          "shell.execute_reply": "2022-11-11T16:27:48.858652Z"
        },
        "papermill": {
          "duration": 0.023016,
          "end_time": "2022-11-11T16:27:48.861503",
          "exception": false,
          "start_time": "2022-11-11T16:27:48.838487",
          "status": "completed"
        },
        "tags": [],
        "id": "afd5de7f"
      },
      "outputs": [],
      "source": [
        "# plt.style.available # Matplotlib styles"
      ]
    },
    {
      "cell_type": "markdown",
      "id": "59be5aae",
      "metadata": {
        "papermill": {
          "duration": 0.016039,
          "end_time": "2022-11-11T16:27:48.893409",
          "exception": false,
          "start_time": "2022-11-11T16:27:48.877370",
          "status": "completed"
        },
        "tags": [],
        "id": "59be5aae"
      },
      "source": [
        "### 2. Loading files\n",
        "\n",
        "Selected only the 2019 csv file in the begining due to size. glob overloaded the RAM.\n",
        "parquet files are significantly smaller."
      ]
    },
    {
      "cell_type": "code",
      "execution_count": 7,
      "id": "f00641b5",
      "metadata": {
        "execution": {
          "iopub.execute_input": "2022-11-11T16:27:48.926511Z",
          "iopub.status.busy": "2022-11-11T16:27:48.925584Z",
          "iopub.status.idle": "2022-11-11T16:27:48.935934Z",
          "shell.execute_reply": "2022-11-11T16:27:48.935320Z"
        },
        "papermill": {
          "duration": 0.029107,
          "end_time": "2022-11-11T16:27:48.938107",
          "exception": false,
          "start_time": "2022-11-11T16:27:48.909000",
          "status": "completed"
        },
        "tags": [],
        "id": "f00641b5"
      },
      "outputs": [],
      "source": [
        "parquet_files = glob.glob('../input/flight-delay-dataset-20182022/Combined_Flights_*.parquet')\n",
        "#csv_files = glob.glob('../input/flight-delay-dataset-20182022/Combined_Flights_201*.csv') #2018/2019 to save memory\n",
        "#csv_files = ('../input/flight-delay-dataset-20182022/Combined_Flights_2019.csv') #now 2019 to save memory. \n",
        "# The files are RAM intensive and covers the period from 2018 to 2022."
      ]
    },
    {
      "cell_type": "code",
      "execution_count": 8,
      "id": "61415eec",
      "metadata": {
        "execution": {
          "iopub.execute_input": "2022-11-11T16:27:48.971371Z",
          "iopub.status.busy": "2022-11-11T16:27:48.970387Z",
          "iopub.status.idle": "2022-11-11T16:27:48.977497Z",
          "shell.execute_reply": "2022-11-11T16:27:48.976946Z"
        },
        "papermill": {
          "duration": 0.025226,
          "end_time": "2022-11-11T16:27:48.979114",
          "exception": false,
          "start_time": "2022-11-11T16:27:48.953888",
          "status": "completed"
        },
        "tags": [],
        "colab": {
          "base_uri": "https://localhost:8080/"
        },
        "id": "61415eec",
        "outputId": "58422d28-6b97-4901-a2bd-9eb114ff23c4"
      },
      "outputs": [
        {
          "output_type": "execute_result",
          "data": {
            "text/plain": [
              "['../input/flight-delay-dataset-20182022/Combined_Flights_2022.parquet',\n",
              " '../input/flight-delay-dataset-20182022/Combined_Flights_2021.parquet',\n",
              " '../input/flight-delay-dataset-20182022/Combined_Flights_2019.parquet',\n",
              " '../input/flight-delay-dataset-20182022/Combined_Flights_2020.parquet',\n",
              " '../input/flight-delay-dataset-20182022/Combined_Flights_2018.parquet']"
            ]
          },
          "metadata": {},
          "execution_count": 8
        }
      ],
      "source": [
        "parquet_files"
      ]
    },
    {
      "cell_type": "markdown",
      "id": "d85939ce",
      "metadata": {
        "papermill": {
          "duration": 0.016787,
          "end_time": "2022-11-11T16:27:49.011740",
          "exception": false,
          "start_time": "2022-11-11T16:27:48.994953",
          "status": "completed"
        },
        "tags": [],
        "id": "d85939ce"
      },
      "source": [
        "Index(['FlightDate', 'Airline', 'Origin', 'Dest', 'Cancelled', 'Diverted',\n",
        "       'CRSDepTime', 'DepTime', 'DepDelayMinutes', 'DepDelay', 'ArrTime',\n",
        "       'ArrDelayMinutes', 'AirTime', 'CRSElapsedTime', 'ActualElapsedTime',\n",
        "       'Distance', 'Year', 'Quarter', 'Month', 'DayofMonth', 'DayOfWeek',\n",
        "       'Marketing_Airline_Network', 'Operated_or_Branded_Code_Share_Partners',\n",
        "       'DOT_ID_Marketing_Airline', 'IATA_Code_Marketing_Airline',\n",
        "       'Flight_Number_Marketing_Airline', 'Operating_Airline',\n",
        "       'DOT_ID_Operating_Airline', 'IATA_Code_Operating_Airline',\n",
        "       'Tail_Number', 'Flight_Number_Operating_Airline', 'OriginAirportID',\n",
        "       'OriginAirportSeqID', 'OriginCityMarketID', 'OriginCityName',\n",
        "       'OriginState', 'OriginStateFips', 'OriginStateName', 'OriginWac',\n",
        "       'DestAirportID', 'DestAirportSeqID', 'DestCityMarketID', 'DestCityName',\n",
        "       'DestState', 'DestStateFips', 'DestStateName', 'DestWac', 'DepDel15',\n",
        "       'DepartureDelayGroups', 'DepTimeBlk', 'TaxiOut', 'WheelsOff',\n",
        "       'WheelsOn', 'TaxiIn', 'CRSArrTime', 'ArrDelay', 'ArrDel15',\n",
        "       'ArrivalDelayGroups', 'ArrTimeBlk', 'DistanceGroup',\n",
        "       'DivAirportLandings'],\n",
        "      dtype='object')"
      ]
    },
    {
      "cell_type": "markdown",
      "id": "59519643",
      "metadata": {
        "papermill": {
          "duration": 0.015162,
          "end_time": "2022-11-11T16:27:49.042719",
          "exception": false,
          "start_time": "2022-11-11T16:27:49.027557",
          "status": "completed"
        },
        "tags": [],
        "id": "59519643"
      },
      "source": [
        "### 3. Subsetting & choosing specific columns"
      ]
    },
    {
      "cell_type": "code",
      "execution_count": 9,
      "id": "fd42c102",
      "metadata": {
        "execution": {
          "iopub.execute_input": "2022-11-11T16:27:49.077033Z",
          "iopub.status.busy": "2022-11-11T16:27:49.076108Z",
          "iopub.status.idle": "2022-11-11T16:27:49.081030Z",
          "shell.execute_reply": "2022-11-11T16:27:49.080238Z"
        },
        "papermill": {
          "duration": 0.025008,
          "end_time": "2022-11-11T16:27:49.083128",
          "exception": false,
          "start_time": "2022-11-11T16:27:49.058120",
          "status": "completed"
        },
        "tags": [],
        "id": "fd42c102"
      },
      "outputs": [],
      "source": [
        "column_subset = [\n",
        "    \"FlightDate\",\n",
        "    \"Airline\",\n",
        "    \"Tail_Number\",\n",
        "    \"Flight_Number_Marketing_Airline\",\n",
        "    \"Origin\",\n",
        "    \"Dest\",\n",
        "    \"Cancelled\",\n",
        "    \"Diverted\",\n",
        "    \"CRSDepTime\",\n",
        "    \"DepTime\",\n",
        "    \"DepDelayMinutes\",\n",
        "    \"OriginAirportID\",\n",
        "    \"OriginCityName\",\n",
        "    \"OriginStateName\",\n",
        "    \"DestAirportID\",\n",
        "    \"DestCityName\",\n",
        "    \"DestStateName\",\n",
        "    \"TaxiOut\",\n",
        "    \"TaxiIn\",\n",
        "    \"CRSArrTime\",\n",
        "    \"ArrTime\",\n",
        "    \"ArrDelayMinutes\",\n",
        "]\n"
      ]
    },
    {
      "cell_type": "code",
      "execution_count": 58,
      "id": "3be9a7e5",
      "metadata": {
        "execution": {
          "iopub.execute_input": "2022-11-11T16:27:49.117073Z",
          "iopub.status.busy": "2022-11-11T16:27:49.116725Z",
          "iopub.status.idle": "2022-11-11T16:28:25.507760Z",
          "shell.execute_reply": "2022-11-11T16:28:25.505380Z"
        },
        "papermill": {
          "duration": 36.414735,
          "end_time": "2022-11-11T16:28:25.514290",
          "exception": false,
          "start_time": "2022-11-11T16:27:49.099555",
          "status": "completed"
        },
        "tags": [],
        "id": "3be9a7e5"
      },
      "outputs": [],
      "source": [
        "dfs = []\n",
        "for f in parquet_files:\n",
        "    dfs.append(pd.read_parquet(f, columns=column_subset, filters = [('Flight_Number_Marketing_Airline',  '=' , 561)]))\n",
        "df = pd.concat(dfs).reset_index(drop=True)"
      ]
    },
    {
      "cell_type": "code",
      "execution_count": 59,
      "id": "005a3b9b",
      "metadata": {
        "execution": {
          "iopub.execute_input": "2022-11-11T16:28:25.562117Z",
          "iopub.status.busy": "2022-11-11T16:28:25.561532Z",
          "iopub.status.idle": "2022-11-11T16:28:44.646490Z",
          "shell.execute_reply": "2022-11-11T16:28:44.645370Z"
        },
        "papermill": {
          "duration": 19.11064,
          "end_time": "2022-11-11T16:28:44.649046",
          "exception": false,
          "start_time": "2022-11-11T16:28:25.538406",
          "status": "completed"
        },
        "tags": [],
        "id": "005a3b9b"
      },
      "outputs": [],
      "source": [
        "df = pd.concat(dfs).reset_index(drop=True)"
      ]
    },
    {
      "cell_type": "code",
      "execution_count": 60,
      "id": "a5085fe5",
      "metadata": {
        "execution": {
          "iopub.execute_input": "2022-11-11T16:28:44.682867Z",
          "iopub.status.busy": "2022-11-11T16:28:44.682234Z",
          "iopub.status.idle": "2022-11-11T16:29:02.933557Z",
          "shell.execute_reply": "2022-11-11T16:29:02.932057Z"
        },
        "papermill": {
          "duration": 18.271533,
          "end_time": "2022-11-11T16:29:02.936396",
          "exception": false,
          "start_time": "2022-11-11T16:28:44.664863",
          "status": "completed"
        },
        "tags": [],
        "id": "a5085fe5"
      },
      "outputs": [],
      "source": [
        "cat_col = ['Airline','Origin','Dest','OriginStateName','DestStateName', 'Flight_Number_Marketing_Airline']\n",
        "for c in cat_col:\n",
        "    df[c] = df[c].astype(\"category\") \n",
        "    \n",
        "# Converting to type category to reduce the file size.\n",
        "# Even with subsets the load on the RAM remained high."
      ]
    },
    {
      "cell_type": "markdown",
      "id": "a61ab1c6",
      "metadata": {
        "papermill": {
          "duration": 0.015335,
          "end_time": "2022-11-11T16:29:02.969160",
          "exception": false,
          "start_time": "2022-11-11T16:29:02.953825",
          "status": "completed"
        },
        "tags": [],
        "id": "a61ab1c6"
      },
      "source": [
        "### 4. EDA"
      ]
    },
    {
      "cell_type": "code",
      "execution_count": 61,
      "id": "24acfd3f",
      "metadata": {
        "execution": {
          "iopub.execute_input": "2022-11-11T16:29:03.001852Z",
          "iopub.status.busy": "2022-11-11T16:29:03.001451Z",
          "iopub.status.idle": "2022-11-11T16:29:03.006190Z",
          "shell.execute_reply": "2022-11-11T16:29:03.005050Z"
        },
        "papermill": {
          "duration": 0.023236,
          "end_time": "2022-11-11T16:29:03.008007",
          "exception": false,
          "start_time": "2022-11-11T16:29:02.984771",
          "status": "completed"
        },
        "tags": [],
        "id": "24acfd3f"
      },
      "outputs": [],
      "source": [
        "#df.tail()"
      ]
    },
    {
      "cell_type": "markdown",
      "id": "07584e73",
      "metadata": {
        "papermill": {
          "duration": 0.015225,
          "end_time": "2022-11-11T16:29:03.038683",
          "exception": false,
          "start_time": "2022-11-11T16:29:03.023458",
          "status": "completed"
        },
        "tags": [],
        "id": "07584e73"
      },
      "source": [
        "Airlines with the most flights:"
      ]
    },
    {
      "cell_type": "code",
      "execution_count": 62,
      "id": "74a94aa2",
      "metadata": {
        "execution": {
          "iopub.execute_input": "2022-11-11T16:29:03.071217Z",
          "iopub.status.busy": "2022-11-11T16:29:03.070850Z",
          "iopub.status.idle": "2022-11-11T16:29:03.221738Z",
          "shell.execute_reply": "2022-11-11T16:29:03.220676Z"
        },
        "papermill": {
          "duration": 0.169635,
          "end_time": "2022-11-11T16:29:03.223874",
          "exception": false,
          "start_time": "2022-11-11T16:29:03.054239",
          "status": "completed"
        },
        "tags": [],
        "colab": {
          "base_uri": "https://localhost:8080/"
        },
        "id": "74a94aa2",
        "outputId": "ba350f90-dac0-45ce-deef-ed8eb8ce2d23"
      },
      "outputs": [
        {
          "output_type": "execute_result",
          "data": {
            "text/plain": [
              "Spirit Air Lines          2084\n",
              "American Airlines Inc.    2037\n",
              "Southwest Airlines Co.    1827\n",
              "United Air Lines Inc.     1471\n",
              "Delta Air Lines Inc.       575\n",
              "JetBlue Airways            531\n",
              "Alaska Airlines Inc.       432\n",
              "Allegiant Air              290\n",
              "Hawaiian Airlines Inc.      44\n",
              "Frontier Airlines Inc.      15\n",
              "Name: Airline, dtype: int64"
            ]
          },
          "metadata": {},
          "execution_count": 62
        }
      ],
      "source": [
        "df['Airline'].value_counts() # highrarcy my most flights"
      ]
    },
    {
      "cell_type": "code",
      "execution_count": 63,
      "id": "0075c8f6",
      "metadata": {
        "execution": {
          "iopub.execute_input": "2022-11-11T16:29:03.256639Z",
          "iopub.status.busy": "2022-11-11T16:29:03.256275Z",
          "iopub.status.idle": "2022-11-11T16:29:03.280770Z",
          "shell.execute_reply": "2022-11-11T16:29:03.278990Z"
        },
        "papermill": {
          "duration": 0.043564,
          "end_time": "2022-11-11T16:29:03.283122",
          "exception": false,
          "start_time": "2022-11-11T16:29:03.239558",
          "status": "completed"
        },
        "tags": [],
        "colab": {
          "base_uri": "https://localhost:8080/"
        },
        "id": "0075c8f6",
        "outputId": "7cdeb0f0-0197-417c-d8ef-8d00a0b9dd76"
      },
      "outputs": [
        {
          "output_type": "stream",
          "name": "stdout",
          "text": [
            "<class 'pandas.core.frame.DataFrame'>\n",
            "RangeIndex: 9306 entries, 0 to 9305\n",
            "Data columns (total 22 columns):\n",
            " #   Column                           Non-Null Count  Dtype         \n",
            "---  ------                           --------------  -----         \n",
            " 0   FlightDate                       9306 non-null   datetime64[ns]\n",
            " 1   Airline                          9306 non-null   category      \n",
            " 2   Tail_Number                      9237 non-null   object        \n",
            " 3   Flight_Number_Marketing_Airline  9306 non-null   category      \n",
            " 4   Origin                           9306 non-null   category      \n",
            " 5   Dest                             9306 non-null   category      \n",
            " 6   Cancelled                        9306 non-null   bool          \n",
            " 7   Diverted                         9306 non-null   bool          \n",
            " 8   CRSDepTime                       9306 non-null   int64         \n",
            " 9   DepTime                          9094 non-null   float64       \n",
            " 10  DepDelayMinutes                  9094 non-null   float64       \n",
            " 11  OriginAirportID                  9306 non-null   int64         \n",
            " 12  OriginCityName                   9306 non-null   object        \n",
            " 13  OriginStateName                  9306 non-null   category      \n",
            " 14  DestAirportID                    9306 non-null   int64         \n",
            " 15  DestCityName                     9306 non-null   object        \n",
            " 16  DestStateName                    9306 non-null   category      \n",
            " 17  TaxiOut                          9091 non-null   float64       \n",
            " 18  TaxiIn                           9088 non-null   float64       \n",
            " 19  CRSArrTime                       9306 non-null   int64         \n",
            " 20  ArrTime                          9088 non-null   float64       \n",
            " 21  ArrDelayMinutes                  9078 non-null   float64       \n",
            "dtypes: bool(2), category(6), datetime64[ns](1), float64(6), int64(4), object(3)\n",
            "memory usage: 1.1+ MB\n"
          ]
        }
      ],
      "source": [
        "df.info()"
      ]
    },
    {
      "cell_type": "markdown",
      "id": "4435bcd1",
      "metadata": {
        "papermill": {
          "duration": 0.015517,
          "end_time": "2022-11-11T16:29:03.314829",
          "exception": false,
          "start_time": "2022-11-11T16:29:03.299312",
          "status": "completed"
        },
        "tags": [],
        "id": "4435bcd1"
      },
      "source": [
        "Ploting the delays distribution:"
      ]
    },
    {
      "cell_type": "code",
      "execution_count": 64,
      "id": "5af36ce4",
      "metadata": {
        "execution": {
          "iopub.execute_input": "2022-11-11T16:29:03.348429Z",
          "iopub.status.busy": "2022-11-11T16:29:03.348068Z",
          "iopub.status.idle": "2022-11-11T16:29:09.206353Z",
          "shell.execute_reply": "2022-11-11T16:29:09.205524Z"
        },
        "papermill": {
          "duration": 5.877475,
          "end_time": "2022-11-11T16:29:09.208220",
          "exception": false,
          "start_time": "2022-11-11T16:29:03.330745",
          "status": "completed"
        },
        "tags": [],
        "colab": {
          "base_uri": "https://localhost:8080/",
          "height": 298
        },
        "id": "5af36ce4",
        "outputId": "95167104-73b0-484a-c72c-11c0be0cd7de"
      },
      "outputs": [
        {
          "output_type": "execute_result",
          "data": {
            "text/plain": [
              "<matplotlib.axes._subplots.AxesSubplot at 0x7f41c35c7590>"
            ]
          },
          "metadata": {},
          "execution_count": 64
        },
        {
          "output_type": "display_data",
          "data": {
            "text/plain": [
              "<Figure size 432x288 with 1 Axes>"
            ],
            "image/png": "[encoded data removed]"
          },
          "metadata": {
            "needs_background": "light"
          }
        }
      ],
      "source": [
        "df.query('DepDelayMinutes < 30')['DepDelayMinutes'].plot(kind='hist', bins=30,\n",
        "                                                        title='Flight Delay (Minutes)')\n",
        "\n",
        "# As most of the flights are with no delay (0 min), It is seen that the '0' is the highest accumulation, which overshadows the real delays."
      ]
    },
    {
      "cell_type": "code",
      "execution_count": 65,
      "id": "f11aa0b5",
      "metadata": {
        "execution": {
          "iopub.execute_input": "2022-11-11T16:29:09.242132Z",
          "iopub.status.busy": "2022-11-11T16:29:09.241738Z",
          "iopub.status.idle": "2022-11-11T16:29:11.448766Z",
          "shell.execute_reply": "2022-11-11T16:29:11.447681Z"
        },
        "papermill": {
          "duration": 2.226971,
          "end_time": "2022-11-11T16:29:11.451530",
          "exception": false,
          "start_time": "2022-11-11T16:29:09.224559",
          "status": "completed"
        },
        "tags": [],
        "colab": {
          "base_uri": "https://localhost:8080/",
          "height": 298
        },
        "id": "f11aa0b5",
        "outputId": "a0496fea-bdc9-425c-ce0e-6e7eb6f5fe16"
      },
      "outputs": [
        {
          "output_type": "execute_result",
          "data": {
            "text/plain": [
              "<matplotlib.axes._subplots.AxesSubplot at 0x7f4291b45c90>"
            ]
          },
          "metadata": {},
          "execution_count": 65
        },
        {
          "output_type": "display_data",
          "data": {
            "text/plain": [
              "<Figure size 432x288 with 1 Axes>"
            ],
            "image/png": "[encoded data removed]"
          },
          "metadata": {
            "needs_background": "light"
          }
        }
      ],
      "source": [
        "df.query('(DepDelayMinutes > 0) and (DepDelayMinutes < 61)')['DepDelayMinutes'].plot(kind='hist', bins=60,\n",
        "                                                                                     title='Flight Delay (Minutes)')\n",
        "# Zero '0' minute delays are excluded."
      ]
    },
    {
      "cell_type": "markdown",
      "id": "6d015f2b",
      "metadata": {
        "papermill": {
          "duration": 0.016643,
          "end_time": "2022-11-11T16:29:11.485387",
          "exception": false,
          "start_time": "2022-11-11T16:29:11.468744",
          "status": "completed"
        },
        "tags": [],
        "id": "6d015f2b"
      },
      "source": [
        "### 5. Delays Categories"
      ]
    },
    {
      "cell_type": "markdown",
      "id": "4fe527bb",
      "metadata": {
        "papermill": {
          "duration": 0.017294,
          "end_time": "2022-11-11T16:29:11.519754",
          "exception": false,
          "start_time": "2022-11-11T16:29:11.502460",
          "status": "completed"
        },
        "tags": [],
        "id": "4fe527bb"
      },
      "source": [
        "According to Wikipedia: https://en.wikipedia.org/wiki/Flight_cancellation_and_delay\n",
        "Delays are divided into three categories, namely;\n",
        "- \"on time or small delay\" (up to 15 minutes delay), \n",
        "- \"Medium delay\" (15 – 45 minutes delay) and,\n",
        "- \"Large delay\" ( 45 minutes delay). \n",
        "The naming can vary among Airlines.\n"
      ]
    },
    {
      "cell_type": "code",
      "execution_count": null,
      "id": "22c9c652",
      "metadata": {
        "execution": {
          "iopub.execute_input": "2022-11-11T16:29:11.556003Z",
          "iopub.status.busy": "2022-11-11T16:29:11.555346Z",
          "iopub.status.idle": "2022-11-11T16:29:11.560818Z",
          "shell.execute_reply": "2022-11-11T16:29:11.559632Z"
        },
        "papermill": {
          "duration": 0.026694,
          "end_time": "2022-11-11T16:29:11.563538",
          "exception": false,
          "start_time": "2022-11-11T16:29:11.536844",
          "status": "completed"
        },
        "tags": [],
        "id": "22c9c652"
      },
      "outputs": [],
      "source": [
        "# df[df['DepDelayMinutes'].isna()] -- Cancelled flights"
      ]
    },
    {
      "cell_type": "code",
      "execution_count": 66,
      "id": "c115928a",
      "metadata": {
        "execution": {
          "iopub.execute_input": "2022-11-11T16:29:11.599588Z",
          "iopub.status.busy": "2022-11-11T16:29:11.598736Z",
          "iopub.status.idle": "2022-11-11T16:29:16.566019Z",
          "shell.execute_reply": "2022-11-11T16:29:16.564979Z"
        },
        "papermill": {
          "duration": 4.988251,
          "end_time": "2022-11-11T16:29:16.568854",
          "exception": false,
          "start_time": "2022-11-11T16:29:11.580603",
          "status": "completed"
        },
        "tags": [],
        "id": "c115928a"
      },
      "outputs": [],
      "source": [
        "df['DelayGroup'] = None\n",
        "df.loc[df['DepDelayMinutes'] == 0, 'DelayGroup'] = 'OnTime_Early'\n",
        "df.loc[(df['DepDelayMinutes'] > 0) & (df['DepDelayMinutes'] <= 15), 'DelayGroup'] = 'Small_Delay'\n",
        "df.loc[(df['DepDelayMinutes'] > 15) & (df['DepDelayMinutes'] <= 45), 'DelayGroup'] = 'Medium_Delay'\n",
        "df.loc[df['DepDelayMinutes'] > 45, 'DelayGroup'] = 'Large_Delay'\n",
        "df.loc[df['Cancelled'], 'DelayGroup'] = 'Cancelled'\n",
        "\n",
        "# Generally 0-15 min delays are considered not significant. \n",
        "# Usually it can be made up for with an earlier arrival,"
      ]
    },
    {
      "cell_type": "code",
      "execution_count": 67,
      "id": "676493c5",
      "metadata": {
        "execution": {
          "iopub.execute_input": "2022-11-11T16:29:16.606303Z",
          "iopub.status.busy": "2022-11-11T16:29:16.605440Z",
          "iopub.status.idle": "2022-11-11T16:29:16.632702Z",
          "shell.execute_reply": "2022-11-11T16:29:16.632062Z"
        },
        "papermill": {
          "duration": 0.047544,
          "end_time": "2022-11-11T16:29:16.634391",
          "exception": false,
          "start_time": "2022-11-11T16:29:16.586847",
          "status": "completed"
        },
        "tags": [],
        "colab": {
          "base_uri": "https://localhost:8080/",
          "height": 444
        },
        "id": "676493c5",
        "outputId": "7d3fcdcf-af0a-4649-e20e-09f80449aab0"
      },
      "outputs": [
        {
          "output_type": "execute_result",
          "data": {
            "text/plain": [
              "  FlightDate                 Airline Tail_Number  \\\n",
              "0 2022-04-01  Southwest Airlines Co.      N8697C   \n",
              "1 2022-04-01  Southwest Airlines Co.      N8697C   \n",
              "2 2022-04-01  Southwest Airlines Co.      N8697C   \n",
              "3 2022-04-01  Southwest Airlines Co.      N8697C   \n",
              "4 2022-04-03  Southwest Airlines Co.      N8654B   \n",
              "\n",
              "  Flight_Number_Marketing_Airline Origin Dest  Cancelled  Diverted  \\\n",
              "0                             561    DEN  MDW      False     False   \n",
              "1                             561    FLL  ISP       True     False   \n",
              "2                             561    HOU  DEN      False     False   \n",
              "3                             561    MDW  FLL       True     False   \n",
              "4                             561    CMH  LAS      False     False   \n",
              "\n",
              "   CRSDepTime  DepTime  DepDelayMinutes  OriginAirportID       OriginCityName  \\\n",
              "0        1150   1157.0              7.0            11292           Denver, CO   \n",
              "1        2030      NaN              NaN            11697  Fort Lauderdale, FL   \n",
              "2         925    921.0              0.0            12191          Houston, TX   \n",
              "3        1555      NaN              NaN            13232          Chicago, IL   \n",
              "4         525    525.0              0.0            11066         Columbus, OH   \n",
              "\n",
              "  OriginStateName  DestAirportID         DestCityName DestStateName  TaxiOut  \\\n",
              "0        Colorado          13232          Chicago, IL      Illinois     10.0   \n",
              "1         Florida          12391            Islip, NY      New York      NaN   \n",
              "2           Texas          11292           Denver, CO      Colorado     11.0   \n",
              "3        Illinois          11697  Fort Lauderdale, FL       Florida      NaN   \n",
              "4            Ohio          12889        Las Vegas, NV        Nevada      8.0   \n",
              "\n",
              "   TaxiIn  CRSArrTime  ArrTime  ArrDelayMinutes    DelayGroup  \n",
              "0     5.0        1510   1503.0              0.0   Small_Delay  \n",
              "1     NaN        2315      NaN              NaN     Cancelled  \n",
              "2     6.0        1100   1040.0              0.0  OnTime_Early  \n",
              "3     NaN        1945      NaN              NaN     Cancelled  \n",
              "4     6.0         650    650.0              0.0  OnTime_Early  "
            ],
            "text/html": [
              "\n",
              "  <div id=\"df-04d7afd3-0a6b-4d79-9df5-a1d848ac44f5\">\n",
              "    <div class=\"colab-df-container\">\n",
              "      <div>\n",
              "<style scoped>\n",
              "    .dataframe tbody tr th:only-of-type {\n",
              "        vertical-align: middle;\n",
              "    }\n",
              "\n",
              "    .dataframe tbody tr th {\n",
              "        vertical-align: top;\n",
              "    }\n",
              "\n",
              "    .dataframe thead th {\n",
              "        text-align: right;\n",
              "    }\n",
              "</style>\n",
              "<table border=\"1\" class=\"dataframe\">\n",
              "  <thead>\n",
              "    <tr style=\"text-align: right;\">\n",
              "      <th></th>\n",
              "      <th>FlightDate</th>\n",
              "      <th>Airline</th>\n",
              "      <th>Tail_Number</th>\n",
              "      <th>Flight_Number_Marketing_Airline</th>\n",
              "      <th>Origin</th>\n",
              "      <th>Dest</th>\n",
              "      <th>Cancelled</th>\n",
              "      <th>Diverted</th>\n",
              "      <th>CRSDepTime</th>\n",
              "      <th>DepTime</th>\n",
              "      <th>DepDelayMinutes</th>\n",
              "      <th>OriginAirportID</th>\n",
              "      <th>OriginCityName</th>\n",
              "      <th>OriginStateName</th>\n",
              "      <th>DestAirportID</th>\n",
              "      <th>DestCityName</th>\n",
              "      <th>DestStateName</th>\n",
              "      <th>TaxiOut</th>\n",
              "      <th>TaxiIn</th>\n",
              "      <th>CRSArrTime</th>\n",
              "      <th>ArrTime</th>\n",
              "      <th>ArrDelayMinutes</th>\n",
              "      <th>DelayGroup</th>\n",
              "    </tr>\n",
              "  </thead>\n",
              "  <tbody>\n",
              "    <tr>\n",
              "      <th>0</th>\n",
              "      <td>2022-04-01</td>\n",
              "      <td>Southwest Airlines Co.</td>\n",
              "      <td>N8697C</td>\n",
              "      <td>561</td>\n",
              "      <td>DEN</td>\n",
              "      <td>MDW</td>\n",
              "      <td>False</td>\n",
              "      <td>False</td>\n",
              "      <td>1150</td>\n",
              "      <td>1157.0</td>\n",
              "      <td>7.0</td>\n",
              "      <td>11292</td>\n",
              "      <td>Denver, CO</td>\n",
              "      <td>Colorado</td>\n",
              "      <td>13232</td>\n",
              "      <td>Chicago, IL</td>\n",
              "      <td>Illinois</td>\n",
              "      <td>10.0</td>\n",
              "      <td>5.0</td>\n",
              "      <td>1510</td>\n",
              "      <td>1503.0</td>\n",
              "      <td>0.0</td>\n",
              "      <td>Small_Delay</td>\n",
              "    </tr>\n",
              "    <tr>\n",
              "      <th>1</th>\n",
              "      <td>2022-04-01</td>\n",
              "      <td>Southwest Airlines Co.</td>\n",
              "      <td>N8697C</td>\n",
              "      <td>561</td>\n",
              "      <td>FLL</td>\n",
              "      <td>ISP</td>\n",
              "      <td>True</td>\n",
              "      <td>False</td>\n",
              "      <td>2030</td>\n",
              "      <td>NaN</td>\n",
              "      <td>NaN</td>\n",
              "      <td>11697</td>\n",
              "      <td>Fort Lauderdale, FL</td>\n",
              "      <td>Florida</td>\n",
              "      <td>12391</td>\n",
              "      <td>Islip, NY</td>\n",
              "      <td>New York</td>\n",
              "      <td>NaN</td>\n",
              "      <td>NaN</td>\n",
              "      <td>2315</td>\n",
              "      <td>NaN</td>\n",
              "      <td>NaN</td>\n",
              "      <td>Cancelled</td>\n",
              "    </tr>\n",
              "    <tr>\n",
              "      <th>2</th>\n",
              "      <td>2022-04-01</td>\n",
              "      <td>Southwest Airlines Co.</td>\n",
              "      <td>N8697C</td>\n",
              "      <td>561</td>\n",
              "      <td>HOU</td>\n",
              "      <td>DEN</td>\n",
              "      <td>False</td>\n",
              "      <td>False</td>\n",
              "      <td>925</td>\n",
              "      <td>921.0</td>\n",
              "      <td>0.0</td>\n",
              "      <td>12191</td>\n",
              "      <td>Houston, TX</td>\n",
              "      <td>Texas</td>\n",
              "      <td>11292</td>\n",
              "      <td>Denver, CO</td>\n",
              "      <td>Colorado</td>\n",
              "      <td>11.0</td>\n",
              "      <td>6.0</td>\n",
              "      <td>1100</td>\n",
              "      <td>1040.0</td>\n",
              "      <td>0.0</td>\n",
              "      <td>OnTime_Early</td>\n",
              "    </tr>\n",
              "    <tr>\n",
              "      <th>3</th>\n",
              "      <td>2022-04-01</td>\n",
              "      <td>Southwest Airlines Co.</td>\n",
              "      <td>N8697C</td>\n",
              "      <td>561</td>\n",
              "      <td>MDW</td>\n",
              "      <td>FLL</td>\n",
              "      <td>True</td>\n",
              "      <td>False</td>\n",
              "      <td>1555</td>\n",
              "      <td>NaN</td>\n",
              "      <td>NaN</td>\n",
              "      <td>13232</td>\n",
              "      <td>Chicago, IL</td>\n",
              "      <td>Illinois</td>\n",
              "      <td>11697</td>\n",
              "      <td>Fort Lauderdale, FL</td>\n",
              "      <td>Florida</td>\n",
              "      <td>NaN</td>\n",
              "      <td>NaN</td>\n",
              "      <td>1945</td>\n",
              "      <td>NaN</td>\n",
              "      <td>NaN</td>\n",
              "      <td>Cancelled</td>\n",
              "    </tr>\n",
              "    <tr>\n",
              "      <th>4</th>\n",
              "      <td>2022-04-03</td>\n",
              "      <td>Southwest Airlines Co.</td>\n",
              "      <td>N8654B</td>\n",
              "      <td>561</td>\n",
              "      <td>CMH</td>\n",
              "      <td>LAS</td>\n",
              "      <td>False</td>\n",
              "      <td>False</td>\n",
              "      <td>525</td>\n",
              "      <td>525.0</td>\n",
              "      <td>0.0</td>\n",
              "      <td>11066</td>\n",
              "      <td>Columbus, OH</td>\n",
              "      <td>Ohio</td>\n",
              "      <td>12889</td>\n",
              "      <td>Las Vegas, NV</td>\n",
              "      <td>Nevada</td>\n",
              "      <td>8.0</td>\n",
              "      <td>6.0</td>\n",
              "      <td>650</td>\n",
              "      <td>650.0</td>\n",
              "      <td>0.0</td>\n",
              "      <td>OnTime_Early</td>\n",
              "    </tr>\n",
              "  </tbody>\n",
              "</table>\n",
              "</div>\n",
              "      <button class=\"colab-df-convert\" onclick=\"convertToInteractive('df-04d7afd3-0a6b-4d79-9df5-a1d848ac44f5')\"\n",
              "              title=\"Convert this dataframe to an interactive table.\"\n",
              "              style=\"display:none;\">\n",
              "        \n",
              "  <svg xmlns=\"http://www.w3.org/2000/svg\" height=\"24px\"viewBox=\"0 0 24 24\"\n",
              "       width=\"24px\">\n",
              "    <path d=\"M0 0h24v24H0V0z\" fill=\"none\"/>\n",
              "    <path d=\"M18.56 5.44l.94 2.06.94-2.06 2.06-.94-2.06-.94-.94-2.06-.94 2.06-2.06.94zm-11 1L8.5 8.5l.94-2.06 2.06-.94-2.06-.94L8.5 2.5l-.94 2.06-2.06.94zm10 10l.94 2.06.94-2.06 2.06-.94-2.06-.94-.94-2.06-.94 2.06-2.06.94z\"/><path d=\"M17.41 7.96l-1.37-1.37c-.4-.4-.92-.59-1.43-.59-.52 0-1.04.2-1.43.59L10.3 9.45l-7.72 7.72c-.78.78-.78 2.05 0 2.83L4 21.41c.39.39.9.59 1.41.59.51 0 1.02-.2 1.41-.59l7.78-7.78 2.81-2.81c.8-.78.8-2.07 0-2.86zM5.41 20L4 18.59l7.72-7.72 1.47 1.35L5.41 20z\"/>\n",
              "  </svg>\n",
              "      </button>\n",
              "      \n",
              "  <style>\n",
              "    .colab-df-container {\n",
              "      display:flex;\n",
              "      flex-wrap:wrap;\n",
              "      gap: 12px;\n",
              "    }\n",
              "\n",
              "    .colab-df-convert {\n",
              "      background-color: #E8F0FE;\n",
              "      border: none;\n",
              "      border-radius: 50%;\n",
              "      cursor: pointer;\n",
              "      display: none;\n",
              "      fill: #1967D2;\n",
              "      height: 32px;\n",
              "      padding: 0 0 0 0;\n",
              "      width: 32px;\n",
              "    }\n",
              "\n",
              "    .colab-df-convert:hover {\n",
              "      background-color: #E2EBFA;\n",
              "      box-shadow: 0px 1px 2px rgba(60, 64, 67, 0.3), 0px 1px 3px 1px rgba(60, 64, 67, 0.15);\n",
              "      fill: #174EA6;\n",
              "    }\n",
              "\n",
              "    [theme=dark] .colab-df-convert {\n",
              "      background-color: #3B4455;\n",
              "      fill: #D2E3FC;\n",
              "    }\n",
              "\n",
              "    [theme=dark] .colab-df-convert:hover {\n",
              "      background-color: #434B5C;\n",
              "      box-shadow: 0px 1px 3px 1px rgba(0, 0, 0, 0.15);\n",
              "      filter: drop-shadow(0px 1px 2px rgba(0, 0, 0, 0.3));\n",
              "      fill: #FFFFFF;\n",
              "    }\n",
              "  </style>\n",
              "\n",
              "      <script>\n",
              "        const buttonEl =\n",
              "          document.querySelector('#df-04d7afd3-0a6b-4d79-9df5-a1d848ac44f5 button.colab-df-convert');\n",
              "        buttonEl.style.display =\n",
              "          google.colab.kernel.accessAllowed ? 'block' : 'none';\n",
              "\n",
              "        async function convertToInteractive(key) {\n",
              "          const element = document.querySelector('#df-04d7afd3-0a6b-4d79-9df5-a1d848ac44f5');\n",
              "          const dataTable =\n",
              "            await google.colab.kernel.invokeFunction('convertToInteractive',\n",
              "                                                     [key], {});\n",
              "          if (!dataTable) return;\n",
              "\n",
              "          const docLinkHtml = 'Like what you see? Visit the ' +\n",
              "            '<a target=\"_blank\" href=https://colab.research.google.com/notebooks/data_table.ipynb>data table notebook</a>'\n",
              "            + ' to learn more about interactive tables.';\n",
              "          element.innerHTML = '';\n",
              "          dataTable['output_type'] = 'display_data';\n",
              "          await google.colab.output.renderOutput(dataTable, element);\n",
              "          const docLink = document.createElement('div');\n",
              "          docLink.innerHTML = docLinkHtml;\n",
              "          element.appendChild(docLink);\n",
              "        }\n",
              "      </script>\n",
              "    </div>\n",
              "  </div>\n",
              "  "
            ]
          },
          "metadata": {},
          "execution_count": 67
        }
      ],
      "source": [
        "df.head()"
      ]
    },
    {
      "cell_type": "markdown",
      "id": "ee487ad6",
      "metadata": {
        "papermill": {
          "duration": 0.016675,
          "end_time": "2022-11-11T16:29:16.668509",
          "exception": false,
          "start_time": "2022-11-11T16:29:16.651834",
          "status": "completed"
        },
        "tags": [],
        "id": "ee487ad6"
      },
      "source": [
        "### 6. Cancellations and Diversions:\n",
        "- Cancelled flights"
      ]
    },
    {
      "cell_type": "code",
      "execution_count": 68,
      "id": "bdde8228",
      "metadata": {
        "execution": {
          "iopub.execute_input": "2022-11-11T16:29:16.704409Z",
          "iopub.status.busy": "2022-11-11T16:29:16.703826Z",
          "iopub.status.idle": "2022-11-11T16:29:19.617565Z",
          "shell.execute_reply": "2022-11-11T16:29:19.616588Z"
        },
        "papermill": {
          "duration": 2.934328,
          "end_time": "2022-11-11T16:29:19.619742",
          "exception": false,
          "start_time": "2022-11-11T16:29:16.685414",
          "status": "completed"
        },
        "tags": [],
        "colab": {
          "base_uri": "https://localhost:8080/"
        },
        "id": "bdde8228",
        "outputId": "013364ff-096e-4330-a5db-355a85d13996"
      },
      "outputs": [
        {
          "output_type": "stream",
          "name": "stdout",
          "text": [
            "False    9091\n",
            "True      215\n",
            "Name: Cancelled, dtype: int64\n",
            "Percent Cancelled : 2.31 % of all flights\n"
          ]
        }
      ],
      "source": [
        "print(df['Cancelled'].value_counts())\n",
        "print('Percent Cancelled :', round(sum(df['Cancelled'] == True) / len(df['Cancelled']) * 100, 2), '% of all flights')"
      ]
    },
    {
      "cell_type": "markdown",
      "id": "05123f5a",
      "metadata": {
        "papermill": {
          "duration": 0.017824,
          "end_time": "2022-11-11T16:29:19.656385",
          "exception": false,
          "start_time": "2022-11-11T16:29:19.638561",
          "status": "completed"
        },
        "tags": [],
        "id": "05123f5a"
      },
      "source": [
        "- Diverted flights"
      ]
    },
    {
      "cell_type": "code",
      "execution_count": 69,
      "id": "8b966e8e",
      "metadata": {
        "execution": {
          "iopub.execute_input": "2022-11-11T16:29:19.693084Z",
          "iopub.status.busy": "2022-11-11T16:29:19.692658Z",
          "iopub.status.idle": "2022-11-11T16:29:22.604085Z",
          "shell.execute_reply": "2022-11-11T16:29:22.602571Z"
        },
        "papermill": {
          "duration": 2.932657,
          "end_time": "2022-11-11T16:29:22.606542",
          "exception": false,
          "start_time": "2022-11-11T16:29:19.673885",
          "status": "completed"
        },
        "tags": [],
        "colab": {
          "base_uri": "https://localhost:8080/"
        },
        "id": "8b966e8e",
        "outputId": "326dead1-f83c-4636-8058-7fe6558c24e7"
      },
      "outputs": [
        {
          "output_type": "stream",
          "name": "stdout",
          "text": [
            "False    9293\n",
            "True       13\n",
            "Name: Diverted, dtype: int64\n",
            "Percent Diverted : 0.14 % of all flights\n"
          ]
        }
      ],
      "source": [
        "print(df['Diverted'].value_counts())\n",
        "print('Percent Diverted :', round(sum(df['Diverted'] == True) / len(df['Diverted']) * 100, 2), '% of all flights') "
      ]
    },
    {
      "cell_type": "code",
      "execution_count": null,
      "id": "d78a3465",
      "metadata": {
        "execution": {
          "iopub.execute_input": "2022-11-11T16:29:22.643521Z",
          "iopub.status.busy": "2022-11-11T16:29:22.643139Z",
          "iopub.status.idle": "2022-11-11T16:29:22.647605Z",
          "shell.execute_reply": "2022-11-11T16:29:22.646573Z"
        },
        "papermill": {
          "duration": 0.025018,
          "end_time": "2022-11-11T16:29:22.649425",
          "exception": false,
          "start_time": "2022-11-11T16:29:22.624407",
          "status": "completed"
        },
        "tags": [],
        "id": "d78a3465"
      },
      "outputs": [],
      "source": [
        "#plt.figure(figsize=(12,8))\n",
        "#sns.scatterplot(data=df[df['DelayGroup'] == 'Large_Delay'], x='DepDelayMinutes', y='ArrDelayMinutes')"
      ]
    },
    {
      "cell_type": "code",
      "execution_count": null,
      "id": "9fd6d140",
      "metadata": {
        "execution": {
          "iopub.execute_input": "2022-11-11T16:29:22.688442Z",
          "iopub.status.busy": "2022-11-11T16:29:22.688041Z",
          "iopub.status.idle": "2022-11-11T16:29:22.693087Z",
          "shell.execute_reply": "2022-11-11T16:29:22.692003Z"
        },
        "papermill": {
          "duration": 0.027137,
          "end_time": "2022-11-11T16:29:22.696006",
          "exception": false,
          "start_time": "2022-11-11T16:29:22.668869",
          "status": "completed"
        },
        "tags": [],
        "id": "9fd6d140"
      },
      "outputs": [],
      "source": [
        "#Diverted = df[df['Diverted'] == True]"
      ]
    },
    {
      "cell_type": "code",
      "execution_count": 70,
      "id": "cf7b31ec",
      "metadata": {
        "execution": {
          "iopub.execute_input": "2022-11-11T16:29:22.734838Z",
          "iopub.status.busy": "2022-11-11T16:29:22.734471Z",
          "iopub.status.idle": "2022-11-11T16:29:23.716559Z",
          "shell.execute_reply": "2022-11-11T16:29:23.715226Z"
        },
        "papermill": {
          "duration": 1.003343,
          "end_time": "2022-11-11T16:29:23.718367",
          "exception": false,
          "start_time": "2022-11-11T16:29:22.715024",
          "status": "completed"
        },
        "tags": [],
        "colab": {
          "base_uri": "https://localhost:8080/"
        },
        "id": "cf7b31ec",
        "outputId": "5b35f220-928c-4294-bc8d-be3fe4341aaf"
      },
      "outputs": [
        {
          "output_type": "execute_result",
          "data": {
            "text/plain": [
              "OnTime_Early    5901\n",
              "Small_Delay     1616\n",
              "Medium_Delay     874\n",
              "Large_Delay      700\n",
              "Cancelled        215\n",
              "Name: DelayGroup, dtype: int64"
            ]
          },
          "metadata": {},
          "execution_count": 70
        }
      ],
      "source": [
        "df['DelayGroup'].value_counts()"
      ]
    },
    {
      "cell_type": "code",
      "execution_count": null,
      "id": "87473f3c",
      "metadata": {
        "execution": {
          "iopub.execute_input": "2022-11-11T16:29:23.754642Z",
          "iopub.status.busy": "2022-11-11T16:29:23.754267Z",
          "iopub.status.idle": "2022-11-11T16:29:23.758821Z",
          "shell.execute_reply": "2022-11-11T16:29:23.757747Z"
        },
        "papermill": {
          "duration": 0.025768,
          "end_time": "2022-11-11T16:29:23.761537",
          "exception": false,
          "start_time": "2022-11-11T16:29:23.735769",
          "status": "completed"
        },
        "tags": [],
        "id": "87473f3c"
      },
      "outputs": [],
      "source": [
        "#Diverted['DelayGroup'].value_counts()"
      ]
    },
    {
      "cell_type": "code",
      "execution_count": 71,
      "id": "109904b3",
      "metadata": {
        "execution": {
          "iopub.execute_input": "2022-11-11T16:29:23.798826Z",
          "iopub.status.busy": "2022-11-11T16:29:23.797922Z",
          "iopub.status.idle": "2022-11-11T16:29:23.802903Z",
          "shell.execute_reply": "2022-11-11T16:29:23.801987Z"
        },
        "papermill": {
          "duration": 0.025291,
          "end_time": "2022-11-11T16:29:23.804578",
          "exception": false,
          "start_time": "2022-11-11T16:29:23.779287",
          "status": "completed"
        },
        "tags": [],
        "id": "109904b3"
      },
      "outputs": [],
      "source": [
        "pal = sns.color_palette()"
      ]
    },
    {
      "cell_type": "markdown",
      "id": "bade30bb",
      "metadata": {
        "papermill": {
          "duration": 0.017253,
          "end_time": "2022-11-11T16:29:23.839277",
          "exception": false,
          "start_time": "2022-11-11T16:29:23.822024",
          "status": "completed"
        },
        "tags": [],
        "id": "bade30bb"
      },
      "source": [
        "### 7. Plotting the delay groups"
      ]
    },
    {
      "cell_type": "code",
      "execution_count": 72,
      "id": "bff28fce",
      "metadata": {
        "execution": {
          "iopub.execute_input": "2022-11-11T16:29:23.875025Z",
          "iopub.status.busy": "2022-11-11T16:29:23.874648Z",
          "iopub.status.idle": "2022-11-11T16:29:25.014418Z",
          "shell.execute_reply": "2022-11-11T16:29:25.012903Z"
        },
        "papermill": {
          "duration": 1.160376,
          "end_time": "2022-11-11T16:29:25.016852",
          "exception": false,
          "start_time": "2022-11-11T16:29:23.856476",
          "status": "completed"
        },
        "tags": [],
        "colab": {
          "base_uri": "https://localhost:8080/",
          "height": 353
        },
        "id": "bff28fce",
        "outputId": "b02fbfb7-1f22-4697-d3c5-2bb4c0b272b1"
      },
      "outputs": [
        {
          "output_type": "execute_result",
          "data": {
            "text/plain": [
              "<matplotlib.axes._subplots.AxesSubplot at 0x7f41b3426110>"
            ]
          },
          "metadata": {},
          "execution_count": 72
        },
        {
          "output_type": "display_data",
          "data": {
            "text/plain": [
              "<Figure size 720x360 with 1 Axes>"
            ],
            "image/png": "[encoded data removed]"
          },
          "metadata": {
            "needs_background": "light"
          }
        }
      ],
      "source": [
        "df['DelayGroup'].value_counts(ascending=True).plot(kind='barh', color=pal[5], title='Delay Category', figsize=(10,5))"
      ]
    },
    {
      "cell_type": "code",
      "execution_count": 73,
      "id": "2b530dd7",
      "metadata": {
        "execution": {
          "iopub.execute_input": "2022-11-11T16:29:25.055340Z",
          "iopub.status.busy": "2022-11-11T16:29:25.054969Z",
          "iopub.status.idle": "2022-11-11T16:29:26.033638Z",
          "shell.execute_reply": "2022-11-11T16:29:26.032212Z"
        },
        "papermill": {
          "duration": 1.000318,
          "end_time": "2022-11-11T16:29:26.035785",
          "exception": false,
          "start_time": "2022-11-11T16:29:25.035467",
          "status": "completed"
        },
        "tags": [],
        "colab": {
          "base_uri": "https://localhost:8080/"
        },
        "id": "2b530dd7",
        "outputId": "3f7f64f9-7a90-4d7a-eeac-97d7b5e9b921"
      },
      "outputs": [
        {
          "output_type": "execute_result",
          "data": {
            "text/plain": [
              "0"
            ]
          },
          "metadata": {},
          "execution_count": 73
        }
      ],
      "source": [
        "df['DelayGroup'].isna().sum()"
      ]
    },
    {
      "cell_type": "code",
      "execution_count": 74,
      "id": "b8864bf0",
      "metadata": {
        "execution": {
          "iopub.execute_input": "2022-11-11T16:29:26.074089Z",
          "iopub.status.busy": "2022-11-11T16:29:26.073706Z",
          "iopub.status.idle": "2022-11-11T16:29:26.079475Z",
          "shell.execute_reply": "2022-11-11T16:29:26.078079Z"
        },
        "papermill": {
          "duration": 0.028435,
          "end_time": "2022-11-11T16:29:26.082259",
          "exception": false,
          "start_time": "2022-11-11T16:29:26.053824",
          "status": "completed"
        },
        "tags": [],
        "id": "b8864bf0"
      },
      "outputs": [],
      "source": [
        "#Diverted['DelayGroup'].value_counts(ascending=True).plot(kind='barh', color=pal[4], title='Delay Category - Diverted -', figsize=(10,5))"
      ]
    },
    {
      "cell_type": "markdown",
      "id": "94b5140c",
      "metadata": {
        "papermill": {
          "duration": 0.017597,
          "end_time": "2022-11-11T16:29:26.118450",
          "exception": false,
          "start_time": "2022-11-11T16:29:26.100853",
          "status": "completed"
        },
        "tags": [],
        "id": "94b5140c"
      },
      "source": [
        "Diversion implies that the aircraft is diverted to a different destination field. This has no impact in depature delay calculations."
      ]
    },
    {
      "cell_type": "code",
      "execution_count": 75,
      "id": "4d14235d",
      "metadata": {
        "execution": {
          "iopub.execute_input": "2022-11-11T16:29:26.154930Z",
          "iopub.status.busy": "2022-11-11T16:29:26.154161Z",
          "iopub.status.idle": "2022-11-11T16:29:28.102388Z",
          "shell.execute_reply": "2022-11-11T16:29:28.100643Z"
        },
        "papermill": {
          "duration": 1.969512,
          "end_time": "2022-11-11T16:29:28.105296",
          "exception": false,
          "start_time": "2022-11-11T16:29:26.135784",
          "status": "completed"
        },
        "tags": [],
        "colab": {
          "base_uri": "https://localhost:8080/"
        },
        "id": "4d14235d",
        "outputId": "5b9c14b1-f35e-40d9-90a1-92a1965bb68a"
      },
      "outputs": [
        {
          "output_type": "stream",
          "name": "stdout",
          "text": [
            "OnTime_Early    63.41\n",
            "Small_Delay     17.37\n",
            "Medium_Delay     9.39\n",
            "Large_Delay      7.52\n",
            "Cancelled        2.31\n",
            "Name: DelayGroup, dtype: float64\n",
            "100.00000000000001\n"
          ]
        }
      ],
      "source": [
        "print((df['DelayGroup'].value_counts() / df.shape[0] * 100).round(2))\n",
        "print(sum(df['DelayGroup'].value_counts() / df.shape[0] * 100))"
      ]
    },
    {
      "cell_type": "code",
      "execution_count": 28,
      "id": "5e4c7b94",
      "metadata": {
        "execution": {
          "iopub.execute_input": "2022-11-11T16:29:28.146072Z",
          "iopub.status.busy": "2022-11-11T16:29:28.145687Z",
          "iopub.status.idle": "2022-11-11T16:29:28.150585Z",
          "shell.execute_reply": "2022-11-11T16:29:28.149119Z"
        },
        "papermill": {
          "duration": 0.02925,
          "end_time": "2022-11-11T16:29:28.153244",
          "exception": false,
          "start_time": "2022-11-11T16:29:28.123994",
          "status": "completed"
        },
        "tags": [],
        "id": "5e4c7b94"
      },
      "outputs": [],
      "source": [
        "#df[df['DelayGroup'].isna()]"
      ]
    },
    {
      "cell_type": "code",
      "execution_count": 76,
      "id": "1c2f9ce0",
      "metadata": {
        "execution": {
          "iopub.execute_input": "2022-11-11T16:29:28.190961Z",
          "iopub.status.busy": "2022-11-11T16:29:28.190497Z",
          "iopub.status.idle": "2022-11-11T16:29:29.152758Z",
          "shell.execute_reply": "2022-11-11T16:29:29.151721Z"
        },
        "papermill": {
          "duration": 0.983251,
          "end_time": "2022-11-11T16:29:29.154707",
          "exception": false,
          "start_time": "2022-11-11T16:29:28.171456",
          "status": "completed"
        },
        "tags": [],
        "colab": {
          "base_uri": "https://localhost:8080/"
        },
        "id": "1c2f9ce0",
        "outputId": "5ed6ac0c-8108-4983-ac8e-8cd0cf2af37a"
      },
      "outputs": [
        {
          "output_type": "execute_result",
          "data": {
            "text/plain": [
              "OnTime_Early    63.410703\n",
              "Small_Delay     17.365141\n",
              "Medium_Delay     9.391790\n",
              "Large_Delay      7.522029\n",
              "Cancelled        2.310337\n",
              "Name: DelayGroup, dtype: float64"
            ]
          },
          "metadata": {},
          "execution_count": 76
        }
      ],
      "source": [
        "df['DelayGroup'].value_counts(normalize=True) * 100 # normalize to return proportions rather than frequencies."
      ]
    },
    {
      "cell_type": "code",
      "execution_count": 77,
      "id": "a341bf1d",
      "metadata": {
        "execution": {
          "iopub.execute_input": "2022-11-11T16:29:29.192769Z",
          "iopub.status.busy": "2022-11-11T16:29:29.192411Z",
          "iopub.status.idle": "2022-11-11T16:29:42.724460Z",
          "shell.execute_reply": "2022-11-11T16:29:42.723021Z"
        },
        "papermill": {
          "duration": 13.554375,
          "end_time": "2022-11-11T16:29:42.727423",
          "exception": false,
          "start_time": "2022-11-11T16:29:29.173048",
          "status": "completed"
        },
        "tags": [],
        "colab": {
          "base_uri": "https://localhost:8080/",
          "height": 449
        },
        "id": "a341bf1d",
        "outputId": "2e6ab7d5-0d5b-4015-bd78-7e2b078b7125"
      },
      "outputs": [
        {
          "output_type": "execute_result",
          "data": {
            "text/plain": [
              "Text(0.5, 0.98, 'Delay Groups')"
            ]
          },
          "metadata": {},
          "execution_count": 77
        },
        {
          "output_type": "display_data",
          "data": {
            "text/plain": [
              "<Figure size 576x432 with 1 Axes>"
            ],
            "image/png": "[encoded data removed]"
          },
          "metadata": {
            "needs_background": "light"
          }
        }
      ],
      "source": [
        "plt.figure(figsize=(8,6))\n",
        "sns.countplot(data=df, x='DelayGroup')\n",
        "plt.suptitle('Delay Groups')"
      ]
    },
    {
      "cell_type": "code",
      "execution_count": 78,
      "id": "3f3dcb59",
      "metadata": {
        "execution": {
          "iopub.execute_input": "2022-11-11T16:29:42.767264Z",
          "iopub.status.busy": "2022-11-11T16:29:42.766877Z",
          "iopub.status.idle": "2022-11-11T16:29:43.220704Z",
          "shell.execute_reply": "2022-11-11T16:29:43.219648Z"
        },
        "papermill": {
          "duration": 0.476397,
          "end_time": "2022-11-11T16:29:43.223147",
          "exception": false,
          "start_time": "2022-11-11T16:29:42.746750",
          "status": "completed"
        },
        "tags": [],
        "id": "3f3dcb59"
      },
      "outputs": [],
      "source": [
        "df['FlightDate'] = pd.to_datetime(df['FlightDate']) # Original as object."
      ]
    },
    {
      "cell_type": "code",
      "execution_count": 79,
      "id": "b2c666b6",
      "metadata": {
        "execution": {
          "iopub.execute_input": "2022-11-11T16:29:43.263131Z",
          "iopub.status.busy": "2022-11-11T16:29:43.262720Z",
          "iopub.status.idle": "2022-11-11T16:29:43.740290Z",
          "shell.execute_reply": "2022-11-11T16:29:43.739071Z"
        },
        "papermill": {
          "duration": 0.500869,
          "end_time": "2022-11-11T16:29:43.742630",
          "exception": false,
          "start_time": "2022-11-11T16:29:43.241761",
          "status": "completed"
        },
        "tags": [],
        "colab": {
          "base_uri": "https://localhost:8080/"
        },
        "id": "b2c666b6",
        "outputId": "fb4f4ada-cc68-439c-a404-baa66c1eabbd"
      },
      "outputs": [
        {
          "output_type": "stream",
          "name": "stderr",
          "text": [
            "/usr/local/lib/python3.7/dist-packages/ipykernel_launcher.py:1: FutureWarning:\n",
            "\n",
            "Treating datetime data as categorical rather than numeric in `.describe` is deprecated and will be removed in a future version of pandas. Specify `datetime_is_numeric=True` to silence this warning and adopt the future behavior now.\n",
            "\n"
          ]
        },
        {
          "output_type": "execute_result",
          "data": {
            "text/plain": [
              "count                    9306\n",
              "unique                   1654\n",
              "top       2019-10-04 00:00:00\n",
              "freq                       12\n",
              "first     2018-01-01 00:00:00\n",
              "last      2022-07-31 00:00:00\n",
              "Name: FlightDate, dtype: object"
            ]
          },
          "metadata": {},
          "execution_count": 79
        }
      ],
      "source": [
        "df['FlightDate'].describe()"
      ]
    },
    {
      "cell_type": "code",
      "execution_count": 80,
      "id": "1a9cbd4c",
      "metadata": {
        "execution": {
          "iopub.execute_input": "2022-11-11T16:29:43.781941Z",
          "iopub.status.busy": "2022-11-11T16:29:43.781558Z",
          "iopub.status.idle": "2022-11-11T16:29:44.598916Z",
          "shell.execute_reply": "2022-11-11T16:29:44.597497Z"
        },
        "papermill": {
          "duration": 0.839836,
          "end_time": "2022-11-11T16:29:44.601265",
          "exception": false,
          "start_time": "2022-11-11T16:29:43.761429",
          "status": "completed"
        },
        "tags": [],
        "id": "1a9cbd4c"
      },
      "outputs": [],
      "source": [
        "df['Month'] = df['FlightDate'].dt.month  # Extract the months."
      ]
    },
    {
      "cell_type": "code",
      "execution_count": 81,
      "id": "7b93aef0",
      "metadata": {
        "execution": {
          "iopub.execute_input": "2022-11-11T16:29:44.641497Z",
          "iopub.status.busy": "2022-11-11T16:29:44.641107Z",
          "iopub.status.idle": "2022-11-11T16:29:48.707946Z",
          "shell.execute_reply": "2022-11-11T16:29:48.706762Z"
        },
        "papermill": {
          "duration": 4.089141,
          "end_time": "2022-11-11T16:29:48.710070",
          "exception": false,
          "start_time": "2022-11-11T16:29:44.620929",
          "status": "completed"
        },
        "tags": [],
        "colab": {
          "base_uri": "https://localhost:8080/",
          "height": 457
        },
        "id": "7b93aef0",
        "outputId": "35ecdc79-5c93-4b10-8a6a-95dfc42f1e44"
      },
      "outputs": [
        {
          "output_type": "execute_result",
          "data": {
            "text/plain": [
              "<pandas.io.formats.style.Styler at 0x7f41b3378910>"
            ],
            "text/html": [
              "<style type=\"text/css\">\n",
              "#T_b9c3b_row0_col0 {\n",
              "  background-color: #1c6bb0;\n",
              "  color: #f1f1f1;\n",
              "}\n",
              "#T_b9c3b_row0_col1 {\n",
              "  background-color: #a9cfe5;\n",
              "  color: #000000;\n",
              "}\n",
              "#T_b9c3b_row0_col2, #T_b9c3b_row0_col3, #T_b9c3b_row6_col4 {\n",
              "  background-color: #d4e4f4;\n",
              "  color: #000000;\n",
              "}\n",
              "#T_b9c3b_row0_col4 {\n",
              "  background-color: #d7e6f5;\n",
              "  color: #000000;\n",
              "}\n",
              "#T_b9c3b_row1_col0, #T_b9c3b_row1_col4 {\n",
              "  background-color: #c7dbef;\n",
              "  color: #000000;\n",
              "}\n",
              "#T_b9c3b_row1_col1 {\n",
              "  background-color: #084990;\n",
              "  color: #f1f1f1;\n",
              "}\n",
              "#T_b9c3b_row1_col2 {\n",
              "  background-color: #2575b7;\n",
              "  color: #f1f1f1;\n",
              "}\n",
              "#T_b9c3b_row1_col3 {\n",
              "  background-color: #92c4de;\n",
              "  color: #000000;\n",
              "}\n",
              "#T_b9c3b_row2_col0, #T_b9c3b_row11_col2 {\n",
              "  background-color: #8dc1dd;\n",
              "  color: #000000;\n",
              "}\n",
              "#T_b9c3b_row2_col1 {\n",
              "  background-color: #dce9f6;\n",
              "  color: #000000;\n",
              "}\n",
              "#T_b9c3b_row2_col2 {\n",
              "  background-color: #6dafd7;\n",
              "  color: #f1f1f1;\n",
              "}\n",
              "#T_b9c3b_row2_col3, #T_b9c3b_row3_col2 {\n",
              "  background-color: #95c5df;\n",
              "  color: #000000;\n",
              "}\n",
              "#T_b9c3b_row2_col4 {\n",
              "  background-color: #125da6;\n",
              "  color: #f1f1f1;\n",
              "}\n",
              "#T_b9c3b_row3_col0, #T_b9c3b_row3_col1 {\n",
              "  background-color: #bcd7eb;\n",
              "  color: #000000;\n",
              "}\n",
              "#T_b9c3b_row3_col3 {\n",
              "  background-color: #4b98ca;\n",
              "  color: #f1f1f1;\n",
              "}\n",
              "#T_b9c3b_row3_col4, #T_b9c3b_row5_col1, #T_b9c3b_row6_col2, #T_b9c3b_row7_col3, #T_b9c3b_row8_col0 {\n",
              "  background-color: #08306b;\n",
              "  color: #f1f1f1;\n",
              "}\n",
              "#T_b9c3b_row4_col0 {\n",
              "  background-color: #6aaed6;\n",
              "  color: #f1f1f1;\n",
              "}\n",
              "#T_b9c3b_row4_col1 {\n",
              "  background-color: #4191c6;\n",
              "  color: #f1f1f1;\n",
              "}\n",
              "#T_b9c3b_row4_col2 {\n",
              "  background-color: #a4cce3;\n",
              "  color: #000000;\n",
              "}\n",
              "#T_b9c3b_row4_col3 {\n",
              "  background-color: #6fb0d7;\n",
              "  color: #f1f1f1;\n",
              "}\n",
              "#T_b9c3b_row4_col4 {\n",
              "  background-color: #dceaf6;\n",
              "  color: #000000;\n",
              "}\n",
              "#T_b9c3b_row5_col0, #T_b9c3b_row8_col1, #T_b9c3b_row8_col2, #T_b9c3b_row8_col3, #T_b9c3b_row10_col1, #T_b9c3b_row10_col4 {\n",
              "  background-color: #f7fbff;\n",
              "  color: #000000;\n",
              "}\n",
              "#T_b9c3b_row5_col2 {\n",
              "  background-color: #0a539e;\n",
              "  color: #f1f1f1;\n",
              "}\n",
              "#T_b9c3b_row5_col3 {\n",
              "  background-color: #08326e;\n",
              "  color: #f1f1f1;\n",
              "}\n",
              "#T_b9c3b_row5_col4 {\n",
              "  background-color: #e4eff9;\n",
              "  color: #000000;\n",
              "}\n",
              "#T_b9c3b_row6_col0 {\n",
              "  background-color: #dae8f6;\n",
              "  color: #000000;\n",
              "}\n",
              "#T_b9c3b_row6_col1 {\n",
              "  background-color: #b7d4ea;\n",
              "  color: #000000;\n",
              "}\n",
              "#T_b9c3b_row6_col3 {\n",
              "  background-color: #083674;\n",
              "  color: #f1f1f1;\n",
              "}\n",
              "#T_b9c3b_row7_col0 {\n",
              "  background-color: #d8e7f5;\n",
              "  color: #000000;\n",
              "}\n",
              "#T_b9c3b_row7_col1 {\n",
              "  background-color: #c4daee;\n",
              "  color: #000000;\n",
              "}\n",
              "#T_b9c3b_row7_col2 {\n",
              "  background-color: #1d6cb1;\n",
              "  color: #f1f1f1;\n",
              "}\n",
              "#T_b9c3b_row7_col4 {\n",
              "  background-color: #79b5d9;\n",
              "  color: #000000;\n",
              "}\n",
              "#T_b9c3b_row8_col4 {\n",
              "  background-color: #cde0f1;\n",
              "  color: #000000;\n",
              "}\n",
              "#T_b9c3b_row9_col0 {\n",
              "  background-color: #68acd5;\n",
              "  color: #f1f1f1;\n",
              "}\n",
              "#T_b9c3b_row9_col1 {\n",
              "  background-color: #3080bd;\n",
              "  color: #f1f1f1;\n",
              "}\n",
              "#T_b9c3b_row9_col2 {\n",
              "  background-color: #4f9bcb;\n",
              "  color: #f1f1f1;\n",
              "}\n",
              "#T_b9c3b_row9_col3 {\n",
              "  background-color: #cee0f2;\n",
              "  color: #000000;\n",
              "}\n",
              "#T_b9c3b_row9_col4 {\n",
              "  background-color: #eef5fc;\n",
              "  color: #000000;\n",
              "}\n",
              "#T_b9c3b_row10_col0 {\n",
              "  background-color: #3282be;\n",
              "  color: #f1f1f1;\n",
              "}\n",
              "#T_b9c3b_row10_col2 {\n",
              "  background-color: #1e6db2;\n",
              "  color: #f1f1f1;\n",
              "}\n",
              "#T_b9c3b_row10_col3 {\n",
              "  background-color: #d6e5f4;\n",
              "  color: #000000;\n",
              "}\n",
              "#T_b9c3b_row11_col0 {\n",
              "  background-color: #85bcdc;\n",
              "  color: #000000;\n",
              "}\n",
              "#T_b9c3b_row11_col1 {\n",
              "  background-color: #56a0ce;\n",
              "  color: #f1f1f1;\n",
              "}\n",
              "#T_b9c3b_row11_col3 {\n",
              "  background-color: #2e7ebc;\n",
              "  color: #f1f1f1;\n",
              "}\n",
              "#T_b9c3b_row11_col4 {\n",
              "  background-color: #e6f0f9;\n",
              "  color: #000000;\n",
              "}\n",
              "</style>\n",
              "<table id=\"T_b9c3b_\" class=\"dataframe\">\n",
              "  <thead>\n",
              "    <tr>\n",
              "      <th class=\"index_name level0\" >DelayGroup</th>\n",
              "      <th class=\"col_heading level0 col0\" >OnTime_Early</th>\n",
              "      <th class=\"col_heading level0 col1\" >Small_Delay</th>\n",
              "      <th class=\"col_heading level0 col2\" >Medium_Delay</th>\n",
              "      <th class=\"col_heading level0 col3\" >Large_Delay</th>\n",
              "      <th class=\"col_heading level0 col4\" >Cancelled</th>\n",
              "    </tr>\n",
              "    <tr>\n",
              "      <th class=\"index_name level0\" >Month</th>\n",
              "      <th class=\"blank col0\" >&nbsp;</th>\n",
              "      <th class=\"blank col1\" >&nbsp;</th>\n",
              "      <th class=\"blank col2\" >&nbsp;</th>\n",
              "      <th class=\"blank col3\" >&nbsp;</th>\n",
              "      <th class=\"blank col4\" >&nbsp;</th>\n",
              "    </tr>\n",
              "  </thead>\n",
              "  <tbody>\n",
              "    <tr>\n",
              "      <th id=\"T_b9c3b_level0_row0\" class=\"row_heading level0 row0\" >1</th>\n",
              "      <td id=\"T_b9c3b_row0_col0\" class=\"data row0 col0\" >70.431894</td>\n",
              "      <td id=\"T_b9c3b_row0_col1\" class=\"data row0 col1\" >16.832780</td>\n",
              "      <td id=\"T_b9c3b_row0_col2\" class=\"data row0 col2\" >6.201550</td>\n",
              "      <td id=\"T_b9c3b_row0_col3\" class=\"data row0 col3\" >5.094131</td>\n",
              "      <td id=\"T_b9c3b_row0_col4\" class=\"data row0 col4\" >1.439646</td>\n",
              "    </tr>\n",
              "    <tr>\n",
              "      <th id=\"T_b9c3b_level0_row1\" class=\"row_heading level0 row1\" >2</th>\n",
              "      <td id=\"T_b9c3b_row1_col0\" class=\"data row1 col0\" >60.170524</td>\n",
              "      <td id=\"T_b9c3b_row1_col1\" class=\"data row1 col1\" >20.341048</td>\n",
              "      <td id=\"T_b9c3b_row1_col2\" class=\"data row1 col2\" >10.840438</td>\n",
              "      <td id=\"T_b9c3b_row1_col3\" class=\"data row1 col3\" >6.699147</td>\n",
              "      <td id=\"T_b9c3b_row1_col4\" class=\"data row1 col4\" >1.948843</td>\n",
              "    </tr>\n",
              "    <tr>\n",
              "      <th id=\"T_b9c3b_level0_row2\" class=\"row_heading level0 row2\" >3</th>\n",
              "      <td id=\"T_b9c3b_row2_col0\" class=\"data row2 col0\" >63.453815</td>\n",
              "      <td id=\"T_b9c3b_row2_col1\" class=\"data row2 col1\" >15.562249</td>\n",
              "      <td id=\"T_b9c3b_row2_col2\" class=\"data row2 col2\" >8.835341</td>\n",
              "      <td id=\"T_b9c3b_row2_col3\" class=\"data row2 col3\" >6.626506</td>\n",
              "      <td id=\"T_b9c3b_row2_col4\" class=\"data row2 col4\" >5.522088</td>\n",
              "    </tr>\n",
              "    <tr>\n",
              "      <th id=\"T_b9c3b_level0_row3\" class=\"row_heading level0 row3\" >4</th>\n",
              "      <td id=\"T_b9c3b_row3_col0\" class=\"data row3 col0\" >60.869565</td>\n",
              "      <td id=\"T_b9c3b_row3_col1\" class=\"data row3 col1\" >16.469038</td>\n",
              "      <td id=\"T_b9c3b_row3_col2\" class=\"data row3 col2\" >8.036891</td>\n",
              "      <td id=\"T_b9c3b_row3_col3\" class=\"data row3 col3\" >8.036891</td>\n",
              "      <td id=\"T_b9c3b_row3_col4\" class=\"data row3 col4\" >6.587615</td>\n",
              "    </tr>\n",
              "    <tr>\n",
              "      <th id=\"T_b9c3b_level0_row4\" class=\"row_heading level0 row4\" >5</th>\n",
              "      <td id=\"T_b9c3b_row4_col0\" class=\"data row4 col0\" >65.126050</td>\n",
              "      <td id=\"T_b9c3b_row4_col1\" class=\"data row4 col1\" >18.627451</td>\n",
              "      <td id=\"T_b9c3b_row4_col2\" class=\"data row4 col2\" >7.703081</td>\n",
              "      <td id=\"T_b9c3b_row4_col3\" class=\"data row4 col3\" >7.282913</td>\n",
              "      <td id=\"T_b9c3b_row4_col4\" class=\"data row4 col4\" >1.260504</td>\n",
              "    </tr>\n",
              "    <tr>\n",
              "      <th id=\"T_b9c3b_level0_row5\" class=\"row_heading level0 row5\" >6</th>\n",
              "      <td id=\"T_b9c3b_row5_col0\" class=\"data row5 col0\" >55.269923</td>\n",
              "      <td id=\"T_b9c3b_row5_col1\" class=\"data row5 col1\" >20.951157</td>\n",
              "      <td id=\"T_b9c3b_row5_col2\" class=\"data row5 col2\" >11.953728</td>\n",
              "      <td id=\"T_b9c3b_row5_col3\" class=\"data row5 col3\" >10.796915</td>\n",
              "      <td id=\"T_b9c3b_row5_col4\" class=\"data row5 col4\" >1.028278</td>\n",
              "    </tr>\n",
              "    <tr>\n",
              "      <th id=\"T_b9c3b_level0_row6\" class=\"row_heading level0 row6\" >7</th>\n",
              "      <td id=\"T_b9c3b_row6_col0\" class=\"data row6 col0\" >58.169935</td>\n",
              "      <td id=\"T_b9c3b_row6_col1\" class=\"data row6 col1\" >16.557734</td>\n",
              "      <td id=\"T_b9c3b_row6_col2\" class=\"data row6 col2\" >13.071895</td>\n",
              "      <td id=\"T_b9c3b_row6_col3\" class=\"data row6 col3\" >10.675381</td>\n",
              "      <td id=\"T_b9c3b_row6_col4\" class=\"data row6 col4\" >1.525054</td>\n",
              "    </tr>\n",
              "    <tr>\n",
              "      <th id=\"T_b9c3b_level0_row7\" class=\"row_heading level0 row7\" >8</th>\n",
              "      <td id=\"T_b9c3b_row7_col0\" class=\"data row7 col0\" >58.410596</td>\n",
              "      <td id=\"T_b9c3b_row7_col1\" class=\"data row7 col1\" >16.291391</td>\n",
              "      <td id=\"T_b9c3b_row7_col2\" class=\"data row7 col2\" >11.125828</td>\n",
              "      <td id=\"T_b9c3b_row7_col3\" class=\"data row7 col3\" >10.860927</td>\n",
              "      <td id=\"T_b9c3b_row7_col4\" class=\"data row7 col4\" >3.311258</td>\n",
              "    </tr>\n",
              "    <tr>\n",
              "      <th id=\"T_b9c3b_level0_row8\" class=\"row_heading level0 row8\" >9</th>\n",
              "      <td id=\"T_b9c3b_row8_col0\" class=\"data row8 col0\" >74.956217</td>\n",
              "      <td id=\"T_b9c3b_row8_col1\" class=\"data row8 col1\" >14.711033</td>\n",
              "      <td id=\"T_b9c3b_row8_col2\" class=\"data row8 col2\" >4.728546</td>\n",
              "      <td id=\"T_b9c3b_row8_col3\" class=\"data row8 col3\" >3.852890</td>\n",
              "      <td id=\"T_b9c3b_row8_col4\" class=\"data row8 col4\" >1.751313</td>\n",
              "    </tr>\n",
              "    <tr>\n",
              "      <th id=\"T_b9c3b_level0_row9\" class=\"row_heading level0 row9\" >10</th>\n",
              "      <td id=\"T_b9c3b_row9_col0\" class=\"data row9 col0\" >65.339233</td>\n",
              "      <td id=\"T_b9c3b_row9_col1\" class=\"data row9 col1\" >19.026549</td>\n",
              "      <td id=\"T_b9c3b_row9_col2\" class=\"data row9 col2\" >9.587021</td>\n",
              "      <td id=\"T_b9c3b_row9_col3\" class=\"data row9 col3\" >5.309735</td>\n",
              "      <td id=\"T_b9c3b_row9_col4\" class=\"data row9 col4\" >0.737463</td>\n",
              "    </tr>\n",
              "    <tr>\n",
              "      <th id=\"T_b9c3b_level0_row10\" class=\"row_heading level0 row10\" >11</th>\n",
              "      <td id=\"T_b9c3b_row10_col0\" class=\"data row10 col0\" >68.731988</td>\n",
              "      <td id=\"T_b9c3b_row10_col1\" class=\"data row10 col1\" >14.697406</td>\n",
              "      <td id=\"T_b9c3b_row10_col2\" class=\"data row10 col2\" >11.095101</td>\n",
              "      <td id=\"T_b9c3b_row10_col3\" class=\"data row10 col3\" >5.043228</td>\n",
              "      <td id=\"T_b9c3b_row10_col4\" class=\"data row10 col4\" >0.432277</td>\n",
              "    </tr>\n",
              "    <tr>\n",
              "      <th id=\"T_b9c3b_level0_row11\" class=\"row_heading level0 row11\" >12</th>\n",
              "      <td id=\"T_b9c3b_row11_col0\" class=\"data row11 col0\" >63.838665</td>\n",
              "      <td id=\"T_b9c3b_row11_col1\" class=\"data row11 col1\" >18.219750</td>\n",
              "      <td id=\"T_b9c3b_row11_col2\" class=\"data row11 col2\" >8.205841</td>\n",
              "      <td id=\"T_b9c3b_row11_col3\" class=\"data row11 col3\" >8.762170</td>\n",
              "      <td id=\"T_b9c3b_row11_col4\" class=\"data row11 col4\" >0.973574</td>\n",
              "    </tr>\n",
              "  </tbody>\n",
              "</table>\n"
            ]
          },
          "metadata": {},
          "execution_count": 81
        }
      ],
      "source": [
        "df_agg = df.groupby('Month')['DelayGroup'].value_counts(normalize=True).unstack() * 100 # Grouping by month and unstacking the delay group\n",
        "col_order = ['OnTime_Early','Small_Delay','Medium_Delay','Large_Delay','Cancelled'] # resorting the columns.\n",
        "df_agg[col_order].style.background_gradient(cmap='Blues')"
      ]
    },
    {
      "cell_type": "markdown",
      "id": "f9019866",
      "metadata": {
        "papermill": {
          "duration": 0.018263,
          "end_time": "2022-11-11T16:29:48.747338",
          "exception": false,
          "start_time": "2022-11-11T16:29:48.729075",
          "status": "completed"
        },
        "tags": [],
        "id": "f9019866"
      },
      "source": [
        "### 8. Calender delay map"
      ]
    },
    {
      "cell_type": "code",
      "execution_count": 82,
      "id": "574bb284",
      "metadata": {
        "execution": {
          "iopub.execute_input": "2022-11-11T16:29:48.785985Z",
          "iopub.status.busy": "2022-11-11T16:29:48.785665Z",
          "iopub.status.idle": "2022-11-11T16:29:49.500753Z",
          "shell.execute_reply": "2022-11-11T16:29:49.499669Z"
        },
        "papermill": {
          "duration": 0.737013,
          "end_time": "2022-11-11T16:29:49.502762",
          "exception": false,
          "start_time": "2022-11-11T16:29:48.765749",
          "status": "completed"
        },
        "tags": [],
        "colab": {
          "base_uri": "https://localhost:8080/",
          "height": 209
        },
        "id": "574bb284",
        "outputId": "4dbab5dc-a742-4b61-afcf-d5c00bc4cc76"
      },
      "outputs": [
        {
          "output_type": "execute_result",
          "data": {
            "text/plain": [
              "<matplotlib.axes._subplots.AxesSubplot at 0x7f41b3326c90>"
            ]
          },
          "metadata": {},
          "execution_count": 82
        },
        {
          "output_type": "display_data",
          "data": {
            "text/plain": [
              "<Figure size 1440x720 with 1 Axes>"
            ],
            "image/png": "[encoded data removed]"
          },
          "metadata": {
            "needs_background": "light"
          }
        }
      ],
      "source": [
        "events = df.groupby('FlightDate')['Cancelled'].mean()\n",
        "fig, ax = plt.subplots(figsize=(20,10))\n",
        "calmap.yearplot(events, year=2019, monthly_border=True)"
      ]
    },
    {
      "cell_type": "code",
      "execution_count": 83,
      "id": "72bee47c",
      "metadata": {
        "execution": {
          "iopub.execute_input": "2022-11-11T16:29:49.543354Z",
          "iopub.status.busy": "2022-11-11T16:29:49.542749Z",
          "iopub.status.idle": "2022-11-11T16:29:49.548475Z",
          "shell.execute_reply": "2022-11-11T16:29:49.547836Z"
        },
        "papermill": {
          "duration": 0.028124,
          "end_time": "2022-11-11T16:29:49.550278",
          "exception": false,
          "start_time": "2022-11-11T16:29:49.522154",
          "status": "completed"
        },
        "tags": [],
        "colab": {
          "base_uri": "https://localhost:8080/",
          "height": 53
        },
        "id": "72bee47c",
        "outputId": "3ae7bf33-6419-4058-97ed-b5be5abe8927"
      },
      "outputs": [
        {
          "output_type": "execute_result",
          "data": {
            "text/plain": [
              "\"\\nevents = df.groupby('FlightDate')['Cancelled'].mean()\\nfig, ax = plt.subplots(figsize=(20,10))\\ncalmap.yearplot(events, year=2019, monthly_border=True)\\ncalmap.yearplot(events.apply(np.log), year=2019, monthly_border=True)\\n# Applying log scaling.\\n\""
            ],
            "application/vnd.google.colaboratory.intrinsic+json": {
              "type": "string"
            }
          },
          "metadata": {},
          "execution_count": 83
        }
      ],
      "source": [
        "'''\n",
        "events = df.groupby('FlightDate')['Cancelled'].mean()\n",
        "fig, ax = plt.subplots(figsize=(20,10))\n",
        "calmap.yearplot(events, year=2019, monthly_border=True)\n",
        "calmap.yearplot(events.apply(np.log), year=2019, monthly_border=True)\n",
        "# Applying log scaling.\n",
        "'''"
      ]
    },
    {
      "cell_type": "code",
      "execution_count": 84,
      "id": "a86f255c",
      "metadata": {
        "execution": {
          "iopub.execute_input": "2022-11-11T16:29:49.592011Z",
          "iopub.status.busy": "2022-11-11T16:29:49.591107Z",
          "iopub.status.idle": "2022-11-11T16:29:50.293737Z",
          "shell.execute_reply": "2022-11-11T16:29:50.293038Z"
        },
        "papermill": {
          "duration": 0.726362,
          "end_time": "2022-11-11T16:29:50.295531",
          "exception": false,
          "start_time": "2022-11-11T16:29:49.569169",
          "status": "completed"
        },
        "tags": [],
        "colab": {
          "base_uri": "https://localhost:8080/",
          "height": 1000
        },
        "id": "a86f255c",
        "outputId": "a2fd4929-ec24-4c95-bf67-02a1e1c68151"
      },
      "outputs": [
        {
          "output_type": "execute_result",
          "data": {
            "text/plain": [
              "Text(0.4, 0.9, 'US Flight Cancellations')"
            ]
          },
          "metadata": {},
          "execution_count": 84
        },
        {
          "output_type": "stream",
          "name": "stderr",
          "text": [
            "/usr/local/lib/python3.7/dist-packages/matplotlib/colors.py:1025: RuntimeWarning:\n",
            "\n",
            "invalid value encountered in subtract\n",
            "\n",
            "/usr/local/lib/python3.7/dist-packages/matplotlib/colors.py:1026: RuntimeWarning:\n",
            "\n",
            "invalid value encountered in true_divide\n",
            "\n"
          ]
        },
        {
          "output_type": "display_data",
          "data": {
            "text/plain": [
              "<Figure size 1728x1152 with 5 Axes>"
            ],
            "image/png": "[encoded data removed]"
          },
          "metadata": {
            "needs_background": "light"
          }
        }
      ],
      "source": [
        "fig, axs = plt.subplots(5, 1, figsize=(24,16))  # 5 rowa 1 column\n",
        "for i, year in enumerate([2018, 2019, 2020, 2021, 2022]): # -- for the full set  in case loaded. \n",
        "    calmap.yearplot(events.apply(np.log), year=year, monthly_border=True, ax=axs[i])\n",
        "    axs[i].set_title(year)\n",
        "fig.suptitle('US Flight Cancellations', x= 0.4, y=0.9, fontsize=20)"
      ]
    },
    {
      "cell_type": "code",
      "execution_count": 85,
      "id": "89525632",
      "metadata": {
        "execution": {
          "iopub.execute_input": "2022-11-11T16:29:50.338111Z",
          "iopub.status.busy": "2022-11-11T16:29:50.337245Z",
          "iopub.status.idle": "2022-11-11T16:29:52.199694Z",
          "shell.execute_reply": "2022-11-11T16:29:52.198422Z"
        },
        "papermill": {
          "duration": 1.886503,
          "end_time": "2022-11-11T16:29:52.202268",
          "exception": false,
          "start_time": "2022-11-11T16:29:50.315765",
          "status": "completed"
        },
        "tags": [],
        "colab": {
          "base_uri": "https://localhost:8080/",
          "height": 200
        },
        "id": "89525632",
        "outputId": "e805636d-f100-45f5-cbc7-6666340ab9c0"
      },
      "outputs": [
        {
          "output_type": "error",
          "ename": "TypeError",
          "evalue": "ignored",
          "traceback": [
            "\u001b[0;31m---------------------------------------------------------------------------\u001b[0m",
            "\u001b[0;31mTypeError\u001b[0m                                 Traceback (most recent call last)",
            "\u001b[0;32m<ipython-input-85-8ac992ee347a>\u001b[0m in \u001b[0;36m<module>\u001b[0;34m\u001b[0m\n\u001b[1;32m      1\u001b[0m \u001b[0;31m# Plotly style plot\u001b[0m\u001b[0;34m\u001b[0m\u001b[0;34m\u001b[0m\u001b[0;34m\u001b[0m\u001b[0m\n\u001b[0;32m----> 2\u001b[0;31m \u001b[0mfig\u001b[0m \u001b[0;34m=\u001b[0m \u001b[0mcalplot\u001b[0m\u001b[0;34m(\u001b[0m\u001b[0mevents\u001b[0m\u001b[0;34m.\u001b[0m\u001b[0mreset_index\u001b[0m\u001b[0;34m(\u001b[0m\u001b[0;34m)\u001b[0m\u001b[0;34m,\u001b[0m \u001b[0mx\u001b[0m\u001b[0;34m=\u001b[0m\u001b[0;34m'FlightDate'\u001b[0m\u001b[0;34m,\u001b[0m \u001b[0mdark_theme\u001b[0m\u001b[0;34m=\u001b[0m\u001b[0;32mTrue\u001b[0m\u001b[0;34m,\u001b[0m \u001b[0my\u001b[0m\u001b[0;34m=\u001b[0m\u001b[0;34m'Cancelled'\u001b[0m\u001b[0;34m,\u001b[0m \u001b[0mfiltwidth\u001b[0m\u001b[0;34m=\u001b[0m\u001b[0;36m1000\u001b[0m\u001b[0;34m,\u001b[0m \u001b[0mtitle\u001b[0m\u001b[0;34m=\u001b[0m\u001b[0;34m'US Flight Cancellations'\u001b[0m\u001b[0;34m)\u001b[0m\u001b[0;34m\u001b[0m\u001b[0;34m\u001b[0m\u001b[0m\n\u001b[0m\u001b[1;32m      3\u001b[0m \u001b[0mfig\u001b[0m\u001b[0;34m.\u001b[0m\u001b[0mshow\u001b[0m\u001b[0;34m(\u001b[0m\u001b[0;34m)\u001b[0m\u001b[0;34m\u001b[0m\u001b[0;34m\u001b[0m\u001b[0m\n",
            "\u001b[0;31mTypeError\u001b[0m: calplot() got an unexpected keyword argument 'filtwidth'"
          ]
        }
      ],
      "source": [
        "# Plotly style plot\n",
        "fig = calplot(events.reset_index(), x='FlightDate', dark_theme=True, y='Cancelled', filtwidth=1000, title='US Flight Cancellations')\n",
        "fig.show()"
      ]
    },
    {
      "cell_type": "markdown",
      "id": "47f9bb3d",
      "metadata": {
        "papermill": {
          "duration": 0.021626,
          "end_time": "2022-11-11T16:29:52.246171",
          "exception": false,
          "start_time": "2022-11-11T16:29:52.224545",
          "status": "completed"
        },
        "tags": [],
        "id": "47f9bb3d"
      },
      "source": [
        "### 9. Delay group per Airline"
      ]
    },
    {
      "cell_type": "code",
      "source": [
        "testdf = df[(df['Flight_Number_Marketing_Airline'] == 561')]"
      ],
      "metadata": {
        "colab": {
          "base_uri": "https://localhost:8080/",
          "height": 130
        },
        "id": "Qssm3z3BpFMk",
        "outputId": "0b5cd800-cce8-4b6a-8699-3ad99943b833"
      },
      "id": "Qssm3z3BpFMk",
      "execution_count": 53,
      "outputs": [
        {
          "output_type": "error",
          "ename": "SyntaxError",
          "evalue": "ignored",
          "traceback": [
            "\u001b[0;36m  File \u001b[0;32m\"<ipython-input-53-ca0cc4dd876d>\"\u001b[0;36m, line \u001b[0;32m1\u001b[0m\n\u001b[0;31m    testdf = df[(df['Flight_Number_Marketing_Airline'] == 561')]\u001b[0m\n\u001b[0m                                                                ^\u001b[0m\n\u001b[0;31mSyntaxError\u001b[0m\u001b[0;31m:\u001b[0m EOL while scanning string literal\n"
          ]
        }
      ]
    },
    {
      "cell_type": "code",
      "execution_count": 86,
      "id": "4e9503df",
      "metadata": {
        "execution": {
          "iopub.execute_input": "2022-11-11T16:29:52.291262Z",
          "iopub.status.busy": "2022-11-11T16:29:52.290887Z",
          "iopub.status.idle": "2022-11-11T16:30:07.994066Z",
          "shell.execute_reply": "2022-11-11T16:30:07.992999Z"
        },
        "papermill": {
          "duration": 15.728994,
          "end_time": "2022-11-11T16:30:07.996917",
          "exception": false,
          "start_time": "2022-11-11T16:29:52.267923",
          "status": "completed"
        },
        "tags": [],
        "colab": {
          "base_uri": "https://localhost:8080/",
          "height": 714
        },
        "id": "4e9503df",
        "outputId": "a33b030b-c6ed-4b9b-bb32-d8f97e95b7dd"
      },
      "outputs": [
        {
          "output_type": "display_data",
          "data": {
            "text/plain": [
              "<Figure size 1440x864 with 1 Axes>"
            ],
            "image/png": "[encoded data removed]"
          },
          "metadata": {
            "needs_background": "light"
          }
        }
      ],
      "source": [
        "# Delay categories per Airline.\n",
        "plt.figure(figsize=(20,12))\n",
        "airline_order = df['Airline'].value_counts().index.tolist()\n",
        "sns.countplot(data=df, y='Airline', order=airline_order, hue='DelayGroup', dodge=False)\n",
        "plt.show()"
      ]
    },
    {
      "cell_type": "markdown",
      "id": "dae0b6d8",
      "metadata": {
        "papermill": {
          "duration": 0.022473,
          "end_time": "2022-11-11T16:30:08.042750",
          "exception": false,
          "start_time": "2022-11-11T16:30:08.020277",
          "status": "completed"
        },
        "tags": [],
        "id": "dae0b6d8"
      },
      "source": [
        "### 10. Top 10 worst performers (Lemons) 🍋"
      ]
    },
    {
      "cell_type": "code",
      "execution_count": 87,
      "id": "42d287f5",
      "metadata": {
        "execution": {
          "iopub.execute_input": "2022-11-11T16:30:08.092168Z",
          "iopub.status.busy": "2022-11-11T16:30:08.090842Z",
          "iopub.status.idle": "2022-11-11T16:30:09.485272Z",
          "shell.execute_reply": "2022-11-11T16:30:09.484100Z"
        },
        "papermill": {
          "duration": 1.421884,
          "end_time": "2022-11-11T16:30:09.487571",
          "exception": false,
          "start_time": "2022-11-11T16:30:08.065687",
          "status": "completed"
        },
        "tags": [],
        "colab": {
          "base_uri": "https://localhost:8080/"
        },
        "id": "42d287f5",
        "outputId": "6962a78d-4cbc-4caa-808c-13c20f298af6"
      },
      "outputs": [
        {
          "output_type": "execute_result",
          "data": {
            "text/plain": [
              "2029"
            ]
          },
          "metadata": {},
          "execution_count": 87
        }
      ],
      "source": [
        "df['Tail_Number'].nunique()"
      ]
    },
    {
      "cell_type": "code",
      "execution_count": 88,
      "id": "9f7e5eec",
      "metadata": {
        "execution": {
          "iopub.execute_input": "2022-11-11T16:30:09.536749Z",
          "iopub.status.busy": "2022-11-11T16:30:09.536365Z",
          "iopub.status.idle": "2022-11-11T16:30:15.400118Z",
          "shell.execute_reply": "2022-11-11T16:30:15.399142Z"
        },
        "papermill": {
          "duration": 5.892017,
          "end_time": "2022-11-11T16:30:15.402806",
          "exception": false,
          "start_time": "2022-11-11T16:30:09.510789",
          "status": "completed"
        },
        "tags": [],
        "colab": {
          "base_uri": "https://localhost:8080/"
        },
        "id": "9f7e5eec",
        "outputId": "6073e9f6-936c-4cdf-a1c0-a56de67daa35"
      },
      "outputs": [
        {
          "output_type": "execute_result",
          "data": {
            "text/plain": [
              "561    0\n",
              "Name: Flight_Number_Marketing_Airline, dtype: int64"
            ]
          },
          "metadata": {},
          "execution_count": 88
        }
      ],
      "source": [
        "df[df['Flight_Number_Marketing_Airline'] == '561']['Flight_Number_Marketing_Airline'].value_counts().head(100)"
      ]
    },
    {
      "cell_type": "markdown",
      "id": "da0f781c",
      "metadata": {
        "papermill": {
          "duration": 0.022632,
          "end_time": "2022-11-11T16:30:15.449406",
          "exception": false,
          "start_time": "2022-11-11T16:30:15.426774",
          "status": "completed"
        },
        "tags": [],
        "id": "da0f781c"
      },
      "source": [
        "## Next is to map the Tail_Number/Registration to Aircraft type & \n",
        "check for performnace per number of flights/ratio."
      ]
    },
    {
      "cell_type": "markdown",
      "id": "0113e013",
      "metadata": {
        "papermill": {
          "duration": 0.022442,
          "end_time": "2022-11-11T16:30:15.494866",
          "exception": false,
          "start_time": "2022-11-11T16:30:15.472424",
          "status": "completed"
        },
        "tags": [],
        "id": "0113e013"
      },
      "source": [
        "Thanks to Rob Mulla and his great videos."
      ]
    },
    {
      "cell_type": "code",
      "execution_count": null,
      "id": "c6897dd8",
      "metadata": {
        "papermill": {
          "duration": 0.022615,
          "end_time": "2022-11-11T16:30:15.540197",
          "exception": false,
          "start_time": "2022-11-11T16:30:15.517582",
          "status": "completed"
        },
        "tags": [],
        "id": "c6897dd8"
      },
      "outputs": [],
      "source": []
    }
  ],
  "metadata": {
    "kernelspec": {
      "display_name": "Python 3",
      "language": "python",
      "name": "python3"
    },
    "language_info": {
      "codemirror_mode": {
        "name": "ipython",
        "version": 3
      },
      "file_extension": ".py",
      "mimetype": "text/x-python",
      "name": "python",
      "nbconvert_exporter": "python",
      "pygments_lexer": "ipython3",
      "version": "3.7.12"
    },
    "papermill": {
      "default_parameters": {},
      "duration": 176.084331,
      "end_time": "2022-11-11T16:30:17.995203",
      "environment_variables": {},
      "exception": null,
      "input_path": "__notebook__.ipynb",
      "output_path": "__notebook__.ipynb",
      "parameters": {},
      "start_time": "2022-11-11T16:27:21.910872",
      "version": "2.3.4"
    },
    "colab": {
      "provenance": [],
      "include_colab_link": true
    },
    "accelerator": "GPU",
    "gpuClass": "standard"
  },
  "nbformat": 4,
  "nbformat_minor": 5
}