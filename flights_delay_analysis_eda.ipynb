{
  "cells": [
    {
      "cell_type": "markdown",
      "metadata": {
        "id": "view-in-github",
        "colab_type": "text"
      },
      "source": [
        "<a href=\"https://colab.research.google.com/github/fblissjr/streamlit-demos/blob/main/flights_delay_analysis_eda.ipynb\" target=\"_parent\"><img src=\"https://colab.research.google.com/assets/colab-badge.svg\" alt=\"Open In Colab\"/></a>"
      ]
    },
    {
      "cell_type": "markdown",
      "id": "a006ff59",
      "metadata": {
        "_cell_guid": "b1076dfc-b9ad-4769-8c92-a6c4dae69d19",
        "_uuid": "8f2839f25d086af736a60e9eeb907d3b93b6e0e5",
        "papermill": {
          "duration": 0.016049,
          "end_time": "2022-11-11T16:27:28.801923",
          "exception": false,
          "start_time": "2022-11-11T16:27:28.785874",
          "status": "completed"
        },
        "tags": [],
        "id": "a006ff59"
      },
      "source": [
        "**Exploratory Data Analysis based on the YouTube stream**\n",
        "by Medallion Data Science, by Rob Mulla https://www.kaggle.com/robikscube\n",
        "\n",
        "[https://www.youtube.com/watch?v=xs_L6z9QNYY](http://)\n",
        "\n",
        "https://www.transtats.bts.gov/DL_SelectFields.aspx?gnoyr_VQ=FGK&QO_fu146_anzr=b0-gvzr\n",
        "\n",
        "LIVE CODING: Flight Data Exploration with Pandas & Python\n",
        "\n",
        "This one is very interesting exersize and is related to my line of work.\n",
        "\n",
        "The datasets are very large in the csv format and RAM intensive. Not sure if can be be handled in parquet format."
      ]
    },
    {
      "cell_type": "markdown",
      "id": "20a6a3e3",
      "metadata": {
        "papermill": {
          "duration": 0.016011,
          "end_time": "2022-11-11T16:27:28.832757",
          "exception": false,
          "start_time": "2022-11-11T16:27:28.816746",
          "status": "completed"
        },
        "tags": [],
        "id": "20a6a3e3"
      },
      "source": [
        "![week-3-airline-delays-880-by-440.png](attachment:a31cac82-893f-49ba-86b0-69bb47c8cb54.png)"
      ]
    },
    {
      "cell_type": "markdown",
      "id": "e7307048",
      "metadata": {
        "papermill": {
          "duration": 0.014829,
          "end_time": "2022-11-11T16:27:28.862813",
          "exception": false,
          "start_time": "2022-11-11T16:27:28.847984",
          "status": "completed"
        },
        "tags": [],
        "id": "e7307048"
      },
      "source": [
        "### 1. Install packages\n",
        "\n",
        "pip install package Calmap for plotting of calender plot."
      ]
    },
    {
      "cell_type": "code",
      "execution_count": 1,
      "id": "b3ec0146",
      "metadata": {
        "execution": {
          "iopub.execute_input": "2022-11-11T16:27:28.895286Z",
          "iopub.status.busy": "2022-11-11T16:27:28.894668Z",
          "iopub.status.idle": "2022-11-11T16:27:39.040214Z",
          "shell.execute_reply": "2022-11-11T16:27:39.039161Z"
        },
        "papermill": {
          "duration": 10.164298,
          "end_time": "2022-11-11T16:27:39.042606",
          "exception": false,
          "start_time": "2022-11-11T16:27:28.878308",
          "status": "completed"
        },
        "tags": [],
        "id": "b3ec0146"
      },
      "outputs": [],
      "source": [
        "!pip install calmap --upgrade --quiet #> /dev/null# if not installed."
      ]
    },
    {
      "cell_type": "code",
      "source": [
        "!pip install -q kaggle"
      ],
      "metadata": {
        "colab": {
          "base_uri": "https://localhost:8080/"
        },
        "id": "ZpEjM1W1iA7D",
        "outputId": "86dc1480-9d8e-45fe-fc13-1af273cb00c5"
      },
      "id": "ZpEjM1W1iA7D",
      "execution_count": 2,
      "outputs": [
        {
          "output_type": "stream",
          "name": "stdout",
          "text": [
            "Looking in indexes: https://pypi.org/simple, https://us-python.pkg.dev/colab-wheels/public/simple/\n",
            "Requirement already satisfied: kaggle in /usr/local/lib/python3.7/dist-packages (1.5.12)\n",
            "Requirement already satisfied: certifi in /usr/local/lib/python3.7/dist-packages (from kaggle) (2022.9.24)\n",
            "Requirement already satisfied: python-dateutil in /usr/local/lib/python3.7/dist-packages (from kaggle) (2.8.2)\n",
            "Requirement already satisfied: requests in /usr/local/lib/python3.7/dist-packages (from kaggle) (2.23.0)\n",
            "Requirement already satisfied: python-slugify in /usr/local/lib/python3.7/dist-packages (from kaggle) (6.1.2)\n",
            "Requirement already satisfied: urllib3 in /usr/local/lib/python3.7/dist-packages (from kaggle) (1.24.3)\n",
            "Requirement already satisfied: tqdm in /usr/local/lib/python3.7/dist-packages (from kaggle) (4.64.1)\n",
            "Requirement already satisfied: six>=1.10 in /usr/local/lib/python3.7/dist-packages (from kaggle) (1.15.0)\n",
            "Requirement already satisfied: text-unidecode>=1.3 in /usr/local/lib/python3.7/dist-packages (from python-slugify->kaggle) (1.3)\n",
            "Requirement already satisfied: chardet<4,>=3.0.2 in /usr/local/lib/python3.7/dist-packages (from requests->kaggle) (3.0.4)\n",
            "Requirement already satisfied: idna<3,>=2.5 in /usr/local/lib/python3.7/dist-packages (from requests->kaggle) (2.10)\n"
          ]
        }
      ]
    },
    {
      "cell_type": "code",
      "source": [
        "from google.colab import files\n",
        "files.upload()         # expire any previous token(s) and upload recreated token"
      ],
      "metadata": {
        "colab": {
          "base_uri": "https://localhost:8080/",
          "height": 90
        },
        "id": "gV01UjRLixsg",
        "outputId": "aee392a7-fbf3-4a25-e01d-2be9f73bc0d4"
      },
      "id": "gV01UjRLixsg",
      "execution_count": 4,
      "outputs": [
        {
          "output_type": "display_data",
          "data": {
            "text/plain": [
              "<IPython.core.display.HTML object>"
            ],
            "text/html": [
              "\n",
              "     <input type=\"file\" id=\"files-af18fa1e-601c-496d-8232-5d3ba1ac085f\" name=\"files[]\" multiple disabled\n",
              "        style=\"border:none\" />\n",
              "     <output id=\"result-af18fa1e-601c-496d-8232-5d3ba1ac085f\">\n",
              "      Upload widget is only available when the cell has been executed in the\n",
              "      current browser session. Please rerun this cell to enable.\n",
              "      </output>\n",
              "      <script>// Copyright 2017 Google LLC\n",
              "//\n",
              "// Licensed under the Apache License, Version 2.0 (the \"License\");\n",
              "// you may not use this file except in compliance with the License.\n",
              "// You may obtain a copy of the License at\n",
              "//\n",
              "//      http://www.apache.org/licenses/LICENSE-2.0\n",
              "//\n",
              "// Unless required by applicable law or agreed to in writing, software\n",
              "// distributed under the License is distributed on an \"AS IS\" BASIS,\n",
              "// WITHOUT WARRANTIES OR CONDITIONS OF ANY KIND, either express or implied.\n",
              "// See the License for the specific language governing permissions and\n",
              "// limitations under the License.\n",
              "\n",
              "/**\n",
              " * @fileoverview Helpers for google.colab Python module.\n",
              " */\n",
              "(function(scope) {\n",
              "function span(text, styleAttributes = {}) {\n",
              "  const element = document.createElement('span');\n",
              "  element.textContent = text;\n",
              "  for (const key of Object.keys(styleAttributes)) {\n",
              "    element.style[key] = styleAttributes[key];\n",
              "  }\n",
              "  return element;\n",
              "}\n",
              "\n",
              "// Max number of bytes which will be uploaded at a time.\n",
              "const MAX_PAYLOAD_SIZE = 100 * 1024;\n",
              "\n",
              "function _uploadFiles(inputId, outputId) {\n",
              "  const steps = uploadFilesStep(inputId, outputId);\n",
              "  const outputElement = document.getElementById(outputId);\n",
              "  // Cache steps on the outputElement to make it available for the next call\n",
              "  // to uploadFilesContinue from Python.\n",
              "  outputElement.steps = steps;\n",
              "\n",
              "  return _uploadFilesContinue(outputId);\n",
              "}\n",
              "\n",
              "// This is roughly an async generator (not supported in the browser yet),\n",
              "// where there are multiple asynchronous steps and the Python side is going\n",
              "// to poll for completion of each step.\n",
              "// This uses a Promise to block the python side on completion of each step,\n",
              "// then passes the result of the previous step as the input to the next step.\n",
              "function _uploadFilesContinue(outputId) {\n",
              "  const outputElement = document.getElementById(outputId);\n",
              "  const steps = outputElement.steps;\n",
              "\n",
              "  const next = steps.next(outputElement.lastPromiseValue);\n",
              "  return Promise.resolve(next.value.promise).then((value) => {\n",
              "    // Cache the last promise value to make it available to the next\n",
              "    // step of the generator.\n",
              "    outputElement.lastPromiseValue = value;\n",
              "    return next.value.response;\n",
              "  });\n",
              "}\n",
              "\n",
              "/**\n",
              " * Generator function which is called between each async step of the upload\n",
              " * process.\n",
              " * @param {string} inputId Element ID of the input file picker element.\n",
              " * @param {string} outputId Element ID of the output display.\n",
              " * @return {!Iterable<!Object>} Iterable of next steps.\n",
              " */\n",
              "function* uploadFilesStep(inputId, outputId) {\n",
              "  const inputElement = document.getElementById(inputId);\n",
              "  inputElement.disabled = false;\n",
              "\n",
              "  const outputElement = document.getElementById(outputId);\n",
              "  outputElement.innerHTML = '';\n",
              "\n",
              "  const pickedPromise = new Promise((resolve) => {\n",
              "    inputElement.addEventListener('change', (e) => {\n",
              "      resolve(e.target.files);\n",
              "    });\n",
              "  });\n",
              "\n",
              "  const cancel = document.createElement('button');\n",
              "  inputElement.parentElement.appendChild(cancel);\n",
              "  cancel.textContent = 'Cancel upload';\n",
              "  const cancelPromise = new Promise((resolve) => {\n",
              "    cancel.onclick = () => {\n",
              "      resolve(null);\n",
              "    };\n",
              "  });\n",
              "\n",
              "  // Wait for the user to pick the files.\n",
              "  const files = yield {\n",
              "    promise: Promise.race([pickedPromise, cancelPromise]),\n",
              "    response: {\n",
              "      action: 'starting',\n",
              "    }\n",
              "  };\n",
              "\n",
              "  cancel.remove();\n",
              "\n",
              "  // Disable the input element since further picks are not allowed.\n",
              "  inputElement.disabled = true;\n",
              "\n",
              "  if (!files) {\n",
              "    return {\n",
              "      response: {\n",
              "        action: 'complete',\n",
              "      }\n",
              "    };\n",
              "  }\n",
              "\n",
              "  for (const file of files) {\n",
              "    const li = document.createElement('li');\n",
              "    li.append(span(file.name, {fontWeight: 'bold'}));\n",
              "    li.append(span(\n",
              "        `(${file.type || 'n/a'}) - ${file.size} bytes, ` +\n",
              "        `last modified: ${\n",
              "            file.lastModifiedDate ? file.lastModifiedDate.toLocaleDateString() :\n",
              "                                    'n/a'} - `));\n",
              "    const percent = span('0% done');\n",
              "    li.appendChild(percent);\n",
              "\n",
              "    outputElement.appendChild(li);\n",
              "\n",
              "    const fileDataPromise = new Promise((resolve) => {\n",
              "      const reader = new FileReader();\n",
              "      reader.onload = (e) => {\n",
              "        resolve(e.target.result);\n",
              "      };\n",
              "      reader.readAsArrayBuffer(file);\n",
              "    });\n",
              "    // Wait for the data to be ready.\n",
              "    let fileData = yield {\n",
              "      promise: fileDataPromise,\n",
              "      response: {\n",
              "        action: 'continue',\n",
              "      }\n",
              "    };\n",
              "\n",
              "    // Use a chunked sending to avoid message size limits. See b/62115660.\n",
              "    let position = 0;\n",
              "    do {\n",
              "      const length = Math.min(fileData.byteLength - position, MAX_PAYLOAD_SIZE);\n",
              "      const chunk = new Uint8Array(fileData, position, length);\n",
              "      position += length;\n",
              "\n",
              "      const base64 = btoa(String.fromCharCode.apply(null, chunk));\n",
              "      yield {\n",
              "        response: {\n",
              "          action: 'append',\n",
              "          file: file.name,\n",
              "          data: base64,\n",
              "        },\n",
              "      };\n",
              "\n",
              "      let percentDone = fileData.byteLength === 0 ?\n",
              "          100 :\n",
              "          Math.round((position / fileData.byteLength) * 100);\n",
              "      percent.textContent = `${percentDone}% done`;\n",
              "\n",
              "    } while (position < fileData.byteLength);\n",
              "  }\n",
              "\n",
              "  // All done.\n",
              "  yield {\n",
              "    response: {\n",
              "      action: 'complete',\n",
              "    }\n",
              "  };\n",
              "}\n",
              "\n",
              "scope.google = scope.google || {};\n",
              "scope.google.colab = scope.google.colab || {};\n",
              "scope.google.colab._files = {\n",
              "  _uploadFiles,\n",
              "  _uploadFilesContinue,\n",
              "};\n",
              "})(self);\n",
              "</script> "
            ]
          },
          "metadata": {}
        },
        {
          "output_type": "stream",
          "name": "stdout",
          "text": [
            "Saving kaggle.json to kaggle.json\n"
          ]
        },
        {
          "output_type": "execute_result",
          "data": {
            "text/plain": [
              "{'kaggle.json': b'{\"username\":\"fredbliss\",\"key\":\"3db2a54e60e4c1ae5f5eaf05d4c86518\"}'}"
            ]
          },
          "metadata": {},
          "execution_count": 4
        }
      ]
    },
    {
      "cell_type": "code",
      "source": [
        "!rm -r ~/.kaggle\n",
        "!mkdir ~/.kaggle\n",
        "!mv ./kaggle.json ~/.kaggle/\n",
        "!chmod 600 ~/.kaggle/kaggle.json\n",
        "!kaggle datasets list"
      ],
      "metadata": {
        "id": "90Ja27oyi5cN"
      },
      "id": "90Ja27oyi5cN",
      "execution_count": null,
      "outputs": []
    },
    {
      "cell_type": "code",
      "source": [
        "! kaggle datasets download -d robikscube/flight-delay-dataset-20182022"
      ],
      "metadata": {
        "colab": {
          "base_uri": "https://localhost:8080/"
        },
        "id": "gw7G01qpjKZk",
        "outputId": "45e5e72d-012e-439d-fede-e6f25330ffe9"
      },
      "id": "gw7G01qpjKZk",
      "execution_count": 6,
      "outputs": [
        {
          "output_type": "stream",
          "name": "stdout",
          "text": [
            "Downloading flight-delay-dataset-20182022.zip to /content\n",
            "100% 3.72G/3.73G [00:34<00:00, 137MB/s]\n",
            "100% 3.73G/3.73G [00:34<00:00, 115MB/s]\n"
          ]
        }
      ]
    },
    {
      "cell_type": "code",
      "source": [
        "! mkdir ../input\n",
        "! mkdir ../input/flight-delay-dataset-20182022"
      ],
      "metadata": {
        "colab": {
          "base_uri": "https://localhost:8080/"
        },
        "id": "C2hHMFX_jdXV",
        "outputId": "2fa87aaa-cee7-4b38-8908-e545e45603a4"
      },
      "id": "C2hHMFX_jdXV",
      "execution_count": 11,
      "outputs": [
        {
          "output_type": "stream",
          "name": "stdout",
          "text": [
            "mkdir: cannot create directory ‘../input’: File exists\n"
          ]
        }
      ]
    },
    {
      "cell_type": "code",
      "source": [
        "! unzip /content/flight-delay-dataset-20182022.zip -d ../input/flight-delay-dataset-20182022"
      ],
      "metadata": {
        "colab": {
          "base_uri": "https://localhost:8080/"
        },
        "id": "98ZTBCmWj2oj",
        "outputId": "84d4f810-cb7e-4e13-ce83-eeef061d6798"
      },
      "id": "98ZTBCmWj2oj",
      "execution_count": 13,
      "outputs": [
        {
          "output_type": "stream",
          "name": "stdout",
          "text": [
            "Archive:  /content/flight-delay-dataset-20182022.zip\n",
            "  inflating: ../input/flight-delay-dataset-20182022/Airlines.csv  \n",
            "  inflating: ../input/flight-delay-dataset-20182022/Combined_Flights_2018.csv  \n",
            "  inflating: ../input/flight-delay-dataset-20182022/Combined_Flights_2018.parquet  \n",
            "  inflating: ../input/flight-delay-dataset-20182022/Combined_Flights_2019.csv  \n",
            "  inflating: ../input/flight-delay-dataset-20182022/Combined_Flights_2019.parquet  \n",
            "  inflating: ../input/flight-delay-dataset-20182022/Combined_Flights_2020.csv  \n",
            "  inflating: ../input/flight-delay-dataset-20182022/Combined_Flights_2020.parquet  \n",
            "  inflating: ../input/flight-delay-dataset-20182022/Combined_Flights_2021.csv  \n",
            "  inflating: ../input/flight-delay-dataset-20182022/Combined_Flights_2021.parquet  \n",
            "  inflating: ../input/flight-delay-dataset-20182022/Combined_Flights_2022.csv  \n",
            "  inflating: ../input/flight-delay-dataset-20182022/Combined_Flights_2022.parquet  \n",
            "  inflating: ../input/flight-delay-dataset-20182022/raw/Flights_2018_1.csv  \n",
            "  inflating: ../input/flight-delay-dataset-20182022/raw/Flights_2018_10.csv  \n",
            "  inflating: ../input/flight-delay-dataset-20182022/raw/Flights_2018_11.csv  \n",
            "  inflating: ../input/flight-delay-dataset-20182022/raw/Flights_2018_12.csv  \n",
            "  inflating: ../input/flight-delay-dataset-20182022/raw/Flights_2018_2.csv  \n",
            "  inflating: ../input/flight-delay-dataset-20182022/raw/Flights_2018_3.csv  \n",
            "  inflating: ../input/flight-delay-dataset-20182022/raw/Flights_2018_4.csv  \n",
            "  inflating: ../input/flight-delay-dataset-20182022/raw/Flights_2018_5.csv  \n",
            "  inflating: ../input/flight-delay-dataset-20182022/raw/Flights_2018_6.csv  \n",
            "  inflating: ../input/flight-delay-dataset-20182022/raw/Flights_2018_7.csv  \n",
            "  inflating: ../input/flight-delay-dataset-20182022/raw/Flights_2018_8.csv  \n",
            "  inflating: ../input/flight-delay-dataset-20182022/raw/Flights_2018_9.csv  \n",
            "  inflating: ../input/flight-delay-dataset-20182022/raw/Flights_2019_1.csv  \n",
            "  inflating: ../input/flight-delay-dataset-20182022/raw/Flights_2019_10.csv  \n",
            "  inflating: ../input/flight-delay-dataset-20182022/raw/Flights_2019_11.csv  \n",
            "  inflating: ../input/flight-delay-dataset-20182022/raw/Flights_2019_12.csv  \n",
            "  inflating: ../input/flight-delay-dataset-20182022/raw/Flights_2019_2.csv  \n",
            "  inflating: ../input/flight-delay-dataset-20182022/raw/Flights_2019_3.csv  \n",
            "  inflating: ../input/flight-delay-dataset-20182022/raw/Flights_2019_4.csv  \n",
            "  inflating: ../input/flight-delay-dataset-20182022/raw/Flights_2019_5.csv  \n",
            "  inflating: ../input/flight-delay-dataset-20182022/raw/Flights_2019_6.csv  \n",
            "  inflating: ../input/flight-delay-dataset-20182022/raw/Flights_2019_7.csv  \n",
            "  inflating: ../input/flight-delay-dataset-20182022/raw/Flights_2019_8.csv  \n",
            "  inflating: ../input/flight-delay-dataset-20182022/raw/Flights_2019_9.csv  \n",
            "  inflating: ../input/flight-delay-dataset-20182022/raw/Flights_2020_1.csv  \n",
            "  inflating: ../input/flight-delay-dataset-20182022/raw/Flights_2020_10.csv  \n",
            "  inflating: ../input/flight-delay-dataset-20182022/raw/Flights_2020_11.csv  \n",
            "  inflating: ../input/flight-delay-dataset-20182022/raw/Flights_2020_12.csv  \n",
            "  inflating: ../input/flight-delay-dataset-20182022/raw/Flights_2020_2.csv  \n",
            "  inflating: ../input/flight-delay-dataset-20182022/raw/Flights_2020_3.csv  \n",
            "  inflating: ../input/flight-delay-dataset-20182022/raw/Flights_2020_4.csv  \n",
            "  inflating: ../input/flight-delay-dataset-20182022/raw/Flights_2020_5.csv  \n",
            "  inflating: ../input/flight-delay-dataset-20182022/raw/Flights_2020_6.csv  \n",
            "  inflating: ../input/flight-delay-dataset-20182022/raw/Flights_2020_7.csv  \n",
            "  inflating: ../input/flight-delay-dataset-20182022/raw/Flights_2020_8.csv  \n",
            "  inflating: ../input/flight-delay-dataset-20182022/raw/Flights_2020_9.csv  \n",
            "  inflating: ../input/flight-delay-dataset-20182022/raw/Flights_2021_1.csv  \n",
            "  inflating: ../input/flight-delay-dataset-20182022/raw/Flights_2021_10.csv  \n",
            "  inflating: ../input/flight-delay-dataset-20182022/raw/Flights_2021_11.csv  \n",
            "  inflating: ../input/flight-delay-dataset-20182022/raw/Flights_2021_12.csv  \n",
            "  inflating: ../input/flight-delay-dataset-20182022/raw/Flights_2021_2.csv  \n",
            "  inflating: ../input/flight-delay-dataset-20182022/raw/Flights_2021_3.csv  \n",
            "  inflating: ../input/flight-delay-dataset-20182022/raw/Flights_2021_4.csv  \n",
            "  inflating: ../input/flight-delay-dataset-20182022/raw/Flights_2021_5.csv  \n",
            "  inflating: ../input/flight-delay-dataset-20182022/raw/Flights_2021_6.csv  \n",
            "  inflating: ../input/flight-delay-dataset-20182022/raw/Flights_2021_7.csv  \n",
            "  inflating: ../input/flight-delay-dataset-20182022/raw/Flights_2021_8.csv  \n",
            "  inflating: ../input/flight-delay-dataset-20182022/raw/Flights_2021_9.csv  \n",
            "  inflating: ../input/flight-delay-dataset-20182022/raw/Flights_2022_1.csv  \n",
            "  inflating: ../input/flight-delay-dataset-20182022/raw/Flights_2022_2.csv  \n",
            "  inflating: ../input/flight-delay-dataset-20182022/raw/Flights_2022_3.csv  \n",
            "  inflating: ../input/flight-delay-dataset-20182022/raw/Flights_2022_4.csv  \n",
            "  inflating: ../input/flight-delay-dataset-20182022/raw/Flights_2022_5.csv  \n",
            "  inflating: ../input/flight-delay-dataset-20182022/raw/Flights_2022_6.csv  \n",
            "  inflating: ../input/flight-delay-dataset-20182022/raw/Flights_2022_7.csv  \n",
            "  inflating: ../input/flight-delay-dataset-20182022/readme.html  \n",
            "  inflating: ../input/flight-delay-dataset-20182022/readme.md  \n"
          ]
        }
      ]
    },
    {
      "cell_type": "code",
      "execution_count": 3,
      "id": "7a2da8a8",
      "metadata": {
        "execution": {
          "iopub.execute_input": "2022-11-11T16:27:39.075016Z",
          "iopub.status.busy": "2022-11-11T16:27:39.074650Z",
          "iopub.status.idle": "2022-11-11T16:27:47.861057Z",
          "shell.execute_reply": "2022-11-11T16:27:47.859721Z"
        },
        "papermill": {
          "duration": 8.805379,
          "end_time": "2022-11-11T16:27:47.863521",
          "exception": false,
          "start_time": "2022-11-11T16:27:39.058142",
          "status": "completed"
        },
        "tags": [],
        "id": "7a2da8a8"
      },
      "outputs": [],
      "source": [
        "!pip install plotly-calplot --upgrade --quiet #> /dev/null# if not installed."
      ]
    },
    {
      "cell_type": "code",
      "execution_count": null,
      "id": "ed26e3c3",
      "metadata": {
        "execution": {
          "iopub.execute_input": "2022-11-11T16:27:47.897990Z",
          "iopub.status.busy": "2022-11-11T16:27:47.897377Z",
          "iopub.status.idle": "2022-11-11T16:27:48.820488Z",
          "shell.execute_reply": "2022-11-11T16:27:48.819801Z"
        },
        "papermill": {
          "duration": 0.94301,
          "end_time": "2022-11-11T16:27:48.822696",
          "exception": false,
          "start_time": "2022-11-11T16:27:47.879686",
          "status": "completed"
        },
        "tags": [],
        "id": "ed26e3c3"
      },
      "outputs": [],
      "source": [
        "import pandas as pd\n",
        "import numpy as np\n",
        "import matplotlib.pyplot as plt\n",
        "import seaborn as sns\n",
        "import glob\n",
        "import calmap\n",
        "from plotly_calplot import calplot\n",
        "pd.set_option('display.max_columns', 500)\n",
        "plt.style.use('seaborn-dark-palette')\n",
        "#%load_ext lab_black"
      ]
    },
    {
      "cell_type": "code",
      "execution_count": null,
      "id": "afd5de7f",
      "metadata": {
        "execution": {
          "iopub.execute_input": "2022-11-11T16:27:48.856105Z",
          "iopub.status.busy": "2022-11-11T16:27:48.855358Z",
          "iopub.status.idle": "2022-11-11T16:27:48.859324Z",
          "shell.execute_reply": "2022-11-11T16:27:48.858652Z"
        },
        "papermill": {
          "duration": 0.023016,
          "end_time": "2022-11-11T16:27:48.861503",
          "exception": false,
          "start_time": "2022-11-11T16:27:48.838487",
          "status": "completed"
        },
        "tags": [],
        "id": "afd5de7f"
      },
      "outputs": [],
      "source": [
        "# plt.style.available # Matplotlib styles"
      ]
    },
    {
      "cell_type": "markdown",
      "id": "59be5aae",
      "metadata": {
        "papermill": {
          "duration": 0.016039,
          "end_time": "2022-11-11T16:27:48.893409",
          "exception": false,
          "start_time": "2022-11-11T16:27:48.877370",
          "status": "completed"
        },
        "tags": [],
        "id": "59be5aae"
      },
      "source": [
        "### 2. Loading files\n",
        "\n",
        "Selected only the 2019 csv file in the begining due to size. glob overloaded the RAM.\n",
        "parquet files are significantly smaller."
      ]
    },
    {
      "cell_type": "code",
      "execution_count": null,
      "id": "f00641b5",
      "metadata": {
        "execution": {
          "iopub.execute_input": "2022-11-11T16:27:48.926511Z",
          "iopub.status.busy": "2022-11-11T16:27:48.925584Z",
          "iopub.status.idle": "2022-11-11T16:27:48.935934Z",
          "shell.execute_reply": "2022-11-11T16:27:48.935320Z"
        },
        "papermill": {
          "duration": 0.029107,
          "end_time": "2022-11-11T16:27:48.938107",
          "exception": false,
          "start_time": "2022-11-11T16:27:48.909000",
          "status": "completed"
        },
        "tags": [],
        "id": "f00641b5"
      },
      "outputs": [],
      "source": [
        "parquet_files = glob.glob('../input/flight-delay-dataset-20182022/Combined_Flights_*.parquet')\n",
        "#csv_files = glob.glob('../input/flight-delay-dataset-20182022/Combined_Flights_201*.csv') #2018/2019 to save memory\n",
        "#csv_files = ('../input/flight-delay-dataset-20182022/Combined_Flights_2019.csv') #now 2019 to save memory. \n",
        "# The files are RAM intensive and covers the period from 2018 to 2022."
      ]
    },
    {
      "cell_type": "code",
      "execution_count": null,
      "id": "61415eec",
      "metadata": {
        "execution": {
          "iopub.execute_input": "2022-11-11T16:27:48.971371Z",
          "iopub.status.busy": "2022-11-11T16:27:48.970387Z",
          "iopub.status.idle": "2022-11-11T16:27:48.977497Z",
          "shell.execute_reply": "2022-11-11T16:27:48.976946Z"
        },
        "papermill": {
          "duration": 0.025226,
          "end_time": "2022-11-11T16:27:48.979114",
          "exception": false,
          "start_time": "2022-11-11T16:27:48.953888",
          "status": "completed"
        },
        "tags": [],
        "id": "61415eec",
        "outputId": "26f1beeb-953b-493a-d41f-c19fdbfa438e"
      },
      "outputs": [
        {
          "data": {
            "text/plain": [
              "['../input/flight-delay-dataset-20182022/Combined_Flights_2022.parquet',\n",
              " '../input/flight-delay-dataset-20182022/Combined_Flights_2021.parquet',\n",
              " '../input/flight-delay-dataset-20182022/Combined_Flights_2018.parquet',\n",
              " '../input/flight-delay-dataset-20182022/Combined_Flights_2020.parquet',\n",
              " '../input/flight-delay-dataset-20182022/Combined_Flights_2019.parquet']"
            ]
          },
          "execution_count": 6,
          "metadata": {},
          "output_type": "execute_result"
        }
      ],
      "source": [
        "parquet_files"
      ]
    },
    {
      "cell_type": "markdown",
      "id": "d85939ce",
      "metadata": {
        "papermill": {
          "duration": 0.016787,
          "end_time": "2022-11-11T16:27:49.011740",
          "exception": false,
          "start_time": "2022-11-11T16:27:48.994953",
          "status": "completed"
        },
        "tags": [],
        "id": "d85939ce"
      },
      "source": [
        "Index(['FlightDate', 'Airline', 'Origin', 'Dest', 'Cancelled', 'Diverted',\n",
        "       'CRSDepTime', 'DepTime', 'DepDelayMinutes', 'DepDelay', 'ArrTime',\n",
        "       'ArrDelayMinutes', 'AirTime', 'CRSElapsedTime', 'ActualElapsedTime',\n",
        "       'Distance', 'Year', 'Quarter', 'Month', 'DayofMonth', 'DayOfWeek',\n",
        "       'Marketing_Airline_Network', 'Operated_or_Branded_Code_Share_Partners',\n",
        "       'DOT_ID_Marketing_Airline', 'IATA_Code_Marketing_Airline',\n",
        "       'Flight_Number_Marketing_Airline', 'Operating_Airline',\n",
        "       'DOT_ID_Operating_Airline', 'IATA_Code_Operating_Airline',\n",
        "       'Tail_Number', 'Flight_Number_Operating_Airline', 'OriginAirportID',\n",
        "       'OriginAirportSeqID', 'OriginCityMarketID', 'OriginCityName',\n",
        "       'OriginState', 'OriginStateFips', 'OriginStateName', 'OriginWac',\n",
        "       'DestAirportID', 'DestAirportSeqID', 'DestCityMarketID', 'DestCityName',\n",
        "       'DestState', 'DestStateFips', 'DestStateName', 'DestWac', 'DepDel15',\n",
        "       'DepartureDelayGroups', 'DepTimeBlk', 'TaxiOut', 'WheelsOff',\n",
        "       'WheelsOn', 'TaxiIn', 'CRSArrTime', 'ArrDelay', 'ArrDel15',\n",
        "       'ArrivalDelayGroups', 'ArrTimeBlk', 'DistanceGroup',\n",
        "       'DivAirportLandings'],\n",
        "      dtype='object')"
      ]
    },
    {
      "cell_type": "markdown",
      "id": "59519643",
      "metadata": {
        "papermill": {
          "duration": 0.015162,
          "end_time": "2022-11-11T16:27:49.042719",
          "exception": false,
          "start_time": "2022-11-11T16:27:49.027557",
          "status": "completed"
        },
        "tags": [],
        "id": "59519643"
      },
      "source": [
        "### 3. Subsetting & choosing specific columns"
      ]
    },
    {
      "cell_type": "code",
      "execution_count": null,
      "id": "fd42c102",
      "metadata": {
        "execution": {
          "iopub.execute_input": "2022-11-11T16:27:49.077033Z",
          "iopub.status.busy": "2022-11-11T16:27:49.076108Z",
          "iopub.status.idle": "2022-11-11T16:27:49.081030Z",
          "shell.execute_reply": "2022-11-11T16:27:49.080238Z"
        },
        "papermill": {
          "duration": 0.025008,
          "end_time": "2022-11-11T16:27:49.083128",
          "exception": false,
          "start_time": "2022-11-11T16:27:49.058120",
          "status": "completed"
        },
        "tags": [],
        "id": "fd42c102"
      },
      "outputs": [],
      "source": [
        "column_subset = [\n",
        "    \"FlightDate\",\n",
        "    \"Airline\",\n",
        "    \"Tail_Number\",\n",
        "    \"Flight_Number_Marketing_Airline\",\n",
        "    \"Origin\",\n",
        "    \"Dest\",\n",
        "    \"Cancelled\",\n",
        "    \"Diverted\",\n",
        "    \"CRSDepTime\",\n",
        "    \"DepTime\",\n",
        "    \"DepDelayMinutes\",\n",
        "    \"OriginAirportID\",\n",
        "    \"OriginCityName\",\n",
        "    \"OriginStateName\",\n",
        "    \"DestAirportID\",\n",
        "    \"DestCityName\",\n",
        "    \"DestStateName\",\n",
        "    \"TaxiOut\",\n",
        "    \"TaxiIn\",\n",
        "    \"CRSArrTime\",\n",
        "    \"ArrTime\",\n",
        "    \"ArrDelayMinutes\",\n",
        "]\n"
      ]
    },
    {
      "cell_type": "code",
      "execution_count": null,
      "id": "3be9a7e5",
      "metadata": {
        "execution": {
          "iopub.execute_input": "2022-11-11T16:27:49.117073Z",
          "iopub.status.busy": "2022-11-11T16:27:49.116725Z",
          "iopub.status.idle": "2022-11-11T16:28:25.507760Z",
          "shell.execute_reply": "2022-11-11T16:28:25.505380Z"
        },
        "papermill": {
          "duration": 36.414735,
          "end_time": "2022-11-11T16:28:25.514290",
          "exception": false,
          "start_time": "2022-11-11T16:27:49.099555",
          "status": "completed"
        },
        "tags": [],
        "id": "3be9a7e5"
      },
      "outputs": [],
      "source": [
        "dfs = []\n",
        "for f in parquet_files:\n",
        "    dfs.append(pd.read_parquet(f, columns=column_subset))\n",
        "df = pd.concat(dfs).reset_index(drop=True)"
      ]
    },
    {
      "cell_type": "code",
      "execution_count": null,
      "id": "005a3b9b",
      "metadata": {
        "execution": {
          "iopub.execute_input": "2022-11-11T16:28:25.562117Z",
          "iopub.status.busy": "2022-11-11T16:28:25.561532Z",
          "iopub.status.idle": "2022-11-11T16:28:44.646490Z",
          "shell.execute_reply": "2022-11-11T16:28:44.645370Z"
        },
        "papermill": {
          "duration": 19.11064,
          "end_time": "2022-11-11T16:28:44.649046",
          "exception": false,
          "start_time": "2022-11-11T16:28:25.538406",
          "status": "completed"
        },
        "tags": [],
        "id": "005a3b9b"
      },
      "outputs": [],
      "source": [
        "df = pd.concat(dfs).reset_index(drop=True)"
      ]
    },
    {
      "cell_type": "code",
      "execution_count": null,
      "id": "a5085fe5",
      "metadata": {
        "execution": {
          "iopub.execute_input": "2022-11-11T16:28:44.682867Z",
          "iopub.status.busy": "2022-11-11T16:28:44.682234Z",
          "iopub.status.idle": "2022-11-11T16:29:02.933557Z",
          "shell.execute_reply": "2022-11-11T16:29:02.932057Z"
        },
        "papermill": {
          "duration": 18.271533,
          "end_time": "2022-11-11T16:29:02.936396",
          "exception": false,
          "start_time": "2022-11-11T16:28:44.664863",
          "status": "completed"
        },
        "tags": [],
        "id": "a5085fe5"
      },
      "outputs": [],
      "source": [
        "cat_col = ['Airline','Origin','Dest','OriginStateName','DestStateName']\n",
        "for c in cat_col:\n",
        "    df[c] = df[c].astype(\"category\") \n",
        "    \n",
        "# Converting to type category to reduce the file size.\n",
        "# Even with subsets the load on the RAM remained high."
      ]
    },
    {
      "cell_type": "markdown",
      "id": "a61ab1c6",
      "metadata": {
        "papermill": {
          "duration": 0.015335,
          "end_time": "2022-11-11T16:29:02.969160",
          "exception": false,
          "start_time": "2022-11-11T16:29:02.953825",
          "status": "completed"
        },
        "tags": [],
        "id": "a61ab1c6"
      },
      "source": [
        "### 4. EDA"
      ]
    },
    {
      "cell_type": "code",
      "execution_count": null,
      "id": "24acfd3f",
      "metadata": {
        "execution": {
          "iopub.execute_input": "2022-11-11T16:29:03.001852Z",
          "iopub.status.busy": "2022-11-11T16:29:03.001451Z",
          "iopub.status.idle": "2022-11-11T16:29:03.006190Z",
          "shell.execute_reply": "2022-11-11T16:29:03.005050Z"
        },
        "papermill": {
          "duration": 0.023236,
          "end_time": "2022-11-11T16:29:03.008007",
          "exception": false,
          "start_time": "2022-11-11T16:29:02.984771",
          "status": "completed"
        },
        "tags": [],
        "id": "24acfd3f"
      },
      "outputs": [],
      "source": [
        "#df.tail()"
      ]
    },
    {
      "cell_type": "markdown",
      "id": "07584e73",
      "metadata": {
        "papermill": {
          "duration": 0.015225,
          "end_time": "2022-11-11T16:29:03.038683",
          "exception": false,
          "start_time": "2022-11-11T16:29:03.023458",
          "status": "completed"
        },
        "tags": [],
        "id": "07584e73"
      },
      "source": [
        "Airlines with the most flights:"
      ]
    },
    {
      "cell_type": "code",
      "execution_count": null,
      "id": "74a94aa2",
      "metadata": {
        "execution": {
          "iopub.execute_input": "2022-11-11T16:29:03.071217Z",
          "iopub.status.busy": "2022-11-11T16:29:03.070850Z",
          "iopub.status.idle": "2022-11-11T16:29:03.221738Z",
          "shell.execute_reply": "2022-11-11T16:29:03.220676Z"
        },
        "papermill": {
          "duration": 0.169635,
          "end_time": "2022-11-11T16:29:03.223874",
          "exception": false,
          "start_time": "2022-11-11T16:29:03.054239",
          "status": "completed"
        },
        "tags": [],
        "id": "74a94aa2",
        "outputId": "c0cc6597-a2fa-4e27-c4ec-0ef64a6ed699"
      },
      "outputs": [
        {
          "data": {
            "text/plain": [
              "Southwest Airlines Co.                       5474339\n",
              "Delta Air Lines Inc.                         3294917\n",
              "SkyWest Airlines Inc.                        3159683\n",
              "American Airlines Inc.                       3134117\n",
              "United Air Lines Inc.                        2354538\n",
              "Republic Airlines                            1283704\n",
              "JetBlue Airways                              1106079\n",
              "Envoy Air                                    1072778\n",
              "Endeavor Air Inc.                             998224\n",
              "Comair Inc.                                   957220\n",
              "Alaska Airlines Inc.                          906259\n",
              "Spirit Air Lines                              836694\n",
              "Mesa Airlines Inc.                            749216\n",
              "Frontier Airlines Inc.                        570452\n",
              "Allegiant Air                                 489400\n",
              "Horizon Air                                   471153\n",
              "Capital Cargo International                   392011\n",
              "Air Wisconsin Airlines Corp                   380202\n",
              "ExpressJet Airlines Inc.                      353669\n",
              "Hawaiian Airlines Inc.                        310782\n",
              "GoJet Airlines, LLC d/b/a United Express      276486\n",
              "Commutair Aka Champlain Enterprises, Inc.     260048\n",
              "Trans States Airlines                         161590\n",
              "Compass Airlines                              154985\n",
              "Empire Airlines Inc.                           23122\n",
              "Virgin America                                 17670\n",
              "Peninsula Airways Inc.                          2783\n",
              "Cape Air                                        1661\n",
              "Name: Airline, dtype: int64"
            ]
          },
          "execution_count": 12,
          "metadata": {},
          "output_type": "execute_result"
        }
      ],
      "source": [
        "df['Airline'].value_counts() # highrarcy my most flights"
      ]
    },
    {
      "cell_type": "code",
      "execution_count": null,
      "id": "0075c8f6",
      "metadata": {
        "execution": {
          "iopub.execute_input": "2022-11-11T16:29:03.256639Z",
          "iopub.status.busy": "2022-11-11T16:29:03.256275Z",
          "iopub.status.idle": "2022-11-11T16:29:03.280770Z",
          "shell.execute_reply": "2022-11-11T16:29:03.278990Z"
        },
        "papermill": {
          "duration": 0.043564,
          "end_time": "2022-11-11T16:29:03.283122",
          "exception": false,
          "start_time": "2022-11-11T16:29:03.239558",
          "status": "completed"
        },
        "tags": [],
        "id": "0075c8f6",
        "outputId": "afac0419-f35f-4286-f486-d42a38a2126f"
      },
      "outputs": [
        {
          "name": "stdout",
          "output_type": "stream",
          "text": [
            "<class 'pandas.core.frame.DataFrame'>\n",
            "RangeIndex: 29193782 entries, 0 to 29193781\n",
            "Data columns (total 22 columns):\n",
            " #   Column                           Dtype         \n",
            "---  ------                           -----         \n",
            " 0   FlightDate                       datetime64[ns]\n",
            " 1   Airline                          category      \n",
            " 2   Tail_Number                      object        \n",
            " 3   Flight_Number_Marketing_Airline  int64         \n",
            " 4   Origin                           category      \n",
            " 5   Dest                             category      \n",
            " 6   Cancelled                        bool          \n",
            " 7   Diverted                         bool          \n",
            " 8   CRSDepTime                       int64         \n",
            " 9   DepTime                          float64       \n",
            " 10  DepDelayMinutes                  float64       \n",
            " 11  OriginAirportID                  int64         \n",
            " 12  OriginCityName                   object        \n",
            " 13  OriginStateName                  category      \n",
            " 14  DestAirportID                    int64         \n",
            " 15  DestCityName                     object        \n",
            " 16  DestStateName                    category      \n",
            " 17  TaxiOut                          float64       \n",
            " 18  TaxiIn                           float64       \n",
            " 19  CRSArrTime                       int64         \n",
            " 20  ArrTime                          float64       \n",
            " 21  ArrDelayMinutes                  float64       \n",
            "dtypes: bool(2), category(5), datetime64[ns](1), float64(6), int64(5), object(3)\n",
            "memory usage: 3.5+ GB\n"
          ]
        }
      ],
      "source": [
        "df.info()"
      ]
    },
    {
      "cell_type": "markdown",
      "id": "4435bcd1",
      "metadata": {
        "papermill": {
          "duration": 0.015517,
          "end_time": "2022-11-11T16:29:03.314829",
          "exception": false,
          "start_time": "2022-11-11T16:29:03.299312",
          "status": "completed"
        },
        "tags": [],
        "id": "4435bcd1"
      },
      "source": [
        "Ploting the delays distribution:"
      ]
    },
    {
      "cell_type": "code",
      "execution_count": null,
      "id": "5af36ce4",
      "metadata": {
        "execution": {
          "iopub.execute_input": "2022-11-11T16:29:03.348429Z",
          "iopub.status.busy": "2022-11-11T16:29:03.348068Z",
          "iopub.status.idle": "2022-11-11T16:29:09.206353Z",
          "shell.execute_reply": "2022-11-11T16:29:09.205524Z"
        },
        "papermill": {
          "duration": 5.877475,
          "end_time": "2022-11-11T16:29:09.208220",
          "exception": false,
          "start_time": "2022-11-11T16:29:03.330745",
          "status": "completed"
        },
        "tags": [],
        "id": "5af36ce4",
        "outputId": "e5a4e874-9966-4dbe-cccb-0cf73deb4fe0"
      },
      "outputs": [
        {
          "data": {
            "text/plain": [
              "<AxesSubplot:title={'center':'Flight Delay (Minutes)'}, ylabel='Frequency'>"
            ]
          },
          "execution_count": 14,
          "metadata": {},
          "output_type": "execute_result"
        },
        {
          "data": {
            "image/png": "[encoded data removed]",
            "text/plain": [
              "<Figure size 432x288 with 1 Axes>"
            ]
          },
          "metadata": {
            "needs_background": "light"
          },
          "output_type": "display_data"
        }
      ],
      "source": [
        "df.query('DepDelayMinutes < 30')['DepDelayMinutes'].plot(kind='hist', bins=30,\n",
        "                                                        title='Flight Delay (Minutes)')\n",
        "\n",
        "# As most of the flights are with no delay (0 min), It is seen that the '0' is the highest accumulation, which overshadows the real delays."
      ]
    },
    {
      "cell_type": "code",
      "execution_count": null,
      "id": "f11aa0b5",
      "metadata": {
        "execution": {
          "iopub.execute_input": "2022-11-11T16:29:09.242132Z",
          "iopub.status.busy": "2022-11-11T16:29:09.241738Z",
          "iopub.status.idle": "2022-11-11T16:29:11.448766Z",
          "shell.execute_reply": "2022-11-11T16:29:11.447681Z"
        },
        "papermill": {
          "duration": 2.226971,
          "end_time": "2022-11-11T16:29:11.451530",
          "exception": false,
          "start_time": "2022-11-11T16:29:09.224559",
          "status": "completed"
        },
        "tags": [],
        "id": "f11aa0b5",
        "outputId": "b206ee7d-6435-4b67-bdb8-15bc1bd29f37"
      },
      "outputs": [
        {
          "data": {
            "text/plain": [
              "<AxesSubplot:title={'center':'Flight Delay (Minutes)'}, ylabel='Frequency'>"
            ]
          },
          "execution_count": 15,
          "metadata": {},
          "output_type": "execute_result"
        },
        {
          "data": {
            "image/png": "[encoded data removed]",
            "text/plain": [
              "<Figure size 432x288 with 1 Axes>"
            ]
          },
          "metadata": {
            "needs_background": "light"
          },
          "output_type": "display_data"
        }
      ],
      "source": [
        "df.query('(DepDelayMinutes > 0) and (DepDelayMinutes < 61)')['DepDelayMinutes'].plot(kind='hist', bins=60,\n",
        "                                                                                     title='Flight Delay (Minutes)')\n",
        "# Zero '0' minute delays are excluded."
      ]
    },
    {
      "cell_type": "markdown",
      "id": "6d015f2b",
      "metadata": {
        "papermill": {
          "duration": 0.016643,
          "end_time": "2022-11-11T16:29:11.485387",
          "exception": false,
          "start_time": "2022-11-11T16:29:11.468744",
          "status": "completed"
        },
        "tags": [],
        "id": "6d015f2b"
      },
      "source": [
        "### 5. Delays Categories"
      ]
    },
    {
      "cell_type": "markdown",
      "id": "4fe527bb",
      "metadata": {
        "papermill": {
          "duration": 0.017294,
          "end_time": "2022-11-11T16:29:11.519754",
          "exception": false,
          "start_time": "2022-11-11T16:29:11.502460",
          "status": "completed"
        },
        "tags": [],
        "id": "4fe527bb"
      },
      "source": [
        "According to Wikipedia: https://en.wikipedia.org/wiki/Flight_cancellation_and_delay\n",
        "Delays are divided into three categories, namely;\n",
        "- \"on time or small delay\" (up to 15 minutes delay), \n",
        "- \"Medium delay\" (15 – 45 minutes delay) and,\n",
        "- \"Large delay\" ( 45 minutes delay). \n",
        "The naming can vary among Airlines.\n"
      ]
    },
    {
      "cell_type": "code",
      "execution_count": null,
      "id": "22c9c652",
      "metadata": {
        "execution": {
          "iopub.execute_input": "2022-11-11T16:29:11.556003Z",
          "iopub.status.busy": "2022-11-11T16:29:11.555346Z",
          "iopub.status.idle": "2022-11-11T16:29:11.560818Z",
          "shell.execute_reply": "2022-11-11T16:29:11.559632Z"
        },
        "papermill": {
          "duration": 0.026694,
          "end_time": "2022-11-11T16:29:11.563538",
          "exception": false,
          "start_time": "2022-11-11T16:29:11.536844",
          "status": "completed"
        },
        "tags": [],
        "id": "22c9c652"
      },
      "outputs": [],
      "source": [
        "# df[df['DepDelayMinutes'].isna()] -- Cancelled flights"
      ]
    },
    {
      "cell_type": "code",
      "execution_count": null,
      "id": "c115928a",
      "metadata": {
        "execution": {
          "iopub.execute_input": "2022-11-11T16:29:11.599588Z",
          "iopub.status.busy": "2022-11-11T16:29:11.598736Z",
          "iopub.status.idle": "2022-11-11T16:29:16.566019Z",
          "shell.execute_reply": "2022-11-11T16:29:16.564979Z"
        },
        "papermill": {
          "duration": 4.988251,
          "end_time": "2022-11-11T16:29:16.568854",
          "exception": false,
          "start_time": "2022-11-11T16:29:11.580603",
          "status": "completed"
        },
        "tags": [],
        "id": "c115928a"
      },
      "outputs": [],
      "source": [
        "df['DelayGroup'] = None\n",
        "df.loc[df['DepDelayMinutes'] == 0, 'DelayGroup'] = 'OnTime_Early'\n",
        "df.loc[(df['DepDelayMinutes'] > 0) & (df['DepDelayMinutes'] <= 15), 'DelayGroup'] = 'Small_Delay'\n",
        "df.loc[(df['DepDelayMinutes'] > 15) & (df['DepDelayMinutes'] <= 45), 'DelayGroup'] = 'Medium_Delay'\n",
        "df.loc[df['DepDelayMinutes'] > 45, 'DelayGroup'] = 'Large_Delay'\n",
        "df.loc[df['Cancelled'], 'DelayGroup'] = 'Cancelled'\n",
        "\n",
        "# Generally 0-15 min delays are considered not significant. \n",
        "# Usually it can be made up for with an earlier arrival,"
      ]
    },
    {
      "cell_type": "code",
      "execution_count": null,
      "id": "676493c5",
      "metadata": {
        "execution": {
          "iopub.execute_input": "2022-11-11T16:29:16.606303Z",
          "iopub.status.busy": "2022-11-11T16:29:16.605440Z",
          "iopub.status.idle": "2022-11-11T16:29:16.632702Z",
          "shell.execute_reply": "2022-11-11T16:29:16.632062Z"
        },
        "papermill": {
          "duration": 0.047544,
          "end_time": "2022-11-11T16:29:16.634391",
          "exception": false,
          "start_time": "2022-11-11T16:29:16.586847",
          "status": "completed"
        },
        "tags": [],
        "id": "676493c5",
        "outputId": "2ad682c8-f842-4516-f168-196b77945e03"
      },
      "outputs": [
        {
          "data": {
            "text/html": [
              "<div>\n",
              "<style scoped>\n",
              "    .dataframe tbody tr th:only-of-type {\n",
              "        vertical-align: middle;\n",
              "    }\n",
              "\n",
              "    .dataframe tbody tr th {\n",
              "        vertical-align: top;\n",
              "    }\n",
              "\n",
              "    .dataframe thead th {\n",
              "        text-align: right;\n",
              "    }\n",
              "</style>\n",
              "<table border=\"1\" class=\"dataframe\">\n",
              "  <thead>\n",
              "    <tr style=\"text-align: right;\">\n",
              "      <th></th>\n",
              "      <th>FlightDate</th>\n",
              "      <th>Airline</th>\n",
              "      <th>Tail_Number</th>\n",
              "      <th>Flight_Number_Marketing_Airline</th>\n",
              "      <th>Origin</th>\n",
              "      <th>Dest</th>\n",
              "      <th>Cancelled</th>\n",
              "      <th>Diverted</th>\n",
              "      <th>CRSDepTime</th>\n",
              "      <th>DepTime</th>\n",
              "      <th>DepDelayMinutes</th>\n",
              "      <th>OriginAirportID</th>\n",
              "      <th>OriginCityName</th>\n",
              "      <th>OriginStateName</th>\n",
              "      <th>DestAirportID</th>\n",
              "      <th>DestCityName</th>\n",
              "      <th>DestStateName</th>\n",
              "      <th>TaxiOut</th>\n",
              "      <th>TaxiIn</th>\n",
              "      <th>CRSArrTime</th>\n",
              "      <th>ArrTime</th>\n",
              "      <th>ArrDelayMinutes</th>\n",
              "      <th>DelayGroup</th>\n",
              "    </tr>\n",
              "  </thead>\n",
              "  <tbody>\n",
              "    <tr>\n",
              "      <th>0</th>\n",
              "      <td>2022-04-04</td>\n",
              "      <td>Commutair Aka Champlain Enterprises, Inc.</td>\n",
              "      <td>N21144</td>\n",
              "      <td>4301</td>\n",
              "      <td>GJT</td>\n",
              "      <td>DEN</td>\n",
              "      <td>False</td>\n",
              "      <td>False</td>\n",
              "      <td>1133</td>\n",
              "      <td>1123.0</td>\n",
              "      <td>0.0</td>\n",
              "      <td>11921</td>\n",
              "      <td>Grand Junction, CO</td>\n",
              "      <td>Colorado</td>\n",
              "      <td>11292</td>\n",
              "      <td>Denver, CO</td>\n",
              "      <td>Colorado</td>\n",
              "      <td>17.0</td>\n",
              "      <td>8.0</td>\n",
              "      <td>1245</td>\n",
              "      <td>1228.0</td>\n",
              "      <td>0.0</td>\n",
              "      <td>OnTime_Early</td>\n",
              "    </tr>\n",
              "    <tr>\n",
              "      <th>1</th>\n",
              "      <td>2022-04-04</td>\n",
              "      <td>Commutair Aka Champlain Enterprises, Inc.</td>\n",
              "      <td>N16170</td>\n",
              "      <td>4299</td>\n",
              "      <td>HRL</td>\n",
              "      <td>IAH</td>\n",
              "      <td>False</td>\n",
              "      <td>False</td>\n",
              "      <td>732</td>\n",
              "      <td>728.0</td>\n",
              "      <td>0.0</td>\n",
              "      <td>12206</td>\n",
              "      <td>Harlingen/San Benito, TX</td>\n",
              "      <td>Texas</td>\n",
              "      <td>12266</td>\n",
              "      <td>Houston, TX</td>\n",
              "      <td>Texas</td>\n",
              "      <td>16.0</td>\n",
              "      <td>9.0</td>\n",
              "      <td>849</td>\n",
              "      <td>848.0</td>\n",
              "      <td>0.0</td>\n",
              "      <td>OnTime_Early</td>\n",
              "    </tr>\n",
              "    <tr>\n",
              "      <th>2</th>\n",
              "      <td>2022-04-04</td>\n",
              "      <td>Commutair Aka Champlain Enterprises, Inc.</td>\n",
              "      <td>N21144</td>\n",
              "      <td>4298</td>\n",
              "      <td>DRO</td>\n",
              "      <td>DEN</td>\n",
              "      <td>False</td>\n",
              "      <td>False</td>\n",
              "      <td>1529</td>\n",
              "      <td>1514.0</td>\n",
              "      <td>0.0</td>\n",
              "      <td>11413</td>\n",
              "      <td>Durango, CO</td>\n",
              "      <td>Colorado</td>\n",
              "      <td>11292</td>\n",
              "      <td>Denver, CO</td>\n",
              "      <td>Colorado</td>\n",
              "      <td>21.0</td>\n",
              "      <td>14.0</td>\n",
              "      <td>1639</td>\n",
              "      <td>1636.0</td>\n",
              "      <td>0.0</td>\n",
              "      <td>OnTime_Early</td>\n",
              "    </tr>\n",
              "    <tr>\n",
              "      <th>3</th>\n",
              "      <td>2022-04-04</td>\n",
              "      <td>Commutair Aka Champlain Enterprises, Inc.</td>\n",
              "      <td>N11184</td>\n",
              "      <td>4296</td>\n",
              "      <td>IAH</td>\n",
              "      <td>GPT</td>\n",
              "      <td>False</td>\n",
              "      <td>False</td>\n",
              "      <td>1435</td>\n",
              "      <td>1430.0</td>\n",
              "      <td>0.0</td>\n",
              "      <td>12266</td>\n",
              "      <td>Houston, TX</td>\n",
              "      <td>Texas</td>\n",
              "      <td>11973</td>\n",
              "      <td>Gulfport/Biloxi, MS</td>\n",
              "      <td>Mississippi</td>\n",
              "      <td>16.0</td>\n",
              "      <td>4.0</td>\n",
              "      <td>1605</td>\n",
              "      <td>1547.0</td>\n",
              "      <td>0.0</td>\n",
              "      <td>OnTime_Early</td>\n",
              "    </tr>\n",
              "    <tr>\n",
              "      <th>4</th>\n",
              "      <td>2022-04-04</td>\n",
              "      <td>Commutair Aka Champlain Enterprises, Inc.</td>\n",
              "      <td>N17146</td>\n",
              "      <td>4295</td>\n",
              "      <td>DRO</td>\n",
              "      <td>DEN</td>\n",
              "      <td>False</td>\n",
              "      <td>False</td>\n",
              "      <td>1135</td>\n",
              "      <td>1135.0</td>\n",
              "      <td>0.0</td>\n",
              "      <td>11413</td>\n",
              "      <td>Durango, CO</td>\n",
              "      <td>Colorado</td>\n",
              "      <td>11292</td>\n",
              "      <td>Denver, CO</td>\n",
              "      <td>Colorado</td>\n",
              "      <td>19.0</td>\n",
              "      <td>8.0</td>\n",
              "      <td>1245</td>\n",
              "      <td>1251.0</td>\n",
              "      <td>6.0</td>\n",
              "      <td>OnTime_Early</td>\n",
              "    </tr>\n",
              "  </tbody>\n",
              "</table>\n",
              "</div>"
            ],
            "text/plain": [
              "  FlightDate                                    Airline Tail_Number  \\\n",
              "0 2022-04-04  Commutair Aka Champlain Enterprises, Inc.      N21144   \n",
              "1 2022-04-04  Commutair Aka Champlain Enterprises, Inc.      N16170   \n",
              "2 2022-04-04  Commutair Aka Champlain Enterprises, Inc.      N21144   \n",
              "3 2022-04-04  Commutair Aka Champlain Enterprises, Inc.      N11184   \n",
              "4 2022-04-04  Commutair Aka Champlain Enterprises, Inc.      N17146   \n",
              "\n",
              "   Flight_Number_Marketing_Airline Origin Dest  Cancelled  Diverted  \\\n",
              "0                             4301    GJT  DEN      False     False   \n",
              "1                             4299    HRL  IAH      False     False   \n",
              "2                             4298    DRO  DEN      False     False   \n",
              "3                             4296    IAH  GPT      False     False   \n",
              "4                             4295    DRO  DEN      False     False   \n",
              "\n",
              "   CRSDepTime  DepTime  DepDelayMinutes  OriginAirportID  \\\n",
              "0        1133   1123.0              0.0            11921   \n",
              "1         732    728.0              0.0            12206   \n",
              "2        1529   1514.0              0.0            11413   \n",
              "3        1435   1430.0              0.0            12266   \n",
              "4        1135   1135.0              0.0            11413   \n",
              "\n",
              "             OriginCityName OriginStateName  DestAirportID  \\\n",
              "0        Grand Junction, CO        Colorado          11292   \n",
              "1  Harlingen/San Benito, TX           Texas          12266   \n",
              "2               Durango, CO        Colorado          11292   \n",
              "3               Houston, TX           Texas          11973   \n",
              "4               Durango, CO        Colorado          11292   \n",
              "\n",
              "          DestCityName DestStateName  TaxiOut  TaxiIn  CRSArrTime  ArrTime  \\\n",
              "0           Denver, CO      Colorado     17.0     8.0        1245   1228.0   \n",
              "1          Houston, TX         Texas     16.0     9.0         849    848.0   \n",
              "2           Denver, CO      Colorado     21.0    14.0        1639   1636.0   \n",
              "3  Gulfport/Biloxi, MS   Mississippi     16.0     4.0        1605   1547.0   \n",
              "4           Denver, CO      Colorado     19.0     8.0        1245   1251.0   \n",
              "\n",
              "   ArrDelayMinutes    DelayGroup  \n",
              "0              0.0  OnTime_Early  \n",
              "1              0.0  OnTime_Early  \n",
              "2              0.0  OnTime_Early  \n",
              "3              0.0  OnTime_Early  \n",
              "4              6.0  OnTime_Early  "
            ]
          },
          "execution_count": 18,
          "metadata": {},
          "output_type": "execute_result"
        }
      ],
      "source": [
        "df.head()"
      ]
    },
    {
      "cell_type": "markdown",
      "id": "ee487ad6",
      "metadata": {
        "papermill": {
          "duration": 0.016675,
          "end_time": "2022-11-11T16:29:16.668509",
          "exception": false,
          "start_time": "2022-11-11T16:29:16.651834",
          "status": "completed"
        },
        "tags": [],
        "id": "ee487ad6"
      },
      "source": [
        "### 6. Cancellations and Diversions:\n",
        "- Cancelled flights"
      ]
    },
    {
      "cell_type": "code",
      "execution_count": null,
      "id": "bdde8228",
      "metadata": {
        "execution": {
          "iopub.execute_input": "2022-11-11T16:29:16.704409Z",
          "iopub.status.busy": "2022-11-11T16:29:16.703826Z",
          "iopub.status.idle": "2022-11-11T16:29:19.617565Z",
          "shell.execute_reply": "2022-11-11T16:29:19.616588Z"
        },
        "papermill": {
          "duration": 2.934328,
          "end_time": "2022-11-11T16:29:19.619742",
          "exception": false,
          "start_time": "2022-11-11T16:29:16.685414",
          "status": "completed"
        },
        "tags": [],
        "id": "bdde8228",
        "outputId": "3dd36d20-310d-4e4a-fb35-17a960b5bb27"
      },
      "outputs": [
        {
          "name": "stdout",
          "output_type": "stream",
          "text": [
            "False    28416515\n",
            "True       777267\n",
            "Name: Cancelled, dtype: int64\n",
            "Percent Cancelled : 2.66 % of all flights\n"
          ]
        }
      ],
      "source": [
        "print(df['Cancelled'].value_counts())\n",
        "print('Percent Cancelled :', round(sum(df['Cancelled'] == True) / len(df['Cancelled']) * 100, 2), '% of all flights')"
      ]
    },
    {
      "cell_type": "markdown",
      "id": "05123f5a",
      "metadata": {
        "papermill": {
          "duration": 0.017824,
          "end_time": "2022-11-11T16:29:19.656385",
          "exception": false,
          "start_time": "2022-11-11T16:29:19.638561",
          "status": "completed"
        },
        "tags": [],
        "id": "05123f5a"
      },
      "source": [
        "- Diverted flights"
      ]
    },
    {
      "cell_type": "code",
      "execution_count": null,
      "id": "8b966e8e",
      "metadata": {
        "execution": {
          "iopub.execute_input": "2022-11-11T16:29:19.693084Z",
          "iopub.status.busy": "2022-11-11T16:29:19.692658Z",
          "iopub.status.idle": "2022-11-11T16:29:22.604085Z",
          "shell.execute_reply": "2022-11-11T16:29:22.602571Z"
        },
        "papermill": {
          "duration": 2.932657,
          "end_time": "2022-11-11T16:29:22.606542",
          "exception": false,
          "start_time": "2022-11-11T16:29:19.673885",
          "status": "completed"
        },
        "tags": [],
        "id": "8b966e8e",
        "outputId": "0ca7a4d6-b285-4711-8ffe-92ab0849ce3a"
      },
      "outputs": [
        {
          "name": "stdout",
          "output_type": "stream",
          "text": [
            "False    29125433\n",
            "True        68349\n",
            "Name: Diverted, dtype: int64\n",
            "Percent Diverted : 0.23 % of all flights\n"
          ]
        }
      ],
      "source": [
        "print(df['Diverted'].value_counts())\n",
        "print('Percent Diverted :', round(sum(df['Diverted'] == True) / len(df['Diverted']) * 100, 2), '% of all flights') "
      ]
    },
    {
      "cell_type": "code",
      "execution_count": null,
      "id": "d78a3465",
      "metadata": {
        "execution": {
          "iopub.execute_input": "2022-11-11T16:29:22.643521Z",
          "iopub.status.busy": "2022-11-11T16:29:22.643139Z",
          "iopub.status.idle": "2022-11-11T16:29:22.647605Z",
          "shell.execute_reply": "2022-11-11T16:29:22.646573Z"
        },
        "papermill": {
          "duration": 0.025018,
          "end_time": "2022-11-11T16:29:22.649425",
          "exception": false,
          "start_time": "2022-11-11T16:29:22.624407",
          "status": "completed"
        },
        "tags": [],
        "id": "d78a3465"
      },
      "outputs": [],
      "source": [
        "#plt.figure(figsize=(12,8))\n",
        "#sns.scatterplot(data=df[df['DelayGroup'] == 'Large_Delay'], x='DepDelayMinutes', y='ArrDelayMinutes')"
      ]
    },
    {
      "cell_type": "code",
      "execution_count": null,
      "id": "9fd6d140",
      "metadata": {
        "execution": {
          "iopub.execute_input": "2022-11-11T16:29:22.688442Z",
          "iopub.status.busy": "2022-11-11T16:29:22.688041Z",
          "iopub.status.idle": "2022-11-11T16:29:22.693087Z",
          "shell.execute_reply": "2022-11-11T16:29:22.692003Z"
        },
        "papermill": {
          "duration": 0.027137,
          "end_time": "2022-11-11T16:29:22.696006",
          "exception": false,
          "start_time": "2022-11-11T16:29:22.668869",
          "status": "completed"
        },
        "tags": [],
        "id": "9fd6d140"
      },
      "outputs": [],
      "source": [
        "#Diverted = df[df['Diverted'] == True]"
      ]
    },
    {
      "cell_type": "code",
      "execution_count": null,
      "id": "cf7b31ec",
      "metadata": {
        "execution": {
          "iopub.execute_input": "2022-11-11T16:29:22.734838Z",
          "iopub.status.busy": "2022-11-11T16:29:22.734471Z",
          "iopub.status.idle": "2022-11-11T16:29:23.716559Z",
          "shell.execute_reply": "2022-11-11T16:29:23.715226Z"
        },
        "papermill": {
          "duration": 1.003343,
          "end_time": "2022-11-11T16:29:23.718367",
          "exception": false,
          "start_time": "2022-11-11T16:29:22.715024",
          "status": "completed"
        },
        "tags": [],
        "id": "cf7b31ec",
        "outputId": "5fa1f9a9-9654-43c5-cfdf-65713cde9065"
      },
      "outputs": [
        {
          "data": {
            "text/plain": [
              "OnTime_Early    19240509\n",
              "Small_Delay      4434918\n",
              "Medium_Delay     2515582\n",
              "Large_Delay      2224393\n",
              "Cancelled         777267\n",
              "Name: DelayGroup, dtype: int64"
            ]
          },
          "execution_count": 23,
          "metadata": {},
          "output_type": "execute_result"
        }
      ],
      "source": [
        "df['DelayGroup'].value_counts()"
      ]
    },
    {
      "cell_type": "code",
      "execution_count": null,
      "id": "87473f3c",
      "metadata": {
        "execution": {
          "iopub.execute_input": "2022-11-11T16:29:23.754642Z",
          "iopub.status.busy": "2022-11-11T16:29:23.754267Z",
          "iopub.status.idle": "2022-11-11T16:29:23.758821Z",
          "shell.execute_reply": "2022-11-11T16:29:23.757747Z"
        },
        "papermill": {
          "duration": 0.025768,
          "end_time": "2022-11-11T16:29:23.761537",
          "exception": false,
          "start_time": "2022-11-11T16:29:23.735769",
          "status": "completed"
        },
        "tags": [],
        "id": "87473f3c"
      },
      "outputs": [],
      "source": [
        "#Diverted['DelayGroup'].value_counts()"
      ]
    },
    {
      "cell_type": "code",
      "execution_count": null,
      "id": "109904b3",
      "metadata": {
        "execution": {
          "iopub.execute_input": "2022-11-11T16:29:23.798826Z",
          "iopub.status.busy": "2022-11-11T16:29:23.797922Z",
          "iopub.status.idle": "2022-11-11T16:29:23.802903Z",
          "shell.execute_reply": "2022-11-11T16:29:23.801987Z"
        },
        "papermill": {
          "duration": 0.025291,
          "end_time": "2022-11-11T16:29:23.804578",
          "exception": false,
          "start_time": "2022-11-11T16:29:23.779287",
          "status": "completed"
        },
        "tags": [],
        "id": "109904b3"
      },
      "outputs": [],
      "source": [
        "pal = sns.color_palette()"
      ]
    },
    {
      "cell_type": "markdown",
      "id": "bade30bb",
      "metadata": {
        "papermill": {
          "duration": 0.017253,
          "end_time": "2022-11-11T16:29:23.839277",
          "exception": false,
          "start_time": "2022-11-11T16:29:23.822024",
          "status": "completed"
        },
        "tags": [],
        "id": "bade30bb"
      },
      "source": [
        "### 7. Plotting the delay groups"
      ]
    },
    {
      "cell_type": "code",
      "execution_count": null,
      "id": "bff28fce",
      "metadata": {
        "execution": {
          "iopub.execute_input": "2022-11-11T16:29:23.875025Z",
          "iopub.status.busy": "2022-11-11T16:29:23.874648Z",
          "iopub.status.idle": "2022-11-11T16:29:25.014418Z",
          "shell.execute_reply": "2022-11-11T16:29:25.012903Z"
        },
        "papermill": {
          "duration": 1.160376,
          "end_time": "2022-11-11T16:29:25.016852",
          "exception": false,
          "start_time": "2022-11-11T16:29:23.856476",
          "status": "completed"
        },
        "tags": [],
        "id": "bff28fce",
        "outputId": "553cb96a-4cea-40f9-81ca-be869ec33fab"
      },
      "outputs": [
        {
          "data": {
            "text/plain": [
              "<AxesSubplot:title={'center':'Delay Category'}>"
            ]
          },
          "execution_count": 26,
          "metadata": {},
          "output_type": "execute_result"
        },
        {
          "data": {
            "image/png": "[encoded data removed]",
            "text/plain": [
              "<Figure size 720x360 with 1 Axes>"
            ]
          },
          "metadata": {
            "needs_background": "light"
          },
          "output_type": "display_data"
        }
      ],
      "source": [
        "df['DelayGroup'].value_counts(ascending=True).plot(kind='barh', color=pal[5], title='Delay Category', figsize=(10,5))"
      ]
    },
    {
      "cell_type": "code",
      "execution_count": null,
      "id": "2b530dd7",
      "metadata": {
        "execution": {
          "iopub.execute_input": "2022-11-11T16:29:25.055340Z",
          "iopub.status.busy": "2022-11-11T16:29:25.054969Z",
          "iopub.status.idle": "2022-11-11T16:29:26.033638Z",
          "shell.execute_reply": "2022-11-11T16:29:26.032212Z"
        },
        "papermill": {
          "duration": 1.000318,
          "end_time": "2022-11-11T16:29:26.035785",
          "exception": false,
          "start_time": "2022-11-11T16:29:25.035467",
          "status": "completed"
        },
        "tags": [],
        "id": "2b530dd7",
        "outputId": "46023b84-bbec-4395-851b-55cc9fd70c12"
      },
      "outputs": [
        {
          "data": {
            "text/plain": [
              "1113"
            ]
          },
          "execution_count": 27,
          "metadata": {},
          "output_type": "execute_result"
        }
      ],
      "source": [
        "df['DelayGroup'].isna().sum()"
      ]
    },
    {
      "cell_type": "code",
      "execution_count": null,
      "id": "b8864bf0",
      "metadata": {
        "execution": {
          "iopub.execute_input": "2022-11-11T16:29:26.074089Z",
          "iopub.status.busy": "2022-11-11T16:29:26.073706Z",
          "iopub.status.idle": "2022-11-11T16:29:26.079475Z",
          "shell.execute_reply": "2022-11-11T16:29:26.078079Z"
        },
        "papermill": {
          "duration": 0.028435,
          "end_time": "2022-11-11T16:29:26.082259",
          "exception": false,
          "start_time": "2022-11-11T16:29:26.053824",
          "status": "completed"
        },
        "tags": [],
        "id": "b8864bf0"
      },
      "outputs": [],
      "source": [
        "#Diverted['DelayGroup'].value_counts(ascending=True).plot(kind='barh', color=pal[4], title='Delay Category - Diverted -', figsize=(10,5))"
      ]
    },
    {
      "cell_type": "markdown",
      "id": "94b5140c",
      "metadata": {
        "papermill": {
          "duration": 0.017597,
          "end_time": "2022-11-11T16:29:26.118450",
          "exception": false,
          "start_time": "2022-11-11T16:29:26.100853",
          "status": "completed"
        },
        "tags": [],
        "id": "94b5140c"
      },
      "source": [
        "Diversion implies that the aircraft is diverted to a different destination field. This has no impact in depature delay calculations."
      ]
    },
    {
      "cell_type": "code",
      "execution_count": null,
      "id": "4d14235d",
      "metadata": {
        "execution": {
          "iopub.execute_input": "2022-11-11T16:29:26.154930Z",
          "iopub.status.busy": "2022-11-11T16:29:26.154161Z",
          "iopub.status.idle": "2022-11-11T16:29:28.102388Z",
          "shell.execute_reply": "2022-11-11T16:29:28.100643Z"
        },
        "papermill": {
          "duration": 1.969512,
          "end_time": "2022-11-11T16:29:28.105296",
          "exception": false,
          "start_time": "2022-11-11T16:29:26.135784",
          "status": "completed"
        },
        "tags": [],
        "id": "4d14235d",
        "outputId": "6e14f9dc-cf5f-4ea8-d9f7-de9a48647b95"
      },
      "outputs": [
        {
          "name": "stdout",
          "output_type": "stream",
          "text": [
            "OnTime_Early    65.91\n",
            "Small_Delay     15.19\n",
            "Medium_Delay     8.62\n",
            "Large_Delay      7.62\n",
            "Cancelled        2.66\n",
            "Name: DelayGroup, dtype: float64\n",
            "99.99618754432022\n"
          ]
        }
      ],
      "source": [
        "print((df['DelayGroup'].value_counts() / df.shape[0] * 100).round(2))\n",
        "print(sum(df['DelayGroup'].value_counts() / df.shape[0] * 100))"
      ]
    },
    {
      "cell_type": "code",
      "execution_count": null,
      "id": "5e4c7b94",
      "metadata": {
        "execution": {
          "iopub.execute_input": "2022-11-11T16:29:28.146072Z",
          "iopub.status.busy": "2022-11-11T16:29:28.145687Z",
          "iopub.status.idle": "2022-11-11T16:29:28.150585Z",
          "shell.execute_reply": "2022-11-11T16:29:28.149119Z"
        },
        "papermill": {
          "duration": 0.02925,
          "end_time": "2022-11-11T16:29:28.153244",
          "exception": false,
          "start_time": "2022-11-11T16:29:28.123994",
          "status": "completed"
        },
        "tags": [],
        "id": "5e4c7b94"
      },
      "outputs": [],
      "source": [
        "#df[df['DelayGroup'].isna()]"
      ]
    },
    {
      "cell_type": "code",
      "execution_count": null,
      "id": "1c2f9ce0",
      "metadata": {
        "execution": {
          "iopub.execute_input": "2022-11-11T16:29:28.190961Z",
          "iopub.status.busy": "2022-11-11T16:29:28.190497Z",
          "iopub.status.idle": "2022-11-11T16:29:29.152758Z",
          "shell.execute_reply": "2022-11-11T16:29:29.151721Z"
        },
        "papermill": {
          "duration": 0.983251,
          "end_time": "2022-11-11T16:29:29.154707",
          "exception": false,
          "start_time": "2022-11-11T16:29:28.171456",
          "status": "completed"
        },
        "tags": [],
        "id": "1c2f9ce0",
        "outputId": "e5818ad6-e5a4-46db-cfeb-c3cf7f417438"
      },
      "outputs": [
        {
          "data": {
            "text/plain": [
              "OnTime_Early    65.908701\n",
              "Small_Delay     15.191889\n",
              "Medium_Delay     8.617170\n",
              "Large_Delay      7.619697\n",
              "Cancelled        2.662542\n",
              "Name: DelayGroup, dtype: float64"
            ]
          },
          "execution_count": 31,
          "metadata": {},
          "output_type": "execute_result"
        }
      ],
      "source": [
        "df['DelayGroup'].value_counts(normalize=True) * 100 # normalize to return proportions rather than frequencies."
      ]
    },
    {
      "cell_type": "code",
      "execution_count": null,
      "id": "a341bf1d",
      "metadata": {
        "execution": {
          "iopub.execute_input": "2022-11-11T16:29:29.192769Z",
          "iopub.status.busy": "2022-11-11T16:29:29.192411Z",
          "iopub.status.idle": "2022-11-11T16:29:42.724460Z",
          "shell.execute_reply": "2022-11-11T16:29:42.723021Z"
        },
        "papermill": {
          "duration": 13.554375,
          "end_time": "2022-11-11T16:29:42.727423",
          "exception": false,
          "start_time": "2022-11-11T16:29:29.173048",
          "status": "completed"
        },
        "tags": [],
        "id": "a341bf1d",
        "outputId": "a32229de-7603-4ea9-bec8-6dbb526eb15d"
      },
      "outputs": [
        {
          "data": {
            "text/plain": [
              "Text(0.5, 0.98, 'Delay Groups')"
            ]
          },
          "execution_count": 32,
          "metadata": {},
          "output_type": "execute_result"
        },
        {
          "data": {
            "image/png": "[encoded data removed]",
            "text/plain": [
              "<Figure size 576x432 with 1 Axes>"
            ]
          },
          "metadata": {
            "needs_background": "light"
          },
          "output_type": "display_data"
        }
      ],
      "source": [
        "plt.figure(figsize=(8,6))\n",
        "sns.countplot(data=df, x='DelayGroup')\n",
        "plt.suptitle('Delay Groups')"
      ]
    },
    {
      "cell_type": "code",
      "execution_count": null,
      "id": "3f3dcb59",
      "metadata": {
        "execution": {
          "iopub.execute_input": "2022-11-11T16:29:42.767264Z",
          "iopub.status.busy": "2022-11-11T16:29:42.766877Z",
          "iopub.status.idle": "2022-11-11T16:29:43.220704Z",
          "shell.execute_reply": "2022-11-11T16:29:43.219648Z"
        },
        "papermill": {
          "duration": 0.476397,
          "end_time": "2022-11-11T16:29:43.223147",
          "exception": false,
          "start_time": "2022-11-11T16:29:42.746750",
          "status": "completed"
        },
        "tags": [],
        "id": "3f3dcb59"
      },
      "outputs": [],
      "source": [
        "df['FlightDate'] = pd.to_datetime(df['FlightDate']) # Original as object."
      ]
    },
    {
      "cell_type": "code",
      "execution_count": null,
      "id": "b2c666b6",
      "metadata": {
        "execution": {
          "iopub.execute_input": "2022-11-11T16:29:43.263131Z",
          "iopub.status.busy": "2022-11-11T16:29:43.262720Z",
          "iopub.status.idle": "2022-11-11T16:29:43.740290Z",
          "shell.execute_reply": "2022-11-11T16:29:43.739071Z"
        },
        "papermill": {
          "duration": 0.500869,
          "end_time": "2022-11-11T16:29:43.742630",
          "exception": false,
          "start_time": "2022-11-11T16:29:43.241761",
          "status": "completed"
        },
        "tags": [],
        "id": "b2c666b6",
        "outputId": "7ab0082f-e029-4c41-b866-c9b0c965a305"
      },
      "outputs": [
        {
          "name": "stderr",
          "output_type": "stream",
          "text": [
            "/opt/conda/lib/python3.7/site-packages/ipykernel_launcher.py:1: FutureWarning: Treating datetime data as categorical rather than numeric in `.describe` is deprecated and will be removed in a future version of pandas. Specify `datetime_is_numeric=True` to silence this warning and adopt the future behavior now.\n",
            "  \"\"\"Entry point for launching an IPython kernel.\n"
          ]
        },
        {
          "data": {
            "text/plain": [
              "count                29193782\n",
              "unique                   1673\n",
              "top       2019-12-01 00:00:00\n",
              "freq                    24739\n",
              "first     2018-01-01 00:00:00\n",
              "last      2022-07-31 00:00:00\n",
              "Name: FlightDate, dtype: object"
            ]
          },
          "execution_count": 34,
          "metadata": {},
          "output_type": "execute_result"
        }
      ],
      "source": [
        "df['FlightDate'].describe()"
      ]
    },
    {
      "cell_type": "code",
      "execution_count": null,
      "id": "1a9cbd4c",
      "metadata": {
        "execution": {
          "iopub.execute_input": "2022-11-11T16:29:43.781941Z",
          "iopub.status.busy": "2022-11-11T16:29:43.781558Z",
          "iopub.status.idle": "2022-11-11T16:29:44.598916Z",
          "shell.execute_reply": "2022-11-11T16:29:44.597497Z"
        },
        "papermill": {
          "duration": 0.839836,
          "end_time": "2022-11-11T16:29:44.601265",
          "exception": false,
          "start_time": "2022-11-11T16:29:43.761429",
          "status": "completed"
        },
        "tags": [],
        "id": "1a9cbd4c"
      },
      "outputs": [],
      "source": [
        "df['Month'] = df['FlightDate'].dt.month  # Extract the months."
      ]
    },
    {
      "cell_type": "code",
      "execution_count": null,
      "id": "7b93aef0",
      "metadata": {
        "execution": {
          "iopub.execute_input": "2022-11-11T16:29:44.641497Z",
          "iopub.status.busy": "2022-11-11T16:29:44.641107Z",
          "iopub.status.idle": "2022-11-11T16:29:48.707946Z",
          "shell.execute_reply": "2022-11-11T16:29:48.706762Z"
        },
        "papermill": {
          "duration": 4.089141,
          "end_time": "2022-11-11T16:29:48.710070",
          "exception": false,
          "start_time": "2022-11-11T16:29:44.620929",
          "status": "completed"
        },
        "tags": [],
        "id": "7b93aef0",
        "outputId": "d05cbf34-66ae-4e93-85d8-73849544e293"
      },
      "outputs": [
        {
          "data": {
            "text/html": [
              "<style type=\"text/css\">\n",
              "#T_4628a_row0_col0 {\n",
              "  background-color: #3c8cc3;\n",
              "  color: #f1f1f1;\n",
              "}\n",
              "#T_4628a_row0_col1 {\n",
              "  background-color: #d1e2f3;\n",
              "  color: #000000;\n",
              "}\n",
              "#T_4628a_row0_col2 {\n",
              "  background-color: #bad6eb;\n",
              "  color: #000000;\n",
              "}\n",
              "#T_4628a_row0_col3 {\n",
              "  background-color: #c3daee;\n",
              "  color: #000000;\n",
              "}\n",
              "#T_4628a_row0_col4 {\n",
              "  background-color: #a4cce3;\n",
              "  color: #000000;\n",
              "}\n",
              "#T_4628a_row1_col0, #T_4628a_row9_col1 {\n",
              "  background-color: #91c3de;\n",
              "  color: #000000;\n",
              "}\n",
              "#T_4628a_row1_col1 {\n",
              "  background-color: #66abd4;\n",
              "  color: #f1f1f1;\n",
              "}\n",
              "#T_4628a_row1_col2 {\n",
              "  background-color: #64a9d3;\n",
              "  color: #f1f1f1;\n",
              "}\n",
              "#T_4628a_row1_col3 {\n",
              "  background-color: #89bedc;\n",
              "  color: #000000;\n",
              "}\n",
              "#T_4628a_row1_col4, #T_4628a_row7_col0 {\n",
              "  background-color: #9cc9e1;\n",
              "  color: #000000;\n",
              "}\n",
              "#T_4628a_row2_col0 {\n",
              "  background-color: #68acd5;\n",
              "  color: #f1f1f1;\n",
              "}\n",
              "#T_4628a_row2_col1, #T_4628a_row2_col2 {\n",
              "  background-color: #c7dcef;\n",
              "  color: #000000;\n",
              "}\n",
              "#T_4628a_row2_col3 {\n",
              "  background-color: #e8f1fa;\n",
              "  color: #000000;\n",
              "}\n",
              "#T_4628a_row2_col4 {\n",
              "  background-color: #1966ad;\n",
              "  color: #f1f1f1;\n",
              "}\n",
              "#T_4628a_row3_col0 {\n",
              "  background-color: #a0cbe2;\n",
              "  color: #000000;\n",
              "}\n",
              "#T_4628a_row3_col1, #T_4628a_row7_col4 {\n",
              "  background-color: #cddff1;\n",
              "  color: #000000;\n",
              "}\n",
              "#T_4628a_row3_col2, #T_4628a_row10_col2 {\n",
              "  background-color: #bfd8ed;\n",
              "  color: #000000;\n",
              "}\n",
              "#T_4628a_row3_col3 {\n",
              "  background-color: #cbdef1;\n",
              "  color: #000000;\n",
              "}\n",
              "#T_4628a_row3_col4, #T_4628a_row5_col1, #T_4628a_row5_col2, #T_4628a_row5_col3, #T_4628a_row8_col0 {\n",
              "  background-color: #08306b;\n",
              "  color: #f1f1f1;\n",
              "}\n",
              "#T_4628a_row4_col0 {\n",
              "  background-color: #8fc2de;\n",
              "  color: #000000;\n",
              "}\n",
              "#T_4628a_row4_col1 {\n",
              "  background-color: #2575b7;\n",
              "  color: #f1f1f1;\n",
              "}\n",
              "#T_4628a_row4_col2 {\n",
              "  background-color: #58a1cf;\n",
              "  color: #f1f1f1;\n",
              "}\n",
              "#T_4628a_row4_col3 {\n",
              "  background-color: #81badb;\n",
              "  color: #000000;\n",
              "}\n",
              "#T_4628a_row4_col4 {\n",
              "  background-color: #d4e4f4;\n",
              "  color: #000000;\n",
              "}\n",
              "#T_4628a_row5_col0, #T_4628a_row8_col1, #T_4628a_row8_col2, #T_4628a_row8_col3, #T_4628a_row10_col4 {\n",
              "  background-color: #f7fbff;\n",
              "  color: #000000;\n",
              "}\n",
              "#T_4628a_row5_col4 {\n",
              "  background-color: #d2e3f3;\n",
              "  color: #000000;\n",
              "}\n",
              "#T_4628a_row6_col0 {\n",
              "  background-color: #d3e3f3;\n",
              "  color: #000000;\n",
              "}\n",
              "#T_4628a_row6_col1 {\n",
              "  background-color: #1e6db2;\n",
              "  color: #f1f1f1;\n",
              "}\n",
              "#T_4628a_row6_col2 {\n",
              "  background-color: #125da6;\n",
              "  color: #f1f1f1;\n",
              "}\n",
              "#T_4628a_row6_col3 {\n",
              "  background-color: #084e98;\n",
              "  color: #f1f1f1;\n",
              "}\n",
              "#T_4628a_row6_col4 {\n",
              "  background-color: #dce9f6;\n",
              "  color: #000000;\n",
              "}\n",
              "#T_4628a_row7_col1 {\n",
              "  background-color: #82bbdb;\n",
              "  color: #000000;\n",
              "}\n",
              "#T_4628a_row7_col2 {\n",
              "  background-color: #4e9acb;\n",
              "  color: #f1f1f1;\n",
              "}\n",
              "#T_4628a_row7_col3 {\n",
              "  background-color: #2a7ab9;\n",
              "  color: #f1f1f1;\n",
              "}\n",
              "#T_4628a_row8_col4 {\n",
              "  background-color: #e5eff9;\n",
              "  color: #000000;\n",
              "}\n",
              "#T_4628a_row9_col0 {\n",
              "  background-color: #2070b4;\n",
              "  color: #f1f1f1;\n",
              "}\n",
              "#T_4628a_row9_col2 {\n",
              "  background-color: #b3d3e8;\n",
              "  color: #000000;\n",
              "}\n",
              "#T_4628a_row9_col3 {\n",
              "  background-color: #dae8f6;\n",
              "  color: #000000;\n",
              "}\n",
              "#T_4628a_row9_col4 {\n",
              "  background-color: #eef5fc;\n",
              "  color: #000000;\n",
              "}\n",
              "#T_4628a_row10_col0 {\n",
              "  background-color: #1865ac;\n",
              "  color: #f1f1f1;\n",
              "}\n",
              "#T_4628a_row10_col1 {\n",
              "  background-color: #6fb0d7;\n",
              "  color: #f1f1f1;\n",
              "}\n",
              "#T_4628a_row10_col3 {\n",
              "  background-color: #f2f7fd;\n",
              "  color: #000000;\n",
              "}\n",
              "#T_4628a_row11_col0 {\n",
              "  background-color: #a8cee4;\n",
              "  color: #000000;\n",
              "}\n",
              "#T_4628a_row11_col1 {\n",
              "  background-color: #0a539e;\n",
              "  color: #f1f1f1;\n",
              "}\n",
              "#T_4628a_row11_col2 {\n",
              "  background-color: #2171b5;\n",
              "  color: #f1f1f1;\n",
              "}\n",
              "#T_4628a_row11_col3 {\n",
              "  background-color: #7db8da;\n",
              "  color: #000000;\n",
              "}\n",
              "#T_4628a_row11_col4 {\n",
              "  background-color: #e3eef9;\n",
              "  color: #000000;\n",
              "}\n",
              "</style>\n",
              "<table id=\"T_4628a_\">\n",
              "  <thead>\n",
              "    <tr>\n",
              "      <th class=\"index_name level0\" >DelayGroup</th>\n",
              "      <th class=\"col_heading level0 col0\" >OnTime_Early</th>\n",
              "      <th class=\"col_heading level0 col1\" >Small_Delay</th>\n",
              "      <th class=\"col_heading level0 col2\" >Medium_Delay</th>\n",
              "      <th class=\"col_heading level0 col3\" >Large_Delay</th>\n",
              "      <th class=\"col_heading level0 col4\" >Cancelled</th>\n",
              "    </tr>\n",
              "    <tr>\n",
              "      <th class=\"index_name level0\" >Month</th>\n",
              "      <th class=\"blank col0\" >&nbsp;</th>\n",
              "      <th class=\"blank col1\" >&nbsp;</th>\n",
              "      <th class=\"blank col2\" >&nbsp;</th>\n",
              "      <th class=\"blank col3\" >&nbsp;</th>\n",
              "      <th class=\"blank col4\" >&nbsp;</th>\n",
              "    </tr>\n",
              "  </thead>\n",
              "  <tbody>\n",
              "    <tr>\n",
              "      <th id=\"T_4628a_level0_row0\" class=\"row_heading level0 row0\" >1</th>\n",
              "      <td id=\"T_4628a_row0_col0\" class=\"data row0 col0\" >68.169907</td>\n",
              "      <td id=\"T_4628a_row0_col1\" class=\"data row0 col1\" >13.961832</td>\n",
              "      <td id=\"T_4628a_row0_col2\" class=\"data row0 col2\" >7.878093</td>\n",
              "      <td id=\"T_4628a_row0_col3\" class=\"data row0 col3\" >7.008976</td>\n",
              "      <td id=\"T_4628a_row0_col4\" class=\"data row0 col4\" >2.981192</td>\n",
              "    </tr>\n",
              "    <tr>\n",
              "      <th id=\"T_4628a_level0_row1\" class=\"row_heading level0 row1\" >2</th>\n",
              "      <td id=\"T_4628a_row1_col0\" class=\"data row1 col0\" >64.960611</td>\n",
              "      <td id=\"T_4628a_row1_col1\" class=\"data row1 col1\" >15.300969</td>\n",
              "      <td id=\"T_4628a_row1_col2\" class=\"data row1 col2\" >8.828322</td>\n",
              "      <td id=\"T_4628a_row1_col3\" class=\"data row1 col3\" >7.786858</td>\n",
              "      <td id=\"T_4628a_row1_col4\" class=\"data row1 col4\" >3.123240</td>\n",
              "    </tr>\n",
              "    <tr>\n",
              "      <th id=\"T_4628a_level0_row2\" class=\"row_heading level0 row2\" >3</th>\n",
              "      <td id=\"T_4628a_row2_col0\" class=\"data row2 col0\" >66.363322</td>\n",
              "      <td id=\"T_4628a_row2_col1\" class=\"data row2 col1\" >14.172305</td>\n",
              "      <td id=\"T_4628a_row2_col2\" class=\"data row2 col2\" >7.716007</td>\n",
              "      <td id=\"T_4628a_row2_col3\" class=\"data row2 col3\" >6.173113</td>\n",
              "      <td id=\"T_4628a_row2_col4\" class=\"data row2 col4\" >5.575252</td>\n",
              "    </tr>\n",
              "    <tr>\n",
              "      <th id=\"T_4628a_level0_row3\" class=\"row_heading level0 row3\" >4</th>\n",
              "      <td id=\"T_4628a_row3_col0\" class=\"data row3 col0\" >64.436275</td>\n",
              "      <td id=\"T_4628a_row3_col1\" class=\"data row3 col1\" >14.051844</td>\n",
              "      <td id=\"T_4628a_row3_col2\" class=\"data row3 col2\" >7.824258</td>\n",
              "      <td id=\"T_4628a_row3_col3\" class=\"data row3 col3\" >6.853866</td>\n",
              "      <td id=\"T_4628a_row3_col4\" class=\"data row3 col4\" >6.833756</td>\n",
              "    </tr>\n",
              "    <tr>\n",
              "      <th id=\"T_4628a_level0_row4\" class=\"row_heading level0 row4\" >5</th>\n",
              "      <td id=\"T_4628a_row4_col0\" class=\"data row4 col0\" >65.023841</td>\n",
              "      <td id=\"T_4628a_row4_col1\" class=\"data row4 col1\" >16.224252</td>\n",
              "      <td id=\"T_4628a_row4_col2\" class=\"data row4 col2\" >8.965554</td>\n",
              "      <td id=\"T_4628a_row4_col3\" class=\"data row4 col3\" >7.875154</td>\n",
              "      <td id=\"T_4628a_row4_col4\" class=\"data row4 col4\" >1.911198</td>\n",
              "    </tr>\n",
              "    <tr>\n",
              "      <th id=\"T_4628a_level0_row5\" class=\"row_heading level0 row5\" >6</th>\n",
              "      <td id=\"T_4628a_row5_col0\" class=\"data row5 col0\" >59.488265</td>\n",
              "      <td id=\"T_4628a_row5_col1\" class=\"data row5 col1\" >17.349791</td>\n",
              "      <td id=\"T_4628a_row5_col2\" class=\"data row5 col2\" >10.754222</td>\n",
              "      <td id=\"T_4628a_row5_col3\" class=\"data row5 col3\" >10.442093</td>\n",
              "      <td id=\"T_4628a_row5_col4\" class=\"data row5 col4\" >1.965629</td>\n",
              "    </tr>\n",
              "    <tr>\n",
              "      <th id=\"T_4628a_level0_row6\" class=\"row_heading level0 row6\" >7</th>\n",
              "      <td id=\"T_4628a_row6_col0\" class=\"data row6 col0\" >61.996702</td>\n",
              "      <td id=\"T_4628a_row6_col1\" class=\"data row6 col1\" >16.361900</td>\n",
              "      <td id=\"T_4628a_row6_col2\" class=\"data row6 col2\" >10.052315</td>\n",
              "      <td id=\"T_4628a_row6_col3\" class=\"data row6 col3\" >9.906083</td>\n",
              "      <td id=\"T_4628a_row6_col4\" class=\"data row6 col4\" >1.683000</td>\n",
              "    </tr>\n",
              "    <tr>\n",
              "      <th id=\"T_4628a_level0_row7\" class=\"row_heading level0 row7\" >8</th>\n",
              "      <td id=\"T_4628a_row7_col0\" class=\"data row7 col0\" >64.622096</td>\n",
              "      <td id=\"T_4628a_row7_col1\" class=\"data row7 col1\" >15.009025</td>\n",
              "      <td id=\"T_4628a_row7_col2\" class=\"data row7 col2\" >9.096512</td>\n",
              "      <td id=\"T_4628a_row7_col3\" class=\"data row7 col3\" >9.137345</td>\n",
              "      <td id=\"T_4628a_row7_col4\" class=\"data row7 col4\" >2.135022</td>\n",
              "    </tr>\n",
              "    <tr>\n",
              "      <th id=\"T_4628a_level0_row8\" class=\"row_heading level0 row8\" >9</th>\n",
              "      <td id=\"T_4628a_row8_col0\" class=\"data row8 col0\" >72.924881</td>\n",
              "      <td id=\"T_4628a_row8_col1\" class=\"data row8 col1\" >13.140776</td>\n",
              "      <td id=\"T_4628a_row8_col2\" class=\"data row8 col2\" >6.725733</td>\n",
              "      <td id=\"T_4628a_row8_col3\" class=\"data row8 col3\" >5.813787</td>\n",
              "      <td id=\"T_4628a_row8_col4\" class=\"data row8 col4\" >1.394822</td>\n",
              "    </tr>\n",
              "    <tr>\n",
              "      <th id=\"T_4628a_level0_row9\" class=\"row_heading level0 row9\" >10</th>\n",
              "      <td id=\"T_4628a_row9_col0\" class=\"data row9 col0\" >69.570264</td>\n",
              "      <td id=\"T_4628a_row9_col1\" class=\"data row9 col1\" >14.859330</td>\n",
              "      <td id=\"T_4628a_row9_col2\" class=\"data row9 col2\" >7.970955</td>\n",
              "      <td id=\"T_4628a_row9_col3\" class=\"data row9 col3\" >6.487423</td>\n",
              "      <td id=\"T_4628a_row9_col4\" class=\"data row9 col4\" >1.112028</td>\n",
              "    </tr>\n",
              "    <tr>\n",
              "      <th id=\"T_4628a_level0_row10\" class=\"row_heading level0 row10\" >11</th>\n",
              "      <td id=\"T_4628a_row10_col0\" class=\"data row10 col0\" >70.182986</td>\n",
              "      <td id=\"T_4628a_row10_col1\" class=\"data row10 col1\" >15.208750</td>\n",
              "      <td id=\"T_4628a_row10_col2\" class=\"data row10 col2\" >7.826532</td>\n",
              "      <td id=\"T_4628a_row10_col3\" class=\"data row10 col3\" >5.941371</td>\n",
              "      <td id=\"T_4628a_row10_col4\" class=\"data row10 col4\" >0.840361</td>\n",
              "    </tr>\n",
              "    <tr>\n",
              "      <th id=\"T_4628a_level0_row11\" class=\"row_heading level0 row11\" >12</th>\n",
              "      <td id=\"T_4628a_row11_col0\" class=\"data row11 col0\" >64.138827</td>\n",
              "      <td id=\"T_4628a_row11_col1\" class=\"data row11 col1\" >16.782343</td>\n",
              "      <td id=\"T_4628a_row11_col2\" class=\"data row11 col2\" >9.731652</td>\n",
              "      <td id=\"T_4628a_row11_col3\" class=\"data row11 col3\" >7.916722</td>\n",
              "      <td id=\"T_4628a_row11_col4\" class=\"data row11 col4\" >1.430456</td>\n",
              "    </tr>\n",
              "  </tbody>\n",
              "</table>\n"
            ],
            "text/plain": [
              "<pandas.io.formats.style.Styler at 0x7f6a0f37c450>"
            ]
          },
          "execution_count": 36,
          "metadata": {},
          "output_type": "execute_result"
        }
      ],
      "source": [
        "df_agg = df.groupby('Month')['DelayGroup'].value_counts(normalize=True).unstack() * 100 # Grouping by month and unstacking the delay group\n",
        "col_order = ['OnTime_Early','Small_Delay','Medium_Delay','Large_Delay','Cancelled'] # resorting the columns.\n",
        "df_agg[col_order].style.background_gradient(cmap='Blues')"
      ]
    },
    {
      "cell_type": "markdown",
      "id": "f9019866",
      "metadata": {
        "papermill": {
          "duration": 0.018263,
          "end_time": "2022-11-11T16:29:48.747338",
          "exception": false,
          "start_time": "2022-11-11T16:29:48.729075",
          "status": "completed"
        },
        "tags": [],
        "id": "f9019866"
      },
      "source": [
        "### 8. Calender delay map"
      ]
    },
    {
      "cell_type": "code",
      "execution_count": null,
      "id": "574bb284",
      "metadata": {
        "execution": {
          "iopub.execute_input": "2022-11-11T16:29:48.785985Z",
          "iopub.status.busy": "2022-11-11T16:29:48.785665Z",
          "iopub.status.idle": "2022-11-11T16:29:49.500753Z",
          "shell.execute_reply": "2022-11-11T16:29:49.499669Z"
        },
        "papermill": {
          "duration": 0.737013,
          "end_time": "2022-11-11T16:29:49.502762",
          "exception": false,
          "start_time": "2022-11-11T16:29:48.765749",
          "status": "completed"
        },
        "tags": [],
        "id": "574bb284",
        "outputId": "08cc9ea6-a054-4b63-b20c-25bb2cf6bd24"
      },
      "outputs": [
        {
          "data": {
            "text/plain": [
              "<AxesSubplot:>"
            ]
          },
          "execution_count": 37,
          "metadata": {},
          "output_type": "execute_result"
        },
        {
          "data": {
            "image/png": "[encoded data removed]",
            "text/plain": [
              "<Figure size 1440x720 with 1 Axes>"
            ]
          },
          "metadata": {
            "needs_background": "light"
          },
          "output_type": "display_data"
        }
      ],
      "source": [
        "events = df.groupby('FlightDate')['Cancelled'].mean()\n",
        "fig, ax = plt.subplots(figsize=(20,10))\n",
        "calmap.yearplot(events, year=2019, monthly_border=True)"
      ]
    },
    {
      "cell_type": "code",
      "execution_count": null,
      "id": "72bee47c",
      "metadata": {
        "execution": {
          "iopub.execute_input": "2022-11-11T16:29:49.543354Z",
          "iopub.status.busy": "2022-11-11T16:29:49.542749Z",
          "iopub.status.idle": "2022-11-11T16:29:49.548475Z",
          "shell.execute_reply": "2022-11-11T16:29:49.547836Z"
        },
        "papermill": {
          "duration": 0.028124,
          "end_time": "2022-11-11T16:29:49.550278",
          "exception": false,
          "start_time": "2022-11-11T16:29:49.522154",
          "status": "completed"
        },
        "tags": [],
        "id": "72bee47c",
        "outputId": "805f1d29-e4f3-49a1-d40a-ea9c6eaba1ad"
      },
      "outputs": [
        {
          "data": {
            "text/plain": [
              "\"\\nevents = df.groupby('FlightDate')['Cancelled'].mean()\\nfig, ax = plt.subplots(figsize=(20,10))\\ncalmap.yearplot(events, year=2019, monthly_border=True)\\ncalmap.yearplot(events.apply(np.log), year=2019, monthly_border=True)\\n# Applying log scaling.\\n\""
            ]
          },
          "execution_count": 38,
          "metadata": {},
          "output_type": "execute_result"
        }
      ],
      "source": [
        "'''\n",
        "events = df.groupby('FlightDate')['Cancelled'].mean()\n",
        "fig, ax = plt.subplots(figsize=(20,10))\n",
        "calmap.yearplot(events, year=2019, monthly_border=True)\n",
        "calmap.yearplot(events.apply(np.log), year=2019, monthly_border=True)\n",
        "# Applying log scaling.\n",
        "'''"
      ]
    },
    {
      "cell_type": "code",
      "execution_count": null,
      "id": "a86f255c",
      "metadata": {
        "execution": {
          "iopub.execute_input": "2022-11-11T16:29:49.592011Z",
          "iopub.status.busy": "2022-11-11T16:29:49.591107Z",
          "iopub.status.idle": "2022-11-11T16:29:50.293737Z",
          "shell.execute_reply": "2022-11-11T16:29:50.293038Z"
        },
        "papermill": {
          "duration": 0.726362,
          "end_time": "2022-11-11T16:29:50.295531",
          "exception": false,
          "start_time": "2022-11-11T16:29:49.569169",
          "status": "completed"
        },
        "tags": [],
        "id": "a86f255c",
        "outputId": "1c50bbce-04e7-414f-e54b-3f1322831d43"
      },
      "outputs": [
        {
          "data": {
            "text/plain": [
              "Text(0.4, 0.9, 'US Flight Cancellations')"
            ]
          },
          "execution_count": 39,
          "metadata": {},
          "output_type": "execute_result"
        },
        {
          "data": {
            "image/png": "[encoded data removed]",
            "text/plain": [
              "<Figure size 1728x1152 with 5 Axes>"
            ]
          },
          "metadata": {
            "needs_background": "light"
          },
          "output_type": "display_data"
        }
      ],
      "source": [
        "fig, axs = plt.subplots(5, 1, figsize=(24,16))  # 5 rowa 1 column\n",
        "for i, year in enumerate([2018, 2019, 2020, 2021, 2022]): # -- for the full set  in case loaded. \n",
        "    calmap.yearplot(events.apply(np.log), year=year, monthly_border=True, ax=axs[i])\n",
        "    axs[i].set_title(year)\n",
        "fig.suptitle('US Flight Cancellations', x= 0.4, y=0.9, fontsize=20)"
      ]
    },
    {
      "cell_type": "code",
      "execution_count": null,
      "id": "89525632",
      "metadata": {
        "execution": {
          "iopub.execute_input": "2022-11-11T16:29:50.338111Z",
          "iopub.status.busy": "2022-11-11T16:29:50.337245Z",
          "iopub.status.idle": "2022-11-11T16:29:52.199694Z",
          "shell.execute_reply": "2022-11-11T16:29:52.198422Z"
        },
        "papermill": {
          "duration": 1.886503,
          "end_time": "2022-11-11T16:29:52.202268",
          "exception": false,
          "start_time": "2022-11-11T16:29:50.315765",
          "status": "completed"
        },
        "tags": [],
        "id": "89525632",
        "outputId": "2a8b66d9-7b9e-48f0-f6e7-136d56249606"
      },
      "outputs": [
        {
          "data": {
            "text/html": [
              "        <script type=\"text/javascript\">\n",
              "        window.PlotlyConfig = {MathJaxConfig: 'local'};\n",
              "        if (window.MathJax && window.MathJax.Hub && window.MathJax.Hub.Config) {window.MathJax.Hub.Config({SVG: {font: \"STIX-Web\"}});}\n",
              "        if (typeof require !== 'undefined') {\n",
              "        require.undef(\"plotly\");\n",
              "        requirejs.config({\n",
              "            paths: {\n",
              "                'plotly': ['https://cdn.plot.ly/plotly-2.14.0.min']\n",
              "            }\n",
              "        });\n",
              "        require(['plotly'], function(Plotly) {\n",
              "            window._Plotly = Plotly;\n",
              "        });\n",
              "        }\n",
              "        </script>\n",
              "        "
            ]
          },
          "metadata": {},
          "output_type": "display_data"
        },
        {
          "data": {
            "text/html": [
              "<div>                            <div id=\"6c926374-3561-409f-84e0-c9b062276de3\" class=\"plotly-graph-div\" style=\"height:750px; width:1000px;\"></div>            <script type=\"text/javascript\">                require([\"plotly\"], function(Plotly) {                    window.PLOTLYENV=window.PLOTLYENV || {};                                    if (document.getElementById(\"6c926374-3561-409f-84e0-c9b062276de3\")) {                    Plotly.newPlot(                        \"6c926374-3561-409f-84e0-c9b062276de3\",                        [{\"colorscale\":[[0.0,\"rgb(247,252,245)\"],[0.125,\"rgb(229,245,224)\"],[0.25,\"rgb(199,233,192)\"],[0.375,\"rgb(161,217,155)\"],[0.5,\"rgb(116,196,118)\"],[0.625,\"rgb(65,171,93)\"],[0.75,\"rgb(35,139,69)\"],[0.875,\"rgb(0,109,44)\"],[1.0,\"rgb(0,68,27)\"]],\"customdata\":[[\"2018-01-01\",\"y\"],[\"2018-01-02\",\"y\"],[\"2018-01-03\",\"y\"],[\"2018-01-04\",\"y\"],[\"2018-01-05\",\"y\"],[\"2018-01-06\",\"y\"],[\"2018-01-07\",\"y\"],[\"2018-01-08\",\"y\"],[\"2018-01-09\",\"y\"],[\"2018-01-10\",\"y\"],[\"2018-01-11\",\"y\"],[\"2018-01-12\",\"y\"],[\"2018-01-13\",\"y\"],[\"2018-01-14\",\"y\"],[\"2018-01-15\",\"y\"],[\"2018-01-16\",\"y\"],[\"2018-01-17\",\"y\"],[\"2018-01-18\",\"y\"],[\"2018-01-19\",\"y\"],[\"2018-01-20\",\"y\"],[\"2018-01-21\",\"y\"],[\"2018-01-22\",\"y\"],[\"2018-01-23\",\"y\"],[\"2018-01-24\",\"y\"],[\"2018-01-25\",\"y\"],[\"2018-01-26\",\"y\"],[\"2018-01-27\",\"y\"],[\"2018-01-28\",\"y\"],[\"2018-01-29\",\"y\"],[\"2018-01-30\",\"y\"],[\"2018-01-31\",\"y\"],[\"2018-02-01\",\"y\"],[\"2018-02-02\",\"y\"],[\"2018-02-03\",\"y\"],[\"2018-02-04\",\"y\"],[\"2018-02-05\",\"y\"],[\"2018-02-06\",\"y\"],[\"2018-02-07\",\"y\"],[\"2018-02-08\",\"y\"],[\"2018-02-09\",\"y\"],[\"2018-02-10\",\"y\"],[\"2018-02-11\",\"y\"],[\"2018-02-12\",\"y\"],[\"2018-02-13\",\"y\"],[\"2018-02-14\",\"y\"],[\"2018-02-15\",\"y\"],[\"2018-02-16\",\"y\"],[\"2018-02-17\",\"y\"],[\"2018-02-18\",\"y\"],[\"2018-02-19\",\"y\"],[\"2018-02-20\",\"y\"],[\"2018-02-21\",\"y\"],[\"2018-02-22\",\"y\"],[\"2018-02-23\",\"y\"],[\"2018-02-24\",\"y\"],[\"2018-02-25\",\"y\"],[\"2018-02-26\",\"y\"],[\"2018-02-27\",\"y\"],[\"2018-02-28\",\"y\"],[\"2018-03-01\",\"y\"],[\"2018-03-02\",\"y\"],[\"2018-03-03\",\"y\"],[\"2018-03-04\",\"y\"],[\"2018-03-05\",\"y\"],[\"2018-03-06\",\"y\"],[\"2018-03-07\",\"y\"],[\"2018-03-08\",\"y\"],[\"2018-03-09\",\"y\"],[\"2018-03-10\",\"y\"],[\"2018-03-11\",\"y\"],[\"2018-03-12\",\"y\"],[\"2018-03-13\",\"y\"],[\"2018-03-14\",\"y\"],[\"2018-03-15\",\"y\"],[\"2018-03-16\",\"y\"],[\"2018-03-17\",\"y\"],[\"2018-03-18\",\"y\"],[\"2018-03-19\",\"y\"],[\"2018-03-20\",\"y\"],[\"2018-03-21\",\"y\"],[\"2018-03-22\",\"y\"],[\"2018-03-23\",\"y\"],[\"2018-03-24\",\"y\"],[\"2018-03-25\",\"y\"],[\"2018-03-26\",\"y\"],[\"2018-03-27\",\"y\"],[\"2018-03-28\",\"y\"],[\"2018-03-29\",\"y\"],[\"2018-03-30\",\"y\"],[\"2018-03-31\",\"y\"],[\"2018-04-01\",\"y\"],[\"2018-04-02\",\"y\"],[\"2018-04-03\",\"y\"],[\"2018-04-04\",\"y\"],[\"2018-04-05\",\"y\"],[\"2018-04-06\",\"y\"],[\"2018-04-07\",\"y\"],[\"2018-04-08\",\"y\"],[\"2018-04-09\",\"y\"],[\"2018-04-10\",\"y\"],[\"2018-04-11\",\"y\"],[\"2018-04-12\",\"y\"],[\"2018-04-13\",\"y\"],[\"2018-04-14\",\"y\"],[\"2018-04-15\",\"y\"],[\"2018-04-16\",\"y\"],[\"2018-04-17\",\"y\"],[\"2018-04-18\",\"y\"],[\"2018-04-19\",\"y\"],[\"2018-04-20\",\"y\"],[\"2018-04-21\",\"y\"],[\"2018-04-22\",\"y\"],[\"2018-04-23\",\"y\"],[\"2018-04-24\",\"y\"],[\"2018-04-25\",\"y\"],[\"2018-04-26\",\"y\"],[\"2018-04-27\",\"y\"],[\"2018-04-28\",\"y\"],[\"2018-04-29\",\"y\"],[\"2018-04-30\",\"y\"],[\"2018-05-01\",\"y\"],[\"2018-05-02\",\"y\"],[\"2018-05-03\",\"y\"],[\"2018-05-04\",\"y\"],[\"2018-05-05\",\"y\"],[\"2018-05-06\",\"y\"],[\"2018-05-07\",\"y\"],[\"2018-05-08\",\"y\"],[\"2018-05-09\",\"y\"],[\"2018-05-10\",\"y\"],[\"2018-05-11\",\"y\"],[\"2018-05-12\",\"y\"],[\"2018-05-13\",\"y\"],[\"2018-05-14\",\"y\"],[\"2018-05-15\",\"y\"],[\"2018-05-16\",\"y\"],[\"2018-05-17\",\"y\"],[\"2018-05-18\",\"y\"],[\"2018-05-19\",\"y\"],[\"2018-05-20\",\"y\"],[\"2018-05-21\",\"y\"],[\"2018-05-22\",\"y\"],[\"2018-05-23\",\"y\"],[\"2018-05-24\",\"y\"],[\"2018-05-25\",\"y\"],[\"2018-05-26\",\"y\"],[\"2018-05-27\",\"y\"],[\"2018-05-28\",\"y\"],[\"2018-05-29\",\"y\"],[\"2018-05-30\",\"y\"],[\"2018-05-31\",\"y\"],[\"2018-06-01\",\"y\"],[\"2018-06-02\",\"y\"],[\"2018-06-03\",\"y\"],[\"2018-06-04\",\"y\"],[\"2018-06-05\",\"y\"],[\"2018-06-06\",\"y\"],[\"2018-06-07\",\"y\"],[\"2018-06-08\",\"y\"],[\"2018-06-09\",\"y\"],[\"2018-06-10\",\"y\"],[\"2018-06-11\",\"y\"],[\"2018-06-12\",\"y\"],[\"2018-06-13\",\"y\"],[\"2018-06-14\",\"y\"],[\"2018-06-15\",\"y\"],[\"2018-06-16\",\"y\"],[\"2018-06-17\",\"y\"],[\"2018-06-18\",\"y\"],[\"2018-06-19\",\"y\"],[\"2018-06-20\",\"y\"],[\"2018-06-21\",\"y\"],[\"2018-06-22\",\"y\"],[\"2018-06-23\",\"y\"],[\"2018-06-24\",\"y\"],[\"2018-06-25\",\"y\"],[\"2018-06-26\",\"y\"],[\"2018-06-27\",\"y\"],[\"2018-06-28\",\"y\"],[\"2018-06-29\",\"y\"],[\"2018-06-30\",\"y\"],[\"2018-07-01\",\"y\"],[\"2018-07-02\",\"y\"],[\"2018-07-03\",\"y\"],[\"2018-07-04\",\"y\"],[\"2018-07-05\",\"y\"],[\"2018-07-06\",\"y\"],[\"2018-07-07\",\"y\"],[\"2018-07-08\",\"y\"],[\"2018-07-09\",\"y\"],[\"2018-07-10\",\"y\"],[\"2018-07-11\",\"y\"],[\"2018-07-12\",\"y\"],[\"2018-07-13\",\"y\"],[\"2018-07-14\",\"y\"],[\"2018-07-15\",\"y\"],[\"2018-07-16\",\"y\"],[\"2018-07-17\",\"y\"],[\"2018-07-18\",\"y\"],[\"2018-07-19\",\"y\"],[\"2018-07-20\",\"y\"],[\"2018-07-21\",\"y\"],[\"2018-07-22\",\"y\"],[\"2018-07-23\",\"y\"],[\"2018-07-24\",\"y\"],[\"2018-07-25\",\"y\"],[\"2018-07-26\",\"y\"],[\"2018-07-27\",\"y\"],[\"2018-07-28\",\"y\"],[\"2018-07-29\",\"y\"],[\"2018-07-30\",\"y\"],[\"2018-07-31\",\"y\"],[\"2018-08-01\",\"y\"],[\"2018-08-02\",\"y\"],[\"2018-08-03\",\"y\"],[\"2018-08-04\",\"y\"],[\"2018-08-05\",\"y\"],[\"2018-08-06\",\"y\"],[\"2018-08-07\",\"y\"],[\"2018-08-08\",\"y\"],[\"2018-08-09\",\"y\"],[\"2018-08-10\",\"y\"],[\"2018-08-11\",\"y\"],[\"2018-08-12\",\"y\"],[\"2018-08-13\",\"y\"],[\"2018-08-14\",\"y\"],[\"2018-08-15\",\"y\"],[\"2018-08-16\",\"y\"],[\"2018-08-17\",\"y\"],[\"2018-08-18\",\"y\"],[\"2018-08-19\",\"y\"],[\"2018-08-20\",\"y\"],[\"2018-08-21\",\"y\"],[\"2018-08-22\",\"y\"],[\"2018-08-23\",\"y\"],[\"2018-08-24\",\"y\"],[\"2018-08-25\",\"y\"],[\"2018-08-26\",\"y\"],[\"2018-08-27\",\"y\"],[\"2018-08-28\",\"y\"],[\"2018-08-29\",\"y\"],[\"2018-08-30\",\"y\"],[\"2018-08-31\",\"y\"],[\"2018-09-01\",\"y\"],[\"2018-09-02\",\"y\"],[\"2018-09-03\",\"y\"],[\"2018-09-04\",\"y\"],[\"2018-09-05\",\"y\"],[\"2018-09-06\",\"y\"],[\"2018-09-07\",\"y\"],[\"2018-09-08\",\"y\"],[\"2018-09-09\",\"y\"],[\"2018-09-10\",\"y\"],[\"2018-09-11\",\"y\"],[\"2018-09-12\",\"y\"],[\"2018-09-13\",\"y\"],[\"2018-09-14\",\"y\"],[\"2018-09-15\",\"y\"],[\"2018-09-16\",\"y\"],[\"2018-09-17\",\"y\"],[\"2018-09-18\",\"y\"],[\"2018-09-19\",\"y\"],[\"2018-09-20\",\"y\"],[\"2018-09-21\",\"y\"],[\"2018-09-22\",\"y\"],[\"2018-09-23\",\"y\"],[\"2018-09-24\",\"y\"],[\"2018-09-25\",\"y\"],[\"2018-09-26\",\"y\"],[\"2018-09-27\",\"y\"],[\"2018-09-28\",\"y\"],[\"2018-09-29\",\"y\"],[\"2018-09-30\",\"y\"],[\"2018-10-01\",\"y\"],[\"2018-10-02\",\"y\"],[\"2018-10-03\",\"y\"],[\"2018-10-04\",\"y\"],[\"2018-10-05\",\"y\"],[\"2018-10-06\",\"y\"],[\"2018-10-07\",\"y\"],[\"2018-10-08\",\"y\"],[\"2018-10-09\",\"y\"],[\"2018-10-10\",\"y\"],[\"2018-10-11\",\"y\"],[\"2018-10-12\",\"y\"],[\"2018-10-13\",\"y\"],[\"2018-10-14\",\"y\"],[\"2018-10-15\",\"y\"],[\"2018-10-16\",\"y\"],[\"2018-10-17\",\"y\"],[\"2018-10-18\",\"y\"],[\"2018-10-19\",\"y\"],[\"2018-10-20\",\"y\"],[\"2018-10-21\",\"y\"],[\"2018-10-22\",\"y\"],[\"2018-10-23\",\"y\"],[\"2018-10-24\",\"y\"],[\"2018-10-25\",\"y\"],[\"2018-10-26\",\"y\"],[\"2018-10-27\",\"y\"],[\"2018-10-28\",\"y\"],[\"2018-10-29\",\"y\"],[\"2018-10-30\",\"y\"],[\"2018-10-31\",\"y\"],[\"2018-11-01\",\"y\"],[\"2018-11-02\",\"y\"],[\"2018-11-03\",\"y\"],[\"2018-11-04\",\"y\"],[\"2018-11-05\",\"y\"],[\"2018-11-06\",\"y\"],[\"2018-11-07\",\"y\"],[\"2018-11-08\",\"y\"],[\"2018-11-09\",\"y\"],[\"2018-11-10\",\"y\"],[\"2018-11-11\",\"y\"],[\"2018-11-12\",\"y\"],[\"2018-11-13\",\"y\"],[\"2018-11-14\",\"y\"],[\"2018-11-15\",\"y\"],[\"2018-11-16\",\"y\"],[\"2018-11-17\",\"y\"],[\"2018-11-18\",\"y\"],[\"2018-11-19\",\"y\"],[\"2018-11-20\",\"y\"],[\"2018-11-21\",\"y\"],[\"2018-11-22\",\"y\"],[\"2018-11-23\",\"y\"],[\"2018-11-24\",\"y\"],[\"2018-11-25\",\"y\"],[\"2018-11-26\",\"y\"],[\"2018-11-27\",\"y\"],[\"2018-11-28\",\"y\"],[\"2018-11-29\",\"y\"],[\"2018-11-30\",\"y\"],[\"2018-12-01\",\"y\"],[\"2018-12-02\",\"y\"],[\"2018-12-03\",\"y\"],[\"2018-12-04\",\"y\"],[\"2018-12-05\",\"y\"],[\"2018-12-06\",\"y\"],[\"2018-12-07\",\"y\"],[\"2018-12-08\",\"y\"],[\"2018-12-09\",\"y\"],[\"2018-12-10\",\"y\"],[\"2018-12-11\",\"y\"],[\"2018-12-12\",\"y\"],[\"2018-12-13\",\"y\"],[\"2018-12-14\",\"y\"],[\"2018-12-15\",\"y\"],[\"2018-12-16\",\"y\"],[\"2018-12-17\",\"y\"],[\"2018-12-18\",\"y\"],[\"2018-12-19\",\"y\"],[\"2018-12-20\",\"y\"],[\"2018-12-21\",\"y\"],[\"2018-12-22\",\"y\"],[\"2018-12-23\",\"y\"],[\"2018-12-24\",\"y\"],[\"2018-12-25\",\"y\"],[\"2018-12-26\",\"y\"],[\"2018-12-27\",\"y\"],[\"2018-12-28\",\"y\"],[\"2018-12-29\",\"y\"],[\"2018-12-30\",\"y\"],[\"2018-12-31\",\"y\"]],\"hovertemplate\":\"%{customdata[0]} <br>%{customdata[1]}=%{z} <br>Week=%{x}\",\"name\":\"2018\",\"showscale\":false,\"x\":[1,1,1,1,1,1,1,2,2,2,2,2,2,2,3,3,3,3,3,3,3,4,4,4,4,4,4,4,5,5,5,5,5,5,5,6,6,6,6,6,6,6,7,7,7,7,7,7,7,8,8,8,8,8,8,8,9,9,9,9,9,9,9,10,10,10,10,10,10,10,11,11,11,11,11,11,11,12,12,12,12,12,12,12,13,13,13,13,13,13,13,14,14,14,14,14,14,14,15,15,15,15,15,15,15,16,16,16,16,16,16,16,17,17,17,17,17,17,17,18,18,18,18,18,18,18,19,19,19,19,19,19,19,20,20,20,20,20,20,20,21,21,21,21,21,21,21,22,22,22,22,22,22,22,23,23,23,23,23,23,23,24,24,24,24,24,24,24,25,25,25,25,25,25,25,26,26,26,26,26,26,26,27,27,27,27,27,27,27,28,28,28,28,28,28,28,29,29,29,29,29,29,29,30,30,30,30,30,30,30,31,31,31,31,31,31,31,32,32,32,32,32,32,32,33,33,33,33,33,33,33,34,34,34,34,34,34,34,35,35,35,35,35,35,35,36,36,36,36,36,36,36,37,37,37,37,37,37,37,38,38,38,38,38,38,38,39,39,39,39,39,39,39,40,40,40,40,40,40,40,41,41,41,41,41,41,41,42,42,42,42,42,42,42,43,43,43,43,43,43,43,44,44,44,44,44,44,44,45,45,45,45,45,45,45,46,46,46,46,46,46,46,47,47,47,47,47,47,47,48,48,48,48,48,48,48,49,49,49,49,49,49,49,50,50,50,50,50,50,50,51,51,51,51,51,51,51,52,52,52,52,52,52,52,53],\"xgap\":1,\"y\":[0,1,2,3,4,5,6,0,1,2,3,4,5,6,0,1,2,3,4,5,6,0,1,2,3,4,5,6,0,1,2,3,4,5,6,0,1,2,3,4,5,6,0,1,2,3,4,5,6,0,1,2,3,4,5,6,0,1,2,3,4,5,6,0,1,2,3,4,5,6,0,1,2,3,4,5,6,0,1,2,3,4,5,6,0,1,2,3,4,5,6,0,1,2,3,4,5,6,0,1,2,3,4,5,6,0,1,2,3,4,5,6,0,1,2,3,4,5,6,0,1,2,3,4,5,6,0,1,2,3,4,5,6,0,1,2,3,4,5,6,0,1,2,3,4,5,6,0,1,2,3,4,5,6,0,1,2,3,4,5,6,0,1,2,3,4,5,6,0,1,2,3,4,5,6,0,1,2,3,4,5,6,0,1,2,3,4,5,6,0,1,2,3,4,5,6,0,1,2,3,4,5,6,0,1,2,3,4,5,6,0,1,2,3,4,5,6,0,1,2,3,4,5,6,0,1,2,3,4,5,6,0,1,2,3,4,5,6,0,1,2,3,4,5,6,0,1,2,3,4,5,6,0,1,2,3,4,5,6,0,1,2,3,4,5,6,0,1,2,3,4,5,6,0,1,2,3,4,5,6,0,1,2,3,4,5,6,0,1,2,3,4,5,6,0,1,2,3,4,5,6,0,1,2,3,4,5,6,0,1,2,3,4,5,6,0,1,2,3,4,5,6,0,1,2,3,4,5,6,0,1,2,3,4,5,6,0,1,2,3,4,5,6,0,1,2,3,4,5,6,0,1,2,3,4,5,6,0,1,2,3,4,5,6,0],\"ygap\":1,\"z\":[0.00911854103343465,0.0068913669966169655,0.029237481278895618,0.19461738002594034,0.06514004786855554,0.01868860314671352,0.02705712788259958,0.032320123124278566,0.016750756811301715,0.011145757314403237,0.0107747562852745,0.05354190512527025,0.01414451261077028,0.0030422878004259203,0.01570444744802729,0.09227770683513677,0.09262572053269728,0.02501122298467261,0.0038883222845486998,0.0030423392208231217,0.030445613063935787,0.044785668586052464,0.017554479418886198,0.0035127253446447506,0.0013462401435989486,0.0008923449550640577,0.0020278833967046894,0.002562504328554609,0.004096,0.004370629370629371,0.001920021186440678,0.004585286325657224,0.0071565366394516685,0.002729528535980149,0.028977272727272727,0.03837221044128042,0.017263427109974423,0.07214765100671142,0.025390027531355153,0.09212916246215944,0.021547987616099072,0.057394668959587274,0.007787216828478965,0.004145408163265306,0.004540420819490587,0.031401204700306114,0.0016707616707616708,0.012762501450284255,0.00840772264895163,0.011060635986569228,0.02702702702702703,0.01680672268907563,0.006208731644821129,0.003928501276762915,0.009816376024945143,0.004327220276117865,0.004343105320304018,0.009208662214126695,0.00609878024395121,0.02188400576368876,0.10687365398420674,0.024688752901456005,0.006783493499152063,0.020001801964140913,0.008875739644970414,0.12354121079504012,0.02524494659722835,0.0026048450117218025,0.001562042370399297,0.0023934048399964544,0.017580144777662874,0.07427615946493003,0.014730236206746274,0.006116998363056776,0.005766913410225512,0.003002421307506053,0.0034424927178038664,0.007841447651874191,0.0375483644037988,0.19853645787960625,0.03461339762355777,0.004735663853969348,0.006578310921930928,0.002648772735299311,0.0020666494445879618,0.004575450945886493,0.017623451404641423,0.005773373545885394,0.001636238374095763,0.0025450274079874707,0.0018111416437671746,0.019153887463452472,0.01075400970933448,0.029589408821914465,0.004796738218011752,0.013125561881929877,0.003063904289466005,0.0012504689258471928,0.002379535990481856,0.0073370738023306,0.0012734990903577926,0.002133080523789773,0.0044922567679394725,0.044444444444444446,0.03657699269708507,0.040113764294602124,0.012140733399405352,0.007797270955165692,0.004386484884410196,0.0029571800331204164,0.004295403165033911,0.003848063555114201,0.00859157433193103,0.006265508684863524,0.01570070530512113,0.0033862056674389593,0.002960331557134399,0.002777777777777778,0.0019830203879283633,0.001128333036403587,0.00484304932735426,0.02493589176761871,0.028339735381988904,0.006296264783459542,0.002545565624681804,0.002801856229752211,0.003581478639038117,0.003945126871693715,0.009169458649268207,0.013651877133105802,0.00450335627495964,0.004167090151438155,0.006307490144546649,0.04231227651966627,0.06496644295302013,0.02259392241001839,0.006725121307567889,0.012710787221421913,0.00861370085123632,0.01499302649930265,0.009577082803627426,0.011782423812898653,0.0043448036148766075,0.003133468834688347,0.0055583628094997475,0.002415702063412179,0.006297353143756765,0.003423755596523571,0.0025323087670275934,0.020455522131499784,0.0232479499535041,0.014496846465216982,0.01849971799210378,0.007769253180538021,0.0034925429488389653,0.0035221602582917524,0.0034615384615384616,0.005023289798155083,0.006913490402983717,0.012721863137375602,0.024399399399399398,0.006018602954586905,0.0031766794356722413,0.005732778548312529,0.00503986071657656,0.004280120207631364,0.00582702923737477,0.009459586026037277,0.027517084282460136,0.06261647409616102,0.02386656837449318,0.013949671772428883,0.011349191937534047,0.005702066999287242,0.021989332834284645,0.009297238173366147,0.04480253353204173,0.011136677404509894,0.017475197961226905,0.009406657018813314,0.006080875646093037,0.01570017726006584,0.01235813366960908,0.014942099364960777,0.0050057758952637655,0.018217417212905422,0.012748469344963516,0.0043960069603443536,0.005514245133260924,0.010586319218241042,0.00956738768718802,0.006271144483868306,0.009453182299731073,0.006419111074997969,0.005007739233360648,0.03450580666722366,0.017523840573803896,0.0636613615532039,0.009410599306587419,0.0037566353613719887,0.013508015298234193,0.006012571740912818,0.025198827961490162,0.05288892510797816,0.04242020168347362,0.025037183936539417,0.003921248264030716,0.053706566848401006,0.008663140616450848,0.0041883062489529235,0.009292468209977176,0.008861394415649556,0.014842080265970078,0.06064516129032258,0.07642381008069232,0.018050541516245487,0.006149764861931749,0.012904739558892538,0.04283099450884686,0.05353901996370236,0.02051007668985197,0.012849360492657507,0.043723456102485556,0.028333128909603825,0.05606366551847013,0.03903481979230299,0.014165856031128405,0.007454675572519084,0.030173183360114264,0.023102772332679922,0.014096645121575869,0.02173134328358209,0.025966677145551714,0.007434483613159036,0.007604103802051901,0.011267775367558448,0.005657287479529552,0.0018809956737099506,0.0031454149528187757,0.03359596596281122,0.0068854289436139195,0.0033798056611744824,0.010400290240657879,0.017230111104509536,0.0038651736486102427,0.02590744724676157,0.007068452380952381,0.011717660187854553,0.024462328922839085,0.0263145975814122,0.010769318897863322,0.005839348935583245,0.008679561175485746,0.007656473409898067,0.012642110050022737,0.028566421310900807,0.04053699492740948,0.04910085123174925,0.03494673034533431,0.009250734359244159,0.01931656165202594,0.005492759544237142,0.00644200008764626,0.02343579205106904,0.013200203080047386,0.0026181617748380873,0.00355216418892251,0.0102608935719873,0.02120414093715946,0.005611819895655224,0.002798670631450061,0.007844243792325057,0.002804082007906592,0.0050006579813133304,0.007074817349486729,0.003928297286314174,0.00283187382912909,0.005032101336109665,0.005513981882630957,0.0046229947760159035,0.011771373762915812,0.02623787181706373,0.014545126027644774,0.04591061112800243,0.009969225434528196,0.014884449667058363,0.005689378297774719,0.00947002606429192,0.0038910505836575876,0.003725983120847549,0.004470680151048223,0.0043781698383111535,0.003304951826125924,0.003076640492262479,0.007168925964546402,0.005295315682281059,0.003413735794816512,0.003343900638381031,0.0045121263395375075,0.004899726526891523,0.0030995183825282533,0.0023420279206465833,0.0028448106729448697,0.005983048030580023,0.0036968576709796672,0.005476104272266474,0.0030997072498708455,0.003449722623653909,0.006822134034868685,0.008700997777462523,0.002770210997737661,0.0028981688842049796,0.006706996317727512,0.0020642201834862386,0.002349472520385129,0.004375218760938047,0.004828497244112422,0.006096184240234816,0.07920059215396003,0.02584201912309415,0.005780034572169404,0.003273089511882738,0.0019525801952580196,0.008156679962353785,0.003537684973467363,0.0017263379118817083,0.0019437526574743365,0.0030575539568345324,0.048645958611537345,0.06939471440750213,0.007776337715237919,0.0048541379146242805,0.007075259125732312,0.00646551724137931,0.007638521652270991,0.015027125642133564,0.005363773896300371,0.003189022033243139,0.0049328196936953865,0.004640684838927687,0.002379990120795725,0.016486438574720794,0.0821659743019998,0.029103075301342866,0.004631416441528367,0.002587261266346787,0.00301448753711869,0.00941492938802959,0.00329005346336878,0.01199421965317919,0.002879341864716636,0.0047384382107657315,0.003233194126364004,0.007818300939069666,0.010800452922219319,0.002925218211842416,0.0016594904915679942,0.002428281002936526,0.0031277150304083404,0.030109245936584067,0.03865672300428048,0.02376962427235844,0.008798070100752092,0.006468130979652338,0.015394518049670118],\"type\":\"heatmap\",\"xaxis\":\"x\",\"yaxis\":\"y\"},{\"hoverinfo\":\"skip\",\"line\":{\"color\":\"#9e9e9e\",\"width\":1},\"mode\":\"lines\",\"x\":[0.5,0.5],\"y\":[-0.5,6.5],\"type\":\"scatter\",\"xaxis\":\"x\",\"yaxis\":\"y\"},{\"hoverinfo\":\"skip\",\"line\":{\"color\":\"#9e9e9e\",\"width\":1},\"mode\":\"lines\",\"x\":[4.5,4.5],\"y\":[2.5,6.5],\"type\":\"scatter\",\"xaxis\":\"x\",\"yaxis\":\"y\"},{\"hoverinfo\":\"skip\",\"line\":{\"color\":\"#9e9e9e\",\"width\":1},\"mode\":\"lines\",\"x\":[4.5,5.5],\"y\":[2.5,2.5],\"type\":\"scatter\",\"xaxis\":\"x\",\"yaxis\":\"y\"},{\"hoverinfo\":\"skip\",\"line\":{\"color\":\"#9e9e9e\",\"width\":1},\"mode\":\"lines\",\"x\":[5.5,5.5],\"y\":[2.5,-0.5],\"type\":\"scatter\",\"xaxis\":\"x\",\"yaxis\":\"y\"},{\"hoverinfo\":\"skip\",\"line\":{\"color\":\"#9e9e9e\",\"width\":1},\"mode\":\"lines\",\"x\":[8.5,8.5],\"y\":[2.5,6.5],\"type\":\"scatter\",\"xaxis\":\"x\",\"yaxis\":\"y\"},{\"hoverinfo\":\"skip\",\"line\":{\"color\":\"#9e9e9e\",\"width\":1},\"mode\":\"lines\",\"x\":[8.5,9.5],\"y\":[2.5,2.5],\"type\":\"scatter\",\"xaxis\":\"x\",\"yaxis\":\"y\"},{\"hoverinfo\":\"skip\",\"line\":{\"color\":\"#9e9e9e\",\"width\":1},\"mode\":\"lines\",\"x\":[9.5,9.5],\"y\":[2.5,-0.5],\"type\":\"scatter\",\"xaxis\":\"x\",\"yaxis\":\"y\"},{\"hoverinfo\":\"skip\",\"line\":{\"color\":\"#9e9e9e\",\"width\":1},\"mode\":\"lines\",\"x\":[12.5,12.5],\"y\":[5.5,6.5],\"type\":\"scatter\",\"xaxis\":\"x\",\"yaxis\":\"y\"},{\"hoverinfo\":\"skip\",\"line\":{\"color\":\"#9e9e9e\",\"width\":1},\"mode\":\"lines\",\"x\":[12.5,13.5],\"y\":[5.5,5.5],\"type\":\"scatter\",\"xaxis\":\"x\",\"yaxis\":\"y\"},{\"hoverinfo\":\"skip\",\"line\":{\"color\":\"#9e9e9e\",\"width\":1},\"mode\":\"lines\",\"x\":[13.5,13.5],\"y\":[5.5,-0.5],\"type\":\"scatter\",\"xaxis\":\"x\",\"yaxis\":\"y\"},{\"hoverinfo\":\"skip\",\"line\":{\"color\":\"#9e9e9e\",\"width\":1},\"mode\":\"lines\",\"x\":[17.5,17.5],\"y\":[0.5,6.5],\"type\":\"scatter\",\"xaxis\":\"x\",\"yaxis\":\"y\"},{\"hoverinfo\":\"skip\",\"line\":{\"color\":\"#9e9e9e\",\"width\":1},\"mode\":\"lines\",\"x\":[17.5,18.5],\"y\":[0.5,0.5],\"type\":\"scatter\",\"xaxis\":\"x\",\"yaxis\":\"y\"},{\"hoverinfo\":\"skip\",\"line\":{\"color\":\"#9e9e9e\",\"width\":1},\"mode\":\"lines\",\"x\":[18.5,18.5],\"y\":[0.5,-0.5],\"type\":\"scatter\",\"xaxis\":\"x\",\"yaxis\":\"y\"},{\"hoverinfo\":\"skip\",\"line\":{\"color\":\"#9e9e9e\",\"width\":1},\"mode\":\"lines\",\"x\":[21.5,21.5],\"y\":[3.5,6.5],\"type\":\"scatter\",\"xaxis\":\"x\",\"yaxis\":\"y\"},{\"hoverinfo\":\"skip\",\"line\":{\"color\":\"#9e9e9e\",\"width\":1},\"mode\":\"lines\",\"x\":[21.5,22.5],\"y\":[3.5,3.5],\"type\":\"scatter\",\"xaxis\":\"x\",\"yaxis\":\"y\"},{\"hoverinfo\":\"skip\",\"line\":{\"color\":\"#9e9e9e\",\"width\":1},\"mode\":\"lines\",\"x\":[22.5,22.5],\"y\":[3.5,-0.5],\"type\":\"scatter\",\"xaxis\":\"x\",\"yaxis\":\"y\"},{\"hoverinfo\":\"skip\",\"line\":{\"color\":\"#9e9e9e\",\"width\":1},\"mode\":\"lines\",\"x\":[25.5,25.5],\"y\":[5.5,6.5],\"type\":\"scatter\",\"xaxis\":\"x\",\"yaxis\":\"y\"},{\"hoverinfo\":\"skip\",\"line\":{\"color\":\"#9e9e9e\",\"width\":1},\"mode\":\"lines\",\"x\":[25.5,26.5],\"y\":[5.5,5.5],\"type\":\"scatter\",\"xaxis\":\"x\",\"yaxis\":\"y\"},{\"hoverinfo\":\"skip\",\"line\":{\"color\":\"#9e9e9e\",\"width\":1},\"mode\":\"lines\",\"x\":[26.5,26.5],\"y\":[5.5,-0.5],\"type\":\"scatter\",\"xaxis\":\"x\",\"yaxis\":\"y\"},{\"hoverinfo\":\"skip\",\"line\":{\"color\":\"#9e9e9e\",\"width\":1},\"mode\":\"lines\",\"x\":[30.5,30.5],\"y\":[1.5,6.5],\"type\":\"scatter\",\"xaxis\":\"x\",\"yaxis\":\"y\"},{\"hoverinfo\":\"skip\",\"line\":{\"color\":\"#9e9e9e\",\"width\":1},\"mode\":\"lines\",\"x\":[30.5,31.5],\"y\":[1.5,1.5],\"type\":\"scatter\",\"xaxis\":\"x\",\"yaxis\":\"y\"},{\"hoverinfo\":\"skip\",\"line\":{\"color\":\"#9e9e9e\",\"width\":1},\"mode\":\"lines\",\"x\":[31.5,31.5],\"y\":[1.5,-0.5],\"type\":\"scatter\",\"xaxis\":\"x\",\"yaxis\":\"y\"},{\"hoverinfo\":\"skip\",\"line\":{\"color\":\"#9e9e9e\",\"width\":1},\"mode\":\"lines\",\"x\":[34.5,34.5],\"y\":[4.5,6.5],\"type\":\"scatter\",\"xaxis\":\"x\",\"yaxis\":\"y\"},{\"hoverinfo\":\"skip\",\"line\":{\"color\":\"#9e9e9e\",\"width\":1},\"mode\":\"lines\",\"x\":[34.5,35.5],\"y\":[4.5,4.5],\"type\":\"scatter\",\"xaxis\":\"x\",\"yaxis\":\"y\"},{\"hoverinfo\":\"skip\",\"line\":{\"color\":\"#9e9e9e\",\"width\":1},\"mode\":\"lines\",\"x\":[35.5,35.5],\"y\":[4.5,-0.5],\"type\":\"scatter\",\"xaxis\":\"x\",\"yaxis\":\"y\"},{\"hoverinfo\":\"skip\",\"line\":{\"color\":\"#9e9e9e\",\"width\":1},\"mode\":\"lines\",\"x\":[39.5,39.5],\"y\":[-0.5,6.5],\"type\":\"scatter\",\"xaxis\":\"x\",\"yaxis\":\"y\"},{\"hoverinfo\":\"skip\",\"line\":{\"color\":\"#9e9e9e\",\"width\":1},\"mode\":\"lines\",\"x\":[43.5,43.5],\"y\":[2.5,6.5],\"type\":\"scatter\",\"xaxis\":\"x\",\"yaxis\":\"y\"},{\"hoverinfo\":\"skip\",\"line\":{\"color\":\"#9e9e9e\",\"width\":1},\"mode\":\"lines\",\"x\":[43.5,44.5],\"y\":[2.5,2.5],\"type\":\"scatter\",\"xaxis\":\"x\",\"yaxis\":\"y\"},{\"hoverinfo\":\"skip\",\"line\":{\"color\":\"#9e9e9e\",\"width\":1},\"mode\":\"lines\",\"x\":[44.5,44.5],\"y\":[2.5,-0.5],\"type\":\"scatter\",\"xaxis\":\"x\",\"yaxis\":\"y\"},{\"hoverinfo\":\"skip\",\"line\":{\"color\":\"#9e9e9e\",\"width\":1},\"mode\":\"lines\",\"x\":[47.5,47.5],\"y\":[4.5,6.5],\"type\":\"scatter\",\"xaxis\":\"x\",\"yaxis\":\"y\"},{\"hoverinfo\":\"skip\",\"line\":{\"color\":\"#9e9e9e\",\"width\":1},\"mode\":\"lines\",\"x\":[47.5,48.5],\"y\":[4.5,4.5],\"type\":\"scatter\",\"xaxis\":\"x\",\"yaxis\":\"y\"},{\"hoverinfo\":\"skip\",\"line\":{\"color\":\"#9e9e9e\",\"width\":1},\"mode\":\"lines\",\"x\":[48.5,48.5],\"y\":[4.5,-0.5],\"type\":\"scatter\",\"xaxis\":\"x\",\"yaxis\":\"y\"},{\"colorscale\":[[0.0,\"rgb(247,252,245)\"],[0.125,\"rgb(229,245,224)\"],[0.25,\"rgb(199,233,192)\"],[0.375,\"rgb(161,217,155)\"],[0.5,\"rgb(116,196,118)\"],[0.625,\"rgb(65,171,93)\"],[0.75,\"rgb(35,139,69)\"],[0.875,\"rgb(0,109,44)\"],[1.0,\"rgb(0,68,27)\"]],\"customdata\":[[\"2019-01-01\",\"y\"],[\"2019-01-02\",\"y\"],[\"2019-01-03\",\"y\"],[\"2019-01-04\",\"y\"],[\"2019-01-05\",\"y\"],[\"2019-01-06\",\"y\"],[\"2019-01-07\",\"y\"],[\"2019-01-08\",\"y\"],[\"2019-01-09\",\"y\"],[\"2019-01-10\",\"y\"],[\"2019-01-11\",\"y\"],[\"2019-01-12\",\"y\"],[\"2019-01-13\",\"y\"],[\"2019-01-14\",\"y\"],[\"2019-01-15\",\"y\"],[\"2019-01-16\",\"y\"],[\"2019-01-17\",\"y\"],[\"2019-01-18\",\"y\"],[\"2019-01-19\",\"y\"],[\"2019-01-20\",\"y\"],[\"2019-01-21\",\"y\"],[\"2019-01-22\",\"y\"],[\"2019-01-23\",\"y\"],[\"2019-01-24\",\"y\"],[\"2019-01-25\",\"y\"],[\"2019-01-26\",\"y\"],[\"2019-01-27\",\"y\"],[\"2019-01-28\",\"y\"],[\"2019-01-29\",\"y\"],[\"2019-01-30\",\"y\"],[\"2019-01-31\",\"y\"],[\"2019-02-01\",\"y\"],[\"2019-02-02\",\"y\"],[\"2019-02-03\",\"y\"],[\"2019-02-04\",\"y\"],[\"2019-02-05\",\"y\"],[\"2019-02-06\",\"y\"],[\"2019-02-07\",\"y\"],[\"2019-02-08\",\"y\"],[\"2019-02-09\",\"y\"],[\"2019-02-10\",\"y\"],[\"2019-02-11\",\"y\"],[\"2019-02-12\",\"y\"],[\"2019-02-13\",\"y\"],[\"2019-02-14\",\"y\"],[\"2019-02-15\",\"y\"],[\"2019-02-16\",\"y\"],[\"2019-02-17\",\"y\"],[\"2019-02-18\",\"y\"],[\"2019-02-19\",\"y\"],[\"2019-02-20\",\"y\"],[\"2019-02-21\",\"y\"],[\"2019-02-22\",\"y\"],[\"2019-02-23\",\"y\"],[\"2019-02-24\",\"y\"],[\"2019-02-25\",\"y\"],[\"2019-02-26\",\"y\"],[\"2019-02-27\",\"y\"],[\"2019-02-28\",\"y\"],[\"2019-03-01\",\"y\"],[\"2019-03-02\",\"y\"],[\"2019-03-03\",\"y\"],[\"2019-03-04\",\"y\"],[\"2019-03-05\",\"y\"],[\"2019-03-06\",\"y\"],[\"2019-03-07\",\"y\"],[\"2019-03-08\",\"y\"],[\"2019-03-09\",\"y\"],[\"2019-03-10\",\"y\"],[\"2019-03-11\",\"y\"],[\"2019-03-12\",\"y\"],[\"2019-03-13\",\"y\"],[\"2019-03-14\",\"y\"],[\"2019-03-15\",\"y\"],[\"2019-03-16\",\"y\"],[\"2019-03-17\",\"y\"],[\"2019-03-18\",\"y\"],[\"2019-03-19\",\"y\"],[\"2019-03-20\",\"y\"],[\"2019-03-21\",\"y\"],[\"2019-03-22\",\"y\"],[\"2019-03-23\",\"y\"],[\"2019-03-24\",\"y\"],[\"2019-03-25\",\"y\"],[\"2019-03-26\",\"y\"],[\"2019-03-27\",\"y\"],[\"2019-03-28\",\"y\"],[\"2019-03-29\",\"y\"],[\"2019-03-30\",\"y\"],[\"2019-03-31\",\"y\"],[\"2019-04-01\",\"y\"],[\"2019-04-02\",\"y\"],[\"2019-04-03\",\"y\"],[\"2019-04-04\",\"y\"],[\"2019-04-05\",\"y\"],[\"2019-04-06\",\"y\"],[\"2019-04-07\",\"y\"],[\"2019-04-08\",\"y\"],[\"2019-04-09\",\"y\"],[\"2019-04-10\",\"y\"],[\"2019-04-11\",\"y\"],[\"2019-04-12\",\"y\"],[\"2019-04-13\",\"y\"],[\"2019-04-14\",\"y\"],[\"2019-04-15\",\"y\"],[\"2019-04-16\",\"y\"],[\"2019-04-17\",\"y\"],[\"2019-04-18\",\"y\"],[\"2019-04-19\",\"y\"],[\"2019-04-20\",\"y\"],[\"2019-04-21\",\"y\"],[\"2019-04-22\",\"y\"],[\"2019-04-23\",\"y\"],[\"2019-04-24\",\"y\"],[\"2019-04-25\",\"y\"],[\"2019-04-26\",\"y\"],[\"2019-04-27\",\"y\"],[\"2019-04-28\",\"y\"],[\"2019-04-29\",\"y\"],[\"2019-04-30\",\"y\"],[\"2019-05-01\",\"y\"],[\"2019-05-02\",\"y\"],[\"2019-05-03\",\"y\"],[\"2019-05-04\",\"y\"],[\"2019-05-05\",\"y\"],[\"2019-05-06\",\"y\"],[\"2019-05-07\",\"y\"],[\"2019-05-08\",\"y\"],[\"2019-05-09\",\"y\"],[\"2019-05-10\",\"y\"],[\"2019-05-11\",\"y\"],[\"2019-05-12\",\"y\"],[\"2019-05-13\",\"y\"],[\"2019-05-14\",\"y\"],[\"2019-05-15\",\"y\"],[\"2019-05-16\",\"y\"],[\"2019-05-17\",\"y\"],[\"2019-05-18\",\"y\"],[\"2019-05-19\",\"y\"],[\"2019-05-20\",\"y\"],[\"2019-05-21\",\"y\"],[\"2019-05-22\",\"y\"],[\"2019-05-23\",\"y\"],[\"2019-05-24\",\"y\"],[\"2019-05-25\",\"y\"],[\"2019-05-26\",\"y\"],[\"2019-05-27\",\"y\"],[\"2019-05-28\",\"y\"],[\"2019-05-29\",\"y\"],[\"2019-05-30\",\"y\"],[\"2019-05-31\",\"y\"],[\"2019-06-01\",\"y\"],[\"2019-06-02\",\"y\"],[\"2019-06-03\",\"y\"],[\"2019-06-04\",\"y\"],[\"2019-06-05\",\"y\"],[\"2019-06-06\",\"y\"],[\"2019-06-07\",\"y\"],[\"2019-06-08\",\"y\"],[\"2019-06-09\",\"y\"],[\"2019-06-10\",\"y\"],[\"2019-06-11\",\"y\"],[\"2019-06-12\",\"y\"],[\"2019-06-13\",\"y\"],[\"2019-06-14\",\"y\"],[\"2019-06-15\",\"y\"],[\"2019-06-16\",\"y\"],[\"2019-06-17\",\"y\"],[\"2019-06-18\",\"y\"],[\"2019-06-19\",\"y\"],[\"2019-06-20\",\"y\"],[\"2019-06-21\",\"y\"],[\"2019-06-22\",\"y\"],[\"2019-06-23\",\"y\"],[\"2019-06-24\",\"y\"],[\"2019-06-25\",\"y\"],[\"2019-06-26\",\"y\"],[\"2019-06-27\",\"y\"],[\"2019-06-28\",\"y\"],[\"2019-06-29\",\"y\"],[\"2019-06-30\",\"y\"],[\"2019-07-01\",\"y\"],[\"2019-07-02\",\"y\"],[\"2019-07-03\",\"y\"],[\"2019-07-04\",\"y\"],[\"2019-07-05\",\"y\"],[\"2019-07-06\",\"y\"],[\"2019-07-07\",\"y\"],[\"2019-07-08\",\"y\"],[\"2019-07-09\",\"y\"],[\"2019-07-10\",\"y\"],[\"2019-07-11\",\"y\"],[\"2019-07-12\",\"y\"],[\"2019-07-13\",\"y\"],[\"2019-07-14\",\"y\"],[\"2019-07-15\",\"y\"],[\"2019-07-16\",\"y\"],[\"2019-07-17\",\"y\"],[\"2019-07-18\",\"y\"],[\"2019-07-19\",\"y\"],[\"2019-07-20\",\"y\"],[\"2019-07-21\",\"y\"],[\"2019-07-22\",\"y\"],[\"2019-07-23\",\"y\"],[\"2019-07-24\",\"y\"],[\"2019-07-25\",\"y\"],[\"2019-07-26\",\"y\"],[\"2019-07-27\",\"y\"],[\"2019-07-28\",\"y\"],[\"2019-07-29\",\"y\"],[\"2019-07-30\",\"y\"],[\"2019-07-31\",\"y\"],[\"2019-08-01\",\"y\"],[\"2019-08-02\",\"y\"],[\"2019-08-03\",\"y\"],[\"2019-08-04\",\"y\"],[\"2019-08-05\",\"y\"],[\"2019-08-06\",\"y\"],[\"2019-08-07\",\"y\"],[\"2019-08-08\",\"y\"],[\"2019-08-09\",\"y\"],[\"2019-08-10\",\"y\"],[\"2019-08-11\",\"y\"],[\"2019-08-12\",\"y\"],[\"2019-08-13\",\"y\"],[\"2019-08-14\",\"y\"],[\"2019-08-15\",\"y\"],[\"2019-08-16\",\"y\"],[\"2019-08-17\",\"y\"],[\"2019-08-18\",\"y\"],[\"2019-08-19\",\"y\"],[\"2019-08-20\",\"y\"],[\"2019-08-21\",\"y\"],[\"2019-08-22\",\"y\"],[\"2019-08-23\",\"y\"],[\"2019-08-24\",\"y\"],[\"2019-08-25\",\"y\"],[\"2019-08-26\",\"y\"],[\"2019-08-27\",\"y\"],[\"2019-08-28\",\"y\"],[\"2019-08-29\",\"y\"],[\"2019-08-30\",\"y\"],[\"2019-08-31\",\"y\"],[\"2019-09-01\",\"y\"],[\"2019-09-02\",\"y\"],[\"2019-09-03\",\"y\"],[\"2019-09-04\",\"y\"],[\"2019-09-05\",\"y\"],[\"2019-09-06\",\"y\"],[\"2019-09-07\",\"y\"],[\"2019-09-08\",\"y\"],[\"2019-09-09\",\"y\"],[\"2019-09-10\",\"y\"],[\"2019-09-11\",\"y\"],[\"2019-09-12\",\"y\"],[\"2019-09-13\",\"y\"],[\"2019-09-14\",\"y\"],[\"2019-09-15\",\"y\"],[\"2019-09-16\",\"y\"],[\"2019-09-17\",\"y\"],[\"2019-09-18\",\"y\"],[\"2019-09-19\",\"y\"],[\"2019-09-20\",\"y\"],[\"2019-09-21\",\"y\"],[\"2019-09-22\",\"y\"],[\"2019-09-23\",\"y\"],[\"2019-09-24\",\"y\"],[\"2019-09-25\",\"y\"],[\"2019-09-26\",\"y\"],[\"2019-09-27\",\"y\"],[\"2019-09-28\",\"y\"],[\"2019-09-29\",\"y\"],[\"2019-09-30\",\"y\"],[\"2019-10-01\",\"y\"],[\"2019-10-02\",\"y\"],[\"2019-10-03\",\"y\"],[\"2019-10-04\",\"y\"],[\"2019-10-05\",\"y\"],[\"2019-10-06\",\"y\"],[\"2019-10-07\",\"y\"],[\"2019-10-08\",\"y\"],[\"2019-10-09\",\"y\"],[\"2019-10-10\",\"y\"],[\"2019-10-11\",\"y\"],[\"2019-10-12\",\"y\"],[\"2019-10-13\",\"y\"],[\"2019-10-14\",\"y\"],[\"2019-10-15\",\"y\"],[\"2019-10-16\",\"y\"],[\"2019-10-17\",\"y\"],[\"2019-10-18\",\"y\"],[\"2019-10-19\",\"y\"],[\"2019-10-20\",\"y\"],[\"2019-10-21\",\"y\"],[\"2019-10-22\",\"y\"],[\"2019-10-23\",\"y\"],[\"2019-10-24\",\"y\"],[\"2019-10-25\",\"y\"],[\"2019-10-26\",\"y\"],[\"2019-10-27\",\"y\"],[\"2019-10-28\",\"y\"],[\"2019-10-29\",\"y\"],[\"2019-10-30\",\"y\"],[\"2019-10-31\",\"y\"],[\"2019-11-01\",\"y\"],[\"2019-11-02\",\"y\"],[\"2019-11-03\",\"y\"],[\"2019-11-04\",\"y\"],[\"2019-11-05\",\"y\"],[\"2019-11-06\",\"y\"],[\"2019-11-07\",\"y\"],[\"2019-11-08\",\"y\"],[\"2019-11-09\",\"y\"],[\"2019-11-10\",\"y\"],[\"2019-11-11\",\"y\"],[\"2019-11-12\",\"y\"],[\"2019-11-13\",\"y\"],[\"2019-11-14\",\"y\"],[\"2019-11-15\",\"y\"],[\"2019-11-16\",\"y\"],[\"2019-11-17\",\"y\"],[\"2019-11-18\",\"y\"],[\"2019-11-19\",\"y\"],[\"2019-11-20\",\"y\"],[\"2019-11-21\",\"y\"],[\"2019-11-22\",\"y\"],[\"2019-11-23\",\"y\"],[\"2019-11-24\",\"y\"],[\"2019-11-25\",\"y\"],[\"2019-11-26\",\"y\"],[\"2019-11-27\",\"y\"],[\"2019-11-28\",\"y\"],[\"2019-11-29\",\"y\"],[\"2019-11-30\",\"y\"],[\"2019-12-01\",\"y\"],[\"2019-12-02\",\"y\"],[\"2019-12-03\",\"y\"],[\"2019-12-04\",\"y\"],[\"2019-12-05\",\"y\"],[\"2019-12-06\",\"y\"],[\"2019-12-07\",\"y\"],[\"2019-12-08\",\"y\"],[\"2019-12-09\",\"y\"],[\"2019-12-10\",\"y\"],[\"2019-12-11\",\"y\"],[\"2019-12-12\",\"y\"],[\"2019-12-13\",\"y\"],[\"2019-12-14\",\"y\"],[\"2019-12-15\",\"y\"],[\"2019-12-16\",\"y\"],[\"2019-12-17\",\"y\"],[\"2019-12-18\",\"y\"],[\"2019-12-19\",\"y\"],[\"2019-12-20\",\"y\"],[\"2019-12-21\",\"y\"],[\"2019-12-22\",\"y\"],[\"2019-12-23\",\"y\"],[\"2019-12-24\",\"y\"],[\"2019-12-25\",\"y\"],[\"2019-12-26\",\"y\"],[\"2019-12-27\",\"y\"],[\"2019-12-28\",\"y\"],[\"2019-12-29\",\"y\"],[\"2019-12-30\",\"y\"],[\"2019-12-31\",\"y\"]],\"hovertemplate\":\"%{customdata[0]} <br>%{customdata[1]}=%{z} <br>Week=%{x}\",\"name\":\"2019\",\"showscale\":false,\"x\":[1,1,1,1,1,1,2,2,2,2,2,2,2,3,3,3,3,3,3,3,4,4,4,4,4,4,4,5,5,5,5,5,5,5,6,6,6,6,6,6,6,7,7,7,7,7,7,7,8,8,8,8,8,8,8,9,9,9,9,9,9,9,10,10,10,10,10,10,10,11,11,11,11,11,11,11,12,12,12,12,12,12,12,13,13,13,13,13,13,13,14,14,14,14,14,14,14,15,15,15,15,15,15,15,16,16,16,16,16,16,16,17,17,17,17,17,17,17,18,18,18,18,18,18,18,19,19,19,19,19,19,19,20,20,20,20,20,20,20,21,21,21,21,21,21,21,22,22,22,22,22,22,22,23,23,23,23,23,23,23,24,24,24,24,24,24,24,25,25,25,25,25,25,25,26,26,26,26,26,26,26,27,27,27,27,27,27,27,28,28,28,28,28,28,28,29,29,29,29,29,29,29,30,30,30,30,30,30,30,31,31,31,31,31,31,31,32,32,32,32,32,32,32,33,33,33,33,33,33,33,34,34,34,34,34,34,34,35,35,35,35,35,35,35,36,36,36,36,36,36,36,37,37,37,37,37,37,37,38,38,38,38,38,38,38,39,39,39,39,39,39,39,40,40,40,40,40,40,40,41,41,41,41,41,41,41,42,42,42,42,42,42,42,43,43,43,43,43,43,43,44,44,44,44,44,44,44,45,45,45,45,45,45,45,46,46,46,46,46,46,46,47,47,47,47,47,47,47,48,48,48,48,48,48,48,49,49,49,49,49,49,49,50,50,50,50,50,50,50,51,51,51,51,51,51,51,52,52,52,52,52,52,52,53,53],\"xgap\":1,\"y\":[1,2,3,4,5,6,0,1,2,3,4,5,6,0,1,2,3,4,5,6,0,1,2,3,4,5,6,0,1,2,3,4,5,6,0,1,2,3,4,5,6,0,1,2,3,4,5,6,0,1,2,3,4,5,6,0,1,2,3,4,5,6,0,1,2,3,4,5,6,0,1,2,3,4,5,6,0,1,2,3,4,5,6,0,1,2,3,4,5,6,0,1,2,3,4,5,6,0,1,2,3,4,5,6,0,1,2,3,4,5,6,0,1,2,3,4,5,6,0,1,2,3,4,5,6,0,1,2,3,4,5,6,0,1,2,3,4,5,6,0,1,2,3,4,5,6,0,1,2,3,4,5,6,0,1,2,3,4,5,6,0,1,2,3,4,5,6,0,1,2,3,4,5,6,0,1,2,3,4,5,6,0,1,2,3,4,5,6,0,1,2,3,4,5,6,0,1,2,3,4,5,6,0,1,2,3,4,5,6,0,1,2,3,4,5,6,0,1,2,3,4,5,6,0,1,2,3,4,5,6,0,1,2,3,4,5,6,0,1,2,3,4,5,6,0,1,2,3,4,5,6,0,1,2,3,4,5,6,0,1,2,3,4,5,6,0,1,2,3,4,5,6,0,1,2,3,4,5,6,0,1,2,3,4,5,6,0,1,2,3,4,5,6,0,1,2,3,4,5,6,0,1,2,3,4,5,6,0,1,2,3,4,5,6,0,1,2,3,4,5,6,0,1,2,3,4,5,6,0,1,2,3,4,5,6,0,1,2,3,4,5,6,0,1,2,3,4,5,6,0,1,2,3,4,5,6,0,1,2,3,4,5,6,0,1],\"ygap\":1,\"z\":[0.008179647411471829,0.007978127381112456,0.006687242798353909,0.0034982974952189935,0.00728430367452652,0.014940800601390716,0.005079859045352616,0.010065156082855197,0.008801141769743101,0.009072996379966091,0.010713960062004195,0.023311274071424314,0.04310344827586207,0.012028832468665351,0.012988922654641702,0.015420717398592021,0.010091743119266056,0.022417421539024613,0.11429444105070251,0.07521404573534193,0.03326764264264264,0.06693781545548096,0.03485588432442785,0.024173203064079628,0.009822285166065146,0.005021821007951216,0.01211464591746282,0.07955171780268235,0.06119249424330018,0.1218823304131361,0.09714705072929089,0.023940058479532164,0.02293102396779899,0.020903281706920827,0.018790962005591456,0.027720638652169654,0.02089809191334704,0.02984869325997249,0.01849652904640117,0.018457678752762677,0.02753195673549656,0.04782628613312566,0.10610948191593353,0.03310913224706328,0.017399103139013453,0.011303457790040496,0.0068359375,0.04066961076306871,0.017826518638866324,0.01797627872498147,0.10092245867202485,0.03481564245810056,0.01787545134400214,0.02685765443151298,0.05134404778836581,0.054982357407655544,0.026991990369924532,0.018655320740602208,0.013905602353255784,0.01658957480875289,0.025282264599427368,0.0449298115995567,0.03804300131636683,0.01087797551317646,0.011770497672753313,0.009791179273893077,0.012732278045423262,0.023870505071201722,0.0168438924135466,0.013032818615854445,0.012678428938735704,0.08538027058978064,0.06281913752413645,0.022730191344548605,0.017527769285641495,0.01482899893124332,0.012651691195455719,0.014048927495124978,0.014589905362776025,0.011070428602196855,0.014618625849170178,0.011926699426699426,0.012118772918343618,0.016764350973970006,0.011538120173959351,0.011405509738550623,0.009996122193976475,0.008473118279569893,0.0101398064218774,0.009946236559139785,0.014229044498102795,0.010395752465087227,0.013720920005277276,0.012151137827393731,0.010962189012118357,0.01852624986953345,0.022469390500964255,0.017708243789220323,0.011478851221582027,0.04321178182459544,0.03971631205673759,0.011111587798704364,0.04492459086533319,0.09207516706283357,0.03503348789283874,0.006754036767008096,0.0199189141547682,0.013228535841601169,0.07024846586276445,0.01856415311319205,0.007953488372093023,0.007130584192439862,0.008857078953254306,0.015462778882261984,0.007311513483291041,0.03984713813388295,0.04648410179157476,0.010826108440770855,0.011360213434313008,0.030279955207166854,0.017598160594269545,0.02442386388111135,0.01752136752136752,0.013823654995730145,0.014691478942213516,0.009588340577857325,0.01667477553186784,0.03914202088156918,0.020987970309700538,0.011009564293304994,0.02301402501759896,0.0127733078776308,0.012670606743483992,0.008691432100944146,0.012250217202432667,0.007174697516450859,0.007029728127382061,0.04765182400593,0.023989731332713673,0.021993389270277143,0.024340949033391915,0.007948850872645585,0.024972487937018537,0.006631467793030623,0.0018110970857801438,0.008806366047745358,0.03295429208472687,0.038127265580643756,0.08039266562878394,0.03012863913337847,0.012123516242132388,0.013997053251946959,0.024359030934204138,0.012988661364020986,0.009178722846278246,0.021333448261000733,0.009752626512075677,0.01178626462871184,0.028959635029257167,0.05439616832021895,0.039907269415466136,0.00920857203479737,0.012333766833074631,0.006759839090946792,0.004718933686563457,0.016550184430207726,0.04811643835616438,0.029518920261654383,0.024581147402267727,0.02642489216466351,0.04079606106996566,0.019541417062590372,0.01543224807701611,0.031192660550458717,0.020115654688145395,0.012225969645868466,0.006890503633174643,0.010407202444866606,0.013392673177566242,0.03394306015651256,0.026126366302319383,0.013231756214915798,0.01764006946348597,0.008931877082562014,0.016322506435887604,0.009159919028340081,0.049611505236233776,0.021896573630934734,0.009749475502900161,0.00530448584078189,0.01957612707892663,0.06476566679010821,0.016439932596276356,0.023793597706641186,0.011651061305766217,0.01039398545663695,0.006716168863674286,0.04272335488148517,0.06161624465636304,0.01949677790091532,0.016663483575248283,0.019729043183742592,0.04624609824215541,0.019853186519853187,0.004932029177718833,0.005012531328320802,0.004719304005252791,0.003628377733218753,0.00368269556383339,0.019344504682109413,0.014892374436842984,0.04734463745284192,0.023709902370990237,0.021952817824377458,0.006958676898145942,0.005576679340937896,0.004223388551746761,0.01804857621440536,0.07283636818200759,0.029732734835069802,0.007936181586413914,0.0038455921725161855,0.005484927080233003,0.012852301843127531,0.01485777175753471,0.01152482269503546,0.016593379241682568,0.007840046459534575,0.008781504266719586,0.058556241426611796,0.026752229352446037,0.046425779553548166,0.029121633213244125,0.02599841422192547,0.012200727029624369,0.0034003091190108192,0.0027791046072343567,0.011633259404946228,0.013567751505104267,0.00560586459680897,0.0030597703076536173,0.026032278348354643,0.010929274433508811,0.01277919768863207,0.052652661563111984,0.07140906608410705,0.044469887794824824,0.024736865479415553,0.016852935958843355,0.011008972312434634,0.010225763612217796,0.008824537354352296,0.008457040035987405,0.008635655464055198,0.018212132871617288,0.008171472576366903,0.0025,0.007396580742315528,0.004923788319917794,0.00490593212710415,0.006457934351757003,0.05010054336199889,0.0187192118226601,0.002991569214033179,0.0021257750221434896,0.011143971540011144,0.004368975767948834,0.00280848787446505,0.0021785561725758225,0.05359052221889569,0.013306539213556377,0.006242528888298579,0.004963628583654257,0.003096808940352767,0.003965456468100106,0.0029278228030720924,0.002922242927325089,0.002505330490405117,0.0070450269111276415,0.004236211132762857,0.003573161586307292,0.004287339224779071,0.016362252663622526,0.012574089754445385,0.0036091502574173346,0.0035800043658589828,0.0026650873556411016,0.0034755829300483943,0.005724773849582659,0.014372675008454515,0.0035563082133784926,0.002658584569575158,0.009615384615384616,0.015625,0.0067400881057268726,0.0029785370127025845,0.020353757616790792,0.00771742356782428,0.008863427552288817,0.007975487766412832,0.009290391081224562,0.03319502074688797,0.013415367534810567,0.03699410311980243,0.013740250317431526,0.004023926046764546,0.003027335054759149,0.0026610584145242283,0.003576505112568206,0.004586537164440847,0.004005283565554562,0.004005283565554562,0.002391304347826087,0.0029128784535263482,0.07230303288828221,0.010530543036901522,0.006673443231537544,0.004816298695763362,0.0029813876229822394,0.0024418036789842098,0.002246893999471319,0.00434523302377098,0.005621210109325897,0.006402104801578601,0.0031950242821845447,0.002500211882362912,0.0013042387760220718,0.0015404131931859369,0.0051862541715522684,0.02810069049908225,0.005203706054067775,0.0013087101933982842,0.022508038585209004,0.015985097903309653,0.03225676058046,0.03567531268362293,0.01854268868986003,0.006954861584617483,0.003172395810699231,0.005722708748807769,0.006766746275446378,0.004007285974499089,0.01646180860403863,0.005873578221144882,0.006865196635599,0.002605636861076128,0.006587501083470573,0.005330913627856859,0.0061411090388027115,0.007629236637874337,0.015473527218493661,0.013286212758343026,0.006720082708710261,0.004551895907587924,0.002388279061222615,0.0055005020299471775,0.009440118327750468,0.01836502519096376,0.009260286126206056,0.005541012216404887,0.008660080943470125,0.016204023385351932,0.013963056990282764,0.014617969193175371,0.0084530853761623],\"type\":\"heatmap\",\"xaxis\":\"x2\",\"yaxis\":\"y2\"},{\"hoverinfo\":\"skip\",\"line\":{\"color\":\"#9e9e9e\",\"width\":1},\"mode\":\"lines\",\"x\":[0.5,0.5],\"y\":[0.5,6.5],\"type\":\"scatter\",\"xaxis\":\"x2\",\"yaxis\":\"y2\"},{\"hoverinfo\":\"skip\",\"line\":{\"color\":\"#9e9e9e\",\"width\":1},\"mode\":\"lines\",\"x\":[0.5,1.5],\"y\":[0.5,0.5],\"type\":\"scatter\",\"xaxis\":\"x2\",\"yaxis\":\"y2\"},{\"hoverinfo\":\"skip\",\"line\":{\"color\":\"#9e9e9e\",\"width\":1},\"mode\":\"lines\",\"x\":[1.5,1.5],\"y\":[0.5,-0.5],\"type\":\"scatter\",\"xaxis\":\"x2\",\"yaxis\":\"y2\"},{\"hoverinfo\":\"skip\",\"line\":{\"color\":\"#9e9e9e\",\"width\":1},\"mode\":\"lines\",\"x\":[4.5,4.5],\"y\":[3.5,6.5],\"type\":\"scatter\",\"xaxis\":\"x2\",\"yaxis\":\"y2\"},{\"hoverinfo\":\"skip\",\"line\":{\"color\":\"#9e9e9e\",\"width\":1},\"mode\":\"lines\",\"x\":[4.5,5.5],\"y\":[3.5,3.5],\"type\":\"scatter\",\"xaxis\":\"x2\",\"yaxis\":\"y2\"},{\"hoverinfo\":\"skip\",\"line\":{\"color\":\"#9e9e9e\",\"width\":1},\"mode\":\"lines\",\"x\":[5.5,5.5],\"y\":[3.5,-0.5],\"type\":\"scatter\",\"xaxis\":\"x2\",\"yaxis\":\"y2\"},{\"hoverinfo\":\"skip\",\"line\":{\"color\":\"#9e9e9e\",\"width\":1},\"mode\":\"lines\",\"x\":[8.5,8.5],\"y\":[3.5,6.5],\"type\":\"scatter\",\"xaxis\":\"x2\",\"yaxis\":\"y2\"},{\"hoverinfo\":\"skip\",\"line\":{\"color\":\"#9e9e9e\",\"width\":1},\"mode\":\"lines\",\"x\":[8.5,9.5],\"y\":[3.5,3.5],\"type\":\"scatter\",\"xaxis\":\"x2\",\"yaxis\":\"y2\"},{\"hoverinfo\":\"skip\",\"line\":{\"color\":\"#9e9e9e\",\"width\":1},\"mode\":\"lines\",\"x\":[9.5,9.5],\"y\":[3.5,-0.5],\"type\":\"scatter\",\"xaxis\":\"x2\",\"yaxis\":\"y2\"},{\"hoverinfo\":\"skip\",\"line\":{\"color\":\"#9e9e9e\",\"width\":1},\"mode\":\"lines\",\"x\":[13.5,13.5],\"y\":[-0.5,6.5],\"type\":\"scatter\",\"xaxis\":\"x2\",\"yaxis\":\"y2\"},{\"hoverinfo\":\"skip\",\"line\":{\"color\":\"#9e9e9e\",\"width\":1},\"mode\":\"lines\",\"x\":[17.5,17.5],\"y\":[1.5,6.5],\"type\":\"scatter\",\"xaxis\":\"x2\",\"yaxis\":\"y2\"},{\"hoverinfo\":\"skip\",\"line\":{\"color\":\"#9e9e9e\",\"width\":1},\"mode\":\"lines\",\"x\":[17.5,18.5],\"y\":[1.5,1.5],\"type\":\"scatter\",\"xaxis\":\"x2\",\"yaxis\":\"y2\"},{\"hoverinfo\":\"skip\",\"line\":{\"color\":\"#9e9e9e\",\"width\":1},\"mode\":\"lines\",\"x\":[18.5,18.5],\"y\":[1.5,-0.5],\"type\":\"scatter\",\"xaxis\":\"x2\",\"yaxis\":\"y2\"},{\"hoverinfo\":\"skip\",\"line\":{\"color\":\"#9e9e9e\",\"width\":1},\"mode\":\"lines\",\"x\":[21.5,21.5],\"y\":[4.5,6.5],\"type\":\"scatter\",\"xaxis\":\"x2\",\"yaxis\":\"y2\"},{\"hoverinfo\":\"skip\",\"line\":{\"color\":\"#9e9e9e\",\"width\":1},\"mode\":\"lines\",\"x\":[21.5,22.5],\"y\":[4.5,4.5],\"type\":\"scatter\",\"xaxis\":\"x2\",\"yaxis\":\"y2\"},{\"hoverinfo\":\"skip\",\"line\":{\"color\":\"#9e9e9e\",\"width\":1},\"mode\":\"lines\",\"x\":[22.5,22.5],\"y\":[4.5,-0.5],\"type\":\"scatter\",\"xaxis\":\"x2\",\"yaxis\":\"y2\"},{\"hoverinfo\":\"skip\",\"line\":{\"color\":\"#9e9e9e\",\"width\":1},\"mode\":\"lines\",\"x\":[26.5,26.5],\"y\":[-0.5,6.5],\"type\":\"scatter\",\"xaxis\":\"x2\",\"yaxis\":\"y2\"},{\"hoverinfo\":\"skip\",\"line\":{\"color\":\"#9e9e9e\",\"width\":1},\"mode\":\"lines\",\"x\":[30.5,30.5],\"y\":[2.5,6.5],\"type\":\"scatter\",\"xaxis\":\"x2\",\"yaxis\":\"y2\"},{\"hoverinfo\":\"skip\",\"line\":{\"color\":\"#9e9e9e\",\"width\":1},\"mode\":\"lines\",\"x\":[30.5,31.5],\"y\":[2.5,2.5],\"type\":\"scatter\",\"xaxis\":\"x2\",\"yaxis\":\"y2\"},{\"hoverinfo\":\"skip\",\"line\":{\"color\":\"#9e9e9e\",\"width\":1},\"mode\":\"lines\",\"x\":[31.5,31.5],\"y\":[2.5,-0.5],\"type\":\"scatter\",\"xaxis\":\"x2\",\"yaxis\":\"y2\"},{\"hoverinfo\":\"skip\",\"line\":{\"color\":\"#9e9e9e\",\"width\":1},\"mode\":\"lines\",\"x\":[34.5,34.5],\"y\":[5.5,6.5],\"type\":\"scatter\",\"xaxis\":\"x2\",\"yaxis\":\"y2\"},{\"hoverinfo\":\"skip\",\"line\":{\"color\":\"#9e9e9e\",\"width\":1},\"mode\":\"lines\",\"x\":[34.5,35.5],\"y\":[5.5,5.5],\"type\":\"scatter\",\"xaxis\":\"x2\",\"yaxis\":\"y2\"},{\"hoverinfo\":\"skip\",\"line\":{\"color\":\"#9e9e9e\",\"width\":1},\"mode\":\"lines\",\"x\":[35.5,35.5],\"y\":[5.5,-0.5],\"type\":\"scatter\",\"xaxis\":\"x2\",\"yaxis\":\"y2\"},{\"hoverinfo\":\"skip\",\"line\":{\"color\":\"#9e9e9e\",\"width\":1},\"mode\":\"lines\",\"x\":[39.5,39.5],\"y\":[0.5,6.5],\"type\":\"scatter\",\"xaxis\":\"x2\",\"yaxis\":\"y2\"},{\"hoverinfo\":\"skip\",\"line\":{\"color\":\"#9e9e9e\",\"width\":1},\"mode\":\"lines\",\"x\":[39.5,40.5],\"y\":[0.5,0.5],\"type\":\"scatter\",\"xaxis\":\"x2\",\"yaxis\":\"y2\"},{\"hoverinfo\":\"skip\",\"line\":{\"color\":\"#9e9e9e\",\"width\":1},\"mode\":\"lines\",\"x\":[40.5,40.5],\"y\":[0.5,-0.5],\"type\":\"scatter\",\"xaxis\":\"x2\",\"yaxis\":\"y2\"},{\"hoverinfo\":\"skip\",\"line\":{\"color\":\"#9e9e9e\",\"width\":1},\"mode\":\"lines\",\"x\":[43.5,43.5],\"y\":[3.5,6.5],\"type\":\"scatter\",\"xaxis\":\"x2\",\"yaxis\":\"y2\"},{\"hoverinfo\":\"skip\",\"line\":{\"color\":\"#9e9e9e\",\"width\":1},\"mode\":\"lines\",\"x\":[43.5,44.5],\"y\":[3.5,3.5],\"type\":\"scatter\",\"xaxis\":\"x2\",\"yaxis\":\"y2\"},{\"hoverinfo\":\"skip\",\"line\":{\"color\":\"#9e9e9e\",\"width\":1},\"mode\":\"lines\",\"x\":[44.5,44.5],\"y\":[3.5,-0.5],\"type\":\"scatter\",\"xaxis\":\"x2\",\"yaxis\":\"y2\"},{\"hoverinfo\":\"skip\",\"line\":{\"color\":\"#9e9e9e\",\"width\":1},\"mode\":\"lines\",\"x\":[47.5,47.5],\"y\":[5.5,6.5],\"type\":\"scatter\",\"xaxis\":\"x2\",\"yaxis\":\"y2\"},{\"hoverinfo\":\"skip\",\"line\":{\"color\":\"#9e9e9e\",\"width\":1},\"mode\":\"lines\",\"x\":[47.5,48.5],\"y\":[5.5,5.5],\"type\":\"scatter\",\"xaxis\":\"x2\",\"yaxis\":\"y2\"},{\"hoverinfo\":\"skip\",\"line\":{\"color\":\"#9e9e9e\",\"width\":1},\"mode\":\"lines\",\"x\":[48.5,48.5],\"y\":[5.5,-0.5],\"type\":\"scatter\",\"xaxis\":\"x2\",\"yaxis\":\"y2\"},{\"colorscale\":[[0.0,\"rgb(247,252,245)\"],[0.125,\"rgb(229,245,224)\"],[0.25,\"rgb(199,233,192)\"],[0.375,\"rgb(161,217,155)\"],[0.5,\"rgb(116,196,118)\"],[0.625,\"rgb(65,171,93)\"],[0.75,\"rgb(35,139,69)\"],[0.875,\"rgb(0,109,44)\"],[1.0,\"rgb(0,68,27)\"]],\"customdata\":[[\"2020-01-01\",\"y\"],[\"2020-01-02\",\"y\"],[\"2020-01-03\",\"y\"],[\"2020-01-04\",\"y\"],[\"2020-01-05\",\"y\"],[\"2020-01-06\",\"y\"],[\"2020-01-07\",\"y\"],[\"2020-01-08\",\"y\"],[\"2020-01-09\",\"y\"],[\"2020-01-10\",\"y\"],[\"2020-01-11\",\"y\"],[\"2020-01-12\",\"y\"],[\"2020-01-13\",\"y\"],[\"2020-01-14\",\"y\"],[\"2020-01-15\",\"y\"],[\"2020-01-16\",\"y\"],[\"2020-01-17\",\"y\"],[\"2020-01-18\",\"y\"],[\"2020-01-19\",\"y\"],[\"2020-01-20\",\"y\"],[\"2020-01-21\",\"y\"],[\"2020-01-22\",\"y\"],[\"2020-01-23\",\"y\"],[\"2020-01-24\",\"y\"],[\"2020-01-25\",\"y\"],[\"2020-01-26\",\"y\"],[\"2020-01-27\",\"y\"],[\"2020-01-28\",\"y\"],[\"2020-01-29\",\"y\"],[\"2020-01-30\",\"y\"],[\"2020-01-31\",\"y\"],[\"2020-02-01\",\"y\"],[\"2020-02-02\",\"y\"],[\"2020-02-03\",\"y\"],[\"2020-02-04\",\"y\"],[\"2020-02-05\",\"y\"],[\"2020-02-06\",\"y\"],[\"2020-02-07\",\"y\"],[\"2020-02-08\",\"y\"],[\"2020-02-09\",\"y\"],[\"2020-02-10\",\"y\"],[\"2020-02-11\",\"y\"],[\"2020-02-12\",\"y\"],[\"2020-02-13\",\"y\"],[\"2020-02-14\",\"y\"],[\"2020-02-15\",\"y\"],[\"2020-02-16\",\"y\"],[\"2020-02-17\",\"y\"],[\"2020-02-18\",\"y\"],[\"2020-02-19\",\"y\"],[\"2020-02-20\",\"y\"],[\"2020-02-21\",\"y\"],[\"2020-02-22\",\"y\"],[\"2020-02-23\",\"y\"],[\"2020-02-24\",\"y\"],[\"2020-02-25\",\"y\"],[\"2020-02-26\",\"y\"],[\"2020-02-27\",\"y\"],[\"2020-02-28\",\"y\"],[\"2020-02-29\",\"y\"],[\"2020-03-01\",\"y\"],[\"2020-03-02\",\"y\"],[\"2020-03-03\",\"y\"],[\"2020-03-04\",\"y\"],[\"2020-03-05\",\"y\"],[\"2020-03-06\",\"y\"],[\"2020-03-07\",\"y\"],[\"2020-03-08\",\"y\"],[\"2020-03-09\",\"y\"],[\"2020-03-10\",\"y\"],[\"2020-03-11\",\"y\"],[\"2020-03-12\",\"y\"],[\"2020-03-13\",\"y\"],[\"2020-03-14\",\"y\"],[\"2020-03-15\",\"y\"],[\"2020-03-16\",\"y\"],[\"2020-03-17\",\"y\"],[\"2020-03-18\",\"y\"],[\"2020-03-19\",\"y\"],[\"2020-03-20\",\"y\"],[\"2020-03-21\",\"y\"],[\"2020-03-22\",\"y\"],[\"2020-03-23\",\"y\"],[\"2020-03-24\",\"y\"],[\"2020-03-25\",\"y\"],[\"2020-03-26\",\"y\"],[\"2020-03-27\",\"y\"],[\"2020-03-28\",\"y\"],[\"2020-03-29\",\"y\"],[\"2020-03-30\",\"y\"],[\"2020-03-31\",\"y\"],[\"2020-04-01\",\"y\"],[\"2020-04-02\",\"y\"],[\"2020-04-03\",\"y\"],[\"2020-04-04\",\"y\"],[\"2020-04-05\",\"y\"],[\"2020-04-06\",\"y\"],[\"2020-04-07\",\"y\"],[\"2020-04-08\",\"y\"],[\"2020-04-09\",\"y\"],[\"2020-04-10\",\"y\"],[\"2020-04-11\",\"y\"],[\"2020-04-12\",\"y\"],[\"2020-04-13\",\"y\"],[\"2020-04-14\",\"y\"],[\"2020-04-15\",\"y\"],[\"2020-04-16\",\"y\"],[\"2020-04-17\",\"y\"],[\"2020-04-18\",\"y\"],[\"2020-04-19\",\"y\"],[\"2020-04-20\",\"y\"],[\"2020-04-21\",\"y\"],[\"2020-04-22\",\"y\"],[\"2020-04-23\",\"y\"],[\"2020-04-24\",\"y\"],[\"2020-04-25\",\"y\"],[\"2020-04-26\",\"y\"],[\"2020-04-27\",\"y\"],[\"2020-04-28\",\"y\"],[\"2020-04-29\",\"y\"],[\"2020-04-30\",\"y\"],[\"2020-05-01\",\"y\"],[\"2020-05-02\",\"y\"],[\"2020-05-03\",\"y\"],[\"2020-05-04\",\"y\"],[\"2020-05-05\",\"y\"],[\"2020-05-06\",\"y\"],[\"2020-05-07\",\"y\"],[\"2020-05-08\",\"y\"],[\"2020-05-09\",\"y\"],[\"2020-05-10\",\"y\"],[\"2020-05-11\",\"y\"],[\"2020-05-12\",\"y\"],[\"2020-05-13\",\"y\"],[\"2020-05-14\",\"y\"],[\"2020-05-15\",\"y\"],[\"2020-05-16\",\"y\"],[\"2020-05-17\",\"y\"],[\"2020-05-18\",\"y\"],[\"2020-05-19\",\"y\"],[\"2020-05-20\",\"y\"],[\"2020-05-21\",\"y\"],[\"2020-05-22\",\"y\"],[\"2020-05-23\",\"y\"],[\"2020-05-24\",\"y\"],[\"2020-05-25\",\"y\"],[\"2020-05-26\",\"y\"],[\"2020-05-27\",\"y\"],[\"2020-05-28\",\"y\"],[\"2020-05-29\",\"y\"],[\"2020-05-30\",\"y\"],[\"2020-05-31\",\"y\"],[\"2020-06-01\",\"y\"],[\"2020-06-02\",\"y\"],[\"2020-06-03\",\"y\"],[\"2020-06-04\",\"y\"],[\"2020-06-05\",\"y\"],[\"2020-06-06\",\"y\"],[\"2020-06-07\",\"y\"],[\"2020-06-08\",\"y\"],[\"2020-06-09\",\"y\"],[\"2020-06-10\",\"y\"],[\"2020-06-11\",\"y\"],[\"2020-06-12\",\"y\"],[\"2020-06-13\",\"y\"],[\"2020-06-14\",\"y\"],[\"2020-06-15\",\"y\"],[\"2020-06-16\",\"y\"],[\"2020-06-17\",\"y\"],[\"2020-06-18\",\"y\"],[\"2020-06-19\",\"y\"],[\"2020-06-20\",\"y\"],[\"2020-06-21\",\"y\"],[\"2020-06-22\",\"y\"],[\"2020-06-23\",\"y\"],[\"2020-06-24\",\"y\"],[\"2020-06-25\",\"y\"],[\"2020-06-26\",\"y\"],[\"2020-06-27\",\"y\"],[\"2020-06-28\",\"y\"],[\"2020-06-29\",\"y\"],[\"2020-06-30\",\"y\"],[\"2020-07-01\",\"y\"],[\"2020-07-02\",\"y\"],[\"2020-07-03\",\"y\"],[\"2020-07-04\",\"y\"],[\"2020-07-05\",\"y\"],[\"2020-07-06\",\"y\"],[\"2020-07-07\",\"y\"],[\"2020-07-08\",\"y\"],[\"2020-07-09\",\"y\"],[\"2020-07-10\",\"y\"],[\"2020-07-11\",\"y\"],[\"2020-07-12\",\"y\"],[\"2020-07-13\",\"y\"],[\"2020-07-14\",\"y\"],[\"2020-07-15\",\"y\"],[\"2020-07-16\",\"y\"],[\"2020-07-17\",\"y\"],[\"2020-07-18\",\"y\"],[\"2020-07-19\",\"y\"],[\"2020-07-20\",\"y\"],[\"2020-07-21\",\"y\"],[\"2020-07-22\",\"y\"],[\"2020-07-23\",\"y\"],[\"2020-07-24\",\"y\"],[\"2020-07-25\",\"y\"],[\"2020-07-26\",\"y\"],[\"2020-07-27\",\"y\"],[\"2020-07-28\",\"y\"],[\"2020-07-29\",\"y\"],[\"2020-07-30\",\"y\"],[\"2020-07-31\",\"y\"],[\"2020-08-01\",\"y\"],[\"2020-08-02\",\"y\"],[\"2020-08-03\",\"y\"],[\"2020-08-04\",\"y\"],[\"2020-08-05\",\"y\"],[\"2020-08-06\",\"y\"],[\"2020-08-07\",\"y\"],[\"2020-08-08\",\"y\"],[\"2020-08-09\",\"y\"],[\"2020-08-10\",\"y\"],[\"2020-08-11\",\"y\"],[\"2020-08-12\",\"y\"],[\"2020-08-13\",\"y\"],[\"2020-08-14\",\"y\"],[\"2020-08-15\",\"y\"],[\"2020-08-16\",\"y\"],[\"2020-08-17\",\"y\"],[\"2020-08-18\",\"y\"],[\"2020-08-19\",\"y\"],[\"2020-08-20\",\"y\"],[\"2020-08-21\",\"y\"],[\"2020-08-22\",\"y\"],[\"2020-08-23\",\"y\"],[\"2020-08-24\",\"y\"],[\"2020-08-25\",\"y\"],[\"2020-08-26\",\"y\"],[\"2020-08-27\",\"y\"],[\"2020-08-28\",\"y\"],[\"2020-08-29\",\"y\"],[\"2020-08-30\",\"y\"],[\"2020-08-31\",\"y\"],[\"2020-09-01\",\"y\"],[\"2020-09-02\",\"y\"],[\"2020-09-03\",\"y\"],[\"2020-09-04\",\"y\"],[\"2020-09-05\",\"y\"],[\"2020-09-06\",\"y\"],[\"2020-09-07\",\"y\"],[\"2020-09-08\",\"y\"],[\"2020-09-09\",\"y\"],[\"2020-09-10\",\"y\"],[\"2020-09-11\",\"y\"],[\"2020-09-12\",\"y\"],[\"2020-09-13\",\"y\"],[\"2020-09-14\",\"y\"],[\"2020-09-15\",\"y\"],[\"2020-09-16\",\"y\"],[\"2020-09-17\",\"y\"],[\"2020-09-18\",\"y\"],[\"2020-09-19\",\"y\"],[\"2020-09-20\",\"y\"],[\"2020-09-21\",\"y\"],[\"2020-09-22\",\"y\"],[\"2020-09-23\",\"y\"],[\"2020-09-24\",\"y\"],[\"2020-09-25\",\"y\"],[\"2020-09-26\",\"y\"],[\"2020-09-27\",\"y\"],[\"2020-09-28\",\"y\"],[\"2020-09-29\",\"y\"],[\"2020-09-30\",\"y\"],[\"2020-10-01\",\"y\"],[\"2020-10-02\",\"y\"],[\"2020-10-03\",\"y\"],[\"2020-10-04\",\"y\"],[\"2020-10-05\",\"y\"],[\"2020-10-06\",\"y\"],[\"2020-10-07\",\"y\"],[\"2020-10-08\",\"y\"],[\"2020-10-09\",\"y\"],[\"2020-10-10\",\"y\"],[\"2020-10-11\",\"y\"],[\"2020-10-12\",\"y\"],[\"2020-10-13\",\"y\"],[\"2020-10-14\",\"y\"],[\"2020-10-15\",\"y\"],[\"2020-10-16\",\"y\"],[\"2020-10-17\",\"y\"],[\"2020-10-18\",\"y\"],[\"2020-10-19\",\"y\"],[\"2020-10-20\",\"y\"],[\"2020-10-21\",\"y\"],[\"2020-10-22\",\"y\"],[\"2020-10-23\",\"y\"],[\"2020-10-24\",\"y\"],[\"2020-10-25\",\"y\"],[\"2020-10-26\",\"y\"],[\"2020-10-27\",\"y\"],[\"2020-10-28\",\"y\"],[\"2020-10-29\",\"y\"],[\"2020-10-30\",\"y\"],[\"2020-10-31\",\"y\"],[\"2020-11-01\",\"y\"],[\"2020-11-02\",\"y\"],[\"2020-11-03\",\"y\"],[\"2020-11-04\",\"y\"],[\"2020-11-05\",\"y\"],[\"2020-11-06\",\"y\"],[\"2020-11-07\",\"y\"],[\"2020-11-08\",\"y\"],[\"2020-11-09\",\"y\"],[\"2020-11-10\",\"y\"],[\"2020-11-11\",\"y\"],[\"2020-11-12\",\"y\"],[\"2020-11-13\",\"y\"],[\"2020-11-14\",\"y\"],[\"2020-11-15\",\"y\"],[\"2020-11-16\",\"y\"],[\"2020-11-17\",\"y\"],[\"2020-11-18\",\"y\"],[\"2020-11-19\",\"y\"],[\"2020-11-20\",\"y\"],[\"2020-11-21\",\"y\"],[\"2020-11-22\",\"y\"],[\"2020-11-23\",\"y\"],[\"2020-11-24\",\"y\"],[\"2020-11-25\",\"y\"],[\"2020-11-26\",\"y\"],[\"2020-11-27\",\"y\"],[\"2020-11-28\",\"y\"],[\"2020-11-29\",\"y\"],[\"2020-11-30\",\"y\"],[\"2020-12-01\",\"y\"],[\"2020-12-02\",\"y\"],[\"2020-12-03\",\"y\"],[\"2020-12-04\",\"y\"],[\"2020-12-05\",\"y\"],[\"2020-12-06\",\"y\"],[\"2020-12-07\",\"y\"],[\"2020-12-08\",\"y\"],[\"2020-12-09\",\"y\"],[\"2020-12-10\",\"y\"],[\"2020-12-11\",\"y\"],[\"2020-12-12\",\"y\"],[\"2020-12-13\",\"y\"],[\"2020-12-14\",\"y\"],[\"2020-12-15\",\"y\"],[\"2020-12-16\",\"y\"],[\"2020-12-17\",\"y\"],[\"2020-12-18\",\"y\"],[\"2020-12-19\",\"y\"],[\"2020-12-20\",\"y\"],[\"2020-12-21\",\"y\"],[\"2020-12-22\",\"y\"],[\"2020-12-23\",\"y\"],[\"2020-12-24\",\"y\"],[\"2020-12-25\",\"y\"],[\"2020-12-26\",\"y\"],[\"2020-12-27\",\"y\"],[\"2020-12-28\",\"y\"],[\"2020-12-29\",\"y\"],[\"2020-12-30\",\"y\"],[\"2020-12-31\",\"y\"]],\"hovertemplate\":\"%{customdata[0]} <br>%{customdata[1]}=%{z} <br>Week=%{x}\",\"name\":\"2020\",\"showscale\":false,\"x\":[1,1,1,1,1,2,2,2,2,2,2,2,3,3,3,3,3,3,3,4,4,4,4,4,4,4,5,5,5,5,5,5,5,6,6,6,6,6,6,6,7,7,7,7,7,7,7,8,8,8,8,8,8,8,9,9,9,9,9,9,9,10,10,10,10,10,10,10,11,11,11,11,11,11,11,12,12,12,12,12,12,12,13,13,13,13,13,13,13,14,14,14,14,14,14,14,15,15,15,15,15,15,15,16,16,16,16,16,16,16,17,17,17,17,17,17,17,18,18,18,18,18,18,18,19,19,19,19,19,19,19,20,20,20,20,20,20,20,21,21,21,21,21,21,21,22,22,22,22,22,22,22,23,23,23,23,23,23,23,24,24,24,24,24,24,24,25,25,25,25,25,25,25,26,26,26,26,26,26,26,27,27,27,27,27,27,27,28,28,28,28,28,28,28,29,29,29,29,29,29,29,30,30,30,30,30,30,30,31,31,31,31,31,31,31,32,32,32,32,32,32,32,33,33,33,33,33,33,33,34,34,34,34,34,34,34,35,35,35,35,35,35,35,36,36,36,36,36,36,36,37,37,37,37,37,37,37,38,38,38,38,38,38,38,39,39,39,39,39,39,39,40,40,40,40,40,40,40,41,41,41,41,41,41,41,42,42,42,42,42,42,42,43,43,43,43,43,43,43,44,44,44,44,44,44,44,45,45,45,45,45,45,45,46,46,46,46,46,46,46,47,47,47,47,47,47,47,48,48,48,48,48,48,48,49,49,49,49,49,49,49,50,50,50,50,50,50,50,51,51,51,51,51,51,51,52,52,52,52,52,52,52,53,53,53,53],\"xgap\":1,\"y\":[2,3,4,5,6,0,1,2,3,4,5,6,0,1,2,3,4,5,6,0,1,2,3,4,5,6,0,1,2,3,4,5,6,0,1,2,3,4,5,6,0,1,2,3,4,5,6,0,1,2,3,4,5,6,0,1,2,3,4,5,6,0,1,2,3,4,5,6,0,1,2,3,4,5,6,0,1,2,3,4,5,6,0,1,2,3,4,5,6,0,1,2,3,4,5,6,0,1,2,3,4,5,6,0,1,2,3,4,5,6,0,1,2,3,4,5,6,0,1,2,3,4,5,6,0,1,2,3,4,5,6,0,1,2,3,4,5,6,0,1,2,3,4,5,6,0,1,2,3,4,5,6,0,1,2,3,4,5,6,0,1,2,3,4,5,6,0,1,2,3,4,5,6,0,1,2,3,4,5,6,0,1,2,3,4,5,6,0,1,2,3,4,5,6,0,1,2,3,4,5,6,0,1,2,3,4,5,6,0,1,2,3,4,5,6,0,1,2,3,4,5,6,0,1,2,3,4,5,6,0,1,2,3,4,5,6,0,1,2,3,4,5,6,0,1,2,3,4,5,6,0,1,2,3,4,5,6,0,1,2,3,4,5,6,0,1,2,3,4,5,6,0,1,2,3,4,5,6,0,1,2,3,4,5,6,0,1,2,3,4,5,6,0,1,2,3,4,5,6,0,1,2,3,4,5,6,0,1,2,3,4,5,6,0,1,2,3,4,5,6,0,1,2,3,4,5,6,0,1,2,3,4,5,6,0,1,2,3,4,5,6,0,1,2,3,4,5,6,0,1,2,3,4,5,6,0,1,2,3,4,5,6,0,1,2,3],\"ygap\":1,\"z\":[0.007367137486027842,0.004985089241999377,0.006273637374860957,0.007545271629778672,0.004450774434751646,0.002943243718151467,0.004548283621391296,0.005509384629750677,0.0032319475804666402,0.037493920502277046,0.08939124447759482,0.012262841277186487,0.010852090032154342,0.013371034218345634,0.0048584509016163695,0.011883646683221,0.07436113202533327,0.03516207987582831,0.005819592628516004,0.0028610354223433244,0.006422546012269939,0.004018879386887238,0.006078892487908772,0.015281715095676825,0.004319778827324041,0.0018515946859232514,0.01393292546778011,0.003213429256594724,0.001962341727795169,0.002839396628216504,0.004559539619300576,0.003911495125226224,0.002498407877333072,0.011674538811157651,0.005990319643456175,0.015198135198135199,0.043811804354574074,0.04704788882004072,0.007475560667050029,0.03016305603030163,0.005706388480228255,0.006459639217187425,0.01628122109158187,0.026852939896418158,0.0023395866730210996,0.0009905894006934125,0.0041346434478062065,0.0023707085784528932,0.0035105090238084524,0.0016951420796716779,0.013568579850875673,0.003117557912968175,0.0005903187721369539,0.001938071843872538,0.0022559652928416485,0.0031135779071341544,0.00280848787446505,0.006366392377652664,0.0028550417441709566,0.001878387806579724,0.003465970471732085,0.001040447392378723,0.0019862766341639583,0.004315330545422191,0.0018110473890733474,0.001545197012619109,0.0022418097518724206,0.0028789086721587387,0.003960986413390689,0.008722082727633144,0.012248088950660182,0.0055072098204901835,0.013912751959099861,0.009472593615866593,0.012124886329190664,0.018924135615978516,0.05130641330166271,0.09751090582499358,0.1726687834224599,0.1905994322925363,0.2293434021477958,0.2778257863809195,0.3624500105241002,0.38534154975744067,0.43675386235955055,0.46832265881945645,0.5102388333406104,0.472264631043257,0.4847620341439116,0.5278497988377291,0.5177801979260381,0.46639897384418044,0.49870801033591733,0.47542407225149075,0.45895393141669555,0.4711419370819916,0.49118046132971505,0.4735597592433362,0.3964449449046891,0.4056433231156174,0.41250198318261144,0.41064157089856124,0.39603239603239604,0.3762057877813505,0.33703821318937227,0.335118006993007,0.4097760100481474,0.39270910830056327,0.35767790262172283,0.39157584014532243,0.38814747794616605,0.3924110299316521,0.38426413768879525,0.37922515440763616,0.3604037084849196,0.35648148148148145,0.36024024024024026,0.371066228276186,0.37112010796221323,0.3560260987319956,0.3465602254050247,0.28533146918326924,0.22493267859971489,0.09566517189835576,0.10097378277153558,0.057677760968229956,0.062041838011800465,0.0699502647200385,0.07185906351414001,0.054423040957546284,0.060649474689589304,0.058145046610838996,0.04224006116207951,0.05151309078544713,0.04089043258604357,0.044825416797735135,0.038540309067212807,0.041251778093883355,0.04182389937106918,0.037516663492668065,0.05198877702591187,0.031938821412505626,0.0304064075941857,0.030420940926777502,0.03751339764201501,0.0316512391758734,0.02806824435883324,0.04538751433721121,0.028130671506352088,0.028433879945840228,0.027297056199821586,0.024695031240702173,0.01037037037037037,0.007231040564373898,0.005010176921872554,0.0042723263506063945,0.0061944519256665765,0.007232183215308121,0.013181019332161687,0.00878169449598021,0.0038921724088222575,0.0044686496299399525,0.0027902462695620525,0.004103802051901026,0.00705371676614216,0.0034266808460356847,0.0038919683924991157,0.003161512027491409,0.003502155172413793,0.0015215355805243446,0.0038340885325897525,0.002197802197802198,0.00374276964954066,0.002578764435474829,0.003100374628600956,0.005538074260541221,0.003309431880860452,0.0013179571663920922,0.003129890453834116,0.0025068119891008176,0.0020331728196896735,0.0012280486307257768,0.004503514938488576,0.006233717901004838,0.010344827586206896,0.010273972602739725,0.0033012639124693453,0.005754249291784703,0.002362991911296919,0.001401664476565922,0.004718440594059406,0.007986484410996775,0.0053436369615258135,0.0034612722098300132,0.004373513389089235,0.004551133321434945,0.006434782608695652,0.004363469340886474,0.004494210847044485,0.0072481472432608515,0.007265218721321505,0.007992692395524092,0.010803152395289117,0.012737197816480375,0.004122452095579815,0.005782105903834449,0.015807056139493198,0.020882917466410748,0.012785178380033686,0.015447807839985714,0.020262631533176798,0.010322984280910299,0.003374666457385026,0.014367816091954023,0.008568022649381613,0.01098901098901099,0.06015358361774744,0.006530404545840048,0.00566093221585061,0.004703115814226925,0.0022903174853893538,0.001996155552269703,0.008263847528290649,0.005445587345492264,0.009656107064204642,0.005448788748987556,0.00672182006204757,0.005130228887134964,0.01138701146047605,0.010209404575601759,0.00801254136909946,0.004750798998013302,0.0052557554223110516,0.00484893696381947,0.006036703155183515,0.003616236162361624,0.007207207207207207,0.006557090400419654,0.05220397579948142,0.03253475303164744,0.012482248299573959,0.005744336569579288,0.013471502590673576,0.003838627126298359,0.02332924048412559,0.01448263828302216,0.0023679147550688174,0.0013335308934656986,0.0019403774916210972,0.0023433979269941417,0.0019085487077534792,0.012112036336109008,0.007004922377887164,0.004343468092215168,0.004935586414589259,0.013251043746596478,0.01612503100967502,0.020091556459816886,0.03672176581213501,0.02332142185442919,0.011674449633088725,0.003997002248313765,0.0037981551817688553,0.0014822134387351778,0.0015196285352469397,0.004541415736992793,0.0018770530267480056,0.0018284574468085107,0.0006654466810846781,0.005333574398842886,0.0007406188281764319,0.0008433836552247618,0.0013825794983211535,0.00047058823529411766,0.008300079808459697,0.00575392133680145,0.006434223111033823,0.0052249863526475865,0.004547630445189086,0.006433375572667902,0.0062123493975903615,0.005009107468123861,0.009037944427845833,0.006990062321037561,0.004957821518425337,0.004685964779684075,0.006066925774954972,0.006277116218960583,0.0017517136329017516,0.0012763721000075081,0.0010015858442534013,0.0014685366032748367,0.0005339435545385202,0.001237388159147154,0.001950222882615156,0.0006903958269407794,0.0015933232169954477,0.0015778401122019635,0.026415385803661078,0.010416666666666666,0.011304941038885099,0.011358213228977761,0.004557812250119943,0.000868741115147686,0.001993913317242103,0.0017867294729148055,0.0012006723765308573,0.0018633540372670807,0.0015472391451503724,0.0012772351615326822,0.0012715033657442034,0.0012074169900819318,0.00980392156862745,0.006730558197380935,0.001834508062180168,0.013482736631137833,0.006014492753623189,0.002897500905469033,0.003660565723793677,0.0022698255071641367,0.0021275034847039838,0.0027019202933513463,0.0010702818408847663,0.0017040613462084636,0.0025103466992333267,0.002186331899287679,0.00269124672004306,0.0040919574436425864,0.00940078452590288,0.01210186847529756,0.04025844930417495,0.017476833035278815,0.004230118443316413,0.002165841584158416,0.011297611362169141,0.009949079514296905,0.00395703787450537,0.004533375019540409,0.006759381555434698,0.00633265040044701,0.004690503652441369,0.005854343923191008,0.002906685376365641,0.003832151753209427,0.0034423407917383822,0.003583950136345929,0.0077447046748157135,0.005627939249094133,0.0031352876626430477,0.0023985608634819106,0.06462679647658785,0.04613210879547863,0.0046700507614213195,0.003695491500369549,0.004160236194054888,0.008027522935779817,0.0036306343334703384,0.02769431743958197,0.01232622798887859,0.02092050209205021,0.008349606087132179,0.0025357607282184657,0.0036427415002698326,0.023448275862068966,0.015463569451009521,0.009746588693957114],\"type\":\"heatmap\",\"xaxis\":\"x3\",\"yaxis\":\"y3\"},{\"hoverinfo\":\"skip\",\"line\":{\"color\":\"#9e9e9e\",\"width\":1},\"mode\":\"lines\",\"x\":[0.5,0.5],\"y\":[1.5,6.5],\"type\":\"scatter\",\"xaxis\":\"x3\",\"yaxis\":\"y3\"},{\"hoverinfo\":\"skip\",\"line\":{\"color\":\"#9e9e9e\",\"width\":1},\"mode\":\"lines\",\"x\":[0.5,1.5],\"y\":[1.5,1.5],\"type\":\"scatter\",\"xaxis\":\"x3\",\"yaxis\":\"y3\"},{\"hoverinfo\":\"skip\",\"line\":{\"color\":\"#9e9e9e\",\"width\":1},\"mode\":\"lines\",\"x\":[1.5,1.5],\"y\":[1.5,-0.5],\"type\":\"scatter\",\"xaxis\":\"x3\",\"yaxis\":\"y3\"},{\"hoverinfo\":\"skip\",\"line\":{\"color\":\"#9e9e9e\",\"width\":1},\"mode\":\"lines\",\"x\":[4.5,4.5],\"y\":[4.5,6.5],\"type\":\"scatter\",\"xaxis\":\"x3\",\"yaxis\":\"y3\"},{\"hoverinfo\":\"skip\",\"line\":{\"color\":\"#9e9e9e\",\"width\":1},\"mode\":\"lines\",\"x\":[4.5,5.5],\"y\":[4.5,4.5],\"type\":\"scatter\",\"xaxis\":\"x3\",\"yaxis\":\"y3\"},{\"hoverinfo\":\"skip\",\"line\":{\"color\":\"#9e9e9e\",\"width\":1},\"mode\":\"lines\",\"x\":[5.5,5.5],\"y\":[4.5,-0.5],\"type\":\"scatter\",\"xaxis\":\"x3\",\"yaxis\":\"y3\"},{\"hoverinfo\":\"skip\",\"line\":{\"color\":\"#9e9e9e\",\"width\":1},\"mode\":\"lines\",\"x\":[8.5,8.5],\"y\":[5.5,6.5],\"type\":\"scatter\",\"xaxis\":\"x3\",\"yaxis\":\"y3\"},{\"hoverinfo\":\"skip\",\"line\":{\"color\":\"#9e9e9e\",\"width\":1},\"mode\":\"lines\",\"x\":[8.5,9.5],\"y\":[5.5,5.5],\"type\":\"scatter\",\"xaxis\":\"x3\",\"yaxis\":\"y3\"},{\"hoverinfo\":\"skip\",\"line\":{\"color\":\"#9e9e9e\",\"width\":1},\"mode\":\"lines\",\"x\":[9.5,9.5],\"y\":[5.5,-0.5],\"type\":\"scatter\",\"xaxis\":\"x3\",\"yaxis\":\"y3\"},{\"hoverinfo\":\"skip\",\"line\":{\"color\":\"#9e9e9e\",\"width\":1},\"mode\":\"lines\",\"x\":[13.5,13.5],\"y\":[1.5,6.5],\"type\":\"scatter\",\"xaxis\":\"x3\",\"yaxis\":\"y3\"},{\"hoverinfo\":\"skip\",\"line\":{\"color\":\"#9e9e9e\",\"width\":1},\"mode\":\"lines\",\"x\":[13.5,14.5],\"y\":[1.5,1.5],\"type\":\"scatter\",\"xaxis\":\"x3\",\"yaxis\":\"y3\"},{\"hoverinfo\":\"skip\",\"line\":{\"color\":\"#9e9e9e\",\"width\":1},\"mode\":\"lines\",\"x\":[14.5,14.5],\"y\":[1.5,-0.5],\"type\":\"scatter\",\"xaxis\":\"x3\",\"yaxis\":\"y3\"},{\"hoverinfo\":\"skip\",\"line\":{\"color\":\"#9e9e9e\",\"width\":1},\"mode\":\"lines\",\"x\":[17.5,17.5],\"y\":[3.5,6.5],\"type\":\"scatter\",\"xaxis\":\"x3\",\"yaxis\":\"y3\"},{\"hoverinfo\":\"skip\",\"line\":{\"color\":\"#9e9e9e\",\"width\":1},\"mode\":\"lines\",\"x\":[17.5,18.5],\"y\":[3.5,3.5],\"type\":\"scatter\",\"xaxis\":\"x3\",\"yaxis\":\"y3\"},{\"hoverinfo\":\"skip\",\"line\":{\"color\":\"#9e9e9e\",\"width\":1},\"mode\":\"lines\",\"x\":[18.5,18.5],\"y\":[3.5,-0.5],\"type\":\"scatter\",\"xaxis\":\"x3\",\"yaxis\":\"y3\"},{\"hoverinfo\":\"skip\",\"line\":{\"color\":\"#9e9e9e\",\"width\":1},\"mode\":\"lines\",\"x\":[22.5,22.5],\"y\":[-0.5,6.5],\"type\":\"scatter\",\"xaxis\":\"x3\",\"yaxis\":\"y3\"},{\"hoverinfo\":\"skip\",\"line\":{\"color\":\"#9e9e9e\",\"width\":1},\"mode\":\"lines\",\"x\":[26.5,26.5],\"y\":[1.5,6.5],\"type\":\"scatter\",\"xaxis\":\"x3\",\"yaxis\":\"y3\"},{\"hoverinfo\":\"skip\",\"line\":{\"color\":\"#9e9e9e\",\"width\":1},\"mode\":\"lines\",\"x\":[26.5,27.5],\"y\":[1.5,1.5],\"type\":\"scatter\",\"xaxis\":\"x3\",\"yaxis\":\"y3\"},{\"hoverinfo\":\"skip\",\"line\":{\"color\":\"#9e9e9e\",\"width\":1},\"mode\":\"lines\",\"x\":[27.5,27.5],\"y\":[1.5,-0.5],\"type\":\"scatter\",\"xaxis\":\"x3\",\"yaxis\":\"y3\"},{\"hoverinfo\":\"skip\",\"line\":{\"color\":\"#9e9e9e\",\"width\":1},\"mode\":\"lines\",\"x\":[30.5,30.5],\"y\":[4.5,6.5],\"type\":\"scatter\",\"xaxis\":\"x3\",\"yaxis\":\"y3\"},{\"hoverinfo\":\"skip\",\"line\":{\"color\":\"#9e9e9e\",\"width\":1},\"mode\":\"lines\",\"x\":[30.5,31.5],\"y\":[4.5,4.5],\"type\":\"scatter\",\"xaxis\":\"x3\",\"yaxis\":\"y3\"},{\"hoverinfo\":\"skip\",\"line\":{\"color\":\"#9e9e9e\",\"width\":1},\"mode\":\"lines\",\"x\":[31.5,31.5],\"y\":[4.5,-0.5],\"type\":\"scatter\",\"xaxis\":\"x3\",\"yaxis\":\"y3\"},{\"hoverinfo\":\"skip\",\"line\":{\"color\":\"#9e9e9e\",\"width\":1},\"mode\":\"lines\",\"x\":[35.5,35.5],\"y\":[0.5,6.5],\"type\":\"scatter\",\"xaxis\":\"x3\",\"yaxis\":\"y3\"},{\"hoverinfo\":\"skip\",\"line\":{\"color\":\"#9e9e9e\",\"width\":1},\"mode\":\"lines\",\"x\":[35.5,36.5],\"y\":[0.5,0.5],\"type\":\"scatter\",\"xaxis\":\"x3\",\"yaxis\":\"y3\"},{\"hoverinfo\":\"skip\",\"line\":{\"color\":\"#9e9e9e\",\"width\":1},\"mode\":\"lines\",\"x\":[36.5,36.5],\"y\":[0.5,-0.5],\"type\":\"scatter\",\"xaxis\":\"x3\",\"yaxis\":\"y3\"},{\"hoverinfo\":\"skip\",\"line\":{\"color\":\"#9e9e9e\",\"width\":1},\"mode\":\"lines\",\"x\":[39.5,39.5],\"y\":[2.5,6.5],\"type\":\"scatter\",\"xaxis\":\"x3\",\"yaxis\":\"y3\"},{\"hoverinfo\":\"skip\",\"line\":{\"color\":\"#9e9e9e\",\"width\":1},\"mode\":\"lines\",\"x\":[39.5,40.5],\"y\":[2.5,2.5],\"type\":\"scatter\",\"xaxis\":\"x3\",\"yaxis\":\"y3\"},{\"hoverinfo\":\"skip\",\"line\":{\"color\":\"#9e9e9e\",\"width\":1},\"mode\":\"lines\",\"x\":[40.5,40.5],\"y\":[2.5,-0.5],\"type\":\"scatter\",\"xaxis\":\"x3\",\"yaxis\":\"y3\"},{\"hoverinfo\":\"skip\",\"line\":{\"color\":\"#9e9e9e\",\"width\":1},\"mode\":\"lines\",\"x\":[43.5,43.5],\"y\":[5.5,6.5],\"type\":\"scatter\",\"xaxis\":\"x3\",\"yaxis\":\"y3\"},{\"hoverinfo\":\"skip\",\"line\":{\"color\":\"#9e9e9e\",\"width\":1},\"mode\":\"lines\",\"x\":[43.5,44.5],\"y\":[5.5,5.5],\"type\":\"scatter\",\"xaxis\":\"x3\",\"yaxis\":\"y3\"},{\"hoverinfo\":\"skip\",\"line\":{\"color\":\"#9e9e9e\",\"width\":1},\"mode\":\"lines\",\"x\":[44.5,44.5],\"y\":[5.5,-0.5],\"type\":\"scatter\",\"xaxis\":\"x3\",\"yaxis\":\"y3\"},{\"hoverinfo\":\"skip\",\"line\":{\"color\":\"#9e9e9e\",\"width\":1},\"mode\":\"lines\",\"x\":[48.5,48.5],\"y\":[0.5,6.5],\"type\":\"scatter\",\"xaxis\":\"x3\",\"yaxis\":\"y3\"},{\"hoverinfo\":\"skip\",\"line\":{\"color\":\"#9e9e9e\",\"width\":1},\"mode\":\"lines\",\"x\":[48.5,49.5],\"y\":[0.5,0.5],\"type\":\"scatter\",\"xaxis\":\"x3\",\"yaxis\":\"y3\"},{\"hoverinfo\":\"skip\",\"line\":{\"color\":\"#9e9e9e\",\"width\":1},\"mode\":\"lines\",\"x\":[49.5,49.5],\"y\":[0.5,-0.5],\"type\":\"scatter\",\"xaxis\":\"x3\",\"yaxis\":\"y3\"},{\"colorscale\":[[0.0,\"rgb(247,252,245)\"],[0.125,\"rgb(229,245,224)\"],[0.25,\"rgb(199,233,192)\"],[0.375,\"rgb(161,217,155)\"],[0.5,\"rgb(116,196,118)\"],[0.625,\"rgb(65,171,93)\"],[0.75,\"rgb(35,139,69)\"],[0.875,\"rgb(0,109,44)\"],[1.0,\"rgb(0,68,27)\"]],\"customdata\":[[\"2021-01-01\",\"y\"],[\"2021-01-02\",\"y\"],[\"2021-01-03\",\"y\"],[\"2021-01-04\",\"y\"],[\"2021-01-05\",\"y\"],[\"2021-01-06\",\"y\"],[\"2021-01-07\",\"y\"],[\"2021-01-08\",\"y\"],[\"2021-01-09\",\"y\"],[\"2021-01-10\",\"y\"],[\"2021-01-11\",\"y\"],[\"2021-01-12\",\"y\"],[\"2021-01-13\",\"y\"],[\"2021-01-14\",\"y\"],[\"2021-01-15\",\"y\"],[\"2021-01-16\",\"y\"],[\"2021-01-17\",\"y\"],[\"2021-01-18\",\"y\"],[\"2021-01-19\",\"y\"],[\"2021-01-20\",\"y\"],[\"2021-01-21\",\"y\"],[\"2021-01-22\",\"y\"],[\"2021-01-23\",\"y\"],[\"2021-01-24\",\"y\"],[\"2021-01-25\",\"y\"],[\"2021-01-26\",\"y\"],[\"2021-01-27\",\"y\"],[\"2021-01-28\",\"y\"],[\"2021-01-29\",\"y\"],[\"2021-01-30\",\"y\"],[\"2021-01-31\",\"y\"],[\"2021-02-01\",\"y\"],[\"2021-02-02\",\"y\"],[\"2021-02-03\",\"y\"],[\"2021-02-04\",\"y\"],[\"2021-02-05\",\"y\"],[\"2021-02-06\",\"y\"],[\"2021-02-07\",\"y\"],[\"2021-02-08\",\"y\"],[\"2021-02-09\",\"y\"],[\"2021-02-10\",\"y\"],[\"2021-02-11\",\"y\"],[\"2021-02-12\",\"y\"],[\"2021-02-13\",\"y\"],[\"2021-02-14\",\"y\"],[\"2021-02-15\",\"y\"],[\"2021-02-16\",\"y\"],[\"2021-02-17\",\"y\"],[\"2021-02-18\",\"y\"],[\"2021-02-19\",\"y\"],[\"2021-02-20\",\"y\"],[\"2021-02-21\",\"y\"],[\"2021-02-22\",\"y\"],[\"2021-02-23\",\"y\"],[\"2021-02-24\",\"y\"],[\"2021-02-25\",\"y\"],[\"2021-02-26\",\"y\"],[\"2021-02-27\",\"y\"],[\"2021-02-28\",\"y\"],[\"2021-03-01\",\"y\"],[\"2021-03-02\",\"y\"],[\"2021-03-03\",\"y\"],[\"2021-03-04\",\"y\"],[\"2021-03-05\",\"y\"],[\"2021-03-06\",\"y\"],[\"2021-03-07\",\"y\"],[\"2021-03-08\",\"y\"],[\"2021-03-09\",\"y\"],[\"2021-03-10\",\"y\"],[\"2021-03-11\",\"y\"],[\"2021-03-12\",\"y\"],[\"2021-03-13\",\"y\"],[\"2021-03-14\",\"y\"],[\"2021-03-15\",\"y\"],[\"2021-03-16\",\"y\"],[\"2021-03-17\",\"y\"],[\"2021-03-18\",\"y\"],[\"2021-03-19\",\"y\"],[\"2021-03-20\",\"y\"],[\"2021-03-21\",\"y\"],[\"2021-03-22\",\"y\"],[\"2021-03-23\",\"y\"],[\"2021-03-24\",\"y\"],[\"2021-03-25\",\"y\"],[\"2021-03-26\",\"y\"],[\"2021-03-27\",\"y\"],[\"2021-03-28\",\"y\"],[\"2021-03-29\",\"y\"],[\"2021-03-30\",\"y\"],[\"2021-03-31\",\"y\"],[\"2021-04-01\",\"y\"],[\"2021-04-02\",\"y\"],[\"2021-04-03\",\"y\"],[\"2021-04-04\",\"y\"],[\"2021-04-05\",\"y\"],[\"2021-04-06\",\"y\"],[\"2021-04-07\",\"y\"],[\"2021-04-08\",\"y\"],[\"2021-04-09\",\"y\"],[\"2021-04-10\",\"y\"],[\"2021-04-11\",\"y\"],[\"2021-04-12\",\"y\"],[\"2021-04-13\",\"y\"],[\"2021-04-14\",\"y\"],[\"2021-04-15\",\"y\"],[\"2021-04-16\",\"y\"],[\"2021-04-17\",\"y\"],[\"2021-04-18\",\"y\"],[\"2021-04-19\",\"y\"],[\"2021-04-20\",\"y\"],[\"2021-04-21\",\"y\"],[\"2021-04-22\",\"y\"],[\"2021-04-23\",\"y\"],[\"2021-04-24\",\"y\"],[\"2021-04-25\",\"y\"],[\"2021-04-26\",\"y\"],[\"2021-04-27\",\"y\"],[\"2021-04-28\",\"y\"],[\"2021-04-29\",\"y\"],[\"2021-04-30\",\"y\"],[\"2021-05-01\",\"y\"],[\"2021-05-02\",\"y\"],[\"2021-05-03\",\"y\"],[\"2021-05-04\",\"y\"],[\"2021-05-05\",\"y\"],[\"2021-05-06\",\"y\"],[\"2021-05-07\",\"y\"],[\"2021-05-08\",\"y\"],[\"2021-05-09\",\"y\"],[\"2021-05-10\",\"y\"],[\"2021-05-11\",\"y\"],[\"2021-05-12\",\"y\"],[\"2021-05-13\",\"y\"],[\"2021-05-14\",\"y\"],[\"2021-05-15\",\"y\"],[\"2021-05-16\",\"y\"],[\"2021-05-17\",\"y\"],[\"2021-05-18\",\"y\"],[\"2021-05-19\",\"y\"],[\"2021-05-20\",\"y\"],[\"2021-05-21\",\"y\"],[\"2021-05-22\",\"y\"],[\"2021-05-23\",\"y\"],[\"2021-05-24\",\"y\"],[\"2021-05-25\",\"y\"],[\"2021-05-26\",\"y\"],[\"2021-05-27\",\"y\"],[\"2021-05-28\",\"y\"],[\"2021-05-29\",\"y\"],[\"2021-05-30\",\"y\"],[\"2021-05-31\",\"y\"],[\"2021-06-01\",\"y\"],[\"2021-06-02\",\"y\"],[\"2021-06-03\",\"y\"],[\"2021-06-04\",\"y\"],[\"2021-06-05\",\"y\"],[\"2021-06-06\",\"y\"],[\"2021-06-07\",\"y\"],[\"2021-06-08\",\"y\"],[\"2021-06-09\",\"y\"],[\"2021-06-10\",\"y\"],[\"2021-06-11\",\"y\"],[\"2021-06-12\",\"y\"],[\"2021-06-13\",\"y\"],[\"2021-06-14\",\"y\"],[\"2021-06-15\",\"y\"],[\"2021-06-16\",\"y\"],[\"2021-06-17\",\"y\"],[\"2021-06-18\",\"y\"],[\"2021-06-19\",\"y\"],[\"2021-06-20\",\"y\"],[\"2021-06-21\",\"y\"],[\"2021-06-22\",\"y\"],[\"2021-06-23\",\"y\"],[\"2021-06-24\",\"y\"],[\"2021-06-25\",\"y\"],[\"2021-06-26\",\"y\"],[\"2021-06-27\",\"y\"],[\"2021-06-28\",\"y\"],[\"2021-06-29\",\"y\"],[\"2021-06-30\",\"y\"],[\"2021-07-01\",\"y\"],[\"2021-07-02\",\"y\"],[\"2021-07-03\",\"y\"],[\"2021-07-04\",\"y\"],[\"2021-07-05\",\"y\"],[\"2021-07-06\",\"y\"],[\"2021-07-07\",\"y\"],[\"2021-07-08\",\"y\"],[\"2021-07-09\",\"y\"],[\"2021-07-10\",\"y\"],[\"2021-07-11\",\"y\"],[\"2021-07-12\",\"y\"],[\"2021-07-13\",\"y\"],[\"2021-07-14\",\"y\"],[\"2021-07-15\",\"y\"],[\"2021-07-16\",\"y\"],[\"2021-07-17\",\"y\"],[\"2021-07-18\",\"y\"],[\"2021-07-19\",\"y\"],[\"2021-07-20\",\"y\"],[\"2021-07-21\",\"y\"],[\"2021-07-22\",\"y\"],[\"2021-07-23\",\"y\"],[\"2021-07-24\",\"y\"],[\"2021-07-25\",\"y\"],[\"2021-07-26\",\"y\"],[\"2021-07-27\",\"y\"],[\"2021-07-28\",\"y\"],[\"2021-07-29\",\"y\"],[\"2021-07-30\",\"y\"],[\"2021-07-31\",\"y\"],[\"2021-08-01\",\"y\"],[\"2021-08-02\",\"y\"],[\"2021-08-03\",\"y\"],[\"2021-08-04\",\"y\"],[\"2021-08-05\",\"y\"],[\"2021-08-06\",\"y\"],[\"2021-08-07\",\"y\"],[\"2021-08-08\",\"y\"],[\"2021-08-09\",\"y\"],[\"2021-08-10\",\"y\"],[\"2021-08-11\",\"y\"],[\"2021-08-12\",\"y\"],[\"2021-08-13\",\"y\"],[\"2021-08-14\",\"y\"],[\"2021-08-15\",\"y\"],[\"2021-08-16\",\"y\"],[\"2021-08-17\",\"y\"],[\"2021-08-18\",\"y\"],[\"2021-08-19\",\"y\"],[\"2021-08-20\",\"y\"],[\"2021-08-21\",\"y\"],[\"2021-08-22\",\"y\"],[\"2021-08-23\",\"y\"],[\"2021-08-24\",\"y\"],[\"2021-08-25\",\"y\"],[\"2021-08-26\",\"y\"],[\"2021-08-27\",\"y\"],[\"2021-08-28\",\"y\"],[\"2021-08-29\",\"y\"],[\"2021-08-30\",\"y\"],[\"2021-08-31\",\"y\"],[\"2021-09-01\",\"y\"],[\"2021-09-02\",\"y\"],[\"2021-09-03\",\"y\"],[\"2021-09-04\",\"y\"],[\"2021-09-05\",\"y\"],[\"2021-09-06\",\"y\"],[\"2021-09-07\",\"y\"],[\"2021-09-08\",\"y\"],[\"2021-09-09\",\"y\"],[\"2021-09-10\",\"y\"],[\"2021-09-11\",\"y\"],[\"2021-09-12\",\"y\"],[\"2021-09-13\",\"y\"],[\"2021-09-14\",\"y\"],[\"2021-09-15\",\"y\"],[\"2021-09-16\",\"y\"],[\"2021-09-17\",\"y\"],[\"2021-09-18\",\"y\"],[\"2021-09-19\",\"y\"],[\"2021-09-20\",\"y\"],[\"2021-09-21\",\"y\"],[\"2021-09-22\",\"y\"],[\"2021-09-23\",\"y\"],[\"2021-09-24\",\"y\"],[\"2021-09-25\",\"y\"],[\"2021-09-26\",\"y\"],[\"2021-09-27\",\"y\"],[\"2021-09-28\",\"y\"],[\"2021-09-29\",\"y\"],[\"2021-09-30\",\"y\"],[\"2021-10-01\",\"y\"],[\"2021-10-02\",\"y\"],[\"2021-10-03\",\"y\"],[\"2021-10-04\",\"y\"],[\"2021-10-05\",\"y\"],[\"2021-10-06\",\"y\"],[\"2021-10-07\",\"y\"],[\"2021-10-08\",\"y\"],[\"2021-10-09\",\"y\"],[\"2021-10-10\",\"y\"],[\"2021-10-11\",\"y\"],[\"2021-10-12\",\"y\"],[\"2021-10-13\",\"y\"],[\"2021-10-14\",\"y\"],[\"2021-10-15\",\"y\"],[\"2021-10-16\",\"y\"],[\"2021-10-17\",\"y\"],[\"2021-10-18\",\"y\"],[\"2021-10-19\",\"y\"],[\"2021-10-20\",\"y\"],[\"2021-10-21\",\"y\"],[\"2021-10-22\",\"y\"],[\"2021-10-23\",\"y\"],[\"2021-10-24\",\"y\"],[\"2021-10-25\",\"y\"],[\"2021-10-26\",\"y\"],[\"2021-10-27\",\"y\"],[\"2021-10-28\",\"y\"],[\"2021-10-29\",\"y\"],[\"2021-10-30\",\"y\"],[\"2021-10-31\",\"y\"],[\"2021-11-01\",\"y\"],[\"2021-11-02\",\"y\"],[\"2021-11-03\",\"y\"],[\"2021-11-04\",\"y\"],[\"2021-11-05\",\"y\"],[\"2021-11-06\",\"y\"],[\"2021-11-07\",\"y\"],[\"2021-11-08\",\"y\"],[\"2021-11-09\",\"y\"],[\"2021-11-10\",\"y\"],[\"2021-11-11\",\"y\"],[\"2021-11-12\",\"y\"],[\"2021-11-13\",\"y\"],[\"2021-11-14\",\"y\"],[\"2021-11-15\",\"y\"],[\"2021-11-16\",\"y\"],[\"2021-11-17\",\"y\"],[\"2021-11-18\",\"y\"],[\"2021-11-19\",\"y\"],[\"2021-11-20\",\"y\"],[\"2021-11-21\",\"y\"],[\"2021-11-22\",\"y\"],[\"2021-11-23\",\"y\"],[\"2021-11-24\",\"y\"],[\"2021-11-25\",\"y\"],[\"2021-11-26\",\"y\"],[\"2021-11-27\",\"y\"],[\"2021-11-28\",\"y\"],[\"2021-11-29\",\"y\"],[\"2021-11-30\",\"y\"],[\"2021-12-01\",\"y\"],[\"2021-12-02\",\"y\"],[\"2021-12-03\",\"y\"],[\"2021-12-04\",\"y\"],[\"2021-12-05\",\"y\"],[\"2021-12-06\",\"y\"],[\"2021-12-07\",\"y\"],[\"2021-12-08\",\"y\"],[\"2021-12-09\",\"y\"],[\"2021-12-10\",\"y\"],[\"2021-12-11\",\"y\"],[\"2021-12-12\",\"y\"],[\"2021-12-13\",\"y\"],[\"2021-12-14\",\"y\"],[\"2021-12-15\",\"y\"],[\"2021-12-16\",\"y\"],[\"2021-12-17\",\"y\"],[\"2021-12-18\",\"y\"],[\"2021-12-19\",\"y\"],[\"2021-12-20\",\"y\"],[\"2021-12-21\",\"y\"],[\"2021-12-22\",\"y\"],[\"2021-12-23\",\"y\"],[\"2021-12-24\",\"y\"],[\"2021-12-25\",\"y\"],[\"2021-12-26\",\"y\"],[\"2021-12-27\",\"y\"],[\"2021-12-28\",\"y\"],[\"2021-12-29\",\"y\"],[\"2021-12-30\",\"y\"],[\"2021-12-31\",\"y\"]],\"hovertemplate\":\"%{customdata[0]} <br>%{customdata[1]}=%{z} <br>Week=%{x}\",\"name\":\"2021\",\"showscale\":false,\"x\":[0,0,0,1,1,1,1,1,1,1,2,2,2,2,2,2,2,3,3,3,3,3,3,3,4,4,4,4,4,4,4,5,5,5,5,5,5,5,6,6,6,6,6,6,6,7,7,7,7,7,7,7,8,8,8,8,8,8,8,9,9,9,9,9,9,9,10,10,10,10,10,10,10,11,11,11,11,11,11,11,12,12,12,12,12,12,12,13,13,13,13,13,13,13,14,14,14,14,14,14,14,15,15,15,15,15,15,15,16,16,16,16,16,16,16,17,17,17,17,17,17,17,18,18,18,18,18,18,18,19,19,19,19,19,19,19,20,20,20,20,20,20,20,21,21,21,21,21,21,21,22,22,22,22,22,22,22,23,23,23,23,23,23,23,24,24,24,24,24,24,24,25,25,25,25,25,25,25,26,26,26,26,26,26,26,27,27,27,27,27,27,27,28,28,28,28,28,28,28,29,29,29,29,29,29,29,30,30,30,30,30,30,30,31,31,31,31,31,31,31,32,32,32,32,32,32,32,33,33,33,33,33,33,33,34,34,34,34,34,34,34,35,35,35,35,35,35,35,36,36,36,36,36,36,36,37,37,37,37,37,37,37,38,38,38,38,38,38,38,39,39,39,39,39,39,39,40,40,40,40,40,40,40,41,41,41,41,41,41,41,42,42,42,42,42,42,42,43,43,43,43,43,43,43,44,44,44,44,44,44,44,45,45,45,45,45,45,45,46,46,46,46,46,46,46,47,47,47,47,47,47,47,48,48,48,48,48,48,48,49,49,49,49,49,49,49,50,50,50,50,50,50,50,51,51,51,51,51,51,51,52,52,52,52,52],\"xgap\":1,\"y\":[4,5,6,0,1,2,3,4,5,6,0,1,2,3,4,5,6,0,1,2,3,4,5,6,0,1,2,3,4,5,6,0,1,2,3,4,5,6,0,1,2,3,4,5,6,0,1,2,3,4,5,6,0,1,2,3,4,5,6,0,1,2,3,4,5,6,0,1,2,3,4,5,6,0,1,2,3,4,5,6,0,1,2,3,4,5,6,0,1,2,3,4,5,6,0,1,2,3,4,5,6,0,1,2,3,4,5,6,0,1,2,3,4,5,6,0,1,2,3,4,5,6,0,1,2,3,4,5,6,0,1,2,3,4,5,6,0,1,2,3,4,5,6,0,1,2,3,4,5,6,0,1,2,3,4,5,6,0,1,2,3,4,5,6,0,1,2,3,4,5,6,0,1,2,3,4,5,6,0,1,2,3,4,5,6,0,1,2,3,4,5,6,0,1,2,3,4,5,6,0,1,2,3,4,5,6,0,1,2,3,4,5,6,0,1,2,3,4,5,6,0,1,2,3,4,5,6,0,1,2,3,4,5,6,0,1,2,3,4,5,6,0,1,2,3,4,5,6,0,1,2,3,4,5,6,0,1,2,3,4,5,6,0,1,2,3,4,5,6,0,1,2,3,4,5,6,0,1,2,3,4,5,6,0,1,2,3,4,5,6,0,1,2,3,4,5,6,0,1,2,3,4,5,6,0,1,2,3,4,5,6,0,1,2,3,4,5,6,0,1,2,3,4,5,6,0,1,2,3,4,5,6,0,1,2,3,4,5,6,0,1,2,3,4,5,6,0,1,2,3,4,5,6,0,1,2,3,4,5,6,0,1,2,3,4],\"ygap\":1,\"z\":[0.03479550013081015,0.004842133191828071,0.004220758457504636,0.012876990850559133,0.003158171769453461,0.0013346383130171723,0.001782393056416615,0.01177194737247057,0.0027470011903671823,0.03490321597317482,0.0033196332595637054,0.0022017997319548153,0.004034906634137187,0.005495356037151703,0.006427915518824609,0.0024923843810578787,0.001708150317227916,0.0017438173747622067,0.002670991128493752,0.0027281279397930384,0.0030995738086013174,0.006076923076923077,0.004062788550323176,0.0061180789232181095,0.02276319949415112,0.014802631578947368,0.005839691061505134,0.024201054917778467,0.007309941520467836,0.023101090371465533,0.06992847359610409,0.11474896216808961,0.04771505376344086,0.01002435825370058,0.03044315992292871,0.00899390243902439,0.005948567767914341,0.021559268098647572,0.004912280701754386,0.005246589716684155,0.010640249495505412,0.02268913693733129,0.01741417300447793,0.08731171815164666,0.1711718630010751,0.2611231101511879,0.22894245308191763,0.19729611862189272,0.20484708597807272,0.07760040088767986,0.015955189680047527,0.01291565577279863,0.008012236870857309,0.002697841726618705,0.0014900517135594707,0.0039826212889210715,0.002292427824342718,0.0046102621019380174,0.013148492210947549,0.004294969789619276,0.0032410651716888576,0.002205819971154662,0.0026172740084558083,0.004497354497354497,0.0023813067420747134,0.003373432626821972,0.003190606853423521,0.0025589330024813894,0.0019332292363744515,0.0017793594306049821,0.002134016218523261,0.0549022243128822,0.09779218396428353,0.0787048414843942,0.012344808126410835,0.034060414229684165,0.020776546126355322,0.0022371364653243847,0.0019915029208709507,0.002608431907794965,0.011595971925541654,0.0032163333799468605,0.004647030684070252,0.002717719531344365,0.0019296870288850027,0.0022483798439359875,0.0044398491667680335,0.0035370167093547993,0.0019456604822458482,0.0015675049410481838,0.0026499638641291254,0.0014857957922263165,0.002421782955884278,0.009431146660299648,0.00253942006732416,0.0004861448711716091,0.001291901815462025,0.0014745782706146041,0.0023559901048415596,0.004633255024797703,0.05904233335301411,0.01612614226841068,0.0019508670520231213,0.0017145306472353193,0.0039445374133397085,0.0034109269343546166,0.0013422818791946308,0.0008400840084008401,0.006021194605009634,0.0010168506682161533,0.0012110849896701575,0.0006565988181221273,0.012981574539363484,0.005989635910895753,0.0019192706771426857,0.0004813188135491246,0.0022535620820005814,0.0014990363337854236,0.0009580838323353293,0.0035904419957905162,0.0018311291963377416,0.001328341987682647,0.005391652026413037,0.00996118069288801,0.0014614795740830956,0.0014491913512260158,0.0012058570198105081,0.001011825713020932,0.0012423061720029363,0.014613778705636743,0.03653086339788846,0.0043765064061905366,0.00117864960431049,0.0005611987204669173,0.0006298419096806701,0.009895979758223221,0.00432705816240517,0.005435126082285281,0.0010530227948463825,0.0005005561735261402,0.0009436580627255065,0.000994777418552599,0.0008918120506103339,0.008517034068136272,0.004570784546991422,0.0023787740164684353,0.0011602850986242334,0.002626970227670753,0.0009314456035767511,0.0023973804233422993,0.012913907284768211,0.0027687492476224872,0.0015371881281778408,0.0034189860569474864,0.005352039490776825,0.0072094055013309675,0.0112837119870465,0.03188156831042845,0.016560091818330874,0.01432082932563856,0.01146938980834046,0.00695730517042895,0.013687513525210993,0.014099454214675561,0.012750088192309631,0.036550573289551594,0.025019794140934283,0.011012664564248886,0.016134654648672874,0.013273860705073087,0.014899914714292882,0.03914680050188206,0.014332492350636106,0.00688893563315103,0.019193282351177086,0.022263173622870804,0.03582571274878967,0.01698492462311558,0.021373969020317844,0.015964308750806278,0.014449952536652252,0.03636720090182816,0.03886770313875037,0.01898972510624563,0.008730203145111646,0.00980829246544806,0.026140039653553167,0.022660706027439494,0.017009803921568627,0.01981409001956947,0.009910384818133895,0.013920999557282699,0.020756661268953334,0.013776548557115274,0.015436689060977485,0.012616913484021823,0.00811073336571151,0.035245515870940755,0.021017645046189942,0.018127771551094,0.006897267022766167,0.010806953152877606,0.010020917449044122,0.00980154301518754,0.01612565445026178,0.01379850271566277,0.018148112010927895,0.008521693946479605,0.004240102171136654,0.01497107859816264,0.009704968944099378,0.02233758061978921,0.05180257300787556,0.05730030235053155,0.04942528735632184,0.03220173591495044,0.028649121103233952,0.031169712540598186,0.020634837079538875,0.020837409508902366,0.049605301627521685,0.03347126918443245,0.0440639621574374,0.017433108337784685,0.02597654356886692,0.051532839038754795,0.039741581832419735,0.020421124627485465,0.040668676349684844,0.03688675765400221,0.022081094284318516,0.020522113924670616,0.01646180860403863,0.04351489319522228,0.010490744943763555,0.02696800960803581,0.026700437971610997,0.015052292053562701,0.016829745596868884,0.01146965206892767,0.030855331583378734,0.0345488475311444,0.021239421239421238,0.05058078141499472,0.04151386240281649,0.02497687326549491,0.017315527387958354,0.015266324938711833,0.012341197822141561,0.028075091061922106,0.013978918888450481,0.013203474069983434,0.012580515297906603,0.012294604358466379,0.0057928672174088255,0.01651338854732991,0.02348993288590604,0.004064361672512666,0.005304908279623203,0.002639179364605119,0.004314868804664723,0.003583694191428998,0.0024918633034987795,0.0027369141293191925,0.004286589099816289,0.032959952418715306,0.011186794610450952,0.007760532150776054,0.003732271709380443,0.002085346625298815,0.010513084218946407,0.0036239964317573595,0.01837816416505672,0.011812789712405921,0.007202248506850919,0.006936473875941913,0.004762148599518665,0.0034143287998634267,0.002600708277999115,0.0028677379480840544,0.026891005082153255,0.05937201595236758,0.07492552135054617,0.04635794494683494,0.008892304314414316,0.029772049424797616,0.011099106178175031,0.005268340718857706,0.007928029238122013,0.005861606477571904,0.003587622701679207,0.0025330396475770926,0.001921537229783827,0.044578786985156785,0.04524396254312469,0.013792715194505433,0.015088346237839985,0.031287365484256674,0.013217314682233727,0.009611790462967907,0.025543852741411556,0.020502939578084085,0.036662817551963045,0.07312860920718874,0.034178665736634944,0.009624426129763814,0.005562029876046191,0.004728247623689983,0.0063015973816618635,0.008083140877598153,0.0065832784726793945,0.009177953068412958,0.002963211450296321,0.008141917394586433,0.006480754124116261,0.008660991092958023,0.0072121068810593525,0.00716990658924514,0.006442979630272092,0.005027652086475616,0.0027771843623157445,0.003031488362996284,0.00432521747582252,0.005271042556733063,0.004479114242576749,0.005393688879927412,0.002597275311182985,0.002715578847070033,0.003220991436876424,0.0019053472649047326,0.0015427490793271624,0.003187848670948385,0.0039855760106282025,0.003027930044374837,0.007236593400658854,0.006025911419102139,0.004427450191185349,0.004197335604355496,0.006781054145689921,0.00818610434692503,0.008111839834311357,0.008757829388614823,0.005401549123522218,0.020445622801203284,0.012481554353172651,0.005530573215485605,0.003940478042204594,0.01433093525179856,0.028309788374560278,0.012380615493455961,0.007313432835820896,0.02283407972576989,0.018095825622044006,0.008749874283415468,0.006168397244782564,0.005227895645112172,0.01083086053412463,0.03640283338466276,0.04995172191824911,0.07699019658163528,0.07241133306155728,0.06232012976819633,0.051598574453798875,0.07133031028684975,0.09083060985385706],\"type\":\"heatmap\",\"xaxis\":\"x4\",\"yaxis\":\"y4\"},{\"hoverinfo\":\"skip\",\"line\":{\"color\":\"#9e9e9e\",\"width\":1},\"mode\":\"lines\",\"x\":[-0.5,-0.5],\"y\":[3.5,6.5],\"type\":\"scatter\",\"xaxis\":\"x4\",\"yaxis\":\"y4\"},{\"hoverinfo\":\"skip\",\"line\":{\"color\":\"#9e9e9e\",\"width\":1},\"mode\":\"lines\",\"x\":[-0.5,0.5],\"y\":[3.5,3.5],\"type\":\"scatter\",\"xaxis\":\"x4\",\"yaxis\":\"y4\"},{\"hoverinfo\":\"skip\",\"line\":{\"color\":\"#9e9e9e\",\"width\":1},\"mode\":\"lines\",\"x\":[0.5,0.5],\"y\":[3.5,-0.5],\"type\":\"scatter\",\"xaxis\":\"x4\",\"yaxis\":\"y4\"},{\"hoverinfo\":\"skip\",\"line\":{\"color\":\"#9e9e9e\",\"width\":1},\"mode\":\"lines\",\"x\":[4.5,4.5],\"y\":[-0.5,6.5],\"type\":\"scatter\",\"xaxis\":\"x4\",\"yaxis\":\"y4\"},{\"hoverinfo\":\"skip\",\"line\":{\"color\":\"#9e9e9e\",\"width\":1},\"mode\":\"lines\",\"x\":[8.5,8.5],\"y\":[-0.5,6.5],\"type\":\"scatter\",\"xaxis\":\"x4\",\"yaxis\":\"y4\"},{\"hoverinfo\":\"skip\",\"line\":{\"color\":\"#9e9e9e\",\"width\":1},\"mode\":\"lines\",\"x\":[12.5,12.5],\"y\":[2.5,6.5],\"type\":\"scatter\",\"xaxis\":\"x4\",\"yaxis\":\"y4\"},{\"hoverinfo\":\"skip\",\"line\":{\"color\":\"#9e9e9e\",\"width\":1},\"mode\":\"lines\",\"x\":[12.5,13.5],\"y\":[2.5,2.5],\"type\":\"scatter\",\"xaxis\":\"x4\",\"yaxis\":\"y4\"},{\"hoverinfo\":\"skip\",\"line\":{\"color\":\"#9e9e9e\",\"width\":1},\"mode\":\"lines\",\"x\":[13.5,13.5],\"y\":[2.5,-0.5],\"type\":\"scatter\",\"xaxis\":\"x4\",\"yaxis\":\"y4\"},{\"hoverinfo\":\"skip\",\"line\":{\"color\":\"#9e9e9e\",\"width\":1},\"mode\":\"lines\",\"x\":[16.5,16.5],\"y\":[4.5,6.5],\"type\":\"scatter\",\"xaxis\":\"x4\",\"yaxis\":\"y4\"},{\"hoverinfo\":\"skip\",\"line\":{\"color\":\"#9e9e9e\",\"width\":1},\"mode\":\"lines\",\"x\":[16.5,17.5],\"y\":[4.5,4.5],\"type\":\"scatter\",\"xaxis\":\"x4\",\"yaxis\":\"y4\"},{\"hoverinfo\":\"skip\",\"line\":{\"color\":\"#9e9e9e\",\"width\":1},\"mode\":\"lines\",\"x\":[17.5,17.5],\"y\":[4.5,-0.5],\"type\":\"scatter\",\"xaxis\":\"x4\",\"yaxis\":\"y4\"},{\"hoverinfo\":\"skip\",\"line\":{\"color\":\"#9e9e9e\",\"width\":1},\"mode\":\"lines\",\"x\":[21.5,21.5],\"y\":[0.5,6.5],\"type\":\"scatter\",\"xaxis\":\"x4\",\"yaxis\":\"y4\"},{\"hoverinfo\":\"skip\",\"line\":{\"color\":\"#9e9e9e\",\"width\":1},\"mode\":\"lines\",\"x\":[21.5,22.5],\"y\":[0.5,0.5],\"type\":\"scatter\",\"xaxis\":\"x4\",\"yaxis\":\"y4\"},{\"hoverinfo\":\"skip\",\"line\":{\"color\":\"#9e9e9e\",\"width\":1},\"mode\":\"lines\",\"x\":[22.5,22.5],\"y\":[0.5,-0.5],\"type\":\"scatter\",\"xaxis\":\"x4\",\"yaxis\":\"y4\"},{\"hoverinfo\":\"skip\",\"line\":{\"color\":\"#9e9e9e\",\"width\":1},\"mode\":\"lines\",\"x\":[25.5,25.5],\"y\":[2.5,6.5],\"type\":\"scatter\",\"xaxis\":\"x4\",\"yaxis\":\"y4\"},{\"hoverinfo\":\"skip\",\"line\":{\"color\":\"#9e9e9e\",\"width\":1},\"mode\":\"lines\",\"x\":[25.5,26.5],\"y\":[2.5,2.5],\"type\":\"scatter\",\"xaxis\":\"x4\",\"yaxis\":\"y4\"},{\"hoverinfo\":\"skip\",\"line\":{\"color\":\"#9e9e9e\",\"width\":1},\"mode\":\"lines\",\"x\":[26.5,26.5],\"y\":[2.5,-0.5],\"type\":\"scatter\",\"xaxis\":\"x4\",\"yaxis\":\"y4\"},{\"hoverinfo\":\"skip\",\"line\":{\"color\":\"#9e9e9e\",\"width\":1},\"mode\":\"lines\",\"x\":[29.5,29.5],\"y\":[5.5,6.5],\"type\":\"scatter\",\"xaxis\":\"x4\",\"yaxis\":\"y4\"},{\"hoverinfo\":\"skip\",\"line\":{\"color\":\"#9e9e9e\",\"width\":1},\"mode\":\"lines\",\"x\":[29.5,30.5],\"y\":[5.5,5.5],\"type\":\"scatter\",\"xaxis\":\"x4\",\"yaxis\":\"y4\"},{\"hoverinfo\":\"skip\",\"line\":{\"color\":\"#9e9e9e\",\"width\":1},\"mode\":\"lines\",\"x\":[30.5,30.5],\"y\":[5.5,-0.5],\"type\":\"scatter\",\"xaxis\":\"x4\",\"yaxis\":\"y4\"},{\"hoverinfo\":\"skip\",\"line\":{\"color\":\"#9e9e9e\",\"width\":1},\"mode\":\"lines\",\"x\":[34.5,34.5],\"y\":[1.5,6.5],\"type\":\"scatter\",\"xaxis\":\"x4\",\"yaxis\":\"y4\"},{\"hoverinfo\":\"skip\",\"line\":{\"color\":\"#9e9e9e\",\"width\":1},\"mode\":\"lines\",\"x\":[34.5,35.5],\"y\":[1.5,1.5],\"type\":\"scatter\",\"xaxis\":\"x4\",\"yaxis\":\"y4\"},{\"hoverinfo\":\"skip\",\"line\":{\"color\":\"#9e9e9e\",\"width\":1},\"mode\":\"lines\",\"x\":[35.5,35.5],\"y\":[1.5,-0.5],\"type\":\"scatter\",\"xaxis\":\"x4\",\"yaxis\":\"y4\"},{\"hoverinfo\":\"skip\",\"line\":{\"color\":\"#9e9e9e\",\"width\":1},\"mode\":\"lines\",\"x\":[38.5,38.5],\"y\":[3.5,6.5],\"type\":\"scatter\",\"xaxis\":\"x4\",\"yaxis\":\"y4\"},{\"hoverinfo\":\"skip\",\"line\":{\"color\":\"#9e9e9e\",\"width\":1},\"mode\":\"lines\",\"x\":[38.5,39.5],\"y\":[3.5,3.5],\"type\":\"scatter\",\"xaxis\":\"x4\",\"yaxis\":\"y4\"},{\"hoverinfo\":\"skip\",\"line\":{\"color\":\"#9e9e9e\",\"width\":1},\"mode\":\"lines\",\"x\":[39.5,39.5],\"y\":[3.5,-0.5],\"type\":\"scatter\",\"xaxis\":\"x4\",\"yaxis\":\"y4\"},{\"hoverinfo\":\"skip\",\"line\":{\"color\":\"#9e9e9e\",\"width\":1},\"mode\":\"lines\",\"x\":[43.5,43.5],\"y\":[-0.5,6.5],\"type\":\"scatter\",\"xaxis\":\"x4\",\"yaxis\":\"y4\"},{\"hoverinfo\":\"skip\",\"line\":{\"color\":\"#9e9e9e\",\"width\":1},\"mode\":\"lines\",\"x\":[47.5,47.5],\"y\":[1.5,6.5],\"type\":\"scatter\",\"xaxis\":\"x4\",\"yaxis\":\"y4\"},{\"hoverinfo\":\"skip\",\"line\":{\"color\":\"#9e9e9e\",\"width\":1},\"mode\":\"lines\",\"x\":[47.5,48.5],\"y\":[1.5,1.5],\"type\":\"scatter\",\"xaxis\":\"x4\",\"yaxis\":\"y4\"},{\"hoverinfo\":\"skip\",\"line\":{\"color\":\"#9e9e9e\",\"width\":1},\"mode\":\"lines\",\"x\":[48.5,48.5],\"y\":[1.5,-0.5],\"type\":\"scatter\",\"xaxis\":\"x4\",\"yaxis\":\"y4\"},{\"colorscale\":[[0.0,\"rgb(247,252,245)\"],[0.125,\"rgb(229,245,224)\"],[0.25,\"rgb(199,233,192)\"],[0.375,\"rgb(161,217,155)\"],[0.5,\"rgb(116,196,118)\"],[0.625,\"rgb(65,171,93)\"],[0.75,\"rgb(35,139,69)\"],[0.875,\"rgb(0,109,44)\"],[1.0,\"rgb(0,68,27)\"]],\"customdata\":[[\"2022-01-01\",\"y\"],[\"2022-01-02\",\"y\"],[\"2022-01-03\",\"y\"],[\"2022-01-04\",\"y\"],[\"2022-01-05\",\"y\"],[\"2022-01-06\",\"y\"],[\"2022-01-07\",\"y\"],[\"2022-01-08\",\"y\"],[\"2022-01-09\",\"y\"],[\"2022-01-10\",\"y\"],[\"2022-01-11\",\"y\"],[\"2022-01-12\",\"y\"],[\"2022-01-13\",\"y\"],[\"2022-01-14\",\"y\"],[\"2022-01-15\",\"y\"],[\"2022-01-16\",\"y\"],[\"2022-01-17\",\"y\"],[\"2022-01-18\",\"y\"],[\"2022-01-19\",\"y\"],[\"2022-01-20\",\"y\"],[\"2022-01-21\",\"y\"],[\"2022-01-22\",\"y\"],[\"2022-01-23\",\"y\"],[\"2022-01-24\",\"y\"],[\"2022-01-25\",\"y\"],[\"2022-01-26\",\"y\"],[\"2022-01-27\",\"y\"],[\"2022-01-28\",\"y\"],[\"2022-01-29\",\"y\"],[\"2022-01-30\",\"y\"],[\"2022-01-31\",\"y\"],[\"2022-02-01\",\"y\"],[\"2022-02-02\",\"y\"],[\"2022-02-03\",\"y\"],[\"2022-02-04\",\"y\"],[\"2022-02-05\",\"y\"],[\"2022-02-06\",\"y\"],[\"2022-02-07\",\"y\"],[\"2022-02-08\",\"y\"],[\"2022-02-09\",\"y\"],[\"2022-02-10\",\"y\"],[\"2022-02-11\",\"y\"],[\"2022-02-12\",\"y\"],[\"2022-02-13\",\"y\"],[\"2022-02-14\",\"y\"],[\"2022-02-15\",\"y\"],[\"2022-02-16\",\"y\"],[\"2022-02-17\",\"y\"],[\"2022-02-18\",\"y\"],[\"2022-02-19\",\"y\"],[\"2022-02-20\",\"y\"],[\"2022-02-21\",\"y\"],[\"2022-02-22\",\"y\"],[\"2022-02-23\",\"y\"],[\"2022-02-24\",\"y\"],[\"2022-02-25\",\"y\"],[\"2022-02-26\",\"y\"],[\"2022-02-27\",\"y\"],[\"2022-02-28\",\"y\"],[\"2022-03-01\",\"y\"],[\"2022-03-02\",\"y\"],[\"2022-03-03\",\"y\"],[\"2022-03-04\",\"y\"],[\"2022-03-05\",\"y\"],[\"2022-03-06\",\"y\"],[\"2022-03-07\",\"y\"],[\"2022-03-08\",\"y\"],[\"2022-03-09\",\"y\"],[\"2022-03-10\",\"y\"],[\"2022-03-11\",\"y\"],[\"2022-03-12\",\"y\"],[\"2022-03-13\",\"y\"],[\"2022-03-14\",\"y\"],[\"2022-03-15\",\"y\"],[\"2022-03-16\",\"y\"],[\"2022-03-17\",\"y\"],[\"2022-03-18\",\"y\"],[\"2022-03-19\",\"y\"],[\"2022-03-20\",\"y\"],[\"2022-03-21\",\"y\"],[\"2022-03-22\",\"y\"],[\"2022-03-23\",\"y\"],[\"2022-03-24\",\"y\"],[\"2022-03-25\",\"y\"],[\"2022-03-26\",\"y\"],[\"2022-03-27\",\"y\"],[\"2022-03-28\",\"y\"],[\"2022-03-29\",\"y\"],[\"2022-03-30\",\"y\"],[\"2022-03-31\",\"y\"],[\"2022-04-01\",\"y\"],[\"2022-04-02\",\"y\"],[\"2022-04-03\",\"y\"],[\"2022-04-04\",\"y\"],[\"2022-04-05\",\"y\"],[\"2022-04-06\",\"y\"],[\"2022-04-07\",\"y\"],[\"2022-04-08\",\"y\"],[\"2022-04-09\",\"y\"],[\"2022-04-10\",\"y\"],[\"2022-04-11\",\"y\"],[\"2022-04-12\",\"y\"],[\"2022-04-13\",\"y\"],[\"2022-04-14\",\"y\"],[\"2022-04-15\",\"y\"],[\"2022-04-16\",\"y\"],[\"2022-04-17\",\"y\"],[\"2022-04-18\",\"y\"],[\"2022-04-19\",\"y\"],[\"2022-04-20\",\"y\"],[\"2022-04-21\",\"y\"],[\"2022-04-22\",\"y\"],[\"2022-04-23\",\"y\"],[\"2022-04-24\",\"y\"],[\"2022-04-25\",\"y\"],[\"2022-04-26\",\"y\"],[\"2022-04-27\",\"y\"],[\"2022-04-28\",\"y\"],[\"2022-04-29\",\"y\"],[\"2022-04-30\",\"y\"],[\"2022-05-01\",\"y\"],[\"2022-05-02\",\"y\"],[\"2022-05-03\",\"y\"],[\"2022-05-04\",\"y\"],[\"2022-05-05\",\"y\"],[\"2022-05-06\",\"y\"],[\"2022-05-07\",\"y\"],[\"2022-05-08\",\"y\"],[\"2022-05-09\",\"y\"],[\"2022-05-10\",\"y\"],[\"2022-05-11\",\"y\"],[\"2022-05-12\",\"y\"],[\"2022-05-13\",\"y\"],[\"2022-05-14\",\"y\"],[\"2022-05-15\",\"y\"],[\"2022-05-16\",\"y\"],[\"2022-05-17\",\"y\"],[\"2022-05-18\",\"y\"],[\"2022-05-19\",\"y\"],[\"2022-05-20\",\"y\"],[\"2022-05-21\",\"y\"],[\"2022-05-22\",\"y\"],[\"2022-05-23\",\"y\"],[\"2022-05-24\",\"y\"],[\"2022-05-25\",\"y\"],[\"2022-05-26\",\"y\"],[\"2022-05-27\",\"y\"],[\"2022-05-28\",\"y\"],[\"2022-05-29\",\"y\"],[\"2022-05-30\",\"y\"],[\"2022-05-31\",\"y\"],[\"2022-06-01\",\"y\"],[\"2022-06-02\",\"y\"],[\"2022-06-03\",\"y\"],[\"2022-06-04\",\"y\"],[\"2022-06-05\",\"y\"],[\"2022-06-06\",\"y\"],[\"2022-06-07\",\"y\"],[\"2022-06-08\",\"y\"],[\"2022-06-09\",\"y\"],[\"2022-06-10\",\"y\"],[\"2022-06-11\",\"y\"],[\"2022-06-12\",\"y\"],[\"2022-06-13\",\"y\"],[\"2022-06-14\",\"y\"],[\"2022-06-15\",\"y\"],[\"2022-06-16\",\"y\"],[\"2022-06-17\",\"y\"],[\"2022-06-18\",\"y\"],[\"2022-06-19\",\"y\"],[\"2022-06-20\",\"y\"],[\"2022-06-21\",\"y\"],[\"2022-06-22\",\"y\"],[\"2022-06-23\",\"y\"],[\"2022-06-24\",\"y\"],[\"2022-06-25\",\"y\"],[\"2022-06-26\",\"y\"],[\"2022-06-27\",\"y\"],[\"2022-06-28\",\"y\"],[\"2022-06-29\",\"y\"],[\"2022-06-30\",\"y\"],[\"2022-07-01\",\"y\"],[\"2022-07-02\",\"y\"],[\"2022-07-03\",\"y\"],[\"2022-07-04\",\"y\"],[\"2022-07-05\",\"y\"],[\"2022-07-06\",\"y\"],[\"2022-07-07\",\"y\"],[\"2022-07-08\",\"y\"],[\"2022-07-09\",\"y\"],[\"2022-07-10\",\"y\"],[\"2022-07-11\",\"y\"],[\"2022-07-12\",\"y\"],[\"2022-07-13\",\"y\"],[\"2022-07-14\",\"y\"],[\"2022-07-15\",\"y\"],[\"2022-07-16\",\"y\"],[\"2022-07-17\",\"y\"],[\"2022-07-18\",\"y\"],[\"2022-07-19\",\"y\"],[\"2022-07-20\",\"y\"],[\"2022-07-21\",\"y\"],[\"2022-07-22\",\"y\"],[\"2022-07-23\",\"y\"],[\"2022-07-24\",\"y\"],[\"2022-07-25\",\"y\"],[\"2022-07-26\",\"y\"],[\"2022-07-27\",\"y\"],[\"2022-07-28\",\"y\"],[\"2022-07-29\",\"y\"],[\"2022-07-30\",\"y\"],[\"2022-07-31\",\"y\"],[\"2022-08-01\",\"y\"],[\"2022-08-02\",\"y\"],[\"2022-08-03\",\"y\"],[\"2022-08-04\",\"y\"],[\"2022-08-05\",\"y\"],[\"2022-08-06\",\"y\"],[\"2022-08-07\",\"y\"],[\"2022-08-08\",\"y\"],[\"2022-08-09\",\"y\"],[\"2022-08-10\",\"y\"],[\"2022-08-11\",\"y\"],[\"2022-08-12\",\"y\"],[\"2022-08-13\",\"y\"],[\"2022-08-14\",\"y\"],[\"2022-08-15\",\"y\"],[\"2022-08-16\",\"y\"],[\"2022-08-17\",\"y\"],[\"2022-08-18\",\"y\"],[\"2022-08-19\",\"y\"],[\"2022-08-20\",\"y\"],[\"2022-08-21\",\"y\"],[\"2022-08-22\",\"y\"],[\"2022-08-23\",\"y\"],[\"2022-08-24\",\"y\"],[\"2022-08-25\",\"y\"],[\"2022-08-26\",\"y\"],[\"2022-08-27\",\"y\"],[\"2022-08-28\",\"y\"],[\"2022-08-29\",\"y\"],[\"2022-08-30\",\"y\"],[\"2022-08-31\",\"y\"],[\"2022-09-01\",\"y\"],[\"2022-09-02\",\"y\"],[\"2022-09-03\",\"y\"],[\"2022-09-04\",\"y\"],[\"2022-09-05\",\"y\"],[\"2022-09-06\",\"y\"],[\"2022-09-07\",\"y\"],[\"2022-09-08\",\"y\"],[\"2022-09-09\",\"y\"],[\"2022-09-10\",\"y\"],[\"2022-09-11\",\"y\"],[\"2022-09-12\",\"y\"],[\"2022-09-13\",\"y\"],[\"2022-09-14\",\"y\"],[\"2022-09-15\",\"y\"],[\"2022-09-16\",\"y\"],[\"2022-09-17\",\"y\"],[\"2022-09-18\",\"y\"],[\"2022-09-19\",\"y\"],[\"2022-09-20\",\"y\"],[\"2022-09-21\",\"y\"],[\"2022-09-22\",\"y\"],[\"2022-09-23\",\"y\"],[\"2022-09-24\",\"y\"],[\"2022-09-25\",\"y\"],[\"2022-09-26\",\"y\"],[\"2022-09-27\",\"y\"],[\"2022-09-28\",\"y\"],[\"2022-09-29\",\"y\"],[\"2022-09-30\",\"y\"],[\"2022-10-01\",\"y\"],[\"2022-10-02\",\"y\"],[\"2022-10-03\",\"y\"],[\"2022-10-04\",\"y\"],[\"2022-10-05\",\"y\"],[\"2022-10-06\",\"y\"],[\"2022-10-07\",\"y\"],[\"2022-10-08\",\"y\"],[\"2022-10-09\",\"y\"],[\"2022-10-10\",\"y\"],[\"2022-10-11\",\"y\"],[\"2022-10-12\",\"y\"],[\"2022-10-13\",\"y\"],[\"2022-10-14\",\"y\"],[\"2022-10-15\",\"y\"],[\"2022-10-16\",\"y\"],[\"2022-10-17\",\"y\"],[\"2022-10-18\",\"y\"],[\"2022-10-19\",\"y\"],[\"2022-10-20\",\"y\"],[\"2022-10-21\",\"y\"],[\"2022-10-22\",\"y\"],[\"2022-10-23\",\"y\"],[\"2022-10-24\",\"y\"],[\"2022-10-25\",\"y\"],[\"2022-10-26\",\"y\"],[\"2022-10-27\",\"y\"],[\"2022-10-28\",\"y\"],[\"2022-10-29\",\"y\"],[\"2022-10-30\",\"y\"],[\"2022-10-31\",\"y\"],[\"2022-11-01\",\"y\"],[\"2022-11-02\",\"y\"],[\"2022-11-03\",\"y\"],[\"2022-11-04\",\"y\"],[\"2022-11-05\",\"y\"],[\"2022-11-06\",\"y\"],[\"2022-11-07\",\"y\"],[\"2022-11-08\",\"y\"],[\"2022-11-09\",\"y\"],[\"2022-11-10\",\"y\"],[\"2022-11-11\",\"y\"],[\"2022-11-12\",\"y\"],[\"2022-11-13\",\"y\"],[\"2022-11-14\",\"y\"],[\"2022-11-15\",\"y\"],[\"2022-11-16\",\"y\"],[\"2022-11-17\",\"y\"],[\"2022-11-18\",\"y\"],[\"2022-11-19\",\"y\"],[\"2022-11-20\",\"y\"],[\"2022-11-21\",\"y\"],[\"2022-11-22\",\"y\"],[\"2022-11-23\",\"y\"],[\"2022-11-24\",\"y\"],[\"2022-11-25\",\"y\"],[\"2022-11-26\",\"y\"],[\"2022-11-27\",\"y\"],[\"2022-11-28\",\"y\"],[\"2022-11-29\",\"y\"],[\"2022-11-30\",\"y\"],[\"2022-12-01\",\"y\"],[\"2022-12-02\",\"y\"],[\"2022-12-03\",\"y\"],[\"2022-12-04\",\"y\"],[\"2022-12-05\",\"y\"],[\"2022-12-06\",\"y\"],[\"2022-12-07\",\"y\"],[\"2022-12-08\",\"y\"],[\"2022-12-09\",\"y\"],[\"2022-12-10\",\"y\"],[\"2022-12-11\",\"y\"],[\"2022-12-12\",\"y\"],[\"2022-12-13\",\"y\"],[\"2022-12-14\",\"y\"],[\"2022-12-15\",\"y\"],[\"2022-12-16\",\"y\"],[\"2022-12-17\",\"y\"],[\"2022-12-18\",\"y\"],[\"2022-12-19\",\"y\"],[\"2022-12-20\",\"y\"],[\"2022-12-21\",\"y\"],[\"2022-12-22\",\"y\"],[\"2022-12-23\",\"y\"],[\"2022-12-24\",\"y\"],[\"2022-12-25\",\"y\"],[\"2022-12-26\",\"y\"],[\"2022-12-27\",\"y\"],[\"2022-12-28\",\"y\"],[\"2022-12-29\",\"y\"],[\"2022-12-30\",\"y\"],[\"2022-12-31\",\"y\"]],\"hovertemplate\":\"%{customdata[0]} <br>%{customdata[1]}=%{z} <br>Week=%{x}\",\"name\":\"2022\",\"showscale\":false,\"x\":[0,0,1,1,1,1,1,1,1,2,2,2,2,2,2,2,3,3,3,3,3,3,3,4,4,4,4,4,4,4,5,5,5,5,5,5,5,6,6,6,6,6,6,6,7,7,7,7,7,7,7,8,8,8,8,8,8,8,9,9,9,9,9,9,9,10,10,10,10,10,10,10,11,11,11,11,11,11,11,12,12,12,12,12,12,12,13,13,13,13,13,13,13,14,14,14,14,14,14,14,15,15,15,15,15,15,15,16,16,16,16,16,16,16,17,17,17,17,17,17,17,18,18,18,18,18,18,18,19,19,19,19,19,19,19,20,20,20,20,20,20,20,21,21,21,21,21,21,21,22,22,22,22,22,22,22,23,23,23,23,23,23,23,24,24,24,24,24,24,24,25,25,25,25,25,25,25,26,26,26,26,26,26,26,27,27,27,27,27,27,27,28,28,28,28,28,28,28,29,29,29,29,29,29,29,30,30,30,30,30,30,30,31,31,31,31,31,31,31,32,32,32,32,32,32,32,33,33,33,33,33,33,33,34,34,34,34,34,34,34,35,35,35,35,35,35,35,36,36,36,36,36,36,36,37,37,37,37,37,37,37,38,38,38,38,38,38,38,39,39,39,39,39,39,39,40,40,40,40,40,40,40,41,41,41,41,41,41,41,42,42,42,42,42,42,42,43,43,43,43,43,43,43,44,44,44,44,44,44,44,45,45,45,45,45,45,45,46,46,46,46,46,46,46,47,47,47,47,47,47,47,48,48,48,48,48,48,48,49,49,49,49,49,49,49,50,50,50,50,50,50,50,51,51,51,51,51,51,51,52,52,52,52,52,52],\"xgap\":1,\"y\":[5,6,0,1,2,3,4,5,6,0,1,2,3,4,5,6,0,1,2,3,4,5,6,0,1,2,3,4,5,6,0,1,2,3,4,5,6,0,1,2,3,4,5,6,0,1,2,3,4,5,6,0,1,2,3,4,5,6,0,1,2,3,4,5,6,0,1,2,3,4,5,6,0,1,2,3,4,5,6,0,1,2,3,4,5,6,0,1,2,3,4,5,6,0,1,2,3,4,5,6,0,1,2,3,4,5,6,0,1,2,3,4,5,6,0,1,2,3,4,5,6,0,1,2,3,4,5,6,0,1,2,3,4,5,6,0,1,2,3,4,5,6,0,1,2,3,4,5,6,0,1,2,3,4,5,6,0,1,2,3,4,5,6,0,1,2,3,4,5,6,0,1,2,3,4,5,6,0,1,2,3,4,5,6,0,1,2,3,4,5,6,0,1,2,3,4,5,6,0,1,2,3,4,5,6,0,1,2,3,4,5,6,0,1,2,3,4,5,6,0,1,2,3,4,5,6,0,1,2,3,4,5,6,0,1,2,3,4,5,6,0,1,2,3,4,5,6,0,1,2,3,4,5,6,0,1,2,3,4,5,6,0,1,2,3,4,5,6,0,1,2,3,4,5,6,0,1,2,3,4,5,6,0,1,2,3,4,5,6,0,1,2,3,4,5,6,0,1,2,3,4,5,6,0,1,2,3,4,5,6,0,1,2,3,4,5,6,0,1,2,3,4,5,6,0,1,2,3,4,5,6,0,1,2,3,4,5,6,0,1,2,3,4,5,6,0,1,2,3,4,5,6,0,1,2,3,4,5,6,0,1,2,3,4,5],\"ygap\":1,\"z\":[0.15350035962598896,0.12950394250923244,0.1589308737478925,0.08060609474455022,0.09409239805715576,0.11038553965102915,0.12659219043641678,0.07211028632025451,0.06246716402227593,0.041519906073220196,0.03594179182981708,0.024129904048146255,0.023254590414057977,0.024194378667764853,0.02428469934767164,0.17192765670635812,0.07356043028896857,0.01157150371106306,0.01900385749943272,0.03403991954200836,0.03125161157237894,0.027584,0.01770332399725202,0.021201038850903693,0.015571947078796394,0.008066348557146103,0.011583607907742998,0.07224256174908472,0.19547430324725135,0.07440067588974549,0.015798960873714345,0.013988879133743049,0.13184630228730349,0.26296829971181557,0.19472981302650502,0.08541326978552614,0.03654362592807119,0.023354345354965382,0.0053664166185804964,0.0035918733864631273,0.004778297282022299,0.010750496764660927,0.003192488262910798,0.017371353654539495,0.006674196529417805,0.002109704641350211,0.013706858890345128,0.06796651796902412,0.021113052158722237,0.007798802974427181,0.007078402766520776,0.011562140247259623,0.02095841065385875,0.08798420659481379,0.10274246822139926,0.07236316420295645,0.008870103583759972,0.0069305405821654086,0.005692695214105793,0.0026482758620689655,0.004039642356996661,0.004474727956879894,0.005539882021031034,0.0071654624708903086,0.014075695964967157,0.00963718820861678,0.003509367747778344,0.02654474923801607,0.011986559004965144,0.02433915211970075,0.07629612859406837,0.04325092644296665,0.016409946642504784,0.0051330168892813775,0.0030845824990529793,0.038329775085646195,0.03520917812283651,0.013948557719131841,0.008559488444690599,0.036471883129877924,0.008266725062958502,0.004031391098688454,0.005460683081810961,0.006377614080189845,0.0053218307097641585,0.005316186522201408,0.004852668967932363,0.0017554446212079654,0.0056191917008861034,0.03662657787496273,0.0458230350963915,0.1174321209736354,0.07638226284336866,0.03844418826124004,0.020365507261911144,0.013976531942633638,0.05407819011708672,0.03309552120491478,0.02350265352539803,0.024628299787599877,0.013642903209803046,0.015237793947063165,0.02191482747901772,0.028705533596837945,0.021080173775671406,0.014050020404593948,0.012520910427333097,0.011228697769165798,0.008601129228009076,0.0035877703826955073,0.003866171003717472,0.010430569973799991,0.009966777408637873,0.015914717324306573,0.020523778760622172,0.007458344353345676,0.002238300973400656,0.002932551319648094,0.003420074349442379,0.020561395402564398,0.018106202769183954,0.010569875853816623,0.00419209339347307,0.0078039071911171634,0.013545026048127016,0.019869513641755633,0.009965034965034964,0.014705882352941176,0.0057777777777777775,0.002863050739621441,0.002771821557449924,0.0038423645320197044,0.017079293202736625,0.018069839056417406,0.01987086440762801,0.052579707288227466,0.01503361389021227,0.0021422226866607452,0.0058396309745804295,0.0556999264525619,0.0392088827203331,0.05907636945221911,0.027945582240557928,0.03032060746677916,0.01070853043613869,0.01033705663335293,0.060078086871644704,0.02853821563498983,0.025286160249739856,0.01771692186886533,0.003304138039544763,0.04154488517745303,0.0760381178097072,0.031988600068792686,0.03022926691197283,0.010933516375759953,0.01278772378516624,0.00681586978636826,0.015072608913370054,0.022099980698706813,0.016530120481927712,0.014834537847090148,0.037679601212002735,0.020324418267838176,0.02012062237088845,0.013375923337991615,0.08797921977969118,0.06280888632983062,0.038553044230561266,0.035157771717958704,0.014234875444839857,0.00958627648839556,0.07233282033460756,0.036530337941628264,0.030192307692307692,0.025704989154013015,0.033564250170748364,0.040669625627170976,0.022155444636854437,0.021828376889956945,0.015287422839506173,0.022193337184671674,0.027392038337962207,0.006443024494142705,0.006412198323740281,0.02474994896917738,0.013830334190231363,0.007619328515951433,0.0057485382990222576,0.007190743944636678,0.007011734917466037,0.005526720492118416,0.02388396289272718,0.007011349306431274,0.012811900191938579,0.014489276975483375,0.014070025434276746,0.014298262736677728,0.04499351055136278,0.00948183076213418,0.00640637610976594,0.01770293609671848,0.008549471661863593,0.03552474818585508,0.03299331348528479,0.06112340098105223,0.026877308165777596,0.010698965430229624,0.02926922892375606,0.01411222579561273,0.013861815031405674,0.02352137419480773,null,null,null,null,null,null,null,null,null,null,null,null,null,null,null,null,null,null,null,null,null,null,null,null,null,null,null,null,null,null,null,null,null,null,null,null,null,null,null,null,null,null,null,null,null,null,null,null,null,null,null,null,null,null,null,null,null,null,null,null,null,null,null,null,null,null,null,null,null,null,null,null,null,null,null,null,null,null,null,null,null,null,null,null,null,null,null,null,null,null,null,null,null,null,null,null,null,null,null,null,null,null,null,null,null,null,null,null,null,null,null,null,null,null,null,null,null,null,null,null,null,null,null,null,null,null,null,null,null,null,null,null,null,null,null,null,null,null,null,null,null,null,null,null,null,null,null,null,null,null,null,null,null],\"type\":\"heatmap\",\"xaxis\":\"x5\",\"yaxis\":\"y5\"},{\"hoverinfo\":\"skip\",\"line\":{\"color\":\"#9e9e9e\",\"width\":1},\"mode\":\"lines\",\"x\":[-0.5,-0.5],\"y\":[4.5,6.5],\"type\":\"scatter\",\"xaxis\":\"x5\",\"yaxis\":\"y5\"},{\"hoverinfo\":\"skip\",\"line\":{\"color\":\"#9e9e9e\",\"width\":1},\"mode\":\"lines\",\"x\":[-0.5,0.5],\"y\":[4.5,4.5],\"type\":\"scatter\",\"xaxis\":\"x5\",\"yaxis\":\"y5\"},{\"hoverinfo\":\"skip\",\"line\":{\"color\":\"#9e9e9e\",\"width\":1},\"mode\":\"lines\",\"x\":[0.5,0.5],\"y\":[4.5,-0.5],\"type\":\"scatter\",\"xaxis\":\"x5\",\"yaxis\":\"y5\"},{\"hoverinfo\":\"skip\",\"line\":{\"color\":\"#9e9e9e\",\"width\":1},\"mode\":\"lines\",\"x\":[4.5,4.5],\"y\":[0.5,6.5],\"type\":\"scatter\",\"xaxis\":\"x5\",\"yaxis\":\"y5\"},{\"hoverinfo\":\"skip\",\"line\":{\"color\":\"#9e9e9e\",\"width\":1},\"mode\":\"lines\",\"x\":[4.5,5.5],\"y\":[0.5,0.5],\"type\":\"scatter\",\"xaxis\":\"x5\",\"yaxis\":\"y5\"},{\"hoverinfo\":\"skip\",\"line\":{\"color\":\"#9e9e9e\",\"width\":1},\"mode\":\"lines\",\"x\":[5.5,5.5],\"y\":[0.5,-0.5],\"type\":\"scatter\",\"xaxis\":\"x5\",\"yaxis\":\"y5\"},{\"hoverinfo\":\"skip\",\"line\":{\"color\":\"#9e9e9e\",\"width\":1},\"mode\":\"lines\",\"x\":[8.5,8.5],\"y\":[0.5,6.5],\"type\":\"scatter\",\"xaxis\":\"x5\",\"yaxis\":\"y5\"},{\"hoverinfo\":\"skip\",\"line\":{\"color\":\"#9e9e9e\",\"width\":1},\"mode\":\"lines\",\"x\":[8.5,9.5],\"y\":[0.5,0.5],\"type\":\"scatter\",\"xaxis\":\"x5\",\"yaxis\":\"y5\"},{\"hoverinfo\":\"skip\",\"line\":{\"color\":\"#9e9e9e\",\"width\":1},\"mode\":\"lines\",\"x\":[9.5,9.5],\"y\":[0.5,-0.5],\"type\":\"scatter\",\"xaxis\":\"x5\",\"yaxis\":\"y5\"},{\"hoverinfo\":\"skip\",\"line\":{\"color\":\"#9e9e9e\",\"width\":1},\"mode\":\"lines\",\"x\":[12.5,12.5],\"y\":[3.5,6.5],\"type\":\"scatter\",\"xaxis\":\"x5\",\"yaxis\":\"y5\"},{\"hoverinfo\":\"skip\",\"line\":{\"color\":\"#9e9e9e\",\"width\":1},\"mode\":\"lines\",\"x\":[12.5,13.5],\"y\":[3.5,3.5],\"type\":\"scatter\",\"xaxis\":\"x5\",\"yaxis\":\"y5\"},{\"hoverinfo\":\"skip\",\"line\":{\"color\":\"#9e9e9e\",\"width\":1},\"mode\":\"lines\",\"x\":[13.5,13.5],\"y\":[3.5,-0.5],\"type\":\"scatter\",\"xaxis\":\"x5\",\"yaxis\":\"y5\"},{\"hoverinfo\":\"skip\",\"line\":{\"color\":\"#9e9e9e\",\"width\":1},\"mode\":\"lines\",\"x\":[16.5,16.5],\"y\":[5.5,6.5],\"type\":\"scatter\",\"xaxis\":\"x5\",\"yaxis\":\"y5\"},{\"hoverinfo\":\"skip\",\"line\":{\"color\":\"#9e9e9e\",\"width\":1},\"mode\":\"lines\",\"x\":[16.5,17.5],\"y\":[5.5,5.5],\"type\":\"scatter\",\"xaxis\":\"x5\",\"yaxis\":\"y5\"},{\"hoverinfo\":\"skip\",\"line\":{\"color\":\"#9e9e9e\",\"width\":1},\"mode\":\"lines\",\"x\":[17.5,17.5],\"y\":[5.5,-0.5],\"type\":\"scatter\",\"xaxis\":\"x5\",\"yaxis\":\"y5\"},{\"hoverinfo\":\"skip\",\"line\":{\"color\":\"#9e9e9e\",\"width\":1},\"mode\":\"lines\",\"x\":[21.5,21.5],\"y\":[1.5,6.5],\"type\":\"scatter\",\"xaxis\":\"x5\",\"yaxis\":\"y5\"},{\"hoverinfo\":\"skip\",\"line\":{\"color\":\"#9e9e9e\",\"width\":1},\"mode\":\"lines\",\"x\":[21.5,22.5],\"y\":[1.5,1.5],\"type\":\"scatter\",\"xaxis\":\"x5\",\"yaxis\":\"y5\"},{\"hoverinfo\":\"skip\",\"line\":{\"color\":\"#9e9e9e\",\"width\":1},\"mode\":\"lines\",\"x\":[22.5,22.5],\"y\":[1.5,-0.5],\"type\":\"scatter\",\"xaxis\":\"x5\",\"yaxis\":\"y5\"},{\"hoverinfo\":\"skip\",\"line\":{\"color\":\"#9e9e9e\",\"width\":1},\"mode\":\"lines\",\"x\":[25.5,25.5],\"y\":[3.5,6.5],\"type\":\"scatter\",\"xaxis\":\"x5\",\"yaxis\":\"y5\"},{\"hoverinfo\":\"skip\",\"line\":{\"color\":\"#9e9e9e\",\"width\":1},\"mode\":\"lines\",\"x\":[25.5,26.5],\"y\":[3.5,3.5],\"type\":\"scatter\",\"xaxis\":\"x5\",\"yaxis\":\"y5\"},{\"hoverinfo\":\"skip\",\"line\":{\"color\":\"#9e9e9e\",\"width\":1},\"mode\":\"lines\",\"x\":[26.5,26.5],\"y\":[3.5,-0.5],\"type\":\"scatter\",\"xaxis\":\"x5\",\"yaxis\":\"y5\"},{\"hoverinfo\":\"skip\",\"line\":{\"color\":\"#9e9e9e\",\"width\":1},\"mode\":\"lines\",\"x\":[30.5,30.5],\"y\":[-0.5,6.5],\"type\":\"scatter\",\"xaxis\":\"x5\",\"yaxis\":\"y5\"},{\"hoverinfo\":\"skip\",\"line\":{\"color\":\"#9e9e9e\",\"width\":1},\"mode\":\"lines\",\"x\":[34.5,34.5],\"y\":[2.5,6.5],\"type\":\"scatter\",\"xaxis\":\"x5\",\"yaxis\":\"y5\"},{\"hoverinfo\":\"skip\",\"line\":{\"color\":\"#9e9e9e\",\"width\":1},\"mode\":\"lines\",\"x\":[34.5,35.5],\"y\":[2.5,2.5],\"type\":\"scatter\",\"xaxis\":\"x5\",\"yaxis\":\"y5\"},{\"hoverinfo\":\"skip\",\"line\":{\"color\":\"#9e9e9e\",\"width\":1},\"mode\":\"lines\",\"x\":[35.5,35.5],\"y\":[2.5,-0.5],\"type\":\"scatter\",\"xaxis\":\"x5\",\"yaxis\":\"y5\"},{\"hoverinfo\":\"skip\",\"line\":{\"color\":\"#9e9e9e\",\"width\":1},\"mode\":\"lines\",\"x\":[38.5,38.5],\"y\":[4.5,6.5],\"type\":\"scatter\",\"xaxis\":\"x5\",\"yaxis\":\"y5\"},{\"hoverinfo\":\"skip\",\"line\":{\"color\":\"#9e9e9e\",\"width\":1},\"mode\":\"lines\",\"x\":[38.5,39.5],\"y\":[4.5,4.5],\"type\":\"scatter\",\"xaxis\":\"x5\",\"yaxis\":\"y5\"},{\"hoverinfo\":\"skip\",\"line\":{\"color\":\"#9e9e9e\",\"width\":1},\"mode\":\"lines\",\"x\":[39.5,39.5],\"y\":[4.5,-0.5],\"type\":\"scatter\",\"xaxis\":\"x5\",\"yaxis\":\"y5\"},{\"hoverinfo\":\"skip\",\"line\":{\"color\":\"#9e9e9e\",\"width\":1},\"mode\":\"lines\",\"x\":[43.5,43.5],\"y\":[0.5,6.5],\"type\":\"scatter\",\"xaxis\":\"x5\",\"yaxis\":\"y5\"},{\"hoverinfo\":\"skip\",\"line\":{\"color\":\"#9e9e9e\",\"width\":1},\"mode\":\"lines\",\"x\":[43.5,44.5],\"y\":[0.5,0.5],\"type\":\"scatter\",\"xaxis\":\"x5\",\"yaxis\":\"y5\"},{\"hoverinfo\":\"skip\",\"line\":{\"color\":\"#9e9e9e\",\"width\":1},\"mode\":\"lines\",\"x\":[44.5,44.5],\"y\":[0.5,-0.5],\"type\":\"scatter\",\"xaxis\":\"x5\",\"yaxis\":\"y5\"},{\"hoverinfo\":\"skip\",\"line\":{\"color\":\"#9e9e9e\",\"width\":1},\"mode\":\"lines\",\"x\":[47.5,47.5],\"y\":[2.5,6.5],\"type\":\"scatter\",\"xaxis\":\"x5\",\"yaxis\":\"y5\"},{\"hoverinfo\":\"skip\",\"line\":{\"color\":\"#9e9e9e\",\"width\":1},\"mode\":\"lines\",\"x\":[47.5,48.5],\"y\":[2.5,2.5],\"type\":\"scatter\",\"xaxis\":\"x5\",\"yaxis\":\"y5\"},{\"hoverinfo\":\"skip\",\"line\":{\"color\":\"#9e9e9e\",\"width\":1},\"mode\":\"lines\",\"x\":[48.5,48.5],\"y\":[2.5,-0.5],\"type\":\"scatter\",\"xaxis\":\"x5\",\"yaxis\":\"y5\"}],                        {\"template\":{\"data\":{\"histogram2dcontour\":[{\"type\":\"histogram2dcontour\",\"colorbar\":{\"outlinewidth\":0,\"ticks\":\"\"},\"colorscale\":[[0.0,\"#0d0887\"],[0.1111111111111111,\"#46039f\"],[0.2222222222222222,\"#7201a8\"],[0.3333333333333333,\"#9c179e\"],[0.4444444444444444,\"#bd3786\"],[0.5555555555555556,\"#d8576b\"],[0.6666666666666666,\"#ed7953\"],[0.7777777777777778,\"#fb9f3a\"],[0.8888888888888888,\"#fdca26\"],[1.0,\"#f0f921\"]]}],\"choropleth\":[{\"type\":\"choropleth\",\"colorbar\":{\"outlinewidth\":0,\"ticks\":\"\"}}],\"histogram2d\":[{\"type\":\"histogram2d\",\"colorbar\":{\"outlinewidth\":0,\"ticks\":\"\"},\"colorscale\":[[0.0,\"#0d0887\"],[0.1111111111111111,\"#46039f\"],[0.2222222222222222,\"#7201a8\"],[0.3333333333333333,\"#9c179e\"],[0.4444444444444444,\"#bd3786\"],[0.5555555555555556,\"#d8576b\"],[0.6666666666666666,\"#ed7953\"],[0.7777777777777778,\"#fb9f3a\"],[0.8888888888888888,\"#fdca26\"],[1.0,\"#f0f921\"]]}],\"heatmap\":[{\"type\":\"heatmap\",\"colorbar\":{\"outlinewidth\":0,\"ticks\":\"\"},\"colorscale\":[[0.0,\"#0d0887\"],[0.1111111111111111,\"#46039f\"],[0.2222222222222222,\"#7201a8\"],[0.3333333333333333,\"#9c179e\"],[0.4444444444444444,\"#bd3786\"],[0.5555555555555556,\"#d8576b\"],[0.6666666666666666,\"#ed7953\"],[0.7777777777777778,\"#fb9f3a\"],[0.8888888888888888,\"#fdca26\"],[1.0,\"#f0f921\"]]}],\"heatmapgl\":[{\"type\":\"heatmapgl\",\"colorbar\":{\"outlinewidth\":0,\"ticks\":\"\"},\"colorscale\":[[0.0,\"#0d0887\"],[0.1111111111111111,\"#46039f\"],[0.2222222222222222,\"#7201a8\"],[0.3333333333333333,\"#9c179e\"],[0.4444444444444444,\"#bd3786\"],[0.5555555555555556,\"#d8576b\"],[0.6666666666666666,\"#ed7953\"],[0.7777777777777778,\"#fb9f3a\"],[0.8888888888888888,\"#fdca26\"],[1.0,\"#f0f921\"]]}],\"contourcarpet\":[{\"type\":\"contourcarpet\",\"colorbar\":{\"outlinewidth\":0,\"ticks\":\"\"}}],\"contour\":[{\"type\":\"contour\",\"colorbar\":{\"outlinewidth\":0,\"ticks\":\"\"},\"colorscale\":[[0.0,\"#0d0887\"],[0.1111111111111111,\"#46039f\"],[0.2222222222222222,\"#7201a8\"],[0.3333333333333333,\"#9c179e\"],[0.4444444444444444,\"#bd3786\"],[0.5555555555555556,\"#d8576b\"],[0.6666666666666666,\"#ed7953\"],[0.7777777777777778,\"#fb9f3a\"],[0.8888888888888888,\"#fdca26\"],[1.0,\"#f0f921\"]]}],\"surface\":[{\"type\":\"surface\",\"colorbar\":{\"outlinewidth\":0,\"ticks\":\"\"},\"colorscale\":[[0.0,\"#0d0887\"],[0.1111111111111111,\"#46039f\"],[0.2222222222222222,\"#7201a8\"],[0.3333333333333333,\"#9c179e\"],[0.4444444444444444,\"#bd3786\"],[0.5555555555555556,\"#d8576b\"],[0.6666666666666666,\"#ed7953\"],[0.7777777777777778,\"#fb9f3a\"],[0.8888888888888888,\"#fdca26\"],[1.0,\"#f0f921\"]]}],\"mesh3d\":[{\"type\":\"mesh3d\",\"colorbar\":{\"outlinewidth\":0,\"ticks\":\"\"}}],\"scatter\":[{\"fillpattern\":{\"fillmode\":\"overlay\",\"size\":10,\"solidity\":0.2},\"type\":\"scatter\"}],\"parcoords\":[{\"type\":\"parcoords\",\"line\":{\"colorbar\":{\"outlinewidth\":0,\"ticks\":\"\"}}}],\"scatterpolargl\":[{\"type\":\"scatterpolargl\",\"marker\":{\"colorbar\":{\"outlinewidth\":0,\"ticks\":\"\"}}}],\"bar\":[{\"error_x\":{\"color\":\"#2a3f5f\"},\"error_y\":{\"color\":\"#2a3f5f\"},\"marker\":{\"line\":{\"color\":\"#E5ECF6\",\"width\":0.5},\"pattern\":{\"fillmode\":\"overlay\",\"size\":10,\"solidity\":0.2}},\"type\":\"bar\"}],\"scattergeo\":[{\"type\":\"scattergeo\",\"marker\":{\"colorbar\":{\"outlinewidth\":0,\"ticks\":\"\"}}}],\"scatterpolar\":[{\"type\":\"scatterpolar\",\"marker\":{\"colorbar\":{\"outlinewidth\":0,\"ticks\":\"\"}}}],\"histogram\":[{\"marker\":{\"pattern\":{\"fillmode\":\"overlay\",\"size\":10,\"solidity\":0.2}},\"type\":\"histogram\"}],\"scattergl\":[{\"type\":\"scattergl\",\"marker\":{\"colorbar\":{\"outlinewidth\":0,\"ticks\":\"\"}}}],\"scatter3d\":[{\"type\":\"scatter3d\",\"line\":{\"colorbar\":{\"outlinewidth\":0,\"ticks\":\"\"}},\"marker\":{\"colorbar\":{\"outlinewidth\":0,\"ticks\":\"\"}}}],\"scattermapbox\":[{\"type\":\"scattermapbox\",\"marker\":{\"colorbar\":{\"outlinewidth\":0,\"ticks\":\"\"}}}],\"scatterternary\":[{\"type\":\"scatterternary\",\"marker\":{\"colorbar\":{\"outlinewidth\":0,\"ticks\":\"\"}}}],\"scattercarpet\":[{\"type\":\"scattercarpet\",\"marker\":{\"colorbar\":{\"outlinewidth\":0,\"ticks\":\"\"}}}],\"carpet\":[{\"aaxis\":{\"endlinecolor\":\"#2a3f5f\",\"gridcolor\":\"white\",\"linecolor\":\"white\",\"minorgridcolor\":\"white\",\"startlinecolor\":\"#2a3f5f\"},\"baxis\":{\"endlinecolor\":\"#2a3f5f\",\"gridcolor\":\"white\",\"linecolor\":\"white\",\"minorgridcolor\":\"white\",\"startlinecolor\":\"#2a3f5f\"},\"type\":\"carpet\"}],\"table\":[{\"cells\":{\"fill\":{\"color\":\"#EBF0F8\"},\"line\":{\"color\":\"white\"}},\"header\":{\"fill\":{\"color\":\"#C8D4E3\"},\"line\":{\"color\":\"white\"}},\"type\":\"table\"}],\"barpolar\":[{\"marker\":{\"line\":{\"color\":\"#E5ECF6\",\"width\":0.5},\"pattern\":{\"fillmode\":\"overlay\",\"size\":10,\"solidity\":0.2}},\"type\":\"barpolar\"}],\"pie\":[{\"automargin\":true,\"type\":\"pie\"}]},\"layout\":{\"autotypenumbers\":\"strict\",\"colorway\":[\"#636efa\",\"#EF553B\",\"#00cc96\",\"#ab63fa\",\"#FFA15A\",\"#19d3f3\",\"#FF6692\",\"#B6E880\",\"#FF97FF\",\"#FECB52\"],\"font\":{\"color\":\"#2a3f5f\"},\"hovermode\":\"closest\",\"hoverlabel\":{\"align\":\"left\"},\"paper_bgcolor\":\"white\",\"plot_bgcolor\":\"#E5ECF6\",\"polar\":{\"bgcolor\":\"#E5ECF6\",\"angularaxis\":{\"gridcolor\":\"white\",\"linecolor\":\"white\",\"ticks\":\"\"},\"radialaxis\":{\"gridcolor\":\"white\",\"linecolor\":\"white\",\"ticks\":\"\"}},\"ternary\":{\"bgcolor\":\"#E5ECF6\",\"aaxis\":{\"gridcolor\":\"white\",\"linecolor\":\"white\",\"ticks\":\"\"},\"baxis\":{\"gridcolor\":\"white\",\"linecolor\":\"white\",\"ticks\":\"\"},\"caxis\":{\"gridcolor\":\"white\",\"linecolor\":\"white\",\"ticks\":\"\"}},\"coloraxis\":{\"colorbar\":{\"outlinewidth\":0,\"ticks\":\"\"}},\"colorscale\":{\"sequential\":[[0.0,\"#0d0887\"],[0.1111111111111111,\"#46039f\"],[0.2222222222222222,\"#7201a8\"],[0.3333333333333333,\"#9c179e\"],[0.4444444444444444,\"#bd3786\"],[0.5555555555555556,\"#d8576b\"],[0.6666666666666666,\"#ed7953\"],[0.7777777777777778,\"#fb9f3a\"],[0.8888888888888888,\"#fdca26\"],[1.0,\"#f0f921\"]],\"sequentialminus\":[[0.0,\"#0d0887\"],[0.1111111111111111,\"#46039f\"],[0.2222222222222222,\"#7201a8\"],[0.3333333333333333,\"#9c179e\"],[0.4444444444444444,\"#bd3786\"],[0.5555555555555556,\"#d8576b\"],[0.6666666666666666,\"#ed7953\"],[0.7777777777777778,\"#fb9f3a\"],[0.8888888888888888,\"#fdca26\"],[1.0,\"#f0f921\"]],\"diverging\":[[0,\"#8e0152\"],[0.1,\"#c51b7d\"],[0.2,\"#de77ae\"],[0.3,\"#f1b6da\"],[0.4,\"#fde0ef\"],[0.5,\"#f7f7f7\"],[0.6,\"#e6f5d0\"],[0.7,\"#b8e186\"],[0.8,\"#7fbc41\"],[0.9,\"#4d9221\"],[1,\"#276419\"]]},\"xaxis\":{\"gridcolor\":\"white\",\"linecolor\":\"white\",\"ticks\":\"\",\"title\":{\"standoff\":15},\"zerolinecolor\":\"white\",\"automargin\":true,\"zerolinewidth\":2},\"yaxis\":{\"gridcolor\":\"white\",\"linecolor\":\"white\",\"ticks\":\"\",\"title\":{\"standoff\":15},\"zerolinecolor\":\"white\",\"automargin\":true,\"zerolinewidth\":2},\"scene\":{\"xaxis\":{\"backgroundcolor\":\"#E5ECF6\",\"gridcolor\":\"white\",\"linecolor\":\"white\",\"showbackground\":true,\"ticks\":\"\",\"zerolinecolor\":\"white\",\"gridwidth\":2},\"yaxis\":{\"backgroundcolor\":\"#E5ECF6\",\"gridcolor\":\"white\",\"linecolor\":\"white\",\"showbackground\":true,\"ticks\":\"\",\"zerolinecolor\":\"white\",\"gridwidth\":2},\"zaxis\":{\"backgroundcolor\":\"#E5ECF6\",\"gridcolor\":\"white\",\"linecolor\":\"white\",\"showbackground\":true,\"ticks\":\"\",\"zerolinecolor\":\"white\",\"gridwidth\":2}},\"shapedefaults\":{\"line\":{\"color\":\"#2a3f5f\"}},\"annotationdefaults\":{\"arrowcolor\":\"#2a3f5f\",\"arrowhead\":0,\"arrowwidth\":1},\"geo\":{\"bgcolor\":\"white\",\"landcolor\":\"#E5ECF6\",\"subunitcolor\":\"white\",\"showland\":true,\"showlakes\":true,\"lakecolor\":\"white\"},\"title\":{\"x\":0.05},\"mapbox\":{\"style\":\"light\"}}},\"xaxis\":{\"anchor\":\"y\",\"domain\":[0.0,1.0],\"showgrid\":false,\"showline\":false,\"tickmode\":\"array\",\"ticktext\":[\"January\",\"February\",\"March\",\"April\",\"May\",\"June\",\"July\",\"August\",\"September\",\"October\",\"November\",\"December\"],\"tickvals\":[2.2857142857142856,6.285714285714286,10.714285714285714,15.0,19.428571428571427,23.714285714285715,28.142857142857142,32.57142857142857,36.857142857142854,41.285714285714285,45.57142857142857,50.0],\"zeroline\":false},\"yaxis\":{\"anchor\":\"x\",\"domain\":[0.8639999999999999,0.9999999999999999],\"autorange\":\"reversed\",\"showgrid\":false,\"showline\":false,\"tickmode\":\"array\",\"ticktext\":[\"Mon\",\"Tue\",\"Wed\",\"Thu\",\"Fri\",\"Sat\",\"Sun\"],\"tickvals\":[0,1,2,3,4,5,6],\"zeroline\":false},\"xaxis2\":{\"anchor\":\"y2\",\"domain\":[0.0,1.0],\"showgrid\":false,\"showline\":false,\"tickmode\":\"array\",\"ticktext\":[\"January\",\"February\",\"March\",\"April\",\"May\",\"June\",\"July\",\"August\",\"September\",\"October\",\"November\",\"December\"],\"tickvals\":[2.2857142857142856,6.285714285714286,10.714285714285714,15.0,19.428571428571427,23.714285714285715,28.142857142857142,32.57142857142857,36.857142857142854,41.285714285714285,45.57142857142857,50.0],\"zeroline\":false},\"yaxis2\":{\"anchor\":\"x2\",\"domain\":[0.6479999999999999,0.7839999999999999],\"autorange\":\"reversed\",\"showgrid\":false,\"showline\":false,\"tickmode\":\"array\",\"ticktext\":[\"Mon\",\"Tue\",\"Wed\",\"Thu\",\"Fri\",\"Sat\",\"Sun\"],\"tickvals\":[0,1,2,3,4,5,6],\"zeroline\":false},\"xaxis3\":{\"anchor\":\"y3\",\"domain\":[0.0,1.0],\"showgrid\":false,\"showline\":false,\"tickmode\":\"array\",\"ticktext\":[\"January\",\"February\",\"March\",\"April\",\"May\",\"June\",\"July\",\"August\",\"September\",\"October\",\"November\",\"December\"],\"tickvals\":[2.2857142857142856,6.285714285714286,10.714285714285714,15.0,19.428571428571427,23.714285714285715,28.142857142857142,32.57142857142857,36.857142857142854,41.285714285714285,45.57142857142857,50.0],\"zeroline\":false},\"yaxis3\":{\"anchor\":\"x3\",\"domain\":[0.43199999999999994,0.568],\"autorange\":\"reversed\",\"showgrid\":false,\"showline\":false,\"tickmode\":\"array\",\"ticktext\":[\"Mon\",\"Tue\",\"Wed\",\"Thu\",\"Fri\",\"Sat\",\"Sun\"],\"tickvals\":[0,1,2,3,4,5,6],\"zeroline\":false},\"xaxis4\":{\"anchor\":\"y4\",\"domain\":[0.0,1.0],\"showgrid\":false,\"showline\":false,\"tickmode\":\"array\",\"ticktext\":[\"January\",\"February\",\"March\",\"April\",\"May\",\"June\",\"July\",\"August\",\"September\",\"October\",\"November\",\"December\"],\"tickvals\":[2.2857142857142856,6.285714285714286,10.714285714285714,15.0,19.428571428571427,23.714285714285715,28.142857142857142,32.57142857142857,36.857142857142854,41.285714285714285,45.57142857142857,50.0],\"zeroline\":false},\"yaxis4\":{\"anchor\":\"x4\",\"domain\":[0.21599999999999997,0.352],\"autorange\":\"reversed\",\"showgrid\":false,\"showline\":false,\"tickmode\":\"array\",\"ticktext\":[\"Mon\",\"Tue\",\"Wed\",\"Thu\",\"Fri\",\"Sat\",\"Sun\"],\"tickvals\":[0,1,2,3,4,5,6],\"zeroline\":false},\"xaxis5\":{\"anchor\":\"y5\",\"domain\":[0.0,1.0],\"showgrid\":false,\"showline\":false,\"tickmode\":\"array\",\"ticktext\":[\"January\",\"February\",\"March\",\"April\",\"May\",\"June\",\"July\",\"August\",\"September\",\"October\",\"November\",\"December\"],\"tickvals\":[2.2857142857142856,6.285714285714286,10.714285714285714,15.0,19.428571428571427,23.714285714285715,28.142857142857142,32.57142857142857,36.857142857142854,41.285714285714285,45.57142857142857,50.0],\"zeroline\":false},\"yaxis5\":{\"anchor\":\"x5\",\"domain\":[0.0,0.13599999999999998],\"autorange\":\"reversed\",\"showgrid\":false,\"showline\":false,\"tickmode\":\"array\",\"ticktext\":[\"Mon\",\"Tue\",\"Wed\",\"Thu\",\"Fri\",\"Sat\",\"Sun\"],\"tickvals\":[0,1,2,3,4,5,6],\"zeroline\":false},\"font\":{\"color\":\"#fff\",\"size\":10},\"margin\":{\"b\":20,\"t\":20},\"title\":{\"text\":\"US Flight Cancellations\"},\"paper_bgcolor\":\"#333\",\"plot_bgcolor\":\"#333\",\"showlegend\":false,\"width\":1000,\"height\":750},                        {\"responsive\": true}                    ).then(function(){\n",
              "                            \n",
              "var gd = document.getElementById('6c926374-3561-409f-84e0-c9b062276de3');\n",
              "var x = new MutationObserver(function (mutations, observer) {{\n",
              "        var display = window.getComputedStyle(gd).display;\n",
              "        if (!display || display === 'none') {{\n",
              "            console.log([gd, 'removed!']);\n",
              "            Plotly.purge(gd);\n",
              "            observer.disconnect();\n",
              "        }}\n",
              "}});\n",
              "\n",
              "// Listen for the removal of the full notebook cells\n",
              "var notebookContainer = gd.closest('#notebook-container');\n",
              "if (notebookContainer) {{\n",
              "    x.observe(notebookContainer, {childList: true});\n",
              "}}\n",
              "\n",
              "// Listen for the clearing of the current output cell\n",
              "var outputEl = gd.closest('.output');\n",
              "if (outputEl) {{\n",
              "    x.observe(outputEl, {childList: true});\n",
              "}}\n",
              "\n",
              "                        })                };                });            </script>        </div>"
            ]
          },
          "metadata": {},
          "output_type": "display_data"
        }
      ],
      "source": [
        "# Plotly style plot\n",
        "fig = calplot(events.reset_index(), x='FlightDate', dark_theme=True, y='Cancelled', width=1000, title='US Flight Cancellations')\n",
        "fig.show()"
      ]
    },
    {
      "cell_type": "markdown",
      "id": "47f9bb3d",
      "metadata": {
        "papermill": {
          "duration": 0.021626,
          "end_time": "2022-11-11T16:29:52.246171",
          "exception": false,
          "start_time": "2022-11-11T16:29:52.224545",
          "status": "completed"
        },
        "tags": [],
        "id": "47f9bb3d"
      },
      "source": [
        "### 9. Delay group per Airline"
      ]
    },
    {
      "cell_type": "code",
      "execution_count": null,
      "id": "4e9503df",
      "metadata": {
        "execution": {
          "iopub.execute_input": "2022-11-11T16:29:52.291262Z",
          "iopub.status.busy": "2022-11-11T16:29:52.290887Z",
          "iopub.status.idle": "2022-11-11T16:30:07.994066Z",
          "shell.execute_reply": "2022-11-11T16:30:07.992999Z"
        },
        "papermill": {
          "duration": 15.728994,
          "end_time": "2022-11-11T16:30:07.996917",
          "exception": false,
          "start_time": "2022-11-11T16:29:52.267923",
          "status": "completed"
        },
        "tags": [],
        "id": "4e9503df",
        "outputId": "5b893807-fb09-47fd-81f8-a69e1e49a84e"
      },
      "outputs": [
        {
          "data": {
            "image/png": "[encoded data removed]",
            "text/plain": [
              "<Figure size 1440x864 with 1 Axes>"
            ]
          },
          "metadata": {
            "needs_background": "light"
          },
          "output_type": "display_data"
        }
      ],
      "source": [
        "# Delay categories per Airline.\n",
        "plt.figure(figsize=(20,12))\n",
        "airline_order = df['Airline'].value_counts().index.tolist()\n",
        "sns.countplot(data=df, y='Airline', order=airline_order, hue='DelayGroup', dodge=False)\n",
        "plt.show()"
      ]
    },
    {
      "cell_type": "markdown",
      "id": "dae0b6d8",
      "metadata": {
        "papermill": {
          "duration": 0.022473,
          "end_time": "2022-11-11T16:30:08.042750",
          "exception": false,
          "start_time": "2022-11-11T16:30:08.020277",
          "status": "completed"
        },
        "tags": [],
        "id": "dae0b6d8"
      },
      "source": [
        "### 10. Top 10 worst performers (Lemons) 🍋"
      ]
    },
    {
      "cell_type": "code",
      "execution_count": null,
      "id": "42d287f5",
      "metadata": {
        "execution": {
          "iopub.execute_input": "2022-11-11T16:30:08.092168Z",
          "iopub.status.busy": "2022-11-11T16:30:08.090842Z",
          "iopub.status.idle": "2022-11-11T16:30:09.485272Z",
          "shell.execute_reply": "2022-11-11T16:30:09.484100Z"
        },
        "papermill": {
          "duration": 1.421884,
          "end_time": "2022-11-11T16:30:09.487571",
          "exception": false,
          "start_time": "2022-11-11T16:30:08.065687",
          "status": "completed"
        },
        "tags": [],
        "id": "42d287f5",
        "outputId": "b969434f-de99-42f5-af61-d335f975f763"
      },
      "outputs": [
        {
          "data": {
            "text/plain": [
              "7089"
            ]
          },
          "execution_count": 42,
          "metadata": {},
          "output_type": "execute_result"
        }
      ],
      "source": [
        "df['Tail_Number'].nunique()"
      ]
    },
    {
      "cell_type": "code",
      "execution_count": null,
      "id": "9f7e5eec",
      "metadata": {
        "execution": {
          "iopub.execute_input": "2022-11-11T16:30:09.536749Z",
          "iopub.status.busy": "2022-11-11T16:30:09.536365Z",
          "iopub.status.idle": "2022-11-11T16:30:15.400118Z",
          "shell.execute_reply": "2022-11-11T16:30:15.399142Z"
        },
        "papermill": {
          "duration": 5.892017,
          "end_time": "2022-11-11T16:30:15.402806",
          "exception": false,
          "start_time": "2022-11-11T16:30:09.510789",
          "status": "completed"
        },
        "tags": [],
        "id": "9f7e5eec",
        "outputId": "8b2f2c37-6224-41e3-e2e2-c86407ba1a99"
      },
      "outputs": [
        {
          "data": {
            "text/plain": [
              "N962WN    4131\n",
              "N928WN    4103\n",
              "N931WN    4080\n",
              "N969WN    4067\n",
              "N937WN    4065\n",
              "N966WN    4051\n",
              "N935WN    4044\n",
              "N964WN    4032\n",
              "N968WN    4011\n",
              "N930WN    4009\n",
              "Name: Tail_Number, dtype: int64"
            ]
          },
          "execution_count": 43,
          "metadata": {},
          "output_type": "execute_result"
        }
      ],
      "source": [
        "df[df['DelayGroup'] != 'OnTime_Early']['Tail_Number'].value_counts().head(10)"
      ]
    },
    {
      "cell_type": "markdown",
      "id": "da0f781c",
      "metadata": {
        "papermill": {
          "duration": 0.022632,
          "end_time": "2022-11-11T16:30:15.449406",
          "exception": false,
          "start_time": "2022-11-11T16:30:15.426774",
          "status": "completed"
        },
        "tags": [],
        "id": "da0f781c"
      },
      "source": [
        "## Next is to map the Tail_Number/Registration to Aircraft type & \n",
        "check for performnace per number of flights/ratio."
      ]
    },
    {
      "cell_type": "markdown",
      "id": "0113e013",
      "metadata": {
        "papermill": {
          "duration": 0.022442,
          "end_time": "2022-11-11T16:30:15.494866",
          "exception": false,
          "start_time": "2022-11-11T16:30:15.472424",
          "status": "completed"
        },
        "tags": [],
        "id": "0113e013"
      },
      "source": [
        "Thanks to Rob Mulla and his great videos."
      ]
    },
    {
      "cell_type": "code",
      "execution_count": null,
      "id": "c6897dd8",
      "metadata": {
        "papermill": {
          "duration": 0.022615,
          "end_time": "2022-11-11T16:30:15.540197",
          "exception": false,
          "start_time": "2022-11-11T16:30:15.517582",
          "status": "completed"
        },
        "tags": [],
        "id": "c6897dd8"
      },
      "outputs": [],
      "source": []
    }
  ],
  "metadata": {
    "kernelspec": {
      "display_name": "Python 3",
      "language": "python",
      "name": "python3"
    },
    "language_info": {
      "codemirror_mode": {
        "name": "ipython",
        "version": 3
      },
      "file_extension": ".py",
      "mimetype": "text/x-python",
      "name": "python",
      "nbconvert_exporter": "python",
      "pygments_lexer": "ipython3",
      "version": "3.7.12"
    },
    "papermill": {
      "default_parameters": {},
      "duration": 176.084331,
      "end_time": "2022-11-11T16:30:17.995203",
      "environment_variables": {},
      "exception": null,
      "input_path": "__notebook__.ipynb",
      "output_path": "__notebook__.ipynb",
      "parameters": {},
      "start_time": "2022-11-11T16:27:21.910872",
      "version": "2.3.4"
    },
    "colab": {
      "provenance": [],
      "include_colab_link": true
    },
    "accelerator": "GPU",
    "gpuClass": "standard"
  },
  "nbformat": 4,
  "nbformat_minor": 5
}